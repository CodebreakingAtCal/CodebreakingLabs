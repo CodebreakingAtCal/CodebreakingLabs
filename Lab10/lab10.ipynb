{
 "cells": [
  {
   "cell_type": "code",
   "execution_count": null,
   "metadata": {
    "deletable": false,
    "editable": false
   },
   "outputs": [],
   "source": [
    "# Initialize Otter\n",
    "import otter\n",
    "grader = otter.Notebook(\"lab10.ipynb\")"
   ]
  },
  {
   "cell_type": "markdown",
   "metadata": {},
   "source": [
    "# Lab 10: Elliptic Curve Cryptography\n",
    "Contributions From: Ryan Cottone\n",
    "\n",
    "Welcome to Lab 10! In this lab, we will explore the properties of elliptic curves and their applications to cryptography."
   ]
  },
  {
   "cell_type": "markdown",
   "metadata": {},
   "source": [
    "### Helpers"
   ]
  },
  {
   "cell_type": "code",
   "execution_count": null,
   "metadata": {},
   "outputs": [],
   "source": [
    "import random"
   ]
  },
  {
   "cell_type": "code",
   "execution_count": null,
   "metadata": {},
   "outputs": [],
   "source": [
    "def egcd(a, b):\n",
    "    if a == 0:\n",
    "        return (b, 0, 1)\n",
    "    else:\n",
    "        g, y, x = egcd(b % a, a)\n",
    "        return (g, x - (b // a) * y, y)\n",
    "\n",
    "def modularInverse(a, m):\n",
    "    g, x, y = egcd(a, m)\n",
    "    if g != 1:\n",
    "        raise Exception('modular inverse does not exist')\n",
    "    else:\n",
    "        return x % m\n",
    "\n",
    "def findSquareRoot(N,p):\n",
    "    N = N % p\n",
    "    \n",
    "    if pow(N,(p-1)//2,p)==1:\n",
    "        if (p%4) == 3:\n",
    "            x1= pow(N,(p+1)//4, p)\n",
    "            y1= p - x1\n",
    "            return (x1,y1)\n",
    "        else:\n",
    "            for x in range(1,((p-1)//2)+1):\n",
    "                if N == pow(x, 2, p):\n",
    "                    return (x,p-x)\n",
    "    return []\n",
    "\n",
    "def evaluateP(x, E, p):\n",
    "    evaled = ((pow(x, 3, p) + E[0]*x + E[1])%p)\n",
    "    \n",
    "    if evaled == 0:\n",
    "        return [0]\n",
    "    \n",
    "    return findSquareRoot(evaled, p)\n",
    "\n",
    "def pointOnCurve(P,E,p):\n",
    "    assert isElliptic(E, p), \"Invalid elliptic curve (has zero discriminant)\"\n",
    "    \n",
    "    if P[0] == 'O':\n",
    "        return True\n",
    "    \n",
    "    evaled = evaluateP(P[0], E, p)\n",
    "    \n",
    "    if len(evaled) == 0:\n",
    "        return False\n",
    "    \n",
    "    return (evaled[0]%p == P[1]) or (evaled[1]%p == P[1])"
   ]
  },
  {
   "cell_type": "markdown",
   "metadata": {},
   "source": [
    "# Elliptic Curves\n",
    "\n",
    "An **elliptic curve** is a curve of the form $y^2 = x^3 + ax + b$. They looks something like this:\n",
    "\n",
    "<img src=\"https://upload.wikimedia.org/wikipedia/commons/thumb/d/d0/ECClines-3.svg/2560px-ECClines-3.svg.png\" style=\"width:800px\">\n",
    "\n",
    "A crucial property of elliptic curves for cryptographic purposes is having a **nonzero discriminant**, which just means we require $$4a^3 + 27b^2 \\neq 0$$\n",
    "\n",
    "What happens with a zero determinant? Some points on the curve will be non-singular, which roughly means there exists and \"overlap\" of two parts of the curve at one point, like this:\n",
    "\n",
    "<img src=\"./bad_elliptic_curve.png\" style=\"width:400px\">\n",
    "\n",
    "We first need a way to check for these \"bad curves\". Note that we do elliptic curve operations $\\mod p$ for some prime p, so you need to reduce mod p."
   ]
  },
  {
   "cell_type": "markdown",
   "metadata": {},
   "source": [
    "**Question 1**: Implement isElliptic!"
   ]
  },
  {
   "cell_type": "code",
   "execution_count": null,
   "metadata": {
    "tags": []
   },
   "outputs": [],
   "source": [
    "def isElliptic(E, p):\n",
    "    \"\"\"\n",
    "    Takes in curve E as [A, B] and modulo p. \n",
    "    Returns whether the discriminant of E is nonzero.\n",
    "    \"\"\"\n",
    "    \n",
    "    # Make sure to do this modulo p.\n",
    "    discriminant = ...\n",
    "    \n",
    "    return discriminant != 0 "
   ]
  },
  {
   "cell_type": "code",
   "execution_count": null,
   "metadata": {
    "deletable": false,
    "editable": false
   },
   "outputs": [],
   "source": [
    "grader.check(\"q1\")"
   ]
  },
  {
   "cell_type": "markdown",
   "metadata": {},
   "source": [
    "## Elliptic Curve Operations\n",
    "\n",
    "Elliptic curves seem interesting on the surface, but how do we actually use them? First, we need to define the most basic operation: *addition*.\n",
    "\n",
    "To \"add\" two points on an elliptic curve (denoted $P \\oplus Q$ for points P,Q), we draw a line through them and mark where the line intersects the curve at a third location (denoted -R). We then reflect -R across the x-axis to get our final point R. For example:\n",
    "<img src=\"./elliptic_curve_add_example.png\" style=\"width:400px\">\n",
    "\n",
    "Seems simple enough, but there are a few edge cases we need to handle:\n",
    "\n",
    "**First Edge Case: Self-Addition**\n",
    "\n",
    "This isn't so much of an edge case as a fundamental property, but let's call it one anyway. To add a point to itself, we take the **tangent line** at P and see where it intersects, then proceed as before. For example:\n",
    "\n",
    "<img src=\"./self_addition_elliptic.png\" style=\"width:400px\">\n",
    "\n",
    "**Second Edge Case: Vertical Addition**\n",
    "\n",
    "What happens when we want to add P and -P (for example, (0,2) and (0,-2)). We draw a line between them, but it's totally vertical and never intersects the curve again. For these cases, we define a **point at infinity** as $O$. For example:\n",
    "\n",
    "<img src=\"./add_vertical.png\" style=\"width:400px\">\n",
    "\n",
    "This line never intersects a third point, so $P \\oplus Q = O$. Crucially $P \\oplus O = P$ for all $P$. You can visualize this as a vertical line from $P$ intersects at $-P$, which is then reflected back to $P$:\n",
    "\n",
    "<img src=\"./addition_point_at_infty.png\" style=\"width:400px\">"
   ]
  },
  {
   "cell_type": "markdown",
   "metadata": {},
   "source": [
    "### Closed-Form Formulas \n",
    "\n",
    "Hopefully addition makes sense geometrically, but how do we express these operations in terms of formuals? Thankfully, there exist nice closed-form formulas for addition (derivation of which is out of scope). Given points $P = (x_1, y_1)$ and $Q = (x_2, y_3)$ we first find $\\lambda$ as the following:\n",
    "\n",
    "If $P \\neq Q$: \n",
    "$$ \\lambda = \\frac{y_2 - y_1}{x_2 - x_1}$$\n",
    "\n",
    "Crucially, since we are working $\\mod p$, we have to use modular inverses instead of division:\n",
    "$$\\lambda = (y_2 - y_1)(x_2 - x_1)^{-1} \\mod p$$\n",
    "\n",
    "where $^{-1}$ denotes the modular inverse over $\\mod p$.\n",
    "\n",
    "If $P = Q$ (self-addition): \n",
    "$$ \\lambda = \\frac{3x_1^2 + A}{2y_1} $$\n",
    "Over modular arithmetic: \n",
    "$$ \\lambda = (3x_1^2 + A)(2y_1)^{-1} \\mod p $$\n",
    "\n",
    "\n",
    "\n",
    "Regardless of $P, Q$ we then find:\n",
    "\n",
    "$$x_3 = \\lambda^2 - x_1 - x_2\\\\\n",
    "y_3 = \\lambda(x_1 - x_3) - y_1$$\n",
    "\n",
    "Our new point $P \\oplus Q$ is therefore $(x_3, y_3)$."
   ]
  },
  {
   "cell_type": "markdown",
   "metadata": {},
   "source": [
    "**Question 2:** Implement addPoints! Remember to use the modular arithmetic version of the formula."
   ]
  },
  {
   "cell_type": "code",
   "execution_count": null,
   "metadata": {
    "tags": []
   },
   "outputs": [],
   "source": [
    "def addPoints(P,Q,E,p):\n",
    "    \"\"\"\n",
    "    Given points P,Q of the form (x,y), curve E of the form [A,B], and prime p, find P + Q.\n",
    "    \"\"\"\n",
    "    \n",
    "    assert isElliptic(E, p), \"Invalid elliptic curve (has zero discriminant)\"\n",
    "    assert pointOnCurve(P, E, p), \"Point P is not on the elliptic curve\"\n",
    "    assert pointOnCurve(Q, E, p), \"Point Q is not on the elliptic curve\"\n",
    "\n",
    "    multi = 1 # Lambda\n",
    "\n",
    "    if P == 'O': # If P is the point at infinity\n",
    "        ...\n",
    "    elif Q == 'O': # If Q is the point at infinity\n",
    "        ...\n",
    "    elif P[0] == Q[0] and P[1] == (-Q[1] % p): # If P and Q are on a vertical line (share the same x-coord)\n",
    "        ...\n",
    "    elif P[0] == Q[0]: # If P = Q\n",
    "        multi = ((3*pow(P[0], 2, p) + E[0])*modularInverse(2*P[1], p)) % p # Set lambda\n",
    "    else: \n",
    "        multi = ((Q[1] - P[1])*modularInverse((Q[0] - P[0])%p, p))%p # Set lambda\n",
    "\n",
    "    x_3 = ...\n",
    "    y_3 = ...\n",
    "\n",
    "    return (x_3, y_3)"
   ]
  },
  {
   "cell_type": "code",
   "execution_count": null,
   "metadata": {
    "deletable": false,
    "editable": false
   },
   "outputs": [],
   "source": [
    "grader.check(\"q2\")"
   ]
  },
  {
   "cell_type": "markdown",
   "metadata": {},
   "source": [
    "## Elliptic Curve Multiplication\n",
    "\n",
    "The fundamental definition of multiplication is repeated addition -- and the same applies to elliptic curves. We define scalar multiplication of a point as adding the point to itself that many times. For example, $3P = P \\oplus P \\oplus P$. This is roughly analogous to *modular exponentiation*, a surprising fact we will explore a little later on in the lab.\n",
    "\n",
    "\n",
    "### The Double and Add Algorithm\n",
    "\n",
    "Much like modular exponentiation, naively calculating $nP$ for very large $n$ can be inefficient. Thankfully, there exists a very fast algorithm for computing $nP$ named the double-and-add algorithm. It relies on the fact that for any $a,b$, $(a+b)P = aP \\oplus bP$.\n",
    "\n",
    "Given some integer $n$, we can split it up into additive factors and add those points instead. If we do this for powers of 2, it becomes very efficient! Consider the fact that $aP \\oplus aP = (a+a)P = (2A)P$, meaning we can double the coefficient of a point in constant time. This means computing the $2^iP$ for integer $i$ is quite fast. \n",
    "\n",
    "Consider the binary representation of $n$, for example, 19 = 10011. This means $19 = 2^4 + 2^1 + 2^0$, and $19P = 2^4P \\oplus 2^1P \\oplus 2^0P$. To calculate these powers of $2$, we can use the formula:\n",
    "\n",
    "$$2^iP = (2^{i-1} P \\oplus 2^{i-1} P) = 2(2^{i-1} P)$$\n",
    "\n",
    "and build up from $2^0 P = P$.\n",
    "\n",
    "Our algorithm therefore:\n",
    "\n",
    "1. Finds the binary representation of $n$, either on-the-fly or beforehand\n",
    "2. Sums $2^iP$ where the i-th bit from the right equals 1"
   ]
  },
  {
   "cell_type": "markdown",
   "metadata": {},
   "source": [
    "**Question 3:** Implement the double-and-add algorithm!"
   ]
  },
  {
   "cell_type": "code",
   "execution_count": null,
   "metadata": {
    "tags": []
   },
   "outputs": [],
   "source": [
    "def doubleAndAdd(P,n,E,p):\n",
    "    assert isElliptic(E, p), \"Invalid elliptic curve (has zero discriminant)\"\n",
    "    assert pointOnCurve(P, E, p), \"Point P is not on the elliptic curve\"\n",
    "    \n",
    "    point = P\n",
    "    finalPoint = 'O'\n",
    "        \n",
    "    # What this while loop does is iteratively find the binary representation\n",
    "    # starting from the least significant bit. It is faster than finding the representation first.\n",
    "    while n > 0:\n",
    "        r = n % 2\n",
    "        n //= 2\n",
    "        \n",
    "        if r == 1: # Checks if this binary bit is 1\n",
    "            # If the bit is one, add the current power of two point to the finalPoint\n",
    "            finalPoint = ...\n",
    "        \n",
    "        # Double the current power of two point to the next power of two\n",
    "        point = ...\n",
    "    \n",
    "    return finalPoint"
   ]
  },
  {
   "cell_type": "code",
   "execution_count": null,
   "metadata": {
    "deletable": false,
    "editable": false
   },
   "outputs": [],
   "source": [
    "grader.check(\"q3\")"
   ]
  },
  {
   "cell_type": "markdown",
   "metadata": {},
   "source": [
    "## Elliptic Curve Diffie Hellman\n",
    "\n",
    "Now to showcase perhaps one of the two most useful applications of elliptic curves: Diffie-Hellman! We covered\n",
    "the Diffie-Hellman key exchange before using modular arithmetic, but using the elliptic-curve version provides more \n",
    "security with less key bits. This is why ECDH is used over modular-arithmetic based DH in most modern systems. \n",
    "\n",
    "As a quick refresher, Diffie-Hellman involves two parties (Alice and Bob) trying to derive a shared secret without an eavesdropper (Eve) \n",
    "figuring out the secret. Alice and Bob share the public parameters of $(g, N)$ respectively, where $g$ is a generator over $\\mod N$. \n",
    "\n",
    "Alice and Bob then generate the secrets $a$ and $b$ respectively. They find $g^a \\mod N$ and $g^b \\mod N$ using them, and share both\n",
    "aforementioned values. Once received, Alice finds $(g^b)^a \\equiv g^{ab} \\mod N$ and Bob finds $(g^a)^b \\equiv g^{ab} \\mod N$, which is \n",
    "their new shared secret.\n",
    "\n",
    "Recall our parallels from earlier -- multiplication in elliptic curves is roughly equal to exponentiation in \n",
    "modular arithmetic. So, $aP$ for a generator point $P$ over $\\mod N$ can be thought of as similar to finding $g^a \\mod N$. (A generator \n",
    "point is a point that generates many unique points before wrapping around to itself) Crucially, scalar multiplication of \n",
    "elliptic curves is associative, so $b(aP) = a(bP) = (ab)P$. With that, we can identify the ECDH cryptosystem:\n",
    "\n",
    "1. Alice and Bob share a generator point $P$ and the modulus $N$.\n",
    "2. {Alice generates $a \\in [2, n-1]$ where $n = \\text{ord(}P\\text{)}$ (This part is not too important to understand, just think of order as the number of unique points we can generate starting at P. We don't want a scalar value larger than that, or it will wrap around mod the order of P)\n",
    "3. Bob does the same as Alice in 2) for a different $b$.\n",
    "4. Alice finds $aP$, and Bob finds $bP$ using the double-and-add algorithm (or similarly efficient algorithm)\n",
    "5. Alice and Bob both send $aP$ and $bP$ over the insecure channel. \n",
    "6. Alice receives $bP$ and computes $a(bP) = (ab)P$. \n",
    "7. Bob receives $aP$ and computes $b(aP) = (ab)P$.\n",
    "\n",
    "Since Eve only has $aP$ and $bP$, she can only find $aP + bP = (a+b)P$, not \n",
    "$(ab)P$. ECDH is extremely similar to its modular arithmetic counterpart! The \n",
    "computation problem of finding $(ab)P$ from $aP$ and $bP$ is known as the \n",
    "**Elliptic Curve Diffie-Hellman Problem (ECDHP)**, and is believed to \n",
    "be computationally hard.\n"
   ]
  },
  {
   "cell_type": "markdown",
   "metadata": {},
   "source": [
    "**Question 4**: Implement Elliptic Curve Diffie-Hellman!"
   ]
  },
  {
   "cell_type": "code",
   "execution_count": null,
   "metadata": {
    "tags": []
   },
   "outputs": [],
   "source": [
    "def generateECDH(generatorPoint, E, p, N):\n",
    "    \"\"\"\n",
    "    Given a generator point P, curve E, prime p, and bound N, returns nP for some random integer n in [0, N-1].\n",
    "    Returns (nP, n)\n",
    "    \"\"\"\n",
    "    \n",
    "    n = random.randrange(2, N) # [2, N-1]\n",
    "    \n",
    "    nP = ...\n",
    "    \n",
    "    return nP, n"
   ]
  },
  {
   "cell_type": "code",
   "execution_count": null,
   "metadata": {
    "tags": []
   },
   "outputs": [],
   "source": [
    "def combineECDH(publicPoint, k, E, p):\n",
    "    \"\"\"\n",
    "    Takes in point publicPoint, secret k, the curve E, and prime p. \n",
    "    publicPoint can be either Bob's public or Alice's public key (aP, bP),\n",
    "    and k is the opposite person's private key (n).\n",
    "    Returns the shared secret (ab)P.\n",
    "    \"\"\"\n",
    "    \n",
    "    ..."
   ]
  },
  {
   "cell_type": "markdown",
   "metadata": {},
   "source": [
    "Let's work through an example of ECDH! We will be using the real-world curve **Secp256k1** defined as $y^2 = x^3 + 7$."
   ]
  },
  {
   "cell_type": "code",
   "execution_count": null,
   "metadata": {},
   "outputs": [],
   "source": [
    "curve = [0,7]\n",
    "prime = 0xfffffffffffffffffffffffffffffffffffffffffffffffffffffffefffffc2f\n",
    "generatorPoint = (0x79be667ef9dcbbac55a06295ce870b07029bfcdb2dce28d959f2815b16f81798,\n",
    "       0x483ada7726a3c4655da4fbfc0e1108a8fd17b448a68554199c47d08ffb10d4b8)\n",
    "subgroupOrder = 0xfffffffffffffffffffffffffffffffebaaedce6af48a03bbfd25e8cd0364141"
   ]
  },
  {
   "cell_type": "markdown",
   "metadata": {},
   "source": [
    "Alice is the first to generate her public/private keypair using our `generateECDH` function."
   ]
  },
  {
   "cell_type": "code",
   "execution_count": null,
   "metadata": {},
   "outputs": [],
   "source": [
    "alice_public, alice_private = generateECDH(generatorPoint, curve, prime, subgroupOrder)\n",
    "\n",
    "# Make sure we generated the public key as priv_key*generatorPoint!\n",
    "assert alice_public == doubleAndAdd(generatorPoint, alice_private, curve, prime)"
   ]
  },
  {
   "cell_type": "markdown",
   "metadata": {},
   "source": [
    "Next, Bob generates his public/private keypair using the same methods."
   ]
  },
  {
   "cell_type": "code",
   "execution_count": null,
   "metadata": {},
   "outputs": [],
   "source": [
    "bob_public, bob_private = generateECDH(generatorPoint, curve, prime, subgroupOrder)\n",
    "\n",
    "# Make sure we generated the public key as priv_key*generatorPoint!\n",
    "assert bob_public == doubleAndAdd(generatorPoint, bob_private, curve, prime)"
   ]
  },
  {
   "cell_type": "markdown",
   "metadata": {},
   "source": [
    "They then send their public messages over an insecure channel. Alice then takes `bob_public` and recovers the shared secret using `combinedECDH`."
   ]
  },
  {
   "cell_type": "code",
   "execution_count": null,
   "metadata": {},
   "outputs": [],
   "source": [
    "alice_shared_secret = combineECDH(bob_public, alice_private, curve, prime)"
   ]
  },
  {
   "cell_type": "markdown",
   "metadata": {},
   "source": [
    "Bob does the same with Alice's public message."
   ]
  },
  {
   "cell_type": "code",
   "execution_count": null,
   "metadata": {},
   "outputs": [],
   "source": [
    "bob_shared_secret = combineECDH(alice_public, bob_private, curve, prime)"
   ]
  },
  {
   "cell_type": "markdown",
   "metadata": {},
   "source": [
    "We verify that they derived the same secret:"
   ]
  },
  {
   "cell_type": "code",
   "execution_count": null,
   "metadata": {},
   "outputs": [],
   "source": [
    "print(\"Alice secret:\", (hex(alice_shared_secret[0]), hex(alice_shared_secret[1])))\n",
    "print(\"Bob secret:\", (hex(bob_shared_secret[0]), hex(bob_shared_secret[1])))\n",
    "\n",
    "if alice_shared_secret == bob_shared_secret:\n",
    "    print('\\nSecrets match!')\n",
    "else:\n",
    "    print('\\nSomething went wrong, check your functions again!')"
   ]
  },
  {
   "cell_type": "code",
   "execution_count": null,
   "metadata": {
    "deletable": false,
    "editable": false
   },
   "outputs": [],
   "source": [
    "grader.check(\"q4\")"
   ]
  },
  {
   "cell_type": "markdown",
   "metadata": {},
   "source": [
    "Congrats on finishing Lab 10!"
   ]
  },
  {
   "cell_type": "markdown",
   "metadata": {
    "deletable": false,
    "editable": false
   },
   "source": [
    "## Submission\n",
    "\n",
    "Make sure you have run all cells in your notebook in order before running the cell below, so that all images/graphs appear in the output. The cell below will generate a zip file for you to submit. **Please save before exporting!**\n",
    "\n",
    "Once you have generated the zip file, go to the Gradescope page for this assignment to submit."
   ]
  },
  {
   "cell_type": "code",
   "execution_count": null,
   "metadata": {
    "deletable": false,
    "editable": false
   },
   "outputs": [],
   "source": [
    "# Save your notebook first, then run this cell to export your submission.\n",
    "grader.export(pdf=False, run_tests=True)"
   ]
  },
  {
   "cell_type": "markdown",
   "metadata": {},
   "source": [
    " "
   ]
  }
 ],
 "metadata": {
  "interpreter": {
   "hash": "50292dbb1f747f7151d445135d392af3138fb3c65386d17d9510cb605222b10b"
  },
  "kernelspec": {
   "display_name": "Python 3 (ipykernel)",
   "language": "python",
   "name": "python3"
  },
  "language_info": {
   "codemirror_mode": {
    "name": "ipython",
    "version": 3
   },
   "file_extension": ".py",
   "mimetype": "text/x-python",
   "name": "python",
   "nbconvert_exporter": "python",
   "pygments_lexer": "ipython3",
   "version": "3.9.14"
  },
  "otter": {
   "OK_FORMAT": true,
   "tests": {
    "q1": {
     "name": "q1",
     "points": 10,
     "suites": [
      {
       "cases": [
        {
         "code": ">>> assert isElliptic([0,7], 53)\n>>> assert not isElliptic([-12, 16], 53)\n",
         "hidden": false,
         "locked": false
        }
       ],
       "scored": true,
       "setup": "",
       "teardown": "",
       "type": "doctest"
      }
     ]
    },
    "q2": {
     "name": "q2",
     "points": 10,
     "suites": [
      {
       "cases": [
        {
         "code": ">>> testcurve = [5,12]\n>>> testprime = 13\n>>> \n>>> assert addPoints((2,11), (7,0), testcurve, testprime) == (0,8), \"P + Q is incorrect\"\n>>> assert addPoints((2,11), 'O', testcurve, testprime) == (2,11), \"P + O is incorrect\"\n>>> assert addPoints('O', (2,11), testcurve, testprime) == (2,11), \"O + P is incorrect\"\n>>> assert addPoints((2,11), (2,11), testcurve, testprime) == (10,10), \"P + P is incorrect\"\n>>> assert addPoints((0,5), (0,8), testcurve, testprime) == 'O', \"P + O is incorrect\"\n",
         "hidden": false,
         "locked": false
        }
       ],
       "scored": true,
       "setup": "",
       "teardown": "",
       "type": "doctest"
      }
     ]
    },
    "q3": {
     "name": "q3",
     "points": 10,
     "suites": [
      {
       "cases": [
        {
         "code": ">>> testcurve = [0,18]\n>>> P = [21,2]\n>>> \n>>> assert doubleAndAdd(P, 17, testcurve, 53) == (46, 24)\n",
         "hidden": false,
         "locked": false
        }
       ],
       "scored": true,
       "setup": "",
       "teardown": "",
       "type": "doctest"
      }
     ]
    },
    "q4": {
     "name": "q4",
     "points": 10,
     "suites": [
      {
       "cases": [
        {
         "code": ">>> testcurve = [0,7]\n>>> testGenerator = (0x79be667ef9dcbbac55a06295ce870b07029bfcdb2dce28d959f2815b16f81798,\n...        0x483ada7726a3c4655da4fbfc0e1108a8fd17b448a68554199c47d08ffb10d4b8)\n>>> prime = 0xfffffffffffffffffffffffffffffffffffffffffffffffffffffffefffffc2f\n>>> subgroupOrder = 0xfffffffffffffffffffffffffffffffebaaedce6af48a03bbfd25e8cd0364141\n>>> \n>>> alice_public, alice_secret = generateECDH(testGenerator, testcurve, prime, subgroupOrder)\n>>> bob_public, bob_secret = generateECDH(testGenerator, testcurve, prime, subgroupOrder)\n>>> \n>>> aliceRecovered = combineECDH(bob_public, alice_secret, testcurve, prime)\n>>> bobRecovered   = combineECDH(alice_public, bob_secret, testcurve, prime)\n>>> assert aliceRecovered == bobRecovered\n",
         "hidden": false,
         "locked": false
        }
       ],
       "scored": true,
       "setup": "",
       "teardown": "",
       "type": "doctest"
      }
     ]
    }
   }
  },
  "vscode": {
   "interpreter": {
    "hash": "86b6775e93d8e7b2e5f79e45a0bdd3fb78f60d14c90e6111b0fee66688ef28fc"
   }
  }
 },
 "nbformat": 4,
 "nbformat_minor": 5
}