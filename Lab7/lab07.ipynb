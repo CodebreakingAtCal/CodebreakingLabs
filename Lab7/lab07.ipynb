{
 "cells": [
  {
   "cell_type": "code",
   "execution_count": null,
   "id": "ab5fe268",
   "metadata": {
    "deletable": false,
    "editable": false
   },
   "outputs": [],
   "source": [
    "# Initialize Otter\n",
    "import otter\n",
    "grader = otter.Notebook(\"lab07.ipynb\")"
   ]
  },
  {
   "cell_type": "markdown",
   "id": "6597048a",
   "metadata": {},
   "source": [
    "# Lab 7: Exploiting Weak Randomness\n",
    "Contributions From: Ryan Cottone\n",
    "\n",
    "Welcome to Lab 7! In this lab, we will examine different PRNG setups, learn how to measure the randomness of something, and take a look at how simple breaking something can be."
   ]
  },
  {
   "cell_type": "code",
   "execution_count": null,
   "id": "ca272aed",
   "metadata": {},
   "outputs": [],
   "source": [
    "%%capture\n",
    "import sys\n",
    "!{sys.executable} -m pip install pycryptodome"
   ]
  },
  {
   "cell_type": "code",
   "execution_count": null,
   "id": "db188a71",
   "metadata": {},
   "outputs": [],
   "source": [
    "from Crypto.Cipher import AES\n",
    "from Crypto.Util.Padding import pad\n",
    "from Crypto.Hash import SHA256"
   ]
  },
  {
   "cell_type": "code",
   "execution_count": null,
   "id": "ec8495ad",
   "metadata": {},
   "outputs": [],
   "source": [
    "import math\n",
    "import numpy as np\n",
    "import matplotlib.pyplot as plt\n",
    "from collections import Counter"
   ]
  },
  {
   "cell_type": "code",
   "execution_count": null,
   "id": "deaa38e0",
   "metadata": {},
   "outputs": [],
   "source": [
    "def egcd(a, b):\n",
    "    if a == 0:\n",
    "        return (b, 0, 1)\n",
    "    else:\n",
    "        g, y, x = egcd(b % a, a)\n",
    "        return (g, x - (b // a) * y, y)\n",
    "\n",
    "def modularInverse(a, m):\n",
    "    g, x, y = egcd(a, m)\n",
    "    if g != 1:\n",
    "        raise Exception('modular inverse does not exist')\n",
    "    else:\n",
    "        return x % m\n",
    "\n",
    "def returnCounts(generator, possibleOutputs):\n",
    "    d = dict()\n",
    "    \n",
    "    for output in possibleOutputs:\n",
    "        d[output] = 0\n",
    "    \n",
    "    for output in iter(generator):\n",
    "        d[output] +=1\n",
    "        \n",
    "    return d"
   ]
  },
  {
   "cell_type": "markdown",
   "id": "314f2635",
   "metadata": {},
   "source": [
    "# Random Number Generation\n",
    "\n",
    "The need for random numbers is omnipresent within cryptography -- mainly key generation, but also other uses such as choosing primes for public key cryptosystems and salts for hashing. Without a way to randomly pick something, attackers could always predict what the keys would be!\n",
    "\n",
    "However, by their deterministic nature, computers are utterly incapable of being random. There exist algorithms (pseudorandom number generators) to generate kind-of random numbers (pseudorandom), but all rely on some early, random input to derive the later outputs. Therefore, if an attacker can compromise the internal state of a PRNG, they can predict all of its future outputs by just running their own version of the PRNG with that state."
   ]
  },
  {
   "cell_type": "markdown",
   "id": "322139a1",
   "metadata": {},
   "source": [
    "## Cryptographically-Secure Random Number Generators\n",
    "\n",
    "CSPRNGs are a special class of PRNGs that are (relatively) safe to use for cryptography. These PRNGs satisfy the following criteria:\n",
    "\n",
    "- Output is computationally indistinguishable from true randomness\n",
    "- Difficult to leak the state\n",
    "- Rollback resistant (hard to find outputs before time **t** given the state at time **t**\n",
    "\n",
    "**Never use a normal PRNG for cryptography!**"
   ]
  },
  {
   "cell_type": "markdown",
   "id": "bab7adf9",
   "metadata": {},
   "source": [
    "## Linear Congruential Generator\n",
    "\n",
    "A simple example of a PRNG (NOT cryptographically secure) is the **linear congruential generator**, which has the following function to output a new number, given the previous number $s$:\n",
    "\n",
    "$$ f(s) = \\alpha s + \\beta \\mod n $$\n",
    "\n",
    "For example, if we had $\\alpha = 5, \\beta = 2, n = 7$, then we would start at 1, then output $5(1) + 2 \\mod 7 = 0$, etc.\n",
    "\n",
    "Were somebody to **incorrectly** use this as a CSPRNG, they would try to keep $\\alpha$ and $\\beta$ secret, in order to try and prevent an attacker from learning the state by observing outputs. We will see that even this is not effective."
   ]
  },
  {
   "cell_type": "markdown",
   "id": "9518b63b",
   "metadata": {},
   "source": [
    "**Question 1**: Implement the linear congruential generator!"
   ]
  },
  {
   "cell_type": "code",
   "execution_count": null,
   "id": "98d9d7a5",
   "metadata": {
    "tags": []
   },
   "outputs": [],
   "source": [
    "def LCG(alpha, beta, n, count):\n",
    "    assert math.gcd(alpha, n) == 1, \"Alpha must be relatively prime to n\"\n",
    "    \n",
    "    output = 1 # This is the initial output of the program\n",
    "    \n",
    "    while count > 0:\n",
    "        # Set next output equal to alpha * output + beta mod n\n",
    "        output = ...\n",
    "        yield output # This lets us use python generators for easier functionality. Don't worry about this line!\n",
    "        count -= 1"
   ]
  },
  {
   "cell_type": "code",
   "execution_count": null,
   "id": "c834e321",
   "metadata": {
    "deletable": false,
    "editable": false
   },
   "outputs": [],
   "source": [
    "grader.check(\"q1_1\")"
   ]
  },
  {
   "cell_type": "markdown",
   "id": "5b4169b1",
   "metadata": {},
   "source": [
    "Let's plot out what the output of our LCG looks like over many iterations:"
   ]
  },
  {
   "cell_type": "code",
   "execution_count": null,
   "id": "2eda85cf",
   "metadata": {
    "scrolled": true
   },
   "outputs": [],
   "source": [
    "plt.bar([0,1,2,3,4,5,6,7], returnCounts(LCG(3, 3, 8, 1000), range(8)).values())\n",
    "plt.show()"
   ]
  },
  {
   "cell_type": "markdown",
   "id": "6e09fc86",
   "metadata": {},
   "source": [
    "That doesn't look very random! The reason we are only outputting 1,2,5, and 6 is due to the theoretical **period** of the linear congruential generator. The period of an RNG is the length of output it can achieve before starting at the beginning (equivalently, how many different outputs it can have). While out of scope, a LCG will have period **n** (i.e., uniformly output every number $[0, n-1]$ if and only if:\n",
    "\n",
    "$$\\begin{align*}\n",
    "\\gcd(\\beta, n) = 1\\\\\n",
    "\\text{Each prime divisor of p divides } a-1\\\\\n",
    "(4 \\mid n) \\implies (4 \\mid a-1)\n",
    "\\end{align*}$$\n",
    "\n",
    "The proof of which can be found [here](https://www.staff.uni-mainz.de/pommeren/Cryptology/Bitstream/1_Classic/Maxper.pdf) if you are interested."
   ]
  },
  {
   "cell_type": "code",
   "execution_count": null,
   "id": "6d2aae9f",
   "metadata": {},
   "outputs": [],
   "source": [
    "plt.bar([0,1,2,3,4,5,6,7], returnCounts(LCG(5, 3, 8, 1000), range(8)).values())\n",
    "plt.show()"
   ]
  },
  {
   "cell_type": "markdown",
   "id": "3355370b",
   "metadata": {},
   "source": [
    "We see that a fixed version of $\\alpha = 5, \\beta = 3, n = 8$ fits these requirements and therefore outputs a uniform distribution."
   ]
  },
  {
   "cell_type": "markdown",
   "id": "16a08420",
   "metadata": {},
   "source": [
    "## Breaking the Linear Congruential Generator\n",
    "\n",
    "This is a nice and simple PRNG, but fundamentally flawed for cryptographic work. Given even a few outputs, it is possible to recover $n$. Once we have $n$, it is straightforward to figure out $\\alpha$ and $\\beta$.\n",
    "\n",
    "Say we knew $n$ and had outputs $s_1$, $s_2$, and $s_3$. Then,\n",
    "\n",
    "$$s_2 \\equiv \\alpha s_1 + \\beta \\mod n$$\n",
    "$$s_3 \\equiv \\alpha s_2 + \\beta \\mod n$$\n",
    "\n",
    "which is 2 linear equations and 2 unknowns. This can be solved with normal algebra to find our unknowns, and therefore break the entire system!\n",
    "\n",
    "So, we know that finding $n$ immediately breaks the system. But how do we find $n$?\n",
    "\n",
    "It turns out that there are quite efficient methods that do this with as little as 9 outputs from the LCG. That method uses determinants and is out of scope, but there are also methods relying on finding multiples of $n$ and using gcd (also out of scope). For now, we can just find the maximum number output by the LCG, and add one to find $n$. Of course, this assumes a uniform output LCG, but if that were not true, our job is even easier."
   ]
  },
  {
   "cell_type": "code",
   "execution_count": null,
   "id": "0ce84aec",
   "metadata": {},
   "outputs": [],
   "source": [
    "plt.bar([0,1,2,3,4,5,6,7,8,9,10], list(returnCounts(LCG(5, 3, 8, 1000), range(8)).values()) + [0,0,0])\n",
    "plt.show()"
   ]
  },
  {
   "cell_type": "markdown",
   "id": "67f01785",
   "metadata": {},
   "source": [
    "Take our earlier LCG for example. Visually, we can easily see that the numbers max out at 7. That implies the modulus must be 8.\n",
    "\n",
    "Solving the following system of equations:\n",
    "\n",
    "$$3 \\equiv \\alpha (0) + \\beta \\mod 8$$\n",
    "$$2 \\equiv \\alpha (2) + \\beta \\mod 8$$\n",
    "\n",
    "we figure out that $\\alpha = 5, \\beta = 3$ as expected!"
   ]
  },
  {
   "cell_type": "markdown",
   "id": "676c0fdc",
   "metadata": {},
   "source": [
    "## Rollback Resistance\n",
    "\n",
    "Next, we will see why the LCG has no rollback resistance once $\\alpha$ and $\\beta$ are discovered. By rewriting our initial equation, we see that \n",
    "\n",
    "$$\n",
    "\\begin{align*}\n",
    "s_{i+1} \\equiv \\alpha s_i + \\beta \\mod n \\\\\n",
    "(s_{i+1} - \\beta) \\equiv \\alpha s_i \\mod n \\\\\n",
    "\\alpha^{-1}(s_{i+1} - \\beta) \\equiv s_i \\mod n\n",
    "\\end{align*}\n",
    "$$\n",
    "\n",
    "thereby completing revealing $s_i$ given $s_{i+1}$."
   ]
  },
  {
   "cell_type": "markdown",
   "id": "21707321",
   "metadata": {},
   "source": [
    "**Question 1.2**: Implement a function that, given $\\alpha$, $\\beta$, $n$, and one output $s_i$ recovers the previous  output."
   ]
  },
  {
   "cell_type": "code",
   "execution_count": null,
   "id": "3efc35e8",
   "metadata": {
    "tags": []
   },
   "outputs": [],
   "source": [
    "def recoverPreviousOutput(alpha, beta, n, s):\n",
    "    inverseOfAlpha = modularInverse(alpha, n)\n",
    "    \n",
    "    # Remember the formula to find the previous value of s!\n",
    "    ..."
   ]
  },
  {
   "cell_type": "code",
   "execution_count": null,
   "id": "537de7de",
   "metadata": {
    "deletable": false,
    "editable": false
   },
   "outputs": [],
   "source": [
    "grader.check(\"q1_2\")"
   ]
  },
  {
   "cell_type": "markdown",
   "id": "7768fe81",
   "metadata": {},
   "source": [
    "Now, let's take a look at a real-world attack against someone using the LCG! Say Alice and Bob are trying to communicate and need to establish a secret key. They use a LCG to generate their secret keys $a, b$ and send $g^a \\mod N$, $g^b \\mod N$ respectively. We, the attacker, are eventually able to recover three outputs after $a,b$, named $s_3$, $s_4$, and $s_5$.\n",
    "\n",
    "Using the properties we explored above, we are able to completely compromise their communications and learn the secret $g^{ab} \\mod N$."
   ]
  },
  {
   "cell_type": "code",
   "execution_count": null,
   "id": "0f50c285",
   "metadata": {},
   "outputs": [],
   "source": [
    "# Solves a 2-equation system of alpha * val + beta = val[1] mod N ...\n",
    "# Vals must be three different outputs of the system\n",
    "# Brute force because its only two variables and not a very large modulus\n",
    "def solveModularSystem(vals, N):\n",
    "    for alpha in range(N):\n",
    "        for beta in range(N):\n",
    "            if (alpha*vals[0] + beta)%N == vals[1] and (alpha*vals[1] + beta)%N == vals[2]:\n",
    "                return alpha,beta\n",
    "    return None, None"
   ]
  },
  {
   "cell_type": "code",
   "execution_count": null,
   "id": "a75461c5",
   "metadata": {},
   "outputs": [],
   "source": [
    "# Don't worry about this\n",
    "def encrypt(key,plaintext):\n",
    "    key = bytes(key)\n",
    "    plaintext = plaintext[:21]\n",
    "    cipher = AES.new(pad(key, 16), AES.MODE_ECB) # Don't use ECB in real applications! This is just for ease of coding\n",
    "    \n",
    "    return cipher.encrypt(pad(plaintext, AES.block_size))\n",
    "\n",
    "# Don't worry about this\n",
    "def decrypt(key,ciphertext):\n",
    "    key = bytes(key)\n",
    "    cipher = AES.new(pad(key, 16), AES.MODE_ECB)\n",
    "    \n",
    "    try:\n",
    "        return cipher.decrypt(pad(ciphertext, AES.block_size))[:21].decode('utf-8')\n",
    "    except UnicodeDecodeError:\n",
    "        return 'ERROR DECODING MESSAGE: LIKELY INCORRECT KEY'\n",
    "\n",
    "# Don't worry about this\n",
    "def H(x):\n",
    "    if type(x) != bytes:\n",
    "        if type(x) == str:\n",
    "            x = bytes(x, 'utf-8')\n",
    "        elif type(x) == int:\n",
    "            x = x.to_bytes(len(bin(x))-2, byteorder='big')\n",
    "    \n",
    "    h = SHA256.new()\n",
    "    h.update(x)\n",
    "    return h.digest().hex()"
   ]
  },
  {
   "cell_type": "markdown",
   "id": "851cadb2",
   "metadata": {},
   "source": [
    "**Question 2.1**: Break this faulty Diffie-Hellman system!"
   ]
  },
  {
   "cell_type": "code",
   "execution_count": null,
   "id": "8496f809",
   "metadata": {
    "tags": []
   },
   "outputs": [],
   "source": [
    "N = 53 # The modulus used in Diffie Hellman and the LCG\n",
    "g = 2 # The generator used in Diffie Hellman\n",
    "\n",
    "g_a = 14 # g^a mod N\n",
    "g_b = 48 # g^b mod N\n",
    "\n",
    "s_3 = 16 # The third output of the LCG\n",
    "s_4 = 29 # The fourth output of the LCG\n",
    "s_5 = 27 # The fifth output of the LCG\n",
    "\n",
    "# You can assume the modulo used in the LCG is also 53.\n",
    "# Use solveModularSystem() to find alpha and beta!\n",
    "# Pass in an array of three outputs and the modulus and receive (alpha, beta)\n",
    "\n",
    "# Start with recoveredAlpha, recoveredBeta = ...\n",
    "...\n",
    "\n",
    "print('We recovered the following LCG paramters:\\n', 'Alpha:', recoveredAlpha, '\\n Beta:', recoveredBeta)\n",
    "\n",
    "assert recoveredAlpha is not None and recoveredBeta is not None, \"Your solveModularSystem call is incorrect\"\n",
    "\n",
    "# Given alpha and beta, use recoverPreviousOutput(alpha,beta,N,currentOutput) to find b (s_2)!\n",
    "recoveredB = ...\n",
    "\n",
    "print('We recovered the previous LCG output, which is Bob\\'s secret:\\n', recoveredB)\n",
    "\n",
    "# Given b and g^a (variable g_a), recover g^ab!\n",
    "recoveredSecret = ...\n",
    "\n",
    "print('We recovered the following shared secret key:\\n', recoveredSecret)\n",
    "\n",
    "# Now that we have the secret, we can decrypt the message they encrypted using that as their AES key!\n",
    "# Use decrypt(key, interceptedMessage) to recover it.\n",
    "interceptedMessage = b\"o<\\xb6\\x10\\xc9B$\\xe18\\xba\\x13\\xe2-'Vo\\x18:%\\x8c\\x0f\\x01\\xc5cj\\x07=%\\xbe\\x8a\\x99\\x1e\"\n",
    "decryptedMessage = ...\n",
    "\n",
    "print('We decrypted the following message:\\n', decryptedMessage)"
   ]
  },
  {
   "cell_type": "code",
   "execution_count": null,
   "id": "8b4a38fa",
   "metadata": {
    "deletable": false,
    "editable": false
   },
   "outputs": [],
   "source": [
    "grader.check(\"q2_1\")"
   ]
  },
  {
   "cell_type": "markdown",
   "id": "ad19f987",
   "metadata": {},
   "source": [
    "# Hashing as a CSPRNG\n",
    "\n",
    "While the linear congruential generator is evidently garbage for use in cryptography, we can actually build a pretty good CSPRNG just by using a secure hash function. \n",
    "\n",
    "If we accept that the hash function's output is computationally indistinguishable from random (as any good hash function should be), then we can use its output as the state, and hash that when asked for new numbers.\n",
    "\n",
    "$$s_{i+1} = H(s_i)$$\n",
    "\n",
    "We can cut off the most significant bits if needed. NOTE: This is nowhere close to an optimal hash-based CSPRNG, this is just for demonstration purposes!"
   ]
  },
  {
   "cell_type": "code",
   "execution_count": null,
   "id": "4d60a81c",
   "metadata": {},
   "outputs": [],
   "source": [
    "## This code is given to you!\n",
    "\n",
    "def hashPRNG(seed, bits, cap):\n",
    "    assert bits <= 256, \"Can only output at most 256 bits\"\n",
    "    state = seed\n",
    "                \n",
    "    while cap > 0:\n",
    "        state = int(H(state),16)  \n",
    "        yield state & ((1 << bits) - 1)\n",
    "        cap -= 1"
   ]
  },
  {
   "cell_type": "code",
   "execution_count": null,
   "id": "e8725a70",
   "metadata": {},
   "outputs": [],
   "source": [
    "hashP = hashPRNG(np.random.randint(0,2**30), 5, 10000)\n",
    "plt.bar(range(2**5), returnCounts(hashP, range(2**5)).values())\n",
    "plt.show()"
   ]
  },
  {
   "cell_type": "markdown",
   "id": "b5d774cc",
   "metadata": {},
   "source": [
    "Looks reasonably random to me! This has complete rollback resistance as well, since rolling back requires inverting a hash function."
   ]
  },
  {
   "cell_type": "markdown",
   "id": "39b371fc",
   "metadata": {},
   "source": [
    "Congrats on finishing Lab 7!"
   ]
  },
  {
   "cell_type": "markdown",
   "id": "fa8ac7e2",
   "metadata": {
    "deletable": false,
    "editable": false
   },
   "source": [
    "## Submission\n",
    "\n",
    "Make sure you have run all cells in your notebook in order before running the cell below, so that all images/graphs appear in the output. The cell below will generate a zip file for you to submit. **Please save before exporting!**\n",
    "\n",
    "Once you have generated the zip file, go to the Gradescope page for this assignment to submit."
   ]
  },
  {
   "cell_type": "code",
   "execution_count": null,
   "id": "76b758cb",
   "metadata": {
    "deletable": false,
    "editable": false
   },
   "outputs": [],
   "source": [
    "# Save your notebook first, then run this cell to export your submission.\n",
    "grader.export(pdf=False, run_tests=True)"
   ]
  },
  {
   "cell_type": "markdown",
   "id": "591f595c",
   "metadata": {},
   "source": [
    " "
   ]
  }
 ],
 "metadata": {
  "interpreter": {
   "hash": "50292dbb1f747f7151d445135d392af3138fb3c65386d17d9510cb605222b10b"
  },
  "kernelspec": {
   "display_name": "Python 3 (ipykernel)",
   "language": "python",
   "name": "python3"
  },
  "language_info": {
   "codemirror_mode": {
    "name": "ipython",
    "version": 3
   },
   "file_extension": ".py",
   "mimetype": "text/x-python",
   "name": "python",
   "nbconvert_exporter": "python",
   "pygments_lexer": "ipython3",
   "version": "3.10.4"
  },
  "otter": {
   "OK_FORMAT": true,
   "tests": {
    "q1_1": {
     "name": "q1_1",
     "points": 10,
     "suites": [
      {
       "cases": [
        {
         "code": ">>> try:\n...     test_gen = LCG(2, 1, 4, 5)\n...     assert False, \"You messed with the GCD check\"\n... except AssertionError:\n...     pass\n>>> \n>>> generator = LCG(5, 2, 7, 10)\n>>> assert list(generator) == [0, 2, 5, 6, 4, 1, 0, 2, 5, 6], \"Your PRNG output is not correct!\"\n",
         "hidden": false,
         "locked": false
        }
       ],
       "scored": true,
       "setup": "",
       "teardown": "",
       "type": "doctest"
      }
     ]
    },
    "q1_2": {
     "name": "q1_2",
     "points": 10,
     "suites": [
      {
       "cases": [
        {
         "code": ">>> assert recoverPreviousOutput(5, 3, 8, 3) == 0, \"Your function output the incorrect value\"\n>>> assert recoverPreviousOutput(5, 3, 8, 2) == 3, \"Your function output the incorrect value\"\n",
         "hidden": false,
         "locked": false
        }
       ],
       "scored": true,
       "setup": "",
       "teardown": "",
       "type": "doctest"
      }
     ]
    },
    "q2_1": {
     "name": "q2_1",
     "points": 10,
     "suites": [
      {
       "cases": [
        {
         "code": ">>> assert H(recoveredAlpha) == '17eb70034b5b71092521d184c5e7b069d47de657e51aef2be11a00c115036943', 'Incorrect alpha'\n>>> assert H(recoveredBeta) == '4fca068fbfc9bdfd1a5c16427b0e34c5339c4c5b581769d9e8ced90a8b3efe57', 'Incorrect beta'\n>>> assert H(recoveredB) == 'a84d859cd9122aeacdc1d835fa0349d4a96534f783a61ae55a70ec925fb12123', 'Incorrect recovered b'\n>>> assert H(recoveredSecret) == '17eb70034b5b71092521d184c5e7b069d47de657e51aef2be11a00c115036943', 'Incorrect recovered shared secret'\n>>> assert H(decryptedMessage) == '2c53e0c5349ce0516f4ef30214082966ac812139652cf9765a4acff049718c9d', 'Incorrect recovered message'\n",
         "hidden": false,
         "locked": false
        }
       ],
       "scored": true,
       "setup": "",
       "teardown": "",
       "type": "doctest"
      }
     ]
    }
   }
  },
  "vscode": {
   "interpreter": {
    "hash": "86b6775e93d8e7b2e5f79e45a0bdd3fb78f60d14c90e6111b0fee66688ef28fc"
   }
  }
 },
 "nbformat": 4,
 "nbformat_minor": 5
}
