{
 "cells": [
  {
   "cell_type": "code",
   "execution_count": null,
   "id": "40725791",
   "metadata": {
    "deletable": false,
    "editable": false
   },
   "outputs": [],
   "source": [
    "# Initialize Otter\n",
    "import otter\n",
    "grader = otter.Notebook(\"lab07.ipynb\")"
   ]
  },
  {
   "cell_type": "code",
   "execution_count": null,
   "id": "c208f742",
   "metadata": {},
   "outputs": [],
   "source": [
    "%%capture\n",
    "import sys\n",
    "!{sys.executable} -m pip install pycryptodome"
   ]
  },
  {
   "cell_type": "code",
   "execution_count": null,
   "id": "8e78c6b9",
   "metadata": {},
   "outputs": [],
   "source": [
    "from Crypto.Hash import SHA256"
   ]
  },
  {
   "cell_type": "markdown",
   "id": "dfbfb0ae",
   "metadata": {},
   "source": [
    "# Lab 7: Digital Signatures\n",
    "Contributions From: Ryan Cottone\n",
    "\n",
    "Welcome to Lab 7! In this lab, we will learn about how asymmetric encryption is setup in the real world, and how digital signatures make this possible."
   ]
  },
  {
   "cell_type": "markdown",
   "id": "9addd96b",
   "metadata": {},
   "source": [
    "# Digital Signatures\n",
    "\n",
    "Recall that Message Authentication Codes let us ensure messages cannot be *tampered* with (without us detecting it). However, MACs require a symmetric key -- what if we wanted to ensure integrity in an asymmetric environment? This is where digital signatures come in.\n",
    "\n",
    "Formally, digital signatures are a collection of two functions:\n",
    "\n",
    "$$\\text{Sign}(SK, M)$$ \n",
    "\n",
    "which produces a signature on the message $M$ signed by the secret key $SK$, and \n",
    "\n",
    "$$\\text{Verify}(PK, S, M)$$\n",
    "\n",
    "which takes in a signature output by $\\text{Sign}$ and returns True if $S$ corresponds to a valid signature from the owner of the public key $PK$ on the message $M$."
   ]
  },
  {
   "cell_type": "markdown",
   "id": "8af9b161",
   "metadata": {},
   "source": [
    "## RSA Signatures\n",
    "\n",
    "One of the most basic signature schemes is that of textbook RSA signatures. In this scheme, Alice has an RSA keypair of $e$ as her public key and $d$ as her private key (exactly the same as RSA). She signs a message like:\n",
    "\n",
    "$$\\text{Sign}(d, M, N) = M^d \\mod N$$\n",
    "\n",
    "and one can verify the message is legitimate via:\n",
    "\n",
    "$$\\text{Verify}(e, S, M, N)= (S^e \\stackrel{?}{=} M \\mod N)$$\n",
    "\n",
    "Notice that $S = M^d$, so $S^e \\equiv (M^d)^e \\equiv M^{ed} \\equiv M \\mod N$, as specified in RSA.\n",
    "\n",
    "Note that this is insecure for reasons we will soon see!"
   ]
  },
  {
   "cell_type": "markdown",
   "id": "5044218f",
   "metadata": {},
   "source": [
    "**Question 1.1**: Implement the Textbook RSA Signature Scheme!"
   ]
  },
  {
   "cell_type": "code",
   "execution_count": null,
   "id": "e2a91716",
   "metadata": {
    "tags": []
   },
   "outputs": [],
   "source": [
    "# Finds M^d mod N. Use pow(base, exponent, modulus)\n",
    "def sign(d, M, N):\n",
    "    ...\n",
    "\n",
    "# Finds S^e mod N and compares it to M. Use pow(base, exponent, modulus)\n",
    "def verify(e, S, N, M):\n",
    "    ..."
   ]
  },
  {
   "cell_type": "code",
   "execution_count": null,
   "id": "4b2b1e29",
   "metadata": {
    "deletable": false,
    "editable": false
   },
   "outputs": [],
   "source": [
    "grader.check(\"q1_1\")"
   ]
  },
  {
   "cell_type": "markdown",
   "id": "25511454",
   "metadata": {},
   "source": [
    "Now that we've setup our (faulty) signature scheme, let's demonstrate a forgery attack on it! From the notes/lecture, you may know that we can set some $M \\in [0, N-1]$ to be our signature, and our message will therefore be $M^e$.\n",
    "\n",
    "$$S = M^d \\implies M = S^e$$\n",
    "\n",
    "Unfortunately, we can't choose the message to be whatever we want, but we can bruteforce it to some extent!\n",
    "\n",
    "Below are some helper functions we will use."
   ]
  },
  {
   "cell_type": "code",
   "execution_count": null,
   "id": "d6a42eff",
   "metadata": {},
   "outputs": [],
   "source": [
    "def getExpansion(n,m):\n",
    "    arr = []\n",
    "    \n",
    "    while n > 0:\n",
    "        r = n % m\n",
    "        n //= m\n",
    "        \n",
    "        arr.append(r)\n",
    "    \n",
    "    return arr\n",
    "\n",
    "def textToInt(s):\n",
    "    total = 0\n",
    "    \n",
    "    for i in range(len(s)):\n",
    "        total += ord(s[i])*(256**i)\n",
    "    \n",
    "    return total\n",
    "\n",
    "def intToText(n):\n",
    "    expansion = getExpansion(n, 256)\n",
    "    \n",
    "    finalStr = \"\"\n",
    "    \n",
    "    for i in range(len(expansion)):\n",
    "        finalStr += chr(expansion[i])\n",
    "        \n",
    "    return finalStr"
   ]
  },
  {
   "cell_type": "code",
   "execution_count": null,
   "id": "22626966",
   "metadata": {},
   "outputs": [],
   "source": [
    "N = 57827237212537328721403414859701117256950147043657179682429675635414974092267\n",
    "p = 197392385385765730323593372879610033749\n",
    "q = 292955764729855380124638330592302833983\n",
    "e = 30976423168144014209716624790587982344466107184812898368404437795227984190221\n",
    "d = 25506717026652416005253828955620679434349390414876094959093739255385916016069\n",
    "\n",
    "\n",
    "# Pretend we are Mallory and don't know Alice's private key, but still want to forge a signature.\n",
    "mock_signature = 111122223333344444\n",
    "\n",
    "message = pow(mock_signature, e, N)\n",
    "print('Derived message:', intToText(message))\n",
    "\n",
    "print('\\nChecking message...\\n')\n",
    "if verify(e, mock_signature, N, message):\n",
    "    print('Message verified as being from Alice!')\n",
    "else:\n",
    "    print('Message failed signature verification!')"
   ]
  },
  {
   "cell_type": "markdown",
   "id": "f7778a37",
   "metadata": {},
   "source": [
    "Of course, this is just gibberish, but since we were able to make the program think it was from Alice, we've broken the scheme entirely.\n",
    "\n",
    "The correct way to build sign is: $$\\text{Sign}(d, M) = H(M)^d \\mod N$$\n",
    "where $H$ is some cryptographic hash function. Verification is as following:\n",
    "\n",
    "$$\\text{Verify}(e, S, M, N)= (S^e \\stackrel{?}{=} H(M) \\mod N)$$"
   ]
  },
  {
   "cell_type": "code",
   "execution_count": null,
   "id": "a4a78672",
   "metadata": {},
   "outputs": [],
   "source": [
    "## This code is given to you!\n",
    "\n",
    "def int_to_bytes(x: int) -> bytes:\n",
    "    return x.to_bytes((x.bit_length() + 7) // 8, 'big')\n",
    "\n",
    "def H(M):\n",
    "    h = SHA256.new()\n",
    "    h.update(bytes(int_to_bytes(M)))\n",
    "    return int(h.hexdigest(), 16)"
   ]
  },
  {
   "cell_type": "markdown",
   "id": "7f132a80",
   "metadata": {},
   "source": [
    "Let's rewrite our functions from earlier to be more secure:"
   ]
  },
  {
   "cell_type": "code",
   "execution_count": null,
   "id": "6c405cc9",
   "metadata": {},
   "outputs": [],
   "source": [
    "# Finds H(M)^d mod N.\n",
    "def secureSign(d, M, N):\n",
    "    return pow(H(M), d, N)\n",
    "\n",
    "# Finds S^e mod N and compares it to H(M).\n",
    "def secureVerify(e, S, N, M):\n",
    "    return pow(S, e, N) == H(M)"
   ]
  },
  {
   "cell_type": "markdown",
   "id": "52c6a840",
   "metadata": {},
   "source": [
    "If we try our attack from earlier, we see that it no longer works:"
   ]
  },
  {
   "cell_type": "code",
   "execution_count": null,
   "id": "9d6ba521",
   "metadata": {},
   "outputs": [],
   "source": [
    "mock_signature = 111122223333344444\n",
    "\n",
    "message = pow(mock_signature, e, N)\n",
    "print('Derived message:', intToText(message))\n",
    "\n",
    "print('\\nChecking message...\\n')\n",
    "if secureVerify(e, mock_signature, N, message):\n",
    "    print('Message verified as being from Alice!')\n",
    "else:\n",
    "    print('Message failed signature verification!')"
   ]
  },
  {
   "cell_type": "markdown",
   "id": "343ed312",
   "metadata": {},
   "source": [
    "To make this work, we'd need to find some input $x$ to $H$ such that $H(x) = M$, which is hard under collision-resistant functions."
   ]
  },
  {
   "cell_type": "markdown",
   "id": "0f996341",
   "metadata": {
    "deletable": false,
    "editable": false
   },
   "source": [
    "## Submission\n",
    "\n",
    "Make sure you have run all cells in your notebook in order before running the cell below, so that all images/graphs appear in the output. The cell below will generate a zip file for you to submit. **Please save before exporting!**\n",
    "\n",
    "Once you have generated the zip file, go to the Gradescope page for this assignment to submit."
   ]
  },
  {
   "cell_type": "code",
   "execution_count": null,
   "id": "01361765",
   "metadata": {
    "deletable": false,
    "editable": false
   },
   "outputs": [],
   "source": [
    "# Save your notebook first, then run this cell to export your submission.\n",
    "grader.export(pdf=False, run_tests=True)"
   ]
  },
  {
   "cell_type": "markdown",
   "id": "af403a98",
   "metadata": {},
   "source": [
    " "
   ]
  }
 ],
 "metadata": {
  "interpreter": {
   "hash": "50292dbb1f747f7151d445135d392af3138fb3c65386d17d9510cb605222b10b"
  },
  "kernelspec": {
   "display_name": "Python 3 (ipykernel)",
   "language": "python",
   "name": "python3"
  },
  "language_info": {
   "codemirror_mode": {
    "name": "ipython",
    "version": 3
   },
   "file_extension": ".py",
   "mimetype": "text/x-python",
   "name": "python",
   "nbconvert_exporter": "python",
   "pygments_lexer": "ipython3",
   "version": "3.9.14"
  },
  "otter": {
   "OK_FORMAT": true,
   "tests": {
    "q1_1": {
     "name": "q1_1",
     "points": 10,
     "suites": [
      {
       "cases": [
        {
         "code": ">>> N = 55\n>>> p = 5\n>>> q = 11\n>>> e = 3\n>>> d = 27\n>>> \n>>> S = sign(d, 23, N) \n>>> assert S == 12\n>>> assert verify(e, S, N, 23)\n>>> assert not verify(e, S + 1, N, 23)\n>>> assert not verify(e, S, N, 23 + 1)\n",
         "hidden": false,
         "locked": false
        }
       ],
       "scored": true,
       "setup": "",
       "teardown": "",
       "type": "doctest"
      }
     ]
    }
   }
  },
  "vscode": {
   "interpreter": {
    "hash": "86b6775e93d8e7b2e5f79e45a0bdd3fb78f60d14c90e6111b0fee66688ef28fc"
   }
  }
 },
 "nbformat": 4,
 "nbformat_minor": 5
}
