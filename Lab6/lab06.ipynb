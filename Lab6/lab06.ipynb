{
 "cells": [
  {
   "cell_type": "code",
   "execution_count": null,
   "id": "4936d02d",
   "metadata": {
    "deletable": false,
    "editable": false
   },
   "outputs": [],
   "source": [
    "# Initialize Otter\n",
    "import otter\n",
    "grader = otter.Notebook(\"lab04.ipynb\")"
   ]
  },
  {
   "cell_type": "code",
   "execution_count": null,
   "id": "77ac8150",
   "metadata": {},
   "outputs": [],
   "source": [
    "import math\n",
    "import matplotlib.pyplot as plt\n",
    "import numpy as np\n",
    "import string\n",
    "import itertools\n",
    "import re\n",
    "from functools import reduce"
   ]
  },
  {
   "cell_type": "markdown",
   "id": "8e9d7a38",
   "metadata": {},
   "source": [
    "# Lab 4: Discrete Logarithm and Pollard's Rho Algorithm\n",
    "Contributions From: Ryan Cottone\n",
    "\n",
    "Welcome to Lab 4! In this lab, we will examine and construct common attacks on asymmetric systems, largely encompassing discrete logarithm and integer factorization. "
   ]
  },
  {
   "cell_type": "markdown",
   "id": "f580bffc",
   "metadata": {},
   "source": [
    "## Helpers"
   ]
  },
  {
   "cell_type": "code",
   "execution_count": null,
   "id": "befb226a",
   "metadata": {},
   "outputs": [],
   "source": [
    "def egcd(a, b):\n",
    "    if a == 0:\n",
    "        return (b, 0, 1)\n",
    "    else:\n",
    "        g, y, x = egcd(b % a, a)\n",
    "        return (g, x - (b // a) * y, y)\n",
    "\n",
    "def modularInverse(a, m):\n",
    "    g, x, y = egcd(a, m)\n",
    "    if g != 1:\n",
    "        raise Exception('modular inverse does not exist')\n",
    "    else:\n",
    "        return x % m"
   ]
  },
  {
   "cell_type": "code",
   "execution_count": null,
   "id": "f58b790e",
   "metadata": {},
   "outputs": [],
   "source": [
    "def CRT(rList, mList):\n",
    "    N = 1\n",
    "    \n",
    "    for modulo in mList:\n",
    "        N*=modulo\n",
    "    \n",
    "    total = 0\n",
    "    \n",
    "    for i in range(len(rList)):\n",
    "        a_i = rList[i]\n",
    "        b_i = (N//mList[i])*modularInverse(N//mList[i], mList[i])\n",
    "        \n",
    "        total += a_i * b_i\n",
    "    \n",
    "    return total % N"
   ]
  },
  {
   "cell_type": "markdown",
   "id": "fee73fc5",
   "metadata": {},
   "source": [
    "## Discrete Logarithm\n",
    "\n",
    "The **discrete logarithm problem** is the task of finding $x$ from the equation $g^x \\equiv h \\mod p$. It is considered computationally hard if done properly, and underlies extremely popular cryptosystems like Diffie-Hellman. \n",
    "\n",
    "Why can't we just do $\\log(g)$ like with normal numbers? Well, it is possible and likely that $g^x > p$, and has therefore wrapped around the modulus. We can't easily reconstruct the number after it's wrapped around, which is why this problem is generally considered hard."
   ]
  },
  {
   "cell_type": "markdown",
   "id": "4a4dd795",
   "metadata": {},
   "source": [
    "**Question 1**: Implement the trial-and-error algorithm to solve a discrete log problem.\n",
    "\n",
    "*HINT: Remember to use pow(base, exponent, modulo) to do exponentiation in modular arithmetic!*"
   ]
  },
  {
   "cell_type": "code",
   "execution_count": null,
   "id": "a7ed7b26",
   "metadata": {
    "tags": []
   },
   "outputs": [],
   "source": [
    "def trialAndErrorDLP(g, h, p):\n",
    "    # Given g, h, and p, find x using trial and error \n",
    "    ..."
   ]
  },
  {
   "cell_type": "code",
   "execution_count": null,
   "id": "7c3df710",
   "metadata": {
    "deletable": false,
    "editable": false
   },
   "outputs": [],
   "source": [
    "grader.check(\"q1_1\")"
   ]
  },
  {
   "cell_type": "markdown",
   "id": "1b52268b",
   "metadata": {},
   "source": [
    "## Baby Step Giant Step\n",
    "\n",
    "The Baby Step Giant Step algorithm is an improvement over the trial-and-error algorithm from before. We find some $n$ such that $n = \\lceil \\sqrt{p} \\rceil$, and divide $x$ into $x = qn + r$ for some q, r.\n",
    "\n",
    "From here, we see that:\n",
    "$$g^{qn + r} \\equiv h \\mod p$$\n",
    "$$g^{r} \\equiv h(g^{-qn}) \\mod p$$\n",
    "\n",
    "If we can find $r$ and $q$ such that this equation holds, we can find the discrete log as $x = qn + r$!\n",
    "\n",
    "First, we make a hashmap **seen** that keeps track of our $g^r$ values. We then do a for loop from 1 to n (inclusive) and store $g^r \\mod p$ into **seen** with the key as $r$. This is our \"baby step\".\n",
    "\n",
    "Next, we pre-compute $g^{-n}$ as it remains constant. Then, we initialize our val to **h** and do a for-loop from 0 to n-1 (inclusive). At each step, we multiply val by $g^{-n}$ from before. Eventually, we will find an instance that **val** is in **seen**. At this point, we can use **q** and **r** from the **seen** map to return **qn + r**."
   ]
  },
  {
   "cell_type": "markdown",
   "id": "c98182ce",
   "metadata": {},
   "source": [
    "**Question 2**: Implement the Baby Step Giant Step algorithm."
   ]
  },
  {
   "cell_type": "code",
   "execution_count": null,
   "id": "df85206b",
   "metadata": {
    "tags": []
   },
   "outputs": [],
   "source": [
    "def babyGiant(g, h, p, N=-1):\n",
    "    if N == -1:\n",
    "        N = p-1\n",
    "    \n",
    "    n = math.ceil(math.sqrt(N))\n",
    "    \n",
    "    seen = {}\n",
    "    \n",
    "    g_r = 1\n",
    "    \n",
    "    # Baby step: calculate g^r for all 0 <= r < n\n",
    "    # Make sure to store it in the hashmap!\n",
    "    for r in range(1,n):\n",
    "        ...\n",
    "    \n",
    "    # We can precompute g^(-n) since that remains constant, and just \n",
    "    # multiply by val each time for the giant step\n",
    "    pre = modularInverse(pow(g, n, p), p)\n",
    "    \n",
    "    val = h\n",
    "    \n",
    "    # Giant step: calculate g^(-qn) for all 0 <= q < n\n",
    "    # Make sure to compare it with the hashmap!\n",
    "    for q in range(n):\n",
    "        ..."
   ]
  },
  {
   "cell_type": "code",
   "execution_count": null,
   "id": "a631176d",
   "metadata": {
    "deletable": false,
    "editable": false
   },
   "outputs": [],
   "source": [
    "grader.check(\"q2_1\")"
   ]
  },
  {
   "cell_type": "markdown",
   "id": "ea5c2335",
   "metadata": {},
   "source": [
    "## Pollard's Rho\n",
    "\n",
    "Pollard's Rho algorithm is very efficient at finding small factors of large numbers. It functions by using some iterate function $f(x) = (x^2 + 1) \\mod p$ to advance two numbers in a pseudo-random nature. \n",
    "\n",
    "At any given point, if $|x - y|$ is a multiple of a factor of $p$, the $\\gcd(|x - y|, p)$ will be the shared factor of the two. We repeat our algorithm until we get \"lucky\" enough for this to happen."
   ]
  },
  {
   "cell_type": "markdown",
   "id": "fd87dcac",
   "metadata": {},
   "source": [
    "**Question 4**: Implement Pollard's Rho Algorithm."
   ]
  },
  {
   "cell_type": "code",
   "execution_count": null,
   "id": "84ddbca9",
   "metadata": {
    "tags": []
   },
   "outputs": [],
   "source": [
    "def iterate(x, p):\n",
    "    return (x**2 + 1) % p\n",
    "\n",
    "def pollardRho(p):\n",
    "    x = y = 2\n",
    "    d = 1\n",
    "    \n",
    "    # Set x = f(x) and y = f(f(y)), then compute the gcd(|x - y\\, p)\n",
    "    while d == 1:\n",
    "        ...\n",
    "    \n",
    "    return d"
   ]
  },
  {
   "cell_type": "code",
   "execution_count": null,
   "id": "8247f415",
   "metadata": {
    "deletable": false,
    "editable": false
   },
   "outputs": [],
   "source": [
    "grader.check(\"q4_1\")"
   ]
  },
  {
   "cell_type": "markdown",
   "id": "80e726b7",
   "metadata": {},
   "source": [
    "Congrats on finishing Lab 4!"
   ]
  },
  {
   "cell_type": "markdown",
   "id": "54819e31",
   "metadata": {},
   "source": [
    "## Pohlig-Hellman (Extra Credit)\n",
    "\n",
    "Pohlig-Hellman is an algorithm for determining the discrete logarithm of a composite modulus. It works by splitting \n",
    "the prime factors of $p$ into $p_1, p_2, \\ldots, p_k$ (along with their mulitplicities $e_i$).\n",
    "\n",
    "Given these it, it recursively calls Baby Step Giant Step with $$g_i = g^{\\frac{N}{p_i^e}} \\mod p$$ and $$h_i = h^{\\frac{N}{p_i^e}} \\mod p$$.\n",
    "\n",
    "Given these partial results, it recombines the $x_i$ with the Chinese Remainder Theorem to recover the overall $x$."
   ]
  },
  {
   "cell_type": "code",
   "execution_count": null,
   "id": "f5262f5e",
   "metadata": {},
   "outputs": [],
   "source": [
    "def pohligHellman(g, h, p, orderFactors=[], e=None):\n",
    "    if len(orderFactors) == 0:\n",
    "        tempfactors = factor(p-1)\n",
    "        e = []\n",
    "        \n",
    "        for factor in tempfactors:\n",
    "            orderFactors.append(factor[0])\n",
    "            e.append(factor[1])\n",
    "    \n",
    "    N = 1\n",
    "    \n",
    "    if not e:\n",
    "        e = [1]*len(orderFactors)\n",
    "    \n",
    "    for i in range(len(orderFactors)):\n",
    "        orderFactors[i] = orderFactors[i]**e[i]\n",
    "        N *= orderFactors[i]\n",
    "        \n",
    "    g_arr, h_arr = [], []\n",
    "    \n",
    "    \n",
    "    for i in range(len(orderFactors)):\n",
    "        ...\n",
    "    \n",
    "    crt_arr = []\n",
    "    \n",
    "    for i in range(len(g_arr)):\n",
    "        ...\n",
    "    \n",
    "    return CRT(crt_arr, orderFactors) # SOLUTION"
   ]
  },
  {
   "cell_type": "code",
   "execution_count": null,
   "id": "42db441d",
   "metadata": {},
   "outputs": [],
   "source": [
    "p = 2189248127867\n",
    "g = 1267362\n",
    "h = 1244880003213\n",
    "factors = [2,29,2459,15350003]\n",
    "\n",
    "assert(pow(g, pohligHellman(g, h, p, factors), p) == h)"
   ]
  },
  {
   "cell_type": "code",
   "execution_count": null,
   "id": "704ea5aa",
   "metadata": {},
   "outputs": [],
   "source": []
  },
  {
   "cell_type": "markdown",
   "id": "647f1a87",
   "metadata": {
    "deletable": false,
    "editable": false
   },
   "source": [
    "## Submission\n",
    "\n",
    "Make sure you have run all cells in your notebook in order before running the cell below, so that all images/graphs appear in the output. The cell below will generate a zip file for you to submit. **Please save before exporting!**\n",
    "\n",
    "Once you have generated the zip file, go to the Gradescope page for this assignment to submit."
   ]
  },
  {
   "cell_type": "code",
   "execution_count": null,
   "id": "8396c67e",
   "metadata": {
    "deletable": false,
    "editable": false
   },
   "outputs": [],
   "source": [
    "# Save your notebook first, then run this cell to export your submission.\n",
    "grader.export(pdf=False, run_tests=True)"
   ]
  },
  {
   "cell_type": "markdown",
   "id": "d7234dfb",
   "metadata": {},
   "source": [
    " "
   ]
  }
 ],
 "metadata": {
  "interpreter": {
   "hash": "50292dbb1f747f7151d445135d392af3138fb3c65386d17d9510cb605222b10b"
  },
  "kernelspec": {
   "display_name": "Python 3 (ipykernel)",
   "language": "python",
   "name": "python3"
  },
  "language_info": {
   "codemirror_mode": {
    "name": "ipython",
    "version": 3
   },
   "file_extension": ".py",
   "mimetype": "text/x-python",
   "name": "python",
   "nbconvert_exporter": "python",
   "pygments_lexer": "ipython3",
   "version": "3.9.14"
  },
  "otter": {
   "OK_FORMAT": true,
   "tests": {
    "q1_1": {
     "name": "q1_1",
     "points": 10,
     "suites": [
      {
       "cases": [
        {
         "code": ">>> assert trialAndErrorDLP(5, 4, 7) == 2\n",
         "hidden": false,
         "locked": false
        }
       ],
       "scored": true,
       "setup": "",
       "teardown": "",
       "type": "doctest"
      }
     ]
    },
    "q2_1": {
     "name": "q2_1",
     "points": 10,
     "suites": [
      {
       "cases": [
        {
         "code": ">>> p = 24733\n>>> g = 11710\n>>> h = 7271\n>>> \n>>> assert babyGiant(g, h, p) == 1857\n",
         "hidden": false,
         "locked": false
        }
       ],
       "scored": true,
       "setup": "",
       "teardown": "",
       "type": "doctest"
      }
     ]
    },
    "q4_1": {
     "name": "q4_1",
     "points": 10,
     "suites": [
      {
       "cases": [
        {
         "code": ">>> assert pollardRho(8051) == 97\n",
         "hidden": false,
         "locked": false
        }
       ],
       "scored": true,
       "setup": "",
       "teardown": "",
       "type": "doctest"
      }
     ]
    }
   }
  },
  "vscode": {
   "interpreter": {
    "hash": "86b6775e93d8e7b2e5f79e45a0bdd3fb78f60d14c90e6111b0fee66688ef28fc"
   }
  }
 },
 "nbformat": 4,
 "nbformat_minor": 5
}
