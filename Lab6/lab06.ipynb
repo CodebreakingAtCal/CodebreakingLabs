{
 "cells": [
  {
   "cell_type": "code",
   "execution_count": null,
   "id": "6120abff",
   "metadata": {
    "deletable": false,
    "editable": false
   },
   "outputs": [],
   "source": [
    "# Initialize Otter\n",
    "import otter\n",
    "grader = otter.Notebook(\"lab06.ipynb\")"
   ]
  },
  {
   "cell_type": "markdown",
   "id": "d866827a",
   "metadata": {},
   "source": [
    "# Lab 6: Message Authentication Codes and Digital Signatures\n",
    "Contributions From: Ryan Cottone\n",
    "\n",
    "Welcome to Lab 6! In this lab, you will build a HMAC function and RSA signature, and demonstrate the dangers of textbook RSA signatures!"
   ]
  },
  {
   "cell_type": "code",
   "execution_count": null,
   "id": "b8e68ad4",
   "metadata": {},
   "outputs": [],
   "source": [
    "%%capture\n",
    "import sys\n",
    "!{sys.executable} -m pip install pycrypto"
   ]
  },
  {
   "cell_type": "code",
   "execution_count": null,
   "id": "94507fce",
   "metadata": {},
   "outputs": [],
   "source": [
    "from Crypto.Hash import SHA256"
   ]
  },
  {
   "cell_type": "markdown",
   "id": "71b6ecfe",
   "metadata": {},
   "source": [
    "# Message Authentication Codes\n",
    "\n",
    "Message Authentication Codes (hereafter MACs) function as a 'tag' that allows us to ensure the message was not modified in transit. Those who wish to communicate will share a secret key $K$. To send a message, Alice picks $M$ and computes $\\text{MAC}(K, M)$, finally sending over $(M, \\text{MAC}(K, M))$. Note that this does not hide the message! MACs only provide integrity against tampering.\n",
    "\n",
    "If Mallory tried to change $M$ to $M'$ mid message, she would also need to compute $\\text{MAC}(K, M')$. Fortunately, this is considered to be very difficult for a secure MAC. Were she to modify the message to be $(M', \\text{MAC}(K, M)$), Bob would compute $\\text{MAC}(K, M')$ and see that it does not match up with $\\text{MAC}(K, M)$."
   ]
  },
  {
   "cell_type": "markdown",
   "id": "77647af1",
   "metadata": {},
   "source": [
    "## HMAC\n",
    "\n",
    "The HMAC is a class of MAC that utilizes a cryptographically-secure hash function to create integrity. The HMAC function is as follows: $$\\text{HMAC}(K, M) = H((K \\oplus \\text{opad}) || H((K \\oplus \\text{ipad}) || M))$$.\n",
    "\n",
    "The opad and ipad are just constants there to make K into two different keys. Read Note 6 for more information!"
   ]
  },
  {
   "cell_type": "markdown",
   "id": "15694f0a",
   "metadata": {},
   "source": [
    "**Question 1**: Implement the HMAC!"
   ]
  },
  {
   "cell_type": "code",
   "execution_count": null,
   "id": "bf5e43a8",
   "metadata": {
    "tags": []
   },
   "outputs": [],
   "source": [
    "def bxor(b1, b2): # use xor for bytes\n",
    "    result = bytearray()\n",
    "    for b1, b2 in zip(b1, b2):\n",
    "        result.append(b1 ^ b2)\n",
    "    return result\n",
    "\n",
    "def HMAC(K, M):\n",
    "    assert len(K) == 32\n",
    "    \n",
    "    h = SHA256.new()\n",
    "    \n",
    "    # Compute K xor ipad \n",
    "    K_inner = bxor(K, b'V'*32)\n",
    "    \n",
    "    # Compute K xor opad \n",
    "    K_outer = bxor(K, b'|'*32)\n",
    "    \n",
    "    M = bytes(M, 'UTF-8')\n",
    "              \n",
    "    # Compute H(K_inner || M)\n",
    "    # Remember, we can add two byte string like a + b!\n",
    "    hash_argument = ...\n",
    "    \n",
    "    h.update(hash_argument)\n",
    "    \n",
    "    # Compute H(K_outer || inner_hash)\n",
    "    inner_hash = h.digest()\n",
    "    hash_argument = ...\n",
    "    \n",
    "    outer_hash = h.update(hash_argument)\n",
    "    \n",
    "    return h.digest()"
   ]
  },
  {
   "cell_type": "code",
   "execution_count": null,
   "id": "8d568c07",
   "metadata": {
    "deletable": false,
    "editable": false
   },
   "outputs": [],
   "source": [
    "grader.check(\"q1_1\")"
   ]
  },
  {
   "cell_type": "markdown",
   "id": "e3f6440c",
   "metadata": {},
   "source": [
    "**Question 1.2**: Implement a MAC verifier."
   ]
  },
  {
   "cell_type": "code",
   "execution_count": null,
   "id": "8a14bdd2",
   "metadata": {
    "tags": []
   },
   "outputs": [],
   "source": [
    "def verifyMessage(K, M, HMAC_M):\n",
    "    ...\n",
    "        return True\n",
    "    else:\n",
    "        return False"
   ]
  },
  {
   "cell_type": "code",
   "execution_count": null,
   "id": "7c1bc29c",
   "metadata": {
    "deletable": false,
    "editable": false
   },
   "outputs": [],
   "source": [
    "grader.check(\"q1_2\")"
   ]
  },
  {
   "cell_type": "markdown",
   "id": "d4ce0c07",
   "metadata": {},
   "source": [
    "You may be wondering why we have such a complicated setup and not just use $\\text{MAC}(K, M) = H(K || M)$. Unfortunately, this is susceptible to the exact same length-extension attack you did in the last lab! An atacker would be able whatever data they wanted to the end of the message."
   ]
  },
  {
   "cell_type": "markdown",
   "id": "a319bc2e",
   "metadata": {},
   "source": [
    "# Digital Signatures \n",
    "\n",
    "Another setup which provides both **integrity** and **authenticity** is the digital signature, a way of \"signing\" a message to verify it came from a specific person. Broadly, Alice will publish a public key and keep a secret key. She signs a message with her secret key, and everyone else can verify that the message is signed by the secret key corresponding to her public key. Formally: $S = \\text{Sign}(S_k, M)$ creates a signature on message $M$ signed by secret key $S_k$, and $\\text{Verify}(S, M, P_k)$ returns True if the message was signed by the owner of $P_k$. \n",
    "\n",
    "Crucially, Mallory cannot modify $M$ and retain a valid signature or try to pass off some other message $M'$ as signed by Alice."
   ]
  },
  {
   "cell_type": "markdown",
   "id": "3c5bfaef",
   "metadata": {},
   "source": [
    "## RSA Signatures\n",
    "\n",
    "One of the most basic signature schemes is that of textbook RSA signatures. In this scheme, Alice has an RSA keypair of $e$ as her public key and $d$ as her private key (exactly the same as RSA). She signs a message like:\n",
    "\n",
    "$$\\text{Sign}(d, M, N) = M^d \\mod N$$\n",
    "\n",
    "and one can verify the message is legitimate via:\n",
    "\n",
    "$$\\text{Verify}(e, S, M, N)= (S^e \\stackrel{?}{=} M \\mod N)$$\n",
    "\n",
    "Notice that $S = M^d$, so $S^e \\equiv (M^d)^e \\equiv M^{ed} \\equiv M \\mod N$, as specified in RSA.\n",
    "\n",
    "Note that this is insecure for reasons we will soon see!"
   ]
  },
  {
   "cell_type": "markdown",
   "id": "37e77b97",
   "metadata": {},
   "source": [
    "**Question 2.1**: Implement the Textbook RSA Signature Scheme!"
   ]
  },
  {
   "cell_type": "code",
   "execution_count": null,
   "id": "a5934e64",
   "metadata": {
    "tags": []
   },
   "outputs": [],
   "source": [
    "# Finds M^d mod N. Use pow(base, exponent, modulus)\n",
    "def sign(d, M, N):\n",
    "    ...\n",
    "\n",
    "# Finds S^e mod N and compares it to M. Use pow(base, exponent, modulus)\n",
    "def verify(e, S, N, M):\n",
    "    ..."
   ]
  },
  {
   "cell_type": "code",
   "execution_count": null,
   "id": "1318cd60",
   "metadata": {
    "deletable": false,
    "editable": false
   },
   "outputs": [],
   "source": [
    "grader.check(\"q2_1\")"
   ]
  },
  {
   "cell_type": "markdown",
   "id": "9b1b772d",
   "metadata": {},
   "source": [
    "Now that we've setup our (faulty) signature scheme, let's demonstrate a forgery attack on it! From the notes/lecture, you may know that we can set some $M \\in [0, N-1]$ to be our signature, and our message will therefore be $M^e$.\n",
    "\n",
    "$$S = M^d \\implies M = S^e$$\n",
    "\n",
    "Unfortunately, we can't choose the message to be whatever we want, but we can bruteforce it to some extent!"
   ]
  },
  {
   "cell_type": "code",
   "execution_count": null,
   "id": "7946aff2",
   "metadata": {},
   "outputs": [],
   "source": [
    "def getExpansion(n,m):\n",
    "    arr = []\n",
    "    \n",
    "    while n > 0:\n",
    "        r = n % m\n",
    "        n //= m\n",
    "        \n",
    "        arr.append(r)\n",
    "    \n",
    "    return arr\n",
    "\n",
    "def textToInt(s):\n",
    "    total = 0\n",
    "    \n",
    "    for i in range(len(s)):\n",
    "        total += ord(s[i])*(256**i)\n",
    "    \n",
    "    return total\n",
    "\n",
    "def intToText(n):\n",
    "    expansion = getExpansion(n, 256)\n",
    "    \n",
    "    finalStr = \"\"\n",
    "    \n",
    "    for i in range(len(expansion)):\n",
    "        finalStr += chr(expansion[i])\n",
    "        \n",
    "    return finalStr"
   ]
  },
  {
   "cell_type": "code",
   "execution_count": null,
   "id": "321287ef",
   "metadata": {},
   "outputs": [],
   "source": [
    "N = 57827237212537328721403414859701117256950147043657179682429675635414974092267\n",
    "p = 197392385385765730323593372879610033749\n",
    "q = 292955764729855380124638330592302833983\n",
    "e = 30976423168144014209716624790587982344466107184812898368404437795227984190221\n",
    "d = 25506717026652416005253828955620679434349390414876094959093739255385916016069\n",
    "\n",
    "\n",
    "# Pretend we are Mallory and don't know Alice's private key, but still want to forge a signature.\n",
    "mock_signature = 111122223333344444\n",
    "\n",
    "message = pow(mock_signature, e, N)\n",
    "print('Derived message:', intToText(message))\n",
    "\n",
    "print('\\nChecking message...\\n')\n",
    "if verify(e, mock_signature, N, message):\n",
    "    print('Message verified as being from Alice!')\n",
    "else:\n",
    "    print('Message failed signature verification!')"
   ]
  },
  {
   "cell_type": "markdown",
   "id": "d4b14003",
   "metadata": {},
   "source": [
    "Of course, this is just gibberish, but since we were able to make the program think it was from Alice, we've broken the scheme entirely.\n",
    "\n",
    "The correct way to build sign is: $$\\text{Sign}(d, M) = H(M)^d \\mod N$$\n",
    "where $H$ is some cryptographic hash function. Verification is as following:\n",
    "\n",
    "$$\\text{Verify}(e, S, M, N)= (S^e \\stackrel{?}{=} H(M) \\mod N)$$"
   ]
  },
  {
   "cell_type": "code",
   "execution_count": null,
   "id": "90ca76b3",
   "metadata": {},
   "outputs": [],
   "source": [
    "## This code is given to you!\n",
    "\n",
    "def int_to_bytes(x: int) -> bytes:\n",
    "    return x.to_bytes((x.bit_length() + 7) // 8, 'big')\n",
    "\n",
    "def H(M):\n",
    "    h = SHA256.new()\n",
    "    h.update(bytes(int_to_bytes(M)))\n",
    "    return int(h.hexdigest(), 16)\n",
    "\n",
    "# Finds H(M)^d mod N.\n",
    "def secureSign(d, M, N):\n",
    "    return pow(H(M), d, N)\n",
    "\n",
    "# Finds S^e mod N and compares it to H(M).\n",
    "def secureVerify(e, S, N, M):\n",
    "    return pow(S, e, N) == H(M)"
   ]
  },
  {
   "cell_type": "markdown",
   "id": "ecf2cc22",
   "metadata": {},
   "source": [
    "If we try our attack from earlier, we see that it no longer works:"
   ]
  },
  {
   "cell_type": "code",
   "execution_count": null,
   "id": "ecda3688",
   "metadata": {},
   "outputs": [],
   "source": [
    "mock_signature = 111122223333344444\n",
    "\n",
    "message = pow(mock_signature, e, N)\n",
    "print('Derived message:', intToText(message))\n",
    "\n",
    "print('\\nChecking message...\\n')\n",
    "if secureVerify(e, mock_signature, N, message):\n",
    "    print('Message verified as being from Alice!')\n",
    "else:\n",
    "    print('Message failed signature verification!')"
   ]
  },
  {
   "cell_type": "markdown",
   "id": "1f693f04",
   "metadata": {},
   "source": [
    "To make this work, we'd need to find some input $x$ to $H$ such that $H(x) = M$, which is hard under collision-resistant functions."
   ]
  },
  {
   "cell_type": "markdown",
   "id": "88d7727e",
   "metadata": {},
   "source": [
    "Congrats on finishing Lab 6!"
   ]
  },
  {
   "cell_type": "markdown",
   "id": "c7dff078",
   "metadata": {
    "deletable": false,
    "editable": false
   },
   "source": [
    "## Submission\n",
    "\n",
    "Make sure you have run all cells in your notebook in order before running the cell below, so that all images/graphs appear in the output. The cell below will generate a zip file for you to submit. **Please save before exporting!**\n",
    "\n",
    "Once you have generated the zip file, go to the Gradescope page for this assignment to submit."
   ]
  },
  {
   "cell_type": "code",
   "execution_count": null,
   "id": "f83779a8",
   "metadata": {
    "deletable": false,
    "editable": false
   },
   "outputs": [],
   "source": [
    "# Save your notebook first, then run this cell to export your submission.\n",
    "grader.export(pdf=False, run_tests=True)"
   ]
  },
  {
   "cell_type": "markdown",
   "id": "3ae814e2",
   "metadata": {},
   "source": [
    " "
   ]
  }
 ],
 "metadata": {
  "interpreter": {
   "hash": "50292dbb1f747f7151d445135d392af3138fb3c65386d17d9510cb605222b10b"
  },
  "kernelspec": {
   "display_name": "Python 3 (ipykernel)",
   "language": "python",
   "name": "python3"
  },
  "language_info": {
   "codemirror_mode": {
    "name": "ipython",
    "version": 3
   },
   "file_extension": ".py",
   "mimetype": "text/x-python",
   "name": "python",
   "nbconvert_exporter": "python",
   "pygments_lexer": "ipython3",
   "version": "3.9.14"
  },
  "otter": {
   "OK_FORMAT": true,
   "tests": {
    "q1_1": {
     "name": "q1_1",
     "points": 10,
     "suites": [
      {
       "cases": [
        {
         "code": ">>> assert HMAC(b'A'*32, 'test') == b'Js\\x13\\xe2>\\xd9\\x8d\\x84E\\x08v\\xa8ND6\\xe2#\\x83\\xcc\\xf7\\x140;\\xc5\\x84\\xfay\\x9b\\xa2\\xf7\\xc6\\xfb'\n",
         "hidden": false,
         "locked": false
        }
       ],
       "scored": true,
       "setup": "",
       "teardown": "",
       "type": "doctest"
      }
     ]
    },
    "q1_2": {
     "name": "q1_2",
     "points": 10,
     "suites": [
      {
       "cases": [
        {
         "code": ">>> assert verifyMessage(b'A'*32, 'test', HMAC(b'A'*32, 'test'))\n>>> assert not verifyMessage(b'B'*32, 'test', HMAC(b'A'*32, 'test'))\n>>> assert not verifyMessage(b'A'*32, 'wrongmsg', HMAC(b'A'*32, 'test'))\n>>> assert not verifyMessage(b'A'*32, 'test', HMAC(b'A'*32, 'badmac'))\n",
         "hidden": false,
         "locked": false
        }
       ],
       "scored": true,
       "setup": "",
       "teardown": "",
       "type": "doctest"
      }
     ]
    },
    "q2_1": {
     "name": "q2_1",
     "points": 10,
     "suites": [
      {
       "cases": [
        {
         "code": ">>> N = 55\n>>> p = 5\n>>> q = 11\n>>> e = 3\n>>> d = 27\n>>> \n>>> S = sign(d, 23, N) \n>>> assert S == 12\n>>> assert verify(e, S, N, 23)\n>>> assert not verify(e, S + 1, N, 23)\n>>> assert not verify(e, S, N, 23 + 1)\n",
         "hidden": false,
         "locked": false
        }
       ],
       "scored": true,
       "setup": "",
       "teardown": "",
       "type": "doctest"
      }
     ]
    }
   }
  },
  "vscode": {
   "interpreter": {
    "hash": "86b6775e93d8e7b2e5f79e45a0bdd3fb78f60d14c90e6111b0fee66688ef28fc"
   }
  }
 },
 "nbformat": 4,
 "nbformat_minor": 5
}
