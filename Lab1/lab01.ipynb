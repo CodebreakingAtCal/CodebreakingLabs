{
 "cells": [
  {
   "cell_type": "code",
   "execution_count": null,
   "id": "1de4160a",
   "metadata": {
    "deletable": false,
    "editable": false
   },
   "outputs": [],
   "source": [
    "# Initialize Otter\n",
    "import otter\n",
    "grader = otter.Notebook(\"lab01.ipynb\")"
   ]
  },
  {
   "cell_type": "code",
   "execution_count": null,
   "id": "bb32a0f5",
   "metadata": {},
   "outputs": [],
   "source": [
    "import numpy as np\n",
    "from collections import defaultdict, Counter\n",
    "import re\n",
    "from functools import reduce\n",
    "import math\n",
    "import string\n",
    "import pandas as pd\n",
    "from PIL import Image\n",
    "import requests\n",
    "from io import BytesIO\n",
    "import matplotlib.pyplot as plt\n",
    "import random\n",
    "%matplotlib inline"
   ]
  },
  {
   "cell_type": "code",
   "execution_count": null,
   "id": "fb5ebdc3",
   "metadata": {},
   "outputs": [],
   "source": [
    "alphabet = string.ascii_lowercase"
   ]
  },
  {
   "cell_type": "markdown",
   "id": "98a9a6b7",
   "metadata": {},
   "source": [
    "# Lab 1: Substitution Ciphers and Steganography\n",
    "Contributions From: Ryan Cottone, Imran Khaliq-Baporia, Will Giorza"
   ]
  },
  {
   "cell_type": "markdown",
   "id": "406d602a",
   "metadata": {},
   "source": [
    "Welcome to Lab 1! In this lab, we will explore the most common type of early cipher -- the substitution cipher.\n",
    "By the end of lab, you will have built a full encrypting and decrypting system complete with a cracking function. We will also be building a tool to hide secret messages inside of seemingly ordinary image files.\n",
    "\n",
    "Please review the lecture slides and Note 1 if you are unsure what a substitution cipher is."
   ]
  },
  {
   "cell_type": "markdown",
   "id": "c4459f62",
   "metadata": {},
   "source": [
    "## Part 1: Substitution Ciphers\n",
    "\n",
    "In this part, we'll build a system to encrypt and decrypt text using Caesar and Vigenere ciphers, as well as using frequency analysis to crack these ciphers when we don't know the plaintext."
   ]
  },
  {
   "cell_type": "markdown",
   "id": "6fd2b195",
   "metadata": {},
   "source": [
    "### Helpers"
   ]
  },
  {
   "cell_type": "code",
   "execution_count": null,
   "id": "d48da88c",
   "metadata": {},
   "outputs": [],
   "source": [
    "# Takes in a character and returns its index in the alphabet (a=0, b=1, ...)\n",
    "def char_to_num(text):\n",
    "    return ord(text.lower()) - 97;"
   ]
  },
  {
   "cell_type": "code",
   "execution_count": null,
   "id": "d2fad2ad",
   "metadata": {},
   "outputs": [],
   "source": [
    "# Takes in a number and returns its character in the alphabet (0=a, 1=b, ...)\n",
    "def num_to_char(num):\n",
    "    return chr(num + 97).lower();"
   ]
  },
  {
   "cell_type": "code",
   "execution_count": null,
   "id": "030d5447",
   "metadata": {},
   "outputs": [],
   "source": [
    "# Takes in a character and a numerical shift, and returns its shifted version. Example: (a, 2) -> c\n",
    "def shift_letter(char, shift):\n",
    "    if not char.isalpha():\n",
    "        return char\n",
    "    else:\n",
    "        return num_to_char((char_to_num(char) + shift) % 26) "
   ]
  },
  {
   "cell_type": "code",
   "execution_count": null,
   "id": "c74c037d",
   "metadata": {},
   "outputs": [],
   "source": [
    "# Cleans our text to ensure no non-alphabetic characters appear\n",
    "def clean_text(text):\n",
    "    return re.sub('[^A-Za-z\\s!?.,$]*', '', text.lower())"
   ]
  },
  {
   "cell_type": "code",
   "execution_count": null,
   "id": "d539a670",
   "metadata": {},
   "outputs": [],
   "source": [
    "# Pads the key to be equal to length by repeating itself\n",
    "# Example: pad_key('abc', 7) -> 'abcabca'\n",
    "def pad_key(key, length):\n",
    "    key = clean_text(key)\n",
    "    newkey = key\n",
    "    for i in range(len(key), length):\n",
    "        newkey += key[i%len(key)]\n",
    "    return newkey"
   ]
  },
  {
   "cell_type": "markdown",
   "id": "48c00a8c",
   "metadata": {},
   "source": [
    "**Question 1**: Complete the following implementation of a Caesar Cipher.\n",
    "\n",
    "As a quick reminder, a Caesar cipher shifts all letters in the plaintext over by one. \"abc\" shifted by 1 becomes \"bcd\".\n",
    "\n",
    "The encryption function is given to you. Complete the implementation of the decryption function.\n",
    "\n",
    "*HINT: Be sure to use `shift_letter`*!"
   ]
  },
  {
   "cell_type": "code",
   "execution_count": null,
   "id": "92071eb5",
   "metadata": {},
   "outputs": [],
   "source": [
    "# Encrypts the given plaintext with the given numerical shift\n",
    "def caesar_encrypt(plaintext, shift):\n",
    "    plaintext = clean_text(plaintext)\n",
    "    encrypted = \"\" \n",
    "    for i in range(len(plaintext)):\n",
    "        encrypted += shift_letter(plaintext[i], shift)\n",
    "    return encrypted"
   ]
  },
  {
   "cell_type": "code",
   "execution_count": null,
   "id": "cfa8b53b",
   "metadata": {
    "tags": []
   },
   "outputs": [],
   "source": [
    "# Decrypts the given ciphertext with the given numerical shift\n",
    "def caesar_decrypt(ciphertext, shift):\n",
    "    ciphertext = clean_text(ciphertext)\n",
    "    decrypted = \"\" \n",
    "    for i in range(len(ciphertext)):\n",
    "        ...\n",
    "    return decrypted"
   ]
  },
  {
   "cell_type": "code",
   "execution_count": null,
   "id": "3ee94dd6",
   "metadata": {
    "deletable": false,
    "editable": false
   },
   "outputs": [],
   "source": [
    "grader.check(\"q1\")"
   ]
  },
  {
   "cell_type": "markdown",
   "id": "56d1284c",
   "metadata": {},
   "source": [
    "**Question 2**: Complete the following implementation of a Vigenére cipher.\n",
    "\n",
    "As a reminder, a Vignére cipher acts as a Caesar cipher for each individual letter. Once we extend the key to be the same length as the plaintext, we shift each individual letter by its corresponding key letter (converted to a number). For example:\n",
    "\n",
    "Plaintext: \"abcd\"\n",
    "\n",
    "Key: \"ab\"\n",
    "\n",
    "Padded key: \"abab\"\n",
    "\n",
    "\"abcd\" + \"abab\" = \"acce\"\n",
    "\n",
    "\"acce\" - \"abab\" = \"abcd\"\n",
    "\n",
    "**The encryption function is given to you as an example. Complete the implementation of the decryption function.**\n",
    "\n",
    "*Hint: be sure to use `pad_key`*"
   ]
  },
  {
   "cell_type": "code",
   "execution_count": null,
   "id": "e82b2445",
   "metadata": {},
   "outputs": [],
   "source": [
    "# Encrypts a given plaintext with the key using the Vigenere cipher\n",
    "def vigenere_encrypt(plaintext, key):\n",
    "    plaintext = clean_text(plaintext)\n",
    "    padded_key = pad_key(key, len(plaintext)) \n",
    "    encrypted = \"\"\n",
    "    \n",
    "    for i in range(len(plaintext)):\n",
    "        encrypted += shift_letter(plaintext[i], char_to_num(padded_key[i])) \n",
    "    \n",
    "    return encrypted"
   ]
  },
  {
   "cell_type": "code",
   "execution_count": null,
   "id": "3283593e",
   "metadata": {
    "tags": []
   },
   "outputs": [],
   "source": [
    "# Decrypts a given ciphertext with the key using the Vigenere cipher\n",
    "def vigenere_decrypt(ciphertext, key):\n",
    "    ciphertext = clean_text(ciphertext)\n",
    "    padded_key = ...\n",
    "    decrypted = \"\"\n",
    "    \n",
    "    for i in range(len(ciphertext)):\n",
    "        ...\n",
    "        \n",
    "    return decrypted"
   ]
  },
  {
   "cell_type": "code",
   "execution_count": null,
   "id": "12b65e56",
   "metadata": {
    "deletable": false,
    "editable": false
   },
   "outputs": [],
   "source": [
    "grader.check(\"q2\")"
   ]
  },
  {
   "cell_type": "markdown",
   "id": "44b49764",
   "metadata": {},
   "source": [
    "In this part, we'll use frequency analysis to crack a Caesar cipher where we don't know the plaintext.\n",
    "\n",
    "Here are some more helper functions:"
   ]
  },
  {
   "cell_type": "code",
   "execution_count": null,
   "id": "b516040b",
   "metadata": {},
   "outputs": [],
   "source": [
    "english_frequencies = {\n",
    "    'a': .0812,\n",
    "    'b': .0149,\n",
    "    'c': .0271,\n",
    "    'd': .0432,\n",
    "    'e': .1202,\n",
    "    'f': .0230,\n",
    "    'g': .0203,\n",
    "    'h': .0592,\n",
    "    'i': .0731,\n",
    "    'j': .0100,\n",
    "    'k': .0069,\n",
    "    'l': .0398,\n",
    "    'm': .0261,\n",
    "    'n': .0695,\n",
    "    'o': .0768,\n",
    "    'p': .0182,\n",
    "    'q': .0011,\n",
    "    'r': .0602,\n",
    "    's': .0628,\n",
    "    't': .0910,\n",
    "    'u': .0288,\n",
    "    'v': .0111,\n",
    "    'w': .0209,\n",
    "    'x': .0017,\n",
    "    'y': .0211,\n",
    "    'z': .0007\n",
    "}\n",
    "np_english_frequencies = np.fromiter(english_frequencies.values(), dtype=float)"
   ]
  },
  {
   "cell_type": "code",
   "execution_count": null,
   "id": "7d593300",
   "metadata": {},
   "outputs": [],
   "source": [
    "# Return a dictionary with the counts of every letter.\n",
    "def count_letters(text):\n",
    "    init = Counter(english_frequencies.keys())\n",
    "    init.update(text)\n",
    "    return {k: init[k] - 1 for k in english_frequencies.keys()}"
   ]
  },
  {
   "cell_type": "code",
   "execution_count": null,
   "id": "61ae7147",
   "metadata": {},
   "outputs": [],
   "source": [
    "# Calculates the proportions of each letter in the given text\n",
    "def calculate_proportions(text): # Coded for you\n",
    "    counts = count_letters(text).values()\n",
    "    nparr = np.fromiter(counts, dtype=float)\n",
    "    return nparr / sum(counts)"
   ]
  },
  {
   "cell_type": "code",
   "execution_count": null,
   "id": "8fd09c7c",
   "metadata": {},
   "outputs": [],
   "source": [
    "# Plots frequencies \n",
    "def plot_freqs(freqs): # Coded for you\n",
    "    plt.bar([alphabet[i] for i in range(26)], freqs)"
   ]
  },
  {
   "cell_type": "code",
   "execution_count": null,
   "id": "6a3c0ddd",
   "metadata": {},
   "outputs": [],
   "source": [
    "# Plots the frequencies of letters from a given tesxt\n",
    "def plot_freqs_from_text(text): # Coded for you\n",
    "    plot_freqs(calculate_proportions(text))"
   ]
  },
  {
   "cell_type": "markdown",
   "id": "a7f17d0d",
   "metadata": {},
   "source": [
    "Now, let's try plotting the frequencies of letters in a long text:"
   ]
  },
  {
   "cell_type": "code",
   "execution_count": null,
   "id": "03d598ac",
   "metadata": {},
   "outputs": [],
   "source": [
    "sample_text = \"\"\n",
    "with open('sample.txt', 'r') as file:\n",
    "    sample_text = file.read().replace('\\n', '')"
   ]
  },
  {
   "cell_type": "code",
   "execution_count": null,
   "id": "0913dfc3",
   "metadata": {},
   "outputs": [],
   "source": [
    "plot_freqs_from_text(sample_text)"
   ]
  },
  {
   "cell_type": "code",
   "execution_count": null,
   "id": "ea7c7f31",
   "metadata": {},
   "outputs": [],
   "source": [
    "plot_freqs(english_frequencies.values())"
   ]
  },
  {
   "cell_type": "code",
   "execution_count": null,
   "id": "2dff5d85",
   "metadata": {},
   "outputs": [],
   "source": [
    "# Plots two frequency histograms over one another\n",
    "def plot_overlay(freq1, freq2): # Coded for you\n",
    "    plt.bar([alphabet[i] for i in range(26)],freq1, color='orange', width = 0.5)\n",
    "    plt.bar([alphabet[i] for i in range(26)], freq2, color='blue', alpha=0.5)"
   ]
  },
  {
   "cell_type": "code",
   "execution_count": null,
   "id": "459b6b70",
   "metadata": {},
   "outputs": [],
   "source": [
    "plot_overlay(np_english_frequencies, calculate_proportions(sample_text))"
   ]
  },
  {
   "cell_type": "markdown",
   "id": "b750b283",
   "metadata": {},
   "source": [
    "As you can see, the frequencies of longer texts are almost identical to the frequency of English as a whole. "
   ]
  },
  {
   "cell_type": "markdown",
   "id": "0ee5c48f",
   "metadata": {},
   "source": [
    "We can now write a function to compute the Total Variation Distance of two categorical distributions:\n",
    "\n",
    "$$TVD(freq1, freq2) = \\frac{1}{2} \\sum_{i=0}^{k} | freq1_i - freq2_i | $$"
   ]
  },
  {
   "cell_type": "code",
   "execution_count": null,
   "id": "2c174a8b",
   "metadata": {},
   "outputs": [],
   "source": [
    "# Takes in two NumPy arrays and returns their TVD.\n",
    "def tvd(freq1, freq2):\n",
    "    diff = abs(freq1 - freq2)\n",
    "    return sum(diff)/2"
   ]
  },
  {
   "cell_type": "code",
   "execution_count": null,
   "id": "76373eb8",
   "metadata": {},
   "outputs": [],
   "source": [
    "tvd(np_english_frequencies, calculate_proportions(sample_text))"
   ]
  },
  {
   "cell_type": "markdown",
   "id": "2d66d5c1",
   "metadata": {},
   "source": [
    "Our text has a relatively low TVD with the base English frequencies. Remember, the lower the TVD is, the closer the two distributions are. Let's see how the TVD of an encrypted version of the sample text compares to English."
   ]
  },
  {
   "cell_type": "code",
   "execution_count": null,
   "id": "44e0d93f",
   "metadata": {},
   "outputs": [],
   "source": [
    "encrypted_sample_text = caesar_encrypt(sample_text, 8)\n",
    "tvd(np_english_frequencies, calculate_proportions(encrypted_sample_text))"
   ]
  },
  {
   "cell_type": "markdown",
   "id": "3c5cde43",
   "metadata": {},
   "source": [
    "That is a lot higher! If we chart these two, you will see why it is so large:"
   ]
  },
  {
   "cell_type": "code",
   "execution_count": null,
   "id": "ac7f3229",
   "metadata": {},
   "outputs": [],
   "source": [
    "plot_overlay(np_english_frequencies, calculate_proportions(encrypted_sample_text))"
   ]
  },
  {
   "cell_type": "markdown",
   "id": "81cc9837",
   "metadata": {},
   "source": [
    "You can see that the histograms are completely different. In fact, you can make out the shift of the blue to the right from the orange."
   ]
  },
  {
   "cell_type": "markdown",
   "id": "9d7280d4",
   "metadata": {},
   "source": [
    "**Question 3.1**: Build a function to minimize the TVD over all 26 possible shifts."
   ]
  },
  {
   "cell_type": "code",
   "execution_count": null,
   "id": "06d4198e",
   "metadata": {},
   "outputs": [],
   "source": [
    "# Given to you as a helper function\n",
    "# Returns the TVD of a text's frequencies against the base English frequencies\n",
    "def analyze_frequency(text):\n",
    "    return tvd(np_english_frequencies, calculate_proportions(text))"
   ]
  },
  {
   "cell_type": "code",
   "execution_count": null,
   "id": "b621a4a7",
   "metadata": {
    "tags": []
   },
   "outputs": [],
   "source": [
    "# Returns the best Caesar cipher shift for a given ciphertext to result in the most English-like plaintext\n",
    "def find_best_shift(ciphertext):\n",
    "    best_shift = 0\n",
    "    best_tvd = float('inf')\n",
    "    \n",
    "    for i in range(26):\n",
    "        shifted = ...\n",
    "        result_tvd = ...\n",
    "        \n",
    "        if (result_tvd < best_tvd):\n",
    "            best_shift = i\n",
    "            best_tvd = result_tvd\n",
    "    \n",
    "    return best_shift"
   ]
  },
  {
   "cell_type": "markdown",
   "id": "9798ee6b",
   "metadata": {},
   "source": [
    "The following test may take a few seconds to run."
   ]
  },
  {
   "cell_type": "code",
   "execution_count": null,
   "id": "b8667801",
   "metadata": {
    "deletable": false,
    "editable": false
   },
   "outputs": [],
   "source": [
    "grader.check(\"q3_1\")"
   ]
  },
  {
   "cell_type": "markdown",
   "id": "e9bbae7b",
   "metadata": {},
   "source": [
    "**Question 3.2**: Build a function to decrypt an arbitrary Caesar ciphertext.\n",
    "\n",
    "HINT: We just need to find the best \"key\" (shift) and then decrypt it using that!"
   ]
  },
  {
   "cell_type": "code",
   "execution_count": null,
   "id": "267d0587",
   "metadata": {
    "tags": []
   },
   "outputs": [],
   "source": [
    "# Breaks a Caesar ciphertext\n",
    "def crack_caesar(ciphertext):\n",
    "    shift = ...\n",
    "    ..."
   ]
  },
  {
   "cell_type": "markdown",
   "id": "06ef75db",
   "metadata": {},
   "source": [
    "Try it out for yourself! Longer texts will be decrypted much more reliably than shorter ones (can you see why?)."
   ]
  },
  {
   "cell_type": "code",
   "execution_count": null,
   "id": "4744a40d",
   "metadata": {},
   "outputs": [],
   "source": [
    "text = \"Hello from Codebreaking at Cal!\"\n",
    "shift = 5 # Change this if you want!\n",
    "encrypted_text = caesar_encrypt(text, shift)\n",
    "print(\"Encrypted ciphertext:\", encrypted_text)\n",
    "print(\"Cracked plaintext:\", crack_caesar(encrypted_text))"
   ]
  },
  {
   "cell_type": "code",
   "execution_count": null,
   "id": "8a6e0284",
   "metadata": {
    "deletable": false,
    "editable": false
   },
   "outputs": [],
   "source": [
    "grader.check(\"q3_2\")"
   ]
  },
  {
   "cell_type": "markdown",
   "id": "8f41c4d4",
   "metadata": {},
   "source": [
    "Unfortunately, a simple frequency analysis will not work for polyalphabetic ciphers like Vigenére. For example, let's see what happens when we plot the frequencies of our sample text encoded with the key \"samplekey\":\n",
    "\n",
    "*Note: The code in the rest of Part 1 is provided for you, but make sure you understand it!*"
   ]
  },
  {
   "cell_type": "code",
   "execution_count": null,
   "id": "c6f694a2",
   "metadata": {},
   "outputs": [],
   "source": [
    "plot_overlay(np_english_frequencies, calculate_proportions(vigenere_encrypt(sample_text, \"sample key\")))"
   ]
  },
  {
   "cell_type": "markdown",
   "id": "c14428b1",
   "metadata": {},
   "source": [
    "As you can see, our frequency chart lines up very poorly with overall english frequencies -- there is no noticeable shift. If we try to run our find_best_shift function, we will see that it returns nothing more than gibberish."
   ]
  },
  {
   "cell_type": "code",
   "execution_count": null,
   "id": "0dcad063",
   "metadata": {},
   "outputs": [],
   "source": [
    "shift = find_best_shift(vigenere_encrypt(sample_text, \"sample key\"))\n",
    "attempted_decryption = caesar_decrypt(sample_text, shift)\n",
    "plot_overlay(np_english_frequencies, calculate_proportions(attempted_decryption))\n",
    "print(attempted_decryption[:50] + '...')"
   ]
  },
  {
   "cell_type": "markdown",
   "id": "b3f11e6f",
   "metadata": {},
   "source": [
    "In order to remedy this, we use a key principle that applies to polyalphabetic ciphers -- they are simply a combination of *monoalphabetic* ciphers. If we can split the polyalphabetic cipher into numerous monoalphabetic ones, we can solve those individually and re-combine to produce our decrypted text. For example, take the Vigenere ciphertext \"bcbc\" with key \"ab\". 'a' would be the key for the first and third letter, and 'b' is the key for the second and forth letter. Thus, we can split this into two Caesar ciphers -- \"bb\" and \"cc\". We find that our keys are 'b' and 'c', respectively, then we concatenate to find the overall key \"bc\". \n",
    "\n",
    "The tricky part, however, is finding the key length. We can't know how to split the cipher unless we know how many ciphers to split into. Fortunately, there exists a very useful tool called the *Kasiski test* to determine the key length of a polyalphabetic substitution cipher. Simply put, we look for repeated substrings of words and check the distance between the two. For example: \n",
    "\n",
    "\"Cryptography isnt cryptocurrency\"\n",
    "\"abcd\"\n",
    "\"**Csastp**iuaqjb itpw **csastp**exrsgqcz\"\n",
    "\n",
    "Notice the two bolded substrings, which are exactly 16 characters apart (start-start). This would imply our key could be 16 characters long or any of the factors of 16 (8, 4, 2), since the key would \"repeat\" in time for it to encrypt the same plaintext to the same ciphertext. It could be any of these, but over a long text, only the key lengths and its multiples (4, 8, 12 ..) will show up in appreciable amounts. (A notable exception is 2, just because its really small and a lot of repeats happen by chance).\n",
    "\n",
    "Our algorithm for determining the key length is as follows:\n",
    "\n",
    "1. Find all repeated substrings of length 3 or 4 and their distances. Put this data into a dictionary with (key length -> count)\n",
    "2. Compare the proportions of these values to those of an unencrypted, very long text (same idea as comparing to base English frequency values)\n",
    "3. Collect those which are significantly above the base values and determine the key length based on least-inversions principle (this part is a bit tricky and subjective, so it is implemented for you)\n",
    "4. Try the best *k* keylengths and compare using a frequency analysis on the final product (k is set by the user).\n"
   ]
  },
  {
   "cell_type": "code",
   "execution_count": null,
   "id": "cd293394",
   "metadata": {
    "scrolled": true
   },
   "outputs": [],
   "source": [
    "# Returns a list of counts of repeated substrings for each possible key length\n",
    "def find_repeated_substrings(text):\n",
    "    text=clean_text(text)\n",
    "    appearances = defaultdict(lambda: 0)\n",
    "    for i in range(2,len(text)//2):\n",
    "        counts = defaultdict(lambda:-1)\n",
    "        for k in range(0, len(text), i):\n",
    "            if (k+3 > len(text)):\n",
    "                continue         \n",
    "            snippet_three = text[k:k+3]\n",
    "            snippet_four = text[k:k+4]\n",
    "            if (counts[snippet_three] != -1):\n",
    "                appearances[i] += 1;\n",
    "            if (counts[snippet_four] != -1 and k+4 < len(text)):\n",
    "                appearances[i] += 1;\n",
    "            counts[snippet_three] = k\n",
    "            counts[snippet_four] = k\n",
    "    return appearances"
   ]
  },
  {
   "cell_type": "markdown",
   "id": "3a4f27fc",
   "metadata": {},
   "source": [
    "`MAX_KEYLENGTH` defines the maximum length of key to check for. Theoretically, this could be up to `len(text)` (we will see why this keylength creates an unbreakable code in the next lab), but for practical purposes we will set it at 20. Feel free to change and see how the program works!"
   ]
  },
  {
   "cell_type": "code",
   "execution_count": null,
   "id": "11ff8cc3",
   "metadata": {},
   "outputs": [],
   "source": [
    "MAX_KEYLENGTH = 20"
   ]
  },
  {
   "cell_type": "code",
   "execution_count": null,
   "id": "59d9ec9b",
   "metadata": {},
   "outputs": [],
   "source": [
    "# Returns the proportions of repeated strings for each keylength\n",
    "def keylen_proportions_from_text(text): # Coded for you \n",
    "    parsed = np.fromiter(find_repeated_substrings(text).values(), dtype=int)[:MAX_KEYLENGTH*2]\n",
    "    return parsed/sum(parsed)"
   ]
  },
  {
   "cell_type": "code",
   "execution_count": null,
   "id": "c7264778",
   "metadata": {},
   "outputs": [],
   "source": [
    "def approx(x): # Ignore this, used for graping visuals\n",
    "    offset = 0.012\n",
    "    if (x == 2):\n",
    "        offset+=0.02\n",
    "    elif (x > 2 and x < 6):\n",
    "        offset-=  0.01\n",
    "    return 0.45* 0.7**x + offset"
   ]
  },
  {
   "cell_type": "code",
   "execution_count": null,
   "id": "8f10d98d",
   "metadata": {},
   "outputs": [],
   "source": [
    "base_keylen_proportions = keylen_proportions_from_text(sample_text)"
   ]
  },
  {
   "cell_type": "code",
   "execution_count": null,
   "id": "4e3084da",
   "metadata": {},
   "outputs": [],
   "source": [
    "colors = []\n",
    "for i in range(2, MAX_KEYLENGTH+3):\n",
    "    if (i % 5 == 0):\n",
    "        colors.append('#50514f')\n",
    "    elif (i % 4 == 0):\n",
    "        colors.append('#f25f5c')\n",
    "    elif (i % 3 == 0):\n",
    "        colors.append('#ffae4a')\n",
    "    elif (i % 2 == 0):\n",
    "        colors.append('#247ba0')\n",
    "    else:\n",
    "        colors.append('#70c1b3')\n",
    "        \n",
    "fig, ax = plt.subplots()\n",
    "\n",
    "ax.bar(range(2,MAX_KEYLENGTH+3), base_keylen_proportions[:MAX_KEYLENGTH+1], color=colors)\n",
    "ax.set_xticks(range(2,MAX_KEYLENGTH+3))\n",
    "ax.plot(range(2,MAX_KEYLENGTH+3), [approx(x) for x in range(2,MAX_KEYLENGTH+3)] ,color=\"black\")\n",
    "plt.show()"
   ]
  },
  {
   "cell_type": "markdown",
   "id": "c0fa9a68",
   "metadata": {},
   "source": [
    "The following function finds the differences of a given ciphertext from the base keylength proportions."
   ]
  },
  {
   "cell_type": "code",
   "execution_count": null,
   "id": "1404cec4",
   "metadata": {},
   "outputs": [],
   "source": [
    "# Finds the difference of keylength frequencies between a text and the base frequencies\n",
    "def find_diff_from_base(text):\n",
    "    text_keylen_proportions = keylen_proportions_from_text(text)\n",
    "    \n",
    "    diffs = text_keylen_proportions - base_keylen_proportions[:len(text_keylen_proportions)]\n",
    "    \n",
    "    return diffs"
   ]
  },
  {
   "cell_type": "markdown",
   "id": "4d35c56a",
   "metadata": {},
   "source": [
    "Now that we have `find_diff_from_base`, let's visualize what diffs of various keylengths look like when plotted."
   ]
  },
  {
   "cell_type": "code",
   "execution_count": null,
   "id": "a8910444",
   "metadata": {},
   "outputs": [],
   "source": [
    "EXAMPLE_KEYLENGTH = 5 # Change between 2 and 20!\n",
    "\n",
    "diffs = find_diff_from_base(vigenere_encrypt(sample_text, alphabet[0:EXAMPLE_KEYLENGTH]))\n",
    "fig, ax = plt.subplots()\n",
    "ax.bar(range(2,MAX_KEYLENGTH+3), diffs[:MAX_KEYLENGTH+1], color=colors)\n",
    "ax.set_xticks(range(2,MAX_KEYLENGTH+3))\n",
    "plt.show()"
   ]
  },
  {
   "cell_type": "markdown",
   "id": "c4e99477",
   "metadata": {},
   "source": [
    "You'll notice that the key length and its multiples are noticeably above 0 while the rest tend to be lower. (2 is an often exception; it's so small that a lot of statistical noise gets in the way).\n",
    "\n",
    "Detecting the best key length programmatically is often challenging, and has a few different approaches. The one below scores different lengths based on whether any given multiple is less than its previous multiple, as well as how many in between are larger than the given multiple. As you see in the example graph, each successive multiple should be less than the previous. If you try a key length like 4, you'll see 2 < 4 and 6 < 8, which helps disqualify 2 as a potential key length."
   ]
  },
  {
   "cell_type": "code",
   "execution_count": null,
   "id": "6fe5bdd4",
   "metadata": {},
   "outputs": [],
   "source": [
    "# Given a list of possible keylengths and the overall diffs from base, return the top potential key lengths\n",
    "def find_best_divisor(nums, diffs): \n",
    "    result = []\n",
    "    k = 1\n",
    "    for num in nums:\n",
    "        score = 0\n",
    "        for i in range(2*num, min(len(diffs)+2, MAX_KEYLENGTH*2+2), num):\n",
    "            inbetween = sum([diffs[a-2] > diffs[i-2] for a in range(i-num+1, i)]) / len(range(i-num+1, i))\n",
    "            \n",
    "            if inbetween > 0.1:\n",
    "                score -= 1\n",
    "            if (diffs[i-num-2] < diffs[i - 2]):\n",
    "                score -= 1\n",
    "        k+=1\n",
    "        \n",
    "        result.append((num, score))\n",
    "    result = sorted(result, key=lambda x: x[1], reverse=True)\n",
    "    top_three = [x[0] for x in result[:3]] \n",
    "    \n",
    "    return top_three + [reduce(math.gcd, top_three)]"
   ]
  },
  {
   "cell_type": "markdown",
   "id": "68e39683",
   "metadata": {},
   "source": [
    "We can now write a function that takes in a ciphertext and returns the best three keylengths."
   ]
  },
  {
   "cell_type": "code",
   "execution_count": null,
   "id": "5c2cd1a7",
   "metadata": {},
   "outputs": [],
   "source": [
    "# Returns the best possible key lenghts from a Vigenere ciphertext\n",
    "def find_vigenere_key_lengths(ciphertext):\n",
    "    diffs = find_diff_from_base(ciphertext)\n",
    "    \n",
    "    potential = []\n",
    "    for i in range(2, min(len(diffs)+2,MAX_KEYLENGTH+2)):\n",
    "        if diffs[i-2] > 0:\n",
    "            potential.append(i)\n",
    "    return find_best_divisor(potential, diffs)"
   ]
  },
  {
   "cell_type": "markdown",
   "id": "2b896968",
   "metadata": {},
   "source": [
    "At this point, we have everything we need to build the final function -- `crack_vigenere`! This function will take in an arbitrary ciphertext and return the most likely plaintext."
   ]
  },
  {
   "cell_type": "code",
   "execution_count": null,
   "id": "15acb807",
   "metadata": {},
   "outputs": [],
   "source": [
    "# Breaks a Vigenere ciphertext\n",
    "def crack_vigenere(ciphertext):\n",
    "    keylengths = find_vigenere_key_lengths(ciphertext)\n",
    "    \n",
    "    finalstrs = []\n",
    "    \n",
    "    for keylen in keylengths:\n",
    "        texts = ['' for i in range(keylen)]\n",
    "        \n",
    "        for i in range(len(ciphertext)):\n",
    "            # Put the first letter into the first text, second into second, etc...\n",
    "            texts[i%keylen] += ciphertext[i]\n",
    "            \n",
    "        # Use our caesar cipher cracker to individually break each text    \n",
    "        cracked_texts = [crack_caesar(text) for text in texts]\n",
    "        \n",
    "        finalstr = \"\"\n",
    "    \n",
    "        for i in range(len(ciphertext)):\n",
    "            # Recombine the original string from the assorted texts\n",
    "            finalstr += cracked_texts[i%keylen][i//keylen]\n",
    "        \n",
    "        finalstrs.append(finalstr)    \n",
    "    \n",
    "    # Find the \"best\" string via frequency analysis (Remember we have analyze_frequency)\n",
    "    return min(finalstrs, key = lambda x: analyze_frequency(x))"
   ]
  },
  {
   "cell_type": "markdown",
   "id": "2b0fa475",
   "metadata": {},
   "source": [
    "Let's decrypt our sample text!"
   ]
  },
  {
   "cell_type": "code",
   "execution_count": null,
   "id": "2c3a876d",
   "metadata": {},
   "outputs": [],
   "source": [
    "print('...', crack_vigenere(vigenere_encrypt(sample_text, \"samplekey\"))[4512:4751], '...')"
   ]
  },
  {
   "cell_type": "markdown",
   "id": "57c93188",
   "metadata": {},
   "source": [
    "And with that, you have built a Caesar cipher and Vigenere cipher breaker -- something which took hundreds of years to accomplish in the past. Congrats! "
   ]
  },
  {
   "cell_type": "markdown",
   "id": "2752cc2f",
   "metadata": {},
   "source": [
    "## Part 2: Steganography\n",
    "\n",
    "In this part, we'll build a system to hide and recover messages inside images, then also find a way to break this system."
   ]
  },
  {
   "cell_type": "markdown",
   "id": "4bd4b684",
   "metadata": {},
   "source": [
    "### Background: Image and Pixel Representation"
   ]
  },
  {
   "cell_type": "markdown",
   "id": "9c45cfc3",
   "metadata": {},
   "source": [
    "Before we begin hiding messages inside of images, let's begin by taking a look at how pixels and images are represented in computers. \n",
    "\n",
    "In the digital world, one of the most common methods of encoding an encoding a pixel to be a particular color is by representing that color as a RGB triplet. A RGB triplet is a list of 3 numbers, each ranging from 0 to 255, where the first number represents the level of red, the second number represents the level of green, and the third number reprsents the level of blue in the image. The higher the number (i.e: the closer to 255), the more intense that component will be in the final color.\n",
    "\n",
    "For example, the RGB triplet `(0, 0, 0)` represents the color black, as `0` indicates the absence of a component entirely and we are asking for the absence of all three components. In contrast, the RGB triplet `(255, 255, 255)` represents the color white, as `255` indicates the full intensity for a component, and we are asking for the full intensity of all three components. Below are some examples of other RGB triplets and the colors they represent.\n",
    "\n",
    "<img src=\"https://linuxhint.com/wp-content/uploads/2022/02/image7-9.png\" width=\"300\">\n",
    "\n",
    "So, now that we know how to represent a single pixel, how could we extropolate this to representing an entire image? Well, we can think of an image as a matrix of pixels, so we could store an image as a 2D-array of RGB triplets. Each array inside of the 2D-array represents a row of the image, and inside each of these rows are the RGB triplets for that row, stored as a list of three numbers.\n",
    "\n",
    "As a simple example, consider thie following 3 by 3 image (consiting of 9 total pixels).\n",
    "\n",
    "![](https://i.imgur.com/7aOJTgl.png)\n",
    "\n",
    "This would be represented by an array that looks like this:\n",
    "\n",
    "```\n",
    "[\n",
    "    [[255, 0, 0], [255, 255, 0], [255, 0, 255]],\n",
    "    [[255, 128, 0], [0, 255, 255], [0, 0, 0]],\n",
    "    [[128, 0, 255], [255, 255, 255], [0, 255, 0]]\n",
    "]\n",
    "```\n",
    "\n",
    "Lastly, it may be helpful throughout this lab to remember that we can represent each of the numbers in the RGB triplets as binary number. Since the numbers in the triplet range anywhere between 0 and 255, there are a total of 256 different possible values. Thus, we will require at most 8 bits (or 1 byte) to represent one of these numbers. This means that each RGB triplet requires 3 bytes to represent. The above image, represented with binary numbers, would be\n",
    "\n",
    "```\n",
    "[\n",
    "    [[11111111, 00000000, 00000000], [11111111, 11111111, 00000000], [11111111, 00000000, 11111111]],\n",
    "    [[11111111, 10000000, 00000000], [00000000, 11111111, 11111111], [00000000, 00000000, 00000000]],\n",
    "    [[10000000, 00000000, 11111111], [11111111, 11111111, 11111111], [00000000, 11111111, 00000000]]\n",
    "]\n",
    "```"
   ]
  },
  {
   "cell_type": "markdown",
   "id": "193669e4",
   "metadata": {},
   "source": [
    "### Hiding a Message\n",
    "\n",
    "In this part of the lab, we will begin by hiding a message within a \"masking\" image. In order to do this, we will take advantage of the limitations of the human eyes. The human eyes' ability to differentiate different colors is quite limited. So much so, in fact, that if we change the least significant bit of one of the numbers in a RGB triplet, the change is imperceptible to ordinary human eye sight. As an example, below are two colors. One is true red (the RGB triplet is `[11111111, 00000000, 00000000]`) and one is a slightly off red (the RGB triplet is `[11111110, 00000000, 00000000]`). It is nearly impossible to determine which is which using only your eyes.\n",
    "\n",
    "<img src=\"https://i.imgur.com/NcWgSZg.png\" width=\"300\">\n",
    "\n",
    "So, using this fact, we will try to secretly encode a black and white image into a \"masking\" image by changing the last bit of the green component of each pixel in the \"masking\" image.\n",
    "\n",
    "Here is our scheme we will use to do this:\n",
    "\n",
    "We will take in two images (represented as 2D arrays). One image is `mask` and the other is `message`. `mask` and `message` will have the same exact dimensions. `mask` will represent an innocent looking image and `message` will the secret image we want to hide. `message` will be guranteed to only contain white and black pixel values (RGB triplets of `[255, 255, 255]` and `[0, 0, 0]`). \n",
    "\n",
    "To produce our encoded message, we will loop through the pixels inside of `message`. If the pixel in `message` is white, then we want to set the last bit of the green value in the corresponding pixel of `mask` to 1. If the pixel in `message` is black, then we want to set the last bit of the green value in the corresponding pixel of `mask` to 0.\n",
    "\n",
    "For this lab, we will use the following picture of Oski as our \"masking\" image and our secret message will be the black-and-white image saying \"go bears!\". For each pixel in the \"go bears!\" image, we will find the corresponding pixel in the Oski image, and change its green component according to whether the pixel is black or white.\n",
    "\n",
    "![](https://i.ibb.co/5Kgxw7Z/sidebyside.png)"
   ]
  },
  {
   "cell_type": "markdown",
   "id": "63f83658",
   "metadata": {},
   "source": [
    "**Question 4:** Write a function `encode_message` that takes in two images, `original` and `message`, and that hides `message` inside of `original` using the algorithm described above."
   ]
  },
  {
   "cell_type": "code",
   "execution_count": null,
   "id": "319d4d02",
   "metadata": {
    "tags": []
   },
   "outputs": [],
   "source": [
    "# helper functions\n",
    "\n",
    "# Takes in an RGB triplet PIXEL and returns True iff it encodes the color white\n",
    "def is_white_pixel(pixel):\n",
    "    return len(pixel) == 3 and all(n == 255 for n in pixel)\n",
    "\n",
    "# Takes in an RGB triplet PIXEL and returns True iff it encodes the color black\n",
    "def is_black_pixel(pixel):\n",
    "    return len(pixel) == 3 and all(n == 0 for n in pixel)\n",
    "\n",
    "# Takes in a number NUM and returns a new version with its last bit change to NEW_LAST_BIT\n",
    "def set_last_bit(num, new_last_bit):\n",
    "    assert new_last_bit == 0 or new_last_bit == 1, 'new bit invalid'\n",
    "    return ((num >> 1) << 1) | new_last_bit"
   ]
  },
  {
   "cell_type": "code",
   "execution_count": null,
   "id": "02a83bce",
   "metadata": {
    "tags": []
   },
   "outputs": [],
   "source": [
    "def encode_message(mask, message):\n",
    "    # check that mask and message have the same dimension\n",
    "    assert len(mask) == len(message), 'mismatched number of rows'\n",
    "    assert list(map(len, mask)) == list(map(len, message)), 'mismatched number of columns'\n",
    "    \n",
    "    # check that message contains only white and black pixels\n",
    "    for row in message:\n",
    "        for pixel in row:\n",
    "            assert is_white_pixel(pixel) or is_black_pixel(pixel), 'message must be black and white'\n",
    "\n",
    "    # create 2D array to for outputted image, containing secret message\n",
    "    output_image = []\n",
    "    for r in range(len(mask)):\n",
    "        output_row = []\n",
    "        for c in range(len(mask[r])):\n",
    "            mask_pixel = mask[r][c]\n",
    "            message_pixel = message[r][c]\n",
    "            new_pixel = list(mask_pixel) # make a copy of mask_pixel\n",
    "            # modify new_pixel's green value according to the algorithm above\n",
    "            # hint: the helper function(s) above may be helpful.\n",
    "            # hint: the green component will be the second value of the pixel\n",
    "            ...\n",
    "            output_row.append(new_pixel)\n",
    "        output_image.append(output_row)\n",
    "    return output_image"
   ]
  },
  {
   "cell_type": "code",
   "execution_count": null,
   "id": "1be076ea",
   "metadata": {
    "deletable": false,
    "editable": false
   },
   "outputs": [],
   "source": [
    "grader.check(\"q4\")"
   ]
  },
  {
   "cell_type": "markdown",
   "id": "d1a5359e",
   "metadata": {},
   "source": [
    "Now, let's take a look at what the output image looks like if we encode our \"Go bears!\" message into the image of Oski!\n",
    "\n",
    "**Note:** This may take up to a minute to execute."
   ]
  },
  {
   "cell_type": "code",
   "execution_count": null,
   "id": "4fc5137b",
   "metadata": {},
   "outputs": [],
   "source": [
    "OSKI_IMG = 'https://pbs.twimg.com/profile_images/1276527827848818688/dfr7_4Kn_400x400.jpg'\n",
    "SECRET_MESSAGE = 'https://i.ibb.co/djphCHY/gobears.png'\n",
    "\n",
    "oski = np.asarray(Image.open(BytesIO(requests.get(OSKI_IMG).content))).tolist()\n",
    "secret = np.asarray(Image.open(BytesIO(requests.get(SECRET_MESSAGE).content))).tolist()\n",
    "\n",
    "encoded_oski = encode_message(oski, secret)\n",
    "\n",
    "plt.imshow(encoded_oski)\n",
    "plt.show()"
   ]
  },
  {
   "cell_type": "markdown",
   "id": "7bf27a47",
   "metadata": {},
   "source": [
    "Notice how the image looks almost exactly the same as the original image of Oski, seen below. The modifications to the last bits of the green values are completely imperceptible.\n",
    "\n",
    "![](https://pbs.twimg.com/profile_images/1276527827848818688/dfr7_4Kn_400x400.jpg)"
   ]
  },
  {
   "cell_type": "markdown",
   "id": "ced42b8c",
   "metadata": {},
   "source": [
    "### Recovering a Message\n",
    "\n",
    "In this part, we are going to now write a function that will let us recover a message from an image that has already had a message hidden inside of it.\n",
    "\n",
    "For this part, you will take in an image `encoded_image` that has had a secret message encoded in it using the `encode_message` function you implemented in the previous part. Your goal is to derive the original message, by examining each pixel of `encoded_image`. Remember: if the last bit of the green value is a 1, then the corresponding pixel in the secret message was white, and if the last bit of the green value is a 0, then the corresponding pixel in the secret message was black."
   ]
  },
  {
   "cell_type": "markdown",
   "id": "d9119709",
   "metadata": {},
   "source": [
    "**Question 5:** Write a function `decode_message` that takes in an image `encoded_image`, and return the image of the secret message hidden inside of `encoded_image`."
   ]
  },
  {
   "cell_type": "code",
   "execution_count": null,
   "id": "82c0f1a1",
   "metadata": {
    "tags": []
   },
   "outputs": [],
   "source": [
    "# helper function(s)\n",
    "\n",
    "# Takes in a number NUM and returns the last bit (either 0 or 1)\n",
    "def get_last_bit(num):\n",
    "    return num & 1"
   ]
  },
  {
   "cell_type": "code",
   "execution_count": null,
   "id": "cc0a89c6",
   "metadata": {
    "tags": []
   },
   "outputs": [],
   "source": [
    "def decode_message(encoded_image):\n",
    "    WHITE_PIXEL = [255, 255, 255]\n",
    "    BLACK_PIXEL = [0, 0, 0]\n",
    "    recovered_message = []\n",
    "    for r in range(len(encoded_image)):\n",
    "        recovered_row = []\n",
    "        for c in range(len(encoded_image[r])):\n",
    "            encoded_pixel = encoded_image[r][c]\n",
    "            # determine, using the last bit of the green value, whether to\n",
    "            # append a white or black pixel to the end of recovered_row\n",
    "            # hint: the helper function(s) above may be helpful.\n",
    "            ...\n",
    "        recovered_message.append(recovered_row)\n",
    "    return recovered_message"
   ]
  },
  {
   "cell_type": "code",
   "execution_count": null,
   "id": "405145a9",
   "metadata": {
    "deletable": false,
    "editable": false
   },
   "outputs": [],
   "source": [
    "grader.check(\"q5\")"
   ]
  },
  {
   "cell_type": "markdown",
   "id": "8b5825cc",
   "metadata": {},
   "source": [
    "Finally, let's test our decoding method on the picture of Oski we made at the end of part 1, and make sure that we get back our original secret message containing \"go bears!\". If this block doesn't work, go back to Part 1 and re-run the block where you created the `encoded_oski` image."
   ]
  },
  {
   "cell_type": "code",
   "execution_count": null,
   "id": "31abd5ac",
   "metadata": {},
   "outputs": [],
   "source": [
    "recovered_message = decode_message(encoded_oski)\n",
    "\n",
    "plt.imshow(recovered_message)\n",
    "plt.show()"
   ]
  },
  {
   "cell_type": "markdown",
   "id": "20c02023",
   "metadata": {},
   "source": [
    "If everything has gone well, we should see our original message of \"go bears!\". \n",
    "\n",
    "To wrap up Part 2 of this lab, let's decode a brand new message that we don't know the original message for. Here's a seemingly innocent looking image.\n",
    "\n",
    "<img src=\"https://i.ibb.co/gM62mM4/problem.png\" width=\"300\">\n",
    "\n",
    "\n",
    "However, if we run it through our decoding algorithm, we will see that we run into sort of a **problem**. ;)"
   ]
  },
  {
   "cell_type": "code",
   "execution_count": null,
   "id": "0a588daa",
   "metadata": {},
   "outputs": [],
   "source": [
    "NORMAL_IMG = 'https://i.ibb.co/gM62mM4/problem.png'\n",
    "\n",
    "normal_image = np.asarray(Image.open(BytesIO(requests.get(NORMAL_IMG).content))).tolist()\n",
    "recovered_image = decode_message(normal_image)\n",
    "\n",
    "plt.imshow(recovered_image)\n",
    "plt.show()"
   ]
  },
  {
   "cell_type": "markdown",
   "id": "0a7f9eeb",
   "metadata": {},
   "source": [
    "### Content Threat Removal\n",
    "\n",
    "To conclude this lab, we will create a algorithm that tries to block/prevent this stenographic technique.\n",
    "\n",
    "Let's say that we were trying to devise a messaging system that blocked secret messages from hiding within images, but that still allowed legit images to pass through. One way to do this is to try and run advanced steganalysis techniques on the images to detect which ones have had a message encoded within them. However, due to the difficulty of successfully implementing these techniques, it is often preferred to instead add random \"noise\" to the image, with the hopes of corrupting any message that may have been hiding within while still keep the image looking the same to the human eye.\n",
    "\n",
    "For the sake of simplicity, we will implement an algorithm that adds \"noise\" to images by changing the last bit of all values in the RGB triplets of the image to randomly be 0 or 1.\n",
    "\n",
    "You'll need the following 2 helper functions:"
   ]
  },
  {
   "cell_type": "code",
   "execution_count": null,
   "id": "250aeab8",
   "metadata": {},
   "outputs": [],
   "source": [
    "# Returns either 0 or 1 at random.\n",
    "def get_random_bit():\n",
    "    return random.randint(0, 1)\n",
    "\n",
    "# Takes in a number NUM and returns a new version with its last bit change to NEW_LAST_BIT\n",
    "def set_last_bit(num, new_last_bit):\n",
    "    assert new_last_bit == 0 or new_last_bit == 1, 'new bit invalid'\n",
    "    return ((num >> 1) << 1) | new_last_bit"
   ]
  },
  {
   "cell_type": "markdown",
   "id": "64644f16",
   "metadata": {},
   "source": [
    "**Question 6:** Write a function `add_noise` that takes in `image`, and return the same image with each of the least significant bits set randomly to either 0 or 1."
   ]
  },
  {
   "cell_type": "code",
   "execution_count": null,
   "id": "29726b25",
   "metadata": {
    "tags": []
   },
   "outputs": [],
   "source": [
    "def add_noise(image):\n",
    "    noisy_image = []\n",
    "    for r in range(len(image)):\n",
    "        noisy_row = []\n",
    "        for c in range(len(image[r])):\n",
    "            pixel = image[r][c]\n",
    "            # modify the red, green, and blue components of pixel\n",
    "            # by changing the each of their last bits to a random bit\n",
    "            # append this modified pixel to the end of noisy_row\n",
    "            # hint: the helper function(s) above may be helpful.\n",
    "            ...\n",
    "        noisy_image.append(noisy_row)\n",
    "    return noisy_image"
   ]
  },
  {
   "cell_type": "code",
   "execution_count": null,
   "id": "d4291466",
   "metadata": {
    "deletable": false,
    "editable": false
   },
   "outputs": [],
   "source": [
    "grader.check(\"q6\")"
   ]
  },
  {
   "cell_type": "markdown",
   "id": "823d365c",
   "metadata": {},
   "source": [
    "Now, let's see what happens if we add noise to an encoded message and then try to decode it. We should it expect the decoded message to be totally garbled (looking almost like TV static). We will test this by adding noise to the image we decoded at the end of Part 2 and then trying to decode it.\n",
    "\n",
    "For reference, here is the encoded image:\n",
    "\n",
    "<img src=\"https://i.ibb.co/gM62mM4/problem.png\" width=\"300\">"
   ]
  },
  {
   "cell_type": "code",
   "execution_count": null,
   "id": "187d3cbc",
   "metadata": {},
   "outputs": [],
   "source": [
    "NORMAL_IMG = 'https://i.ibb.co/gM62mM4/problem.png'\n",
    "\n",
    "normal_image = np.asarray(Image.open(BytesIO(requests.get(NORMAL_IMG).content))).tolist()\n",
    "\n",
    "noisy_image = add_noise(normal_image)\n",
    "\n",
    "plt.imshow(noisy_image)\n",
    "plt.show()"
   ]
  },
  {
   "cell_type": "markdown",
   "id": "3235e9e9",
   "metadata": {},
   "source": [
    "Here, we see that the \"noisy\" version of the image looks identical to the original. This is intended, since we want legitmate images to not be visually impacted by the noise.\n",
    "\n",
    "However, if someone were to try and decode the image, then they would run into issues."
   ]
  },
  {
   "cell_type": "code",
   "execution_count": null,
   "id": "9eba89a1",
   "metadata": {},
   "outputs": [],
   "source": [
    "recovered_image = decode_message(normal_image)\n",
    "\n",
    "plt.imshow(recovered_image)\n",
    "plt.show()"
   ]
  },
  {
   "cell_type": "markdown",
   "id": "838f0ccf",
   "metadata": {},
   "source": [
    "As we can see, we no longer are getting our message back, but rather absolute garbage.\n",
    "\n",
    "One thing to keep in mind about this method of content threat removal is that it required us to have some prior knowledge about how the message may be possibly encoded in the image. In this case, that meant that we already knew the message was being sent through the last bits of some of the values. If the sender of the message was carefuly, the could encode the message with an entirely different scheme that may be able to get past this sort of filter. This kind of represents the arms race that exists between those implementing filters and those trying to get around them."
   ]
  },
  {
   "cell_type": "markdown",
   "id": "9c85cb36",
   "metadata": {},
   "source": [
    "**FOR SUBMISSION: If you run into an error (Runtime Error) at first, try running it again. There's an infrequent bug causing an error, but it goes away after re-running the submission cell.**"
   ]
  },
  {
   "cell_type": "markdown",
   "id": "04b78993",
   "metadata": {
    "deletable": false,
    "editable": false
   },
   "source": [
    "## Submission\n",
    "\n",
    "Make sure you have run all cells in your notebook in order before running the cell below, so that all images/graphs appear in the output. The cell below will generate a zip file for you to submit. **Please save before exporting!**\n",
    "\n",
    "Once you have generated the zip file, go to the Gradescope page for this assignment to submit."
   ]
  },
  {
   "cell_type": "code",
   "execution_count": null,
   "id": "35213b0f",
   "metadata": {
    "deletable": false,
    "editable": false
   },
   "outputs": [],
   "source": [
    "# Save your notebook first, then run this cell to export your submission.\n",
    "grader.export(pdf=False, run_tests=True)"
   ]
  },
  {
   "cell_type": "markdown",
   "id": "dddcf72e",
   "metadata": {},
   "source": [
    " "
   ]
  }
 ],
 "metadata": {
  "kernelspec": {
   "display_name": "Python 3 (ipykernel)",
   "language": "python",
   "name": "python3"
  },
  "language_info": {
   "codemirror_mode": {
    "name": "ipython",
    "version": 3
   },
   "file_extension": ".py",
   "mimetype": "text/x-python",
   "name": "python",
   "nbconvert_exporter": "python",
   "pygments_lexer": "ipython3",
   "version": "3.9.14"
  },
  "otter": {
   "OK_FORMAT": true,
   "tests": {
    "q1": {
     "name": "q1",
     "points": 10,
     "suites": [
      {
       "cases": [
        {
         "code": ">>> shift = 1\n>>> plaintext = \"aaaa\"\n>>> expected_ciphertext = \"bbbb\"\n>>> assert caesar_encrypt(plaintext, shift) == expected_ciphertext\n>>> assert caesar_decrypt(caesar_encrypt(plaintext, shift), shift) == plaintext\n",
         "hidden": false,
         "locked": false
        }
       ],
       "scored": true,
       "setup": "",
       "teardown": "",
       "type": "doctest"
      }
     ]
    },
    "q2": {
     "name": "q2",
     "points": 10,
     "suites": [
      {
       "cases": [
        {
         "code": ">>> plaintext = \"hello\"\n>>> key = \"aba\"\n>>> expected_ciphertext = \"hfllp\"\n>>> assert vigenere_encrypt(plaintext, key) == expected_ciphertext\n>>> assert vigenere_decrypt(vigenere_encrypt(plaintext, key), key) == plaintext\n",
         "hidden": false,
         "locked": false
        }
       ],
       "scored": true,
       "setup": "",
       "teardown": "",
       "type": "doctest"
      }
     ]
    },
    "q3_1": {
     "name": "q3_1",
     "points": 10,
     "suites": [
      {
       "cases": [
        {
         "code": ">>> # Return a dictionary with the counts of every letter.\n>>> def count_letters(text):\n...     init = Counter(english_frequencies.keys())\n...     init.update(text)\n...     return {k: init[k] - 1 for k in english_frequencies.keys()}\n>>> assert(sample_text != \"\")\n>>> for i in range(26):\n...     assert find_best_shift(caesar_encrypt(sample_text, i)) == i\n",
         "hidden": false,
         "locked": false
        }
       ],
       "scored": true,
       "setup": "",
       "teardown": "",
       "type": "doctest"
      }
     ]
    },
    "q3_2": {
     "name": "q3_2",
     "points": 10,
     "suites": [
      {
       "cases": [
        {
         "code": ">>> # Return a dictionary with the counts of every letter.\n>>> def count_letters(text):\n...     init = Counter(english_frequencies.keys())\n...     init.update(text)\n...     return {k: init[k] - 1 for k in english_frequencies.keys()}\n>>> \n>>> for i in range(26):\n...     assert crack_caesar(caesar_encrypt(\"Hello there!\", i)) == \"hello there!\"\n",
         "hidden": false,
         "locked": false
        }
       ],
       "scored": true,
       "setup": "",
       "teardown": "",
       "type": "doctest"
      }
     ]
    },
    "q4": {
     "name": "q4",
     "points": 10,
     "suites": [
      {
       "cases": [
        {
         "code": ">>> assert encode_message([[[0b10101010, 0b10101010, 0b10101010]]], [[[0, 0, 0]]]) == [[[0b10101010, 0b10101010, 0b10101010]]]\n",
         "hidden": false,
         "locked": false
        },
        {
         "code": ">>> assert encode_message([[[0b10101010, 0b10101010, 0b10101010]]], [[[255, 255, 255]]]) == [[[0b10101010, 0b10101011, 0b10101010]]]\n",
         "hidden": false,
         "locked": false
        },
        {
         "code": ">>> mask = [[[255, 0, 0], [255, 255, 0], [255, 0, 255]],\n...     [[255, 128, 0], [0, 255, 255], [0, 0, 0]],\n...     [[128, 0, 255], [255, 255, 255], [123, 255, 99]]]\n>>> \n>>> message = [[[255, 255, 255], [255, 255, 255], [0, 0, 0]],\n...     [[255, 255, 255], [255, 255, 255], [0, 0, 0]],\n...     [[0, 0, 0], [0, 0, 0], [0, 0, 0]]]\n>>> \n>>> expected_output = [[[255, 1, 0], [255, 255, 0], [255, 0, 255]],\n...     [[255, 129, 0], [0, 255, 255], [0, 0, 0]],\n...     [[128, 0, 255], [255, 254, 255], [123, 254, 99]]]\n>>> \n>>> assert encode_message(mask, message) == expected_output\n",
         "hidden": false,
         "locked": false
        }
       ],
       "scored": true,
       "setup": "",
       "teardown": "",
       "type": "doctest"
      }
     ]
    },
    "q5": {
     "name": "q5",
     "points": 10,
     "suites": [
      {
       "cases": [
        {
         "code": ">>> assert decode_message([[[0b10101010, 0b10101010, 0b10101010]]]) == [[[0, 0, 0]]]\n",
         "hidden": false,
         "locked": false
        },
        {
         "code": ">>> assert decode_message([[[0b10101010, 0b10101011, 0b10101010]]]) == [[[255, 255, 255]]]\n",
         "hidden": false,
         "locked": false
        },
        {
         "code": ">>> mask = [[[255, 0, 0], [255, 255, 0], [255, 0, 255]],\n...     [[255, 128, 0], [0, 255, 255], [0, 0, 0]],\n...     [[128, 0, 255], [255, 255, 255], [123, 255, 99]]]\n>>> \n>>> message = [[[255, 255, 255], [255, 255, 255], [0, 0, 0]],\n...     [[255, 255, 255], [255, 255, 255], [0, 0, 0]],\n...     [[0, 0, 0], [0, 0, 0], [0, 0, 0]]]\n>>> \n>>> expected_output = [[[255, 1, 0], [255, 255, 0], [255, 0, 255]],\n...     [[255, 129, 0], [0, 255, 255], [0, 0, 0]],\n...     [[128, 0, 255], [255, 254, 255], [123, 254, 99]]]\n>>> \n>>> assert decode_message(encode_message(mask, message)) == message\n>>> assert decode_message(expected_output) == message\n",
         "hidden": false,
         "locked": false
        }
       ],
       "scored": true,
       "setup": "",
       "teardown": "",
       "type": "doctest"
      }
     ]
    },
    "q6": {
     "name": "q6",
     "points": 10,
     "suites": [
      {
       "cases": [
        {
         "code": ">>> random.seed(11)\n>>> \n>>> assert add_noise([[[132, 17, 129]]]) == [[[133, 17, 129]]]\n>>> assert add_noise([[[2, 2, 1]]]) == [[[2, 2, 1]]]\n",
         "hidden": false,
         "locked": false
        },
        {
         "code": ">>> random.seed(10)\n>>> \n>>> image = [[[255, 0, 0], [255, 255, 0], [255, 0, 255]],\n...     [[255, 128, 0], [0, 255, 255], [0, 0, 0]],\n...     [[128, 0, 255], [255, 255, 255], [123, 255, 99]]]\n>>> \n>>> expected_output = [[[254, 1, 1], [254, 254, 1], [255, 1, 254]],\n...                    [[254, 129, 1], [0, 254, 255], [0, 1, 0]],\n...                    [[129, 1, 255], [255, 255, 255], [122, 255, 99]]]\n>>> \n>>> assert add_noise(image) == expected_output\n",
         "hidden": false,
         "locked": false
        }
       ],
       "scored": true,
       "setup": "",
       "teardown": "",
       "type": "doctest"
      }
     ]
    }
   }
  },
  "vscode": {
   "interpreter": {
    "hash": "b0fa6594d8f4cbf19f97940f81e996739fb7646882a419484c72d19e05852a7e"
   }
  }
 },
 "nbformat": 4,
 "nbformat_minor": 5
}
