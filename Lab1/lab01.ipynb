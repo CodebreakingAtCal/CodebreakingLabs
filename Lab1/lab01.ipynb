{
 "cells": [
  {
   "cell_type": "code",
   "execution_count": null,
   "id": "b60b4be4",
   "metadata": {
    "deletable": false,
    "editable": false
   },
   "outputs": [],
   "source": [
    "# Initialize Otter\n",
    "import otter\n",
    "grader = otter.Notebook(\"lab01.ipynb\")"
   ]
  },
  {
   "cell_type": "code",
   "execution_count": null,
   "id": "f2cd6711",
   "metadata": {},
   "outputs": [],
   "source": [
    "import numpy as np\n",
    "from matplotlib import pyplot as plt\n",
    "from collections import defaultdict, Counter\n",
    "import re\n",
    "from functools import reduce\n",
    "import math\n",
    "import string"
   ]
  },
  {
   "cell_type": "code",
   "execution_count": null,
   "id": "c4993e07",
   "metadata": {},
   "outputs": [],
   "source": [
    "alphabet = string.ascii_lowercase"
   ]
  },
  {
   "cell_type": "markdown",
   "id": "0c9cffa7",
   "metadata": {},
   "source": [
    "# Lab 1: Substitution Ciphers\n",
    "Contributions From: Ryan Cottone"
   ]
  },
  {
   "cell_type": "markdown",
   "id": "dca4c546",
   "metadata": {},
   "source": [
    "Welcome to Lab 1! In this lab, we will explore the most common type of early cipher -- the substitution cipher.\n",
    "By the end of lab, you will have built a full encrypting and decrypting system complete with a cracking function.\n",
    "\n",
    "Please review the lecture slides and Note 1 if you are unsure what a substitution cipher is."
   ]
  },
  {
   "cell_type": "markdown",
   "id": "5ccb5150",
   "metadata": {},
   "source": [
    "## Helpers"
   ]
  },
  {
   "cell_type": "code",
   "execution_count": null,
   "id": "71821f44",
   "metadata": {},
   "outputs": [],
   "source": [
    "# Takes in a character and returns its index in the alphabet (a=0, b=1, ...)\n",
    "def char_to_num(text):\n",
    "    return ord(text.lower()) - 97;"
   ]
  },
  {
   "cell_type": "code",
   "execution_count": null,
   "id": "fe172899",
   "metadata": {},
   "outputs": [],
   "source": [
    "# Takes in a number and returns its character in the alphabet (0=a, 1=b, ...)\n",
    "def num_to_char(num):\n",
    "    return chr(num + 97).lower();"
   ]
  },
  {
   "cell_type": "code",
   "execution_count": null,
   "id": "6fe2cc48",
   "metadata": {},
   "outputs": [],
   "source": [
    "# Takes in a character and a numerical shift, and returns its shifted version. Example: (a, 2) -> c\n",
    "def shift_letter(char, shift):\n",
    "    if not char.isalpha():\n",
    "        return char\n",
    "    else:\n",
    "        return num_to_char((char_to_num(char) + shift) % 26) "
   ]
  },
  {
   "cell_type": "code",
   "execution_count": null,
   "id": "3826590f",
   "metadata": {},
   "outputs": [],
   "source": [
    "# Cleans our text to ensure no non-alphabetic characters appear\n",
    "def clean_text(text):\n",
    "    return re.sub('[^A-Za-z\\s!?.,$]*', '', text.lower())"
   ]
  },
  {
   "cell_type": "markdown",
   "id": "ebd952bc",
   "metadata": {},
   "source": [
    "**Question 1**: Complete the following implementation of a Caesar Cipher.\n",
    "\n",
    "As a quick reminder, a Caesar cipher shifts all letters in the plaintext over by one. \"abc\" shifted by 1 becomes \"bcd\".\n",
    "\n",
    "*HINT: Be sure to use `shift_letter`*"
   ]
  },
  {
   "cell_type": "code",
   "execution_count": null,
   "id": "42897977",
   "metadata": {
    "tags": []
   },
   "outputs": [],
   "source": [
    "# Encrypts the given plaintext with the given numerical shift\n",
    "def caesar_encrypt(plaintext, shift):\n",
    "    plaintext = clean_text(plaintext)\n",
    "    encrypted = \"\" \n",
    "    for i in range(len(plaintext)):\n",
    "        ...\n",
    "    return encrypted"
   ]
  },
  {
   "cell_type": "code",
   "execution_count": null,
   "id": "ac3247d1",
   "metadata": {
    "tags": []
   },
   "outputs": [],
   "source": [
    "# Decrypts the given ciphertext with the given numerical shift\n",
    "def caesar_decrypt(ciphertext, shift):\n",
    "    ciphertext = clean_text(ciphertext)\n",
    "    decrypted = \"\" \n",
    "    for i in range(len(ciphertext)):\n",
    "        ...\n",
    "    return decrypted"
   ]
  },
  {
   "cell_type": "code",
   "execution_count": null,
   "id": "77676a48",
   "metadata": {
    "deletable": false,
    "editable": false
   },
   "outputs": [],
   "source": [
    "grader.check(\"q1\")"
   ]
  },
  {
   "cell_type": "markdown",
   "id": "cb3809de",
   "metadata": {},
   "source": [
    "**Question 2.1**: Complete the following implementation of key padding.\n",
    "\n",
    "A key padding function extends the length of a key to the desired length. For example, extending \"ab\" by repetition to length 5 gives us \"ababa\""
   ]
  },
  {
   "cell_type": "code",
   "execution_count": null,
   "id": "3cf08962",
   "metadata": {
    "tags": []
   },
   "outputs": [],
   "source": [
    "# Pads the key to be equal to length by repeating itself\n",
    "def pad_key(key, length):\n",
    "    key = clean_text(key)\n",
    "    newkey = key\n",
    "    for i in range(len(key), length):\n",
    "        ...\n",
    "    return newkey"
   ]
  },
  {
   "cell_type": "code",
   "execution_count": null,
   "id": "492c73a8",
   "metadata": {
    "deletable": false,
    "editable": false
   },
   "outputs": [],
   "source": [
    "grader.check(\"q2_1\")"
   ]
  },
  {
   "cell_type": "markdown",
   "id": "85d572a4",
   "metadata": {},
   "source": [
    "**Question 2.2**: Complete the following implementation of a Vignére cipher.\n",
    "\n",
    "As a reminder, a Vignére cipher acts as a Caesar cipher for each individual letter. Once we extend the key to be the same length as the plaintext, we shift each individual letter by its corresponding key letter (converted to a number). For example:\n",
    "\n",
    "Plaintext: \"abcd\"\n",
    "\n",
    "Key: \"ab\"\n",
    "\n",
    "Padded key: \"abab\"\n",
    "\n",
    "\"abcd\" + \"abab\" = \"acce\"\n",
    "\n",
    "\"acce\" - \"abab\" = \"abcd\""
   ]
  },
  {
   "cell_type": "code",
   "execution_count": null,
   "id": "18a30868",
   "metadata": {
    "tags": []
   },
   "outputs": [],
   "source": [
    "# Encrypts a given plaintext with the key using the Vignere cipher\n",
    "def vignere_encrypt(plaintext, key):\n",
    "    plaintext = clean_text(plaintext)\n",
    "    padded_key = ...\n",
    "    encrypted = \"\"\n",
    "    \n",
    "    for i in range(len(plaintext)):\n",
    "        ...\n",
    "    \n",
    "    return encrypted"
   ]
  },
  {
   "cell_type": "code",
   "execution_count": null,
   "id": "4538f74c",
   "metadata": {
    "tags": []
   },
   "outputs": [],
   "source": [
    "# Decrypts a given ciphertext with the key using the Vignere cipher\n",
    "def vignere_decrypt(ciphertext, key):\n",
    "    ciphertext = clean_text(ciphertext)\n",
    "    padded_key = ...\n",
    "    decrypted = \"\"\n",
    "    \n",
    "    for i in range(len(ciphertext)):\n",
    "        ...\n",
    "        \n",
    "    return decrypted"
   ]
  },
  {
   "cell_type": "code",
   "execution_count": null,
   "id": "aa9f8cf0",
   "metadata": {
    "deletable": false,
    "editable": false
   },
   "outputs": [],
   "source": [
    "grader.check(\"q2_2\")"
   ]
  },
  {
   "cell_type": "markdown",
   "id": "35e71ad6",
   "metadata": {},
   "source": [
    "**Question 3.1**: Complete the following implementation of a frequency analysis tool."
   ]
  },
  {
   "cell_type": "code",
   "execution_count": null,
   "id": "37a14bfe",
   "metadata": {
    "tags": []
   },
   "outputs": [],
   "source": [
    "# Return a dictionary with the counts of every letter.\n",
    "def count_letters(text):\n",
    "    counts = {}\n",
    "    text = text.lower()\n",
    "    \n",
    "    for letter in alphabet:\n",
    "        counts[letter] = 0;\n",
    "    \n",
    "    for letter in text:\n",
    "        if (letter in alphabet): \n",
    "            ...\n",
    "    \n",
    "    return counts;"
   ]
  },
  {
   "cell_type": "code",
   "execution_count": null,
   "id": "114bc569",
   "metadata": {
    "deletable": false,
    "editable": false
   },
   "outputs": [],
   "source": [
    "grader.check(\"q3_1\")"
   ]
  },
  {
   "cell_type": "code",
   "execution_count": null,
   "id": "b70b4f13",
   "metadata": {},
   "outputs": [],
   "source": [
    "# Calculates the proportions of each letter in the given text\n",
    "def calculate_proportions(text): # Coded for you\n",
    "    counts = count_letters(text).values()\n",
    "    nparr = np.fromiter(counts, dtype=float)\n",
    "    return nparr / sum(counts)"
   ]
  },
  {
   "cell_type": "code",
   "execution_count": null,
   "id": "98b8bbc5",
   "metadata": {},
   "outputs": [],
   "source": [
    "# Plots the frequencies of letters from a given tesxt\n",
    "def plot_freqs_from_text(text): # Coded for you\n",
    "    plot_freqs(calculate_proportions(text))"
   ]
  },
  {
   "cell_type": "code",
   "execution_count": null,
   "id": "afe1c40a",
   "metadata": {},
   "outputs": [],
   "source": [
    "# Plots frequencies \n",
    "def plot_freqs(freqs): # Coded for you\n",
    "    plt.bar([alphabet[i] for i in range(26)], freqs)"
   ]
  },
  {
   "cell_type": "markdown",
   "id": "024142d9",
   "metadata": {},
   "source": [
    "Now, let's try with a long text:"
   ]
  },
  {
   "cell_type": "code",
   "execution_count": null,
   "id": "2273268b",
   "metadata": {},
   "outputs": [],
   "source": [
    "sample_text = \"\"\n",
    "with open('sample.txt', 'r') as file:\n",
    "    sample_text = file.read().replace('\\n', '')"
   ]
  },
  {
   "cell_type": "code",
   "execution_count": null,
   "id": "5c787f5b",
   "metadata": {},
   "outputs": [],
   "source": [
    "plot_freqs_from_text(sample_text)"
   ]
  },
  {
   "cell_type": "code",
   "execution_count": null,
   "id": "422fc0ba",
   "metadata": {},
   "outputs": [],
   "source": [
    "english_frequencies = {\n",
    "    'a': .0812,\n",
    "    'b': .0149,\n",
    "    'c': .0271,\n",
    "    'd': .0432,\n",
    "    'e': .1202,\n",
    "    'f': .0230,\n",
    "    'g': .0203,\n",
    "    'h': .0592,\n",
    "    'i': .0731,\n",
    "    'j': .0100,\n",
    "    'k': .0069,\n",
    "    'l': .0398,\n",
    "    'm': .0261,\n",
    "    'n': .0695,\n",
    "    'o': .0768,\n",
    "    'p': .0182,\n",
    "    'q': .0011,\n",
    "    'r': .0602,\n",
    "    's': .0628,\n",
    "    't': .0910,\n",
    "    'u': .0288,\n",
    "    'v': .0111,\n",
    "    'w': .0209,\n",
    "    'x': .0017,\n",
    "    'y': .0211,\n",
    "    'z': .0007\n",
    "}\n",
    "np_english_frequencies = np.fromiter(english_frequencies.values(), dtype=float)"
   ]
  },
  {
   "cell_type": "markdown",
   "id": "ea2acd00",
   "metadata": {},
   "source": [
    "Here's a plot of the overall English letter frequencies:"
   ]
  },
  {
   "cell_type": "code",
   "execution_count": null,
   "id": "07c20dba",
   "metadata": {},
   "outputs": [],
   "source": [
    "plot_freqs(english_frequencies.values())"
   ]
  },
  {
   "cell_type": "code",
   "execution_count": null,
   "id": "55ad0ce2",
   "metadata": {},
   "outputs": [],
   "source": [
    "# Plots two frequency histograms over one another\n",
    "def plot_overlay(freq1, freq2): # Coded for you\n",
    "    plt.bar([alphabet[i] for i in range(26)],freq1, color='orange', width = 0.5)\n",
    "    plt.bar([alphabet[i] for i in range(26)], freq2, color='blue', alpha=0.5)"
   ]
  },
  {
   "cell_type": "code",
   "execution_count": null,
   "id": "12cf6f0b",
   "metadata": {},
   "outputs": [],
   "source": [
    "plot_overlay(np_english_frequencies, calculate_proportions(sample_text))"
   ]
  },
  {
   "cell_type": "markdown",
   "id": "b7bd4234",
   "metadata": {},
   "source": [
    "As you can see, the frequencies of longer texts are almost identical to the frequency of English as a whole. "
   ]
  },
  {
   "cell_type": "markdown",
   "id": "9f2be81a",
   "metadata": {},
   "source": [
    "**Question 3.2**: Complete the following implementation of Total Variation Distance.\n",
    "\n",
    "$$TVD(freq_1, freq_2) = \\frac{1}{2} \\sum_{i=0}^{k} | freq1_i - freq2_i | $$"
   ]
  },
  {
   "cell_type": "code",
   "execution_count": null,
   "id": "f9666e6f",
   "metadata": {
    "tags": []
   },
   "outputs": [],
   "source": [
    "# Takes in two NumPy arrays and returns their TVD.\n",
    "def tvd(freq1, freq2):\n",
    "    ..."
   ]
  },
  {
   "cell_type": "code",
   "execution_count": null,
   "id": "f0c19954",
   "metadata": {
    "deletable": false,
    "editable": false
   },
   "outputs": [],
   "source": [
    "grader.check(\"q3_2\")"
   ]
  },
  {
   "cell_type": "code",
   "execution_count": null,
   "id": "dc05c327",
   "metadata": {},
   "outputs": [],
   "source": [
    "tvd(np_english_frequencies, calculate_proportions(sample_text))"
   ]
  },
  {
   "cell_type": "markdown",
   "id": "67065414",
   "metadata": {},
   "source": [
    "Our text has a relatively low TVD with the base English frequencies. Remember, the lower the TVD = the closer the two distributions are. Let's see how the TVD of an encrypted version of the sample text compares to English."
   ]
  },
  {
   "cell_type": "code",
   "execution_count": null,
   "id": "75be2ae8",
   "metadata": {},
   "outputs": [],
   "source": [
    "encrypted_sample_text = caesar_encrypt(sample_text, 8)\n",
    "tvd(np_english_frequencies, calculate_proportions(encrypted_sample_text))"
   ]
  },
  {
   "cell_type": "markdown",
   "id": "0c844940",
   "metadata": {},
   "source": [
    "That is a lot higher! If we chart these two, you will see why it is so large:"
   ]
  },
  {
   "cell_type": "code",
   "execution_count": null,
   "id": "640bea96",
   "metadata": {},
   "outputs": [],
   "source": [
    "plot_overlay(np_english_frequencies, calculate_proportions(encrypted_sample_text))"
   ]
  },
  {
   "cell_type": "markdown",
   "id": "d3f72225",
   "metadata": {},
   "source": [
    "You can see that the histograms are completely different. In fact, you can make out the shift of the blue to the right from the orange."
   ]
  },
  {
   "cell_type": "markdown",
   "id": "335668bd",
   "metadata": {},
   "source": [
    "**Question 3.3**: Build a function to minimize the TVD over all 26 possible shifts."
   ]
  },
  {
   "cell_type": "code",
   "execution_count": null,
   "id": "004d7461",
   "metadata": {
    "tags": []
   },
   "outputs": [],
   "source": [
    "# Returns the TVD of a text's frequencies against the base English frequencies\n",
    "def analyze_frequency(text):\n",
    "    ...\n",
    "\n",
    "# Returns the best Caesar cipher shift for a given ciphertext to result in the most English-like plaintext\n",
    "def find_best_shift(ciphertext):\n",
    "    best_shift = 0\n",
    "    best_tvd = float('inf')\n",
    "    \n",
    "    for i in range(26):\n",
    "        shifted = ...\n",
    "        result_tvd = ...\n",
    "        \n",
    "        if (result_tvd < best_tvd):\n",
    "            best_shift = i\n",
    "            best_tvd = result_tvd\n",
    "    \n",
    "    return best_shift"
   ]
  },
  {
   "cell_type": "markdown",
   "id": "90afd9fe",
   "metadata": {},
   "source": [
    "The following test may take a few seconds to run."
   ]
  },
  {
   "cell_type": "code",
   "execution_count": null,
   "id": "8aa09a50",
   "metadata": {
    "deletable": false,
    "editable": false
   },
   "outputs": [],
   "source": [
    "grader.check(\"q3_3\")"
   ]
  },
  {
   "cell_type": "markdown",
   "id": "89a36587",
   "metadata": {},
   "source": [
    "**Question 3.4**: Build a function to decrypt an arbitrary Caesar ciphertext.\n",
    "\n",
    "HINT: We just need to find the best \"key\" (shift) and then decrypt it using that!"
   ]
  },
  {
   "cell_type": "code",
   "execution_count": null,
   "id": "60135e74",
   "metadata": {
    "tags": []
   },
   "outputs": [],
   "source": [
    "# Breaks a Caesar ciphertext\n",
    "def crack_caesar(ciphertext):\n",
    "    shift = ...\n",
    "    ..."
   ]
  },
  {
   "cell_type": "markdown",
   "id": "641f7539",
   "metadata": {},
   "source": [
    "Try it out for yourself! Longer texts will be decrypted much more reliably than shorter ones (can you see why?)."
   ]
  },
  {
   "cell_type": "code",
   "execution_count": null,
   "id": "d3e3e58b",
   "metadata": {},
   "outputs": [],
   "source": [
    "text = \"Hello from Codebreaking at Cal!\"\n",
    "shift = 5 # Change this if you want!\n",
    "encrypted_text = caesar_encrypt(text, shift)\n",
    "print(\"Encrypted ciphertext:\", encrypted_text)\n",
    "print(\"Cracked plaintext:\", crack_caesar(encrypted_text))"
   ]
  },
  {
   "cell_type": "code",
   "execution_count": null,
   "id": "0b6243cb",
   "metadata": {
    "deletable": false,
    "editable": false
   },
   "outputs": [],
   "source": [
    "grader.check(\"q3_4\")"
   ]
  },
  {
   "cell_type": "markdown",
   "id": "da2680a0",
   "metadata": {},
   "source": [
    "Unfortunately, a simple frequency analysis will not work for polyalphabetic ciphers like Vignére. For example, let's see what happens when we plot the frequencies of our sample text encoded with the key \"samplekey\":"
   ]
  },
  {
   "cell_type": "code",
   "execution_count": null,
   "id": "f09091ea",
   "metadata": {},
   "outputs": [],
   "source": [
    "plot_overlay(np_english_frequencies, calculate_proportions(vignere_encrypt(sample_text, \"sample key\")))"
   ]
  },
  {
   "cell_type": "markdown",
   "id": "e7da26b8",
   "metadata": {},
   "source": [
    "As you can see, our frequency chart lines up very poorly with overall english frequencies -- there is no noticeable shift. If we try to run our find_best_shift function, we will see that it returns nothing more than gibberish."
   ]
  },
  {
   "cell_type": "code",
   "execution_count": null,
   "id": "a56d20ee",
   "metadata": {},
   "outputs": [],
   "source": [
    "shift = find_best_shift(vignere_encrypt(sample_text, \"sample key\"))\n",
    "attempted_decryption = caesar_decrypt(sample_text, shift)\n",
    "plot_overlay(np_english_frequencies, calculate_proportions(attempted_decryption))\n",
    "print(attempted_decryption[:50] + '...')"
   ]
  },
  {
   "cell_type": "markdown",
   "id": "036e6b0a",
   "metadata": {},
   "source": [
    "In order to remedy this, we use a key principle that applies to polyalphabetic ciphers -- they are simply a combination of *monoalphabetic* ciphers. If we can split the polyalphabetic cipher into numerous monoalphabetic ones, we can solve those individually and re-combine to produce our decrypted text. For example, take the Vignere ciphertext \"bcbc\" with key \"ab\". 'a' would be the key for the first and third letter, and 'b' is the key for the second and forth letter. Thus, we can split this into two Caesar ciphers -- \"bb\" and \"cc\". We find that our keys are 'b' and 'c', respectively, then we concatenate to find the overall key \"bc\". \n",
    "\n",
    "The tricky part, however, is finding the key length. We can't know how to split the cipher unless we know how many ciphers to split into. Fortunately, there exists a very useful tool called the *Kasiski test* to determine the key length of a polyalphabetic substitution cipher. Simply put, we look for repeated substrings of words and check the distance between the two. For example: \n",
    "\n",
    "\"Cryptography isnt cryptocurrency\"\n",
    "\"abcd\"\n",
    "\"**Csastp**iuaqjb itpw **csastp**exrsgqcz\"\n",
    "\n",
    "Notice the two bolded substrings, which are exactly 16 characters apart (start-start). This would imply our key could be 16 characters long or any of the factors of 16 (8, 4, 2), since the key would \"repeat\" in time for it to encrypt the same plaintext to the same ciphertext. It could be any of these, but over a long text, only the key lengths and its multiples (4, 8, 12 ..) will show up in appreciable amounts. (A notable exception is 2, just because its really small and a lot of repeats happen by chance).\n",
    "\n",
    "Our algorithm for determining the key length is as follows:\n",
    "\n",
    "1. Find all repeated substrings of length 3 or 4 and their distances. Put this data into a dictionary with (key length -> count)\n",
    "2. Compare the proportions of these values to those of an unencrypted, very long text (same idea as comparing to base English frequency values)\n",
    "3. Collect those which are significantly above the base values and determine the key length based on least-inversions principle (this part is a bit tricky and subjective, so it is implemented for you)\n",
    "4. Try the best *k* keylengths and compare using a frequency analysis on the final product (k is set by the user).\n"
   ]
  },
  {
   "cell_type": "code",
   "execution_count": null,
   "id": "a53a16ab",
   "metadata": {
    "scrolled": true
   },
   "outputs": [],
   "source": [
    "# Returns a list of counts of repeated substrings for each possible key length\n",
    "def find_repeated_substrings(text):\n",
    "    \n",
    "    text=clean_text(text)\n",
    "        \n",
    "    appearances = defaultdict(lambda: 0)\n",
    "    \n",
    "    for i in range(2,len(text)//2):\n",
    "        \n",
    "        counts = defaultdict(lambda:-1)\n",
    "        \n",
    "        for k in range(0, len(text), i):\n",
    "            if (k+3 > len(text)):\n",
    "                continue\n",
    "                        \n",
    "            snippet_three = text[k:k+3]\n",
    "            snippet_four = text[k:k+4]\n",
    "\n",
    "\n",
    "            if (counts[snippet_three] != -1):\n",
    "                appearances[i] += 1;\n",
    "            \n",
    "            if (counts[snippet_four] != -1 and k+4 < len(text)):\n",
    "                appearances[i] += 1;\n",
    "            \n",
    "            counts[snippet_three] = k\n",
    "            counts[snippet_four] = k\n",
    "    \n",
    "    return appearances"
   ]
  },
  {
   "cell_type": "markdown",
   "id": "6ad8f594",
   "metadata": {},
   "source": [
    "`MAX_KEYLENGTH` defines the maximum length of key to check for. Theoretically, this could be up to `len(text)` (we will see why this keylength creates an unbreakable code in the next lab), but for practical purposes we will set it at 20. Feel free to change and see how the program works!"
   ]
  },
  {
   "cell_type": "code",
   "execution_count": null,
   "id": "d21323b5",
   "metadata": {},
   "outputs": [],
   "source": [
    "MAX_KEYLENGTH = 20"
   ]
  },
  {
   "cell_type": "code",
   "execution_count": null,
   "id": "ccfe2c5c",
   "metadata": {},
   "outputs": [],
   "source": [
    "# Returns the proportions of repeated strings for each keylength\n",
    "def keylen_proportions_from_text(text): # Coded for you \n",
    "    parsed = np.fromiter(find_repeated_substrings(text).values(), dtype=int)[:MAX_KEYLENGTH*2]\n",
    "    return parsed/sum(parsed)"
   ]
  },
  {
   "cell_type": "code",
   "execution_count": null,
   "id": "40169d7b",
   "metadata": {},
   "outputs": [],
   "source": [
    "def approx(x): # Ignore this, used for graping visuals\n",
    "    offset = 0.012\n",
    "    if (x == 2):\n",
    "        offset+=0.02\n",
    "    elif (x > 2 and x < 6):\n",
    "        offset-=  0.01\n",
    "    return 0.45* 0.7**x + offset"
   ]
  },
  {
   "cell_type": "code",
   "execution_count": null,
   "id": "c308cb6a",
   "metadata": {},
   "outputs": [],
   "source": [
    "base_keylen_proportions = keylen_proportions_from_text(sample_text)"
   ]
  },
  {
   "cell_type": "code",
   "execution_count": null,
   "id": "8dc6a61d",
   "metadata": {},
   "outputs": [],
   "source": [
    "colors = []\n",
    "for i in range(2, MAX_KEYLENGTH+3):\n",
    "    if (i % 5 == 0):\n",
    "        colors.append('#50514f')\n",
    "    elif (i % 4 == 0):\n",
    "        colors.append('#f25f5c')\n",
    "    elif (i % 3 == 0):\n",
    "        colors.append('#ffae4a')\n",
    "    elif (i % 2 == 0):\n",
    "        colors.append('#247ba0')\n",
    "    else:\n",
    "        colors.append('#70c1b3')\n",
    "        \n",
    "fig, ax = plt.subplots()\n",
    "\n",
    "ax.bar(range(2,MAX_KEYLENGTH+3), base_keylen_proportions[:MAX_KEYLENGTH+1], color=colors)\n",
    "ax.set_xticks(range(2,MAX_KEYLENGTH+3))\n",
    "ax.plot(range(2,MAX_KEYLENGTH+3), [approx(x) for x in range(2,MAX_KEYLENGTH+3)] ,color=\"black\")\n",
    "plt.show()"
   ]
  },
  {
   "cell_type": "markdown",
   "id": "ccf54c52",
   "metadata": {},
   "source": [
    "**Question 4.1**: Implement find_diff_from_base, which finds the differences of a given ciphertext from the base keylength proportions.\n",
    "\n",
    "*HINT: Remember we defined `keylen_proportions_from_text` earlier!*"
   ]
  },
  {
   "cell_type": "code",
   "execution_count": null,
   "id": "d571a78b",
   "metadata": {
    "tags": []
   },
   "outputs": [],
   "source": [
    "# Finds the difference of keylength frequencies between a text and the base frequencies\n",
    "def find_diff_from_base(text):\n",
    "    text_keylen_proportions = ...\n",
    "    \n",
    "    diffs = text_keylen_proportions - base_keylen_proportions[:len(text_keylen_proportions)]\n",
    "    \n",
    "    return diffs\n",
    "    "
   ]
  },
  {
   "cell_type": "code",
   "execution_count": null,
   "id": "6e8c7f7d",
   "metadata": {
    "deletable": false,
    "editable": false
   },
   "outputs": [],
   "source": [
    "grader.check(\"q4_1\")"
   ]
  },
  {
   "cell_type": "markdown",
   "id": "dc40d004",
   "metadata": {},
   "source": [
    "Now that we have find_diff_from_base, let's visualize what diffs of various keylengths look like when plotted."
   ]
  },
  {
   "cell_type": "code",
   "execution_count": null,
   "id": "b4837268",
   "metadata": {},
   "outputs": [],
   "source": [
    "EXAMPLE_KEYLENGTH = 5 # Change between 2 and 20!\n",
    "\n",
    "diffs = find_diff_from_base(vignere_encrypt(sample_text, alphabet[0:EXAMPLE_KEYLENGTH]))\n",
    "fig, ax = plt.subplots()\n",
    "ax.bar(range(2,MAX_KEYLENGTH+3), diffs[:MAX_KEYLENGTH+1], color=colors)\n",
    "ax.set_xticks(range(2,MAX_KEYLENGTH+3))\n",
    "plt.show()"
   ]
  },
  {
   "cell_type": "markdown",
   "id": "f9e951bf",
   "metadata": {},
   "source": [
    "You'll notice that the key length and its multiples are noticeably above 0 while the rest tend to be lower. (2 is an often exception, its so small that a lot of statistical noise gets in the way).\n",
    "\n",
    "Detecting the best key length programmatically is often challenging, and has a few different approaches. The one below scores different lengths based on whether any given multiple is less than its previous multiple, as well as how many in between are larger than the given multiple. As you see in the example graph, each successive multiple should be less than the previous. If you try a key length like 4, you'll see 2 < 4 and 6 < 8, which helps disqualify 2 as a potential key length."
   ]
  },
  {
   "cell_type": "code",
   "execution_count": null,
   "id": "d138e151",
   "metadata": {},
   "outputs": [],
   "source": [
    "# Given a list of possible keylengths and the overall diffs from base, return the top potential key lengths\n",
    "def find_best_divisor(nums, diffs): \n",
    "    result = []\n",
    "    k = 1\n",
    "    for num in nums:\n",
    "        score = 0\n",
    "        for i in range(2*num, min(len(diffs)+2, MAX_KEYLENGTH*2+2), num):\n",
    "            inbetween = sum([diffs[a-2] > diffs[i-2] for a in range(i-num+1, i)]) / len(range(i-num+1, i))\n",
    "            \n",
    "            if inbetween > 0.1:\n",
    "                score -= 1\n",
    "            if (diffs[i-num-2] < diffs[i - 2]):\n",
    "                score -= 1\n",
    "        k+=1\n",
    "        \n",
    "        result.append((num, score))\n",
    "    result = sorted(result, key=lambda x: x[1], reverse=True)\n",
    "    top_three = [x[0] for x in result[:3]] \n",
    "    \n",
    "    return top_three + [reduce(math.gcd, top_three)]"
   ]
  },
  {
   "cell_type": "markdown",
   "id": "64be29f5",
   "metadata": {},
   "source": [
    "**Question 4.2:** Implement find_vignere_key_lengths, which takes in a ciphertext and returns the best three keylengths.\n",
    "\n",
    "*HINT: Use find_diff_from_base and find_best_divisor!*"
   ]
  },
  {
   "cell_type": "code",
   "execution_count": null,
   "id": "5319931a",
   "metadata": {
    "tags": []
   },
   "outputs": [],
   "source": [
    "# Returns the best possible key lenghts from a Vignere ciphertext\n",
    "def find_vignere_key_lengths(ciphertext):\n",
    "    diffs = ...\n",
    "    \n",
    "    potential = []\n",
    "    for i in range(2, min(len(diffs)+2,MAX_KEYLENGTH+2)):\n",
    "        if diffs[i-2] > 0:\n",
    "            ...\n",
    "    ..."
   ]
  },
  {
   "cell_type": "code",
   "execution_count": null,
   "id": "3097269c",
   "metadata": {
    "deletable": false,
    "editable": false
   },
   "outputs": [],
   "source": [
    "grader.check(\"q4_2\")"
   ]
  },
  {
   "cell_type": "markdown",
   "id": "f7c990eb",
   "metadata": {},
   "source": [
    "**Question 4.3:** Use what you've learned and implemented previously to build the final function -- crack_vignere! This function will take in an arbitrary ciphertext and return the most likely plaintext."
   ]
  },
  {
   "cell_type": "code",
   "execution_count": null,
   "id": "f9f30ad4",
   "metadata": {
    "tags": []
   },
   "outputs": [],
   "source": [
    "# Breaks a Vignere ciphertext\n",
    "def crack_vignere(ciphertext):\n",
    "    keylengths = find_vignere_key_lengths(ciphertext)\n",
    "    \n",
    "    finalstrs = []\n",
    "    \n",
    "    for keylen in keylengths:\n",
    "        texts = ['' for i in range(keylen)]\n",
    "        \n",
    "        for i in range(len(ciphertext)):\n",
    "            # Put the first letter into the first text, second into second, etc...\n",
    "            ...\n",
    "            \n",
    "        # Use our caesar cipher cracker to individually break each text    \n",
    "        cracked_texts = ...\n",
    "        \n",
    "        finalstr = \"\"\n",
    "    \n",
    "        for i in range(len(ciphertext)):\n",
    "            # Recombine the original string from the assorted texts\n",
    "            ...\n",
    "        \n",
    "        finalstrs.append(finalstr)    \n",
    "    \n",
    "    # Find the \"best\" string via frequency analysis (Remember we have analyze_frequency)\n",
    "    ...\n"
   ]
  },
  {
   "cell_type": "code",
   "execution_count": null,
   "id": "9b874fbb",
   "metadata": {
    "deletable": false,
    "editable": false
   },
   "outputs": [],
   "source": [
    "grader.check(\"q4_3\")"
   ]
  },
  {
   "cell_type": "markdown",
   "id": "96156d21",
   "metadata": {},
   "source": [
    "Let's decrypt our sample text!"
   ]
  },
  {
   "cell_type": "code",
   "execution_count": null,
   "id": "fa7226ed",
   "metadata": {},
   "outputs": [],
   "source": [
    "print('...', crack_vignere(vignere_encrypt(sample_text, \"samplekey\"))[4512:4751], '...')"
   ]
  },
  {
   "cell_type": "markdown",
   "id": "46b1cb9a",
   "metadata": {},
   "source": [
    "And with that, you have built a Caesar cipher and Vignere cipher breaker -- something which took hundreds of years to accomplish in the past. Congrats! "
   ]
  },
  {
   "cell_type": "markdown",
   "id": "3e53981d",
   "metadata": {},
   "source": [
    "# Evaluation\n",
    "\n",
    "We've built a library to test your implementation of the Vignere cipher cracker against a random list of words and keys (non-determinsitic). If you want to change the implement to try something new, you can compare using this tool!\n",
    "\n",
    "The staff implementation gets ~90% correct (NOTE: Even in the cases you \"miss\", it is likely the second or third -best answer was the correct one. This is where humans can help with cryptanalysis!)"
   ]
  },
  {
   "cell_type": "code",
   "execution_count": null,
   "id": "e5171a7d",
   "metadata": {},
   "outputs": [],
   "source": [
    "%%capture\n",
    "# Install our custom library\n",
    "import sys\n",
    "!{sys.executable} -m pip install git+https://github.com/CodebreakingAtCal/codebreaking_at_cal.git\n",
    "\n",
    "import codebreaking_at_cal as cbc"
   ]
  },
  {
   "cell_type": "code",
   "execution_count": null,
   "id": "ef3e6098",
   "metadata": {},
   "outputs": [],
   "source": [
    "NUM_ITERATIONS = 50\n",
    "correct = cbc.test_vignere_cracker(crack_vignere, NUM_ITERATIONS)\n",
    "\n",
    "print(\"Your solution got\", str(correct*100) + \"%\", \"of test ciphers correct!\")"
   ]
  },
  {
   "cell_type": "markdown",
   "id": "16f9065a",
   "metadata": {
    "deletable": false,
    "editable": false
   },
   "source": [
    "## Submission\n",
    "\n",
    "Make sure you have run all cells in your notebook in order before running the cell below, so that all images/graphs appear in the output. The cell below will generate a zip file for you to submit. **Please save before exporting!**\n",
    "\n",
    "Once you have generated the zip file, go to the Gradescope page for this assignment to submit."
   ]
  },
  {
   "cell_type": "code",
   "execution_count": null,
   "id": "1b12f6a1",
   "metadata": {
    "deletable": false,
    "editable": false
   },
   "outputs": [],
   "source": [
    "# Save your notebook first, then run this cell to export your submission.\n",
    "grader.export(pdf=False, run_tests=True)"
   ]
  },
  {
   "cell_type": "markdown",
   "id": "6bd6f3f4",
   "metadata": {},
   "source": [
    " "
   ]
  }
 ],
 "metadata": {
  "interpreter": {
   "hash": "b0fa6594d8f4cbf19f97940f81e996739fb7646882a419484c72d19e05852a7e"
  },
  "kernelspec": {
   "display_name": "Python 3.9.13 64-bit",
   "name": "python3"
  },
  "language_info": {
   "codemirror_mode": {
    "name": "ipython",
    "version": 3
   },
   "file_extension": ".py",
   "mimetype": "text/x-python",
   "name": "python",
   "nbconvert_exporter": "python",
   "pygments_lexer": "ipython3",
   "version": "3.9.13"
  },
  "otter": {
   "OK_FORMAT": true,
   "tests": {
    "q1": {
     "name": "q1",
     "points": 10,
     "suites": [
      {
       "cases": [
        {
         "code": ">>> shift = 1\n>>> plaintext = \"aaaa\"\n>>> expected_ciphertext = \"bbbb\"\n>>> assert caesar_encrypt(plaintext, shift) == expected_ciphertext\n>>> assert caesar_decrypt(caesar_encrypt(plaintext, shift), shift) == plaintext\n",
         "hidden": false,
         "locked": false
        }
       ],
       "scored": true,
       "setup": "",
       "teardown": "",
       "type": "doctest"
      }
     ]
    },
    "q2_1": {
     "name": "q2_1",
     "points": 10,
     "suites": [
      {
       "cases": [
        {
         "code": ">>> key = \"ab\"\n>>> length = 5\n>>> expected_key = \"ababa\"\n>>> assert pad_key(key, length) == expected_key\n",
         "hidden": false,
         "locked": false
        }
       ],
       "scored": true,
       "setup": "",
       "teardown": "",
       "type": "doctest"
      }
     ]
    },
    "q2_2": {
     "name": "q2_2",
     "points": 10,
     "suites": [
      {
       "cases": [
        {
         "code": ">>> plaintext = \"hello\"\n>>> key = \"aba\"\n>>> expected_ciphertext = \"hfllp\"\n>>> assert vignere_encrypt(plaintext, key) == expected_ciphertext\n>>> assert vignere_decrypt(vignere_encrypt(plaintext, key), key) == plaintext\n",
         "hidden": false,
         "locked": false
        }
       ],
       "scored": true,
       "setup": "",
       "teardown": "",
       "type": "doctest"
      }
     ]
    },
    "q3_1": {
     "name": "q3_1",
     "points": 10,
     "suites": [
      {
       "cases": [
        {
         "code": ">>> expected = {'a': 0,\n...  'b': 0,\n...  'd': 0,\n...  'c': 0,\n...  'e': 1,\n...  'f': 0,\n...  'g': 0,\n...  'h': 0,\n...  'i': 0,\n...  'j': 0,\n...  'k': 0,\n...  'l': 0,\n...  'm': 0,\n...  'n': 0,\n...  'o': 0,\n...  'p': 0,\n...  'q': 0,\n...  'r': 0,\n...  's': 1,\n...  't': 2,\n...  'u': 0,\n...  'v': 0,\n...  'w': 0,\n...  'x': 0,\n...  'y': 0,\n...  'z': 0}\n>>> \n>>> assert count_letters(\"test\") == expected\n",
         "hidden": false,
         "locked": false
        }
       ],
       "scored": true,
       "setup": "",
       "teardown": "",
       "type": "doctest"
      }
     ]
    },
    "q3_2": {
     "name": "q3_2",
     "points": 10,
     "suites": [
      {
       "cases": [
        {
         "code": ">>> assert abs(tvd(np_english_frequencies, calculate_proportions(sample_text)) - 0.057) < 0.01\n",
         "hidden": false,
         "locked": false
        }
       ],
       "scored": true,
       "setup": "",
       "teardown": "",
       "type": "doctest"
      }
     ]
    },
    "q3_3": {
     "name": "q3_3",
     "points": 10,
     "suites": [
      {
       "cases": [
        {
         "code": ">>> assert(sample_text != \"\")\n>>> for i in range(26):\n...     assert find_best_shift(caesar_encrypt(sample_text, i)) == i\n",
         "hidden": false,
         "locked": false
        }
       ],
       "scored": true,
       "setup": "",
       "teardown": "",
       "type": "doctest"
      }
     ]
    },
    "q3_4": {
     "name": "q3_4",
     "points": 10,
     "suites": [
      {
       "cases": [
        {
         "code": ">>> for i in range(26):\n...     assert crack_caesar(caesar_encrypt(\"Hello there!\", i)) == \"hello there!\"\n",
         "hidden": false,
         "locked": false
        }
       ],
       "scored": true,
       "setup": "",
       "teardown": "",
       "type": "doctest"
      }
     ]
    },
    "q4_1": {
     "name": "q4_1",
     "points": 10,
     "suites": [
      {
       "cases": [
        {
         "code": ">>> props = find_diff_from_base(sample_text)\n>>> for prop in props:\n...     assert(prop == 0)\n>>> \n>>> props = find_diff_from_base(vignere_encrypt(sample_text, \"samplekey\"))\n>>> for prop in props:\n...     assert(prop != 0)\n",
         "hidden": false,
         "locked": false
        }
       ],
       "scored": true,
       "setup": "",
       "teardown": "",
       "type": "doctest"
      }
     ]
    },
    "q4_2": {
     "name": "q4_2",
     "points": 10,
     "suites": [
      {
       "cases": [
        {
         "code": ">>> correct = 0\n>>> \n>>> for i in range(2,MAX_KEYLENGTH+1):\n...     key = ''.join([alphabet[a] for a in range(i)])\n...     \n...     found = find_vignere_key_lengths(vignere_encrypt(sample_text, key))\n...         \n...     if i in found:\n...         correct+=1\n>>> \n>>> assert correct == MAX_KEYLENGTH - 1\n",
         "hidden": false,
         "locked": false
        }
       ],
       "scored": true,
       "setup": "",
       "teardown": "",
       "type": "doctest"
      }
     ]
    },
    "q4_3": {
     "name": "q4_3",
     "points": 10,
     "suites": [
      {
       "cases": [
        {
         "code": ">>> assert crack_vignere(vignere_encrypt(sample_text, \"samplekey\"))[:10] == \"no man can\"\n",
         "hidden": false,
         "locked": false
        }
       ],
       "scored": true,
       "setup": "",
       "teardown": "",
       "type": "doctest"
      }
     ]
    }
   }
  },
  "vscode": {
   "interpreter": {
    "hash": "86b6775e93d8e7b2e5f79e45a0bdd3fb78f60d14c90e6111b0fee66688ef28fc"
   }
  }
 },
 "nbformat": 4,
 "nbformat_minor": 5
}
