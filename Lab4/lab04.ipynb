{
 "cells": [
  {
   "cell_type": "code",
   "execution_count": null,
   "id": "5b875752",
   "metadata": {
    "deletable": false,
    "editable": false
   },
   "outputs": [],
   "source": [
    "# Initialize Otter\n",
    "import otter\n",
    "grader = otter.Notebook(\"lab04.ipynb\")"
   ]
  },
  {
   "cell_type": "code",
   "execution_count": null,
   "id": "90dde530",
   "metadata": {},
   "outputs": [],
   "source": [
    "%%capture\n",
    "import sys\n",
    "!{sys.executable} -m pip install hashlib"
   ]
  },
  {
   "cell_type": "code",
   "execution_count": null,
   "id": "60564c3a",
   "metadata": {},
   "outputs": [],
   "source": [
    "from hashlib import md5"
   ]
  },
  {
   "cell_type": "markdown",
   "id": "c1cb43f2",
   "metadata": {},
   "source": [
    "# Lab 4: Rainbow Table Attack\n",
    "\n",
    "Contributions from: Teo Honda-Scully and Ryan Cottone\n",
    "\n",
    "Welcome to Lab 4! In this lab, you will learn about a common workaround to getting plaintext values from a hash value despite hashing being a one-way function."
   ]
  },
  {
   "cell_type": "markdown",
   "id": "bf6c5c96",
   "metadata": {},
   "source": [
    "## Hash Functions and Collision Exploits\n",
    "\n",
    "A **hash function**, denoted $H(x)$, is a deterministic function taking in some arbitrary amount of data, and outputting a fixed amount of data that appears random. Hash functions are used to condense a bunch of data down into a tag that _almost_ uniquely identifies it. As we will see in this lab, the _almost_ unique characteristic of a hash can be exploited.\n",
    "\n",
    "First, let's go over a use case of hashing. Hash functions are often used to store passwords. Imagine a scenario in which you are signing up for a website using your typical password \"_donut123_\". The website, without knowing that a bad guy secretly has access to its database, stores \"_donut123_\" in their database of login information. At this point, your beloved \"_donut123_\" password is completely compromised.\n",
    "\n",
    "Alternatively, imagine a scenario in which the website stores a hashed version of your password \"_donut123_\" instead. The adversary (who can see the website's database) will only have access to a bunch of strings of characters that appears random. In this case, your \"_donut123_\" password is safe, and the adversary will not be able to login to your account.\n",
    "\n",
    "Websites store a hashed version of your password rather than the actual plaintext version. During any given login request, the website will compare $H(submitted\\_password)$ to their stored database entry hash for the given username to see if they are equivalent.\n",
    "\n",
    "By nature, hash functions will result in collisions. An infinite amount of inputs returning a limited amount of hashes (fixed length output) means that some inputs will return the same output hash. \n",
    "\n",
    "![hash_function.jpg](https://user-images.githubusercontent.com/114739901/218287160-c01f5c31-3248-4cf1-aeef-324fa6c1a184.jpg)\n",
    "\n",
    "An \"attack\" on a hash function usually involves finding a *collision*, that is, two values $m_1$ and $m_2$ such that $m_1 \\neq m_2$ and $H(m_1) = H(m_2)$. Say the adversary with access to the website database had the hash of your password, $H(p)$, and was able to find some value $k$ such that $H(k) = H(p)$. They could submit your username and the password $k$ to the server, which would then be accepted as the correct password in the eyes of the website!"
   ]
  },
  {
   "cell_type": "markdown",
   "id": "0db143cf",
   "metadata": {},
   "source": [
    "We will quickly walk through finding a collision in a bad hash function."
   ]
  },
  {
   "cell_type": "code",
   "execution_count": null,
   "id": "5d5258e9",
   "metadata": {},
   "outputs": [],
   "source": [
    "# You don't need to do anything with this function besides analyze its functionality.\n",
    "def hash_(x) -> str:\n",
    "    \"\"\"\n",
    "    Returns the string version of argument `x` padded up to length 6 characters. \n",
    "    This is a terrible hash function (does not appear random). Do not use it in practice :)\n",
    "    \n",
    "    >>> h(5)\n",
    "    '5zzzzz'\n",
    "    \n",
    "    >>> h(\"5z\")\n",
    "    '5zzzzz'\n",
    "    \n",
    "    \"\"\"        \n",
    "    return f'{str(x):z<6}'[:6]"
   ]
  },
  {
   "cell_type": "markdown",
   "id": "a6e0dc64",
   "metadata": {},
   "source": [
    "In this question, pretend you are an adversary, Alice, trying to log into Bob's account on a given website. You have access to the website's password database, but all the passwords are hashed! You don't know anything about Bob except that his hashed password is \"123zzz\"."
   ]
  },
  {
   "cell_type": "markdown",
   "id": "1adbcc6b",
   "metadata": {},
   "source": [
    "Your goal is to find an input `k_password`, for the password hash function that will return an output equivalent to Bob's hashed password \"123zzz\". **You cannot use Bob's real password of '123' as a `k_password` value**."
   ]
  },
  {
   "cell_type": "code",
   "execution_count": null,
   "id": "a8aad74a",
   "metadata": {},
   "outputs": [],
   "source": [
    "\"\"\"\n",
    "Bob's password is 123, so password_hash_function(123) will output and store '123zzz' in the database\n",
    "\n",
    "What input (besides 123) to password_hash_function will serve as an equivalent password in the eyes \n",
    "of the website?\n",
    "\"\"\"\n",
    "\n",
    "website_password_hash_entry = \"123zzz\"\n",
    "k_password = ..."
   ]
  },
  {
   "cell_type": "code",
   "execution_count": null,
   "id": "f6ff8bab",
   "metadata": {},
   "outputs": [],
   "source": [
    "hash_(k_password)"
   ]
  },
  {
   "cell_type": "markdown",
   "id": "85b8c5f5",
   "metadata": {},
   "source": [
    "The server checks to see if the hash of the given password is equivalent to the stored hash."
   ]
  },
  {
   "cell_type": "code",
   "execution_count": null,
   "id": "7571389d",
   "metadata": {},
   "outputs": [],
   "source": [
    "assert hash_(k_password) == \"123zzz\""
   ]
  },
  {
   "cell_type": "markdown",
   "id": "83284a87",
   "metadata": {},
   "source": [
    "## Rainbow Table Attacks\n",
    "Recall that hashing is a one-way function, meaning you can get $H(m_1)$ from $m_1$, but you cannot get $m_1$ from $H(m_1)$.\n",
    "\n",
    "A **rainbow table** is a table that maps every hash output to one of its inputs. Since the table is dependent on the hashing algorithm, every hash function will have a different rainbow table. You might be thinking, \"Aren't there multiple inputs for every output? How will I map output to inputs?\" When you are creating your rainbow table, you only need to know one of the many inputs for the reasons defined in **Question 0**.\n",
    "\n",
    "Ultimately, a rainbow table is a workaround for getting $m_1$ from $H(m_1)$ by pre-computing all $H(x)$ hash values for every notable $x$ password. This key-value pair is stored inside of a table, and finding $x$ from $H(x)$ boils down to searching for the $k$ value in the table given the hash as a key."
   ]
  },
  {
   "cell_type": "code",
   "execution_count": null,
   "id": "dd2870db",
   "metadata": {},
   "outputs": [],
   "source": [
    "# Helper function\n",
    "def md5_hash(raw):\n",
    "    return md5(raw.encode()).hexdigest()"
   ]
  },
  {
   "cell_type": "code",
   "execution_count": null,
   "id": "5daf7e2d",
   "metadata": {},
   "outputs": [],
   "source": [
    "password = \"123\"\n",
    "\n",
    "# Run this cell\n",
    "md5_hash(password)"
   ]
  },
  {
   "cell_type": "markdown",
   "id": "8ba033f0",
   "metadata": {},
   "source": [
    "For our **rainbow table** implementation, we will be using the [MD5](https://en.wikipedia.org/wiki/MD5) hashing algorithm. As you can see, the outputted string is much more random than the output of our `hash_` function above. Feel free to test some different values for `password`. Notably, every input returns a fixed length output that appears random.\n",
    "\n",
    "While it is impossible to reverse the hash function and get _\"123\"_ from _'202cb962ac59075b964b07152d234b70'_, we want to make a table that contains millions of plaintext values and their corresponding hashes to see if we can find a match with our _'202cb962ac59075b964b07152d234b70'_ key. "
   ]
  },
  {
   "cell_type": "markdown",
   "id": "db31a707",
   "metadata": {},
   "source": [
    "Let's try to do this by only accounting for numbers passwords **restricted to a length of 3**"
   ]
  },
  {
   "cell_type": "code",
   "execution_count": null,
   "id": "452281d8",
   "metadata": {},
   "outputs": [],
   "source": [
    "def gen_passwords(): # You don't need to do anything with this function besides analyze its functionality\n",
    "    \"\"\"\n",
    "    Returns a list of every password (string) that can be formed using 3 numbers.\n",
    "    '0', '022', and '31', are examples of passwords that satisfy these conditions.\n",
    "    \n",
    "    \"\"\"\n",
    "    base_case = ['0', '1', '2', '3', '4', '5', '6', '7', '8', '9']\n",
    "    combinations = base_case\n",
    "    for i in range(2):\n",
    "        extended = []\n",
    "        for j in range(10):\n",
    "            extended.extend([str(j) + x for x in base_case])\n",
    "        base_case = extended\n",
    "        combinations += base_case\n",
    "    return combinations\n",
    "\n",
    "gen_passwords()"
   ]
  },
  {
   "cell_type": "markdown",
   "id": "f794eb90",
   "metadata": {},
   "source": [
    "You can assert this on your own, but for the total combinations that can be made (0 inclusive) using 3 digits, 2 digits, and 1 digit, we can sum 10^3, 10^2, and 10^1, finding that there are 1110 total possibilties for passwords given the password restrictions."
   ]
  },
  {
   "cell_type": "markdown",
   "id": "f3b220b0",
   "metadata": {},
   "source": [
    "**Question 1.1**: Create an MD5 rainbow table for the possible 3-digit number passwords"
   ]
  },
  {
   "cell_type": "markdown",
   "id": "25dba1e9",
   "metadata": {},
   "source": [
    "Now that we know all of the possible passwords, let's find the hashes of the passwords and store them both as a key-pair inside of a dictionary"
   ]
  },
  {
   "cell_type": "code",
   "execution_count": null,
   "id": "acd3dc01",
   "metadata": {
    "tags": []
   },
   "outputs": [],
   "source": [
    "def create_table_example():\n",
    "    table = dict()\n",
    "    \n",
    "    # Create a rainbow table for the possible 3-digit number passwords where the key is the hash\n",
    "    for pw in gen_passwords():\n",
    "        ...\n",
    "    \n",
    "    return table"
   ]
  },
  {
   "cell_type": "code",
   "execution_count": null,
   "id": "118d6031",
   "metadata": {
    "deletable": false,
    "editable": false
   },
   "outputs": [],
   "source": [
    "grader.check(\"q1_1\")"
   ]
  },
  {
   "cell_type": "markdown",
   "id": "7df063c5",
   "metadata": {},
   "source": [
    "Let's see what our table looks like. Run the following cell."
   ]
  },
  {
   "cell_type": "code",
   "execution_count": null,
   "id": "99ca406d",
   "metadata": {},
   "outputs": [],
   "source": [
    "create_table_example()"
   ]
  },
  {
   "cell_type": "markdown",
   "id": "0a4172ea",
   "metadata": {},
   "source": [
    "Once again, hash functions are one-way functions, meaning we cannot find the input given the output. Despite this, there is nothing stopping us from storing as many common passwords alongside their hashes inside of a cache to check for matches when trying to get the input (the password) from the output (the password hash).\n",
    "\n",
    "In the case above, we knew the constraints of the password and were able to generate a list of every possible hash. In a standard rainbow table attack, it is impossible for the adversary to know every possible password (if this were the case, they could brute force the login). Therefore, the adversary would need to compile another list of common passwords (available online) to create a rainbow table of those common passwords with the hash of the given hash function."
   ]
  },
  {
   "cell_type": "markdown",
   "id": "803382d5",
   "metadata": {},
   "source": [
    "**Question 1.2**: Use the rainbow table to find Eve's password"
   ]
  },
  {
   "cell_type": "markdown",
   "id": "ae1075ec",
   "metadata": {},
   "source": [
    "Haha! You are a bad guy and you have access to the website's password database! As you are sifting through all the entries, this specific pair stands out to you for some reason:\n",
    "```python\n",
    "{... \n",
    "'63538fe6ef330c13a05a3ed7e599d5f7': 'Eve',\n",
    "...}\n",
    "```\n",
    "Well, we are smart enough to know that _\"63538fe6e...\"_ is the hashed version of Eve's password, so we cannot use that to log into Eve's account. We can't hash _\"63538fe6e...\"_ since that will spit out another string of random characters... How can we find Eve's real password then? Good thing we've made a rainbow table for this function already!"
   ]
  },
  {
   "cell_type": "markdown",
   "id": "790ccab2",
   "metadata": {},
   "source": [
    "**Question 1.2**: Implement `find_correct_password`, which takes in the target hash and a rainbow table to return the corresponding plaintext value."
   ]
  },
  {
   "cell_type": "code",
   "execution_count": null,
   "id": "ca94a28a",
   "metadata": {
    "tags": []
   },
   "outputs": [],
   "source": [
    "eve_password_hashed = '63538fe6ef330c13a05a3ed7e599d5f7'\n",
    "rainbow_table = create_table_example()\n",
    "\n",
    "def find_correct_password(target_hash, rainbow_table):\n",
    "    ..."
   ]
  },
  {
   "cell_type": "code",
   "execution_count": null,
   "id": "478ca530",
   "metadata": {
    "tags": []
   },
   "outputs": [],
   "source": [
    "find_correct_password(eve_password_hashed, rainbow_table)"
   ]
  },
  {
   "cell_type": "code",
   "execution_count": null,
   "id": "2bbdfb06",
   "metadata": {
    "deletable": false,
    "editable": false
   },
   "outputs": [],
   "source": [
    "grader.check(\"q1_2\")"
   ]
  },
  {
   "cell_type": "markdown",
   "id": "5ddb1860",
   "metadata": {},
   "source": [
    "Nice! From only knowing the hash version of the password, we were able to access the password itself! Now we can log into Eve's account and transfer ourselves some cryptocurrency without any worry."
   ]
  },
  {
   "cell_type": "markdown",
   "id": "ff1d4b13",
   "metadata": {},
   "source": [
    "**Okay... So our last attack worked beautifully, but we cannot neglect the fact that passwords will never be restricted to something as simple as 3-digit numbers**... Let's repeat the same exercise with a list of common passwords"
   ]
  },
  {
   "cell_type": "code",
   "execution_count": null,
   "id": "768daa90",
   "metadata": {},
   "outputs": [],
   "source": [
    "with open('passwords.txt') as file:\n",
    "    passwords = file.read().split(\"\\n\")"
   ]
  },
  {
   "cell_type": "code",
   "execution_count": null,
   "id": "de956132",
   "metadata": {},
   "outputs": [],
   "source": [
    "def create_table():\n",
    "    table = dict()\n",
    "        \n",
    "    # Create an MD5 rainbow table for common passwords\n",
    "    for pw in passwords:\n",
    "        table[md5_hash(pw)] = pw\n",
    "    \n",
    "    return table"
   ]
  },
  {
   "cell_type": "code",
   "execution_count": null,
   "id": "7deb89aa",
   "metadata": {},
   "outputs": [],
   "source": [
    "common_rainbow_table = create_table()"
   ]
  },
  {
   "cell_type": "markdown",
   "id": "7fa43684",
   "metadata": {},
   "source": [
    "Once again, imagine a scenario where you are an adversary who has access to the website's database. As you are sifting through all the entries, this specific pair stands out to you for some reason:\n",
    "```python\n",
    "{... \n",
    "'bed128365216c019988915ed3add75fb': 'Bob',\n",
    "...}\n",
    "```\n",
    "Let's use this to find Bob's password!"
   ]
  },
  {
   "cell_type": "code",
   "execution_count": null,
   "id": "5556b7f2",
   "metadata": {},
   "outputs": [],
   "source": [
    "bob_password_hashed = 'bed128365216c019988915ed3add75fb'\n",
    "find_correct_password(bob_password_hashed, common_rainbow_table)"
   ]
  },
  {
   "cell_type": "markdown",
   "id": "805c1602",
   "metadata": {},
   "source": [
    "## Salting"
   ]
  },
  {
   "cell_type": "markdown",
   "id": "dc0ad0db",
   "metadata": {},
   "source": [
    "Imagine a scenario where you are the website responsible for storing your users' login information, but you are aware that an adversary with access to your database could deploy a rainbow table attack to gain access to your users' original passwords. What can you do to prevent this from happening? Is the rainbow table attack the downfall of your business? How can you change the hash so that it cannot be reverse-engineered into the original password?"
   ]
  },
  {
   "cell_type": "markdown",
   "id": "472d5d23",
   "metadata": {},
   "source": [
    "**As the website, what if you were to concatenate a random string of text (only known to you) on to each users' passwords before you hash them and store the hashed version?** Using this approach, the rainbow table hash keys will almost never match up with a password value."
   ]
  },
  {
   "cell_type": "markdown",
   "id": "21a35d5e",
   "metadata": {},
   "source": [
    "The user inputs $k$ as a password while signing up and we store $H(k||s)$ in our database, where $s$ denotes a random string of characters only known to us and not the adversary."
   ]
  },
  {
   "cell_type": "markdown",
   "id": "49d4144e",
   "metadata": {},
   "source": [
    "**Question 2.1**: Implement a function that finds the hash of a password using a given salt, as $H(k || s)$."
   ]
  },
  {
   "cell_type": "code",
   "execution_count": null,
   "id": "073935c8",
   "metadata": {
    "tags": []
   },
   "outputs": [],
   "source": [
    "# Instead of returning H(k) given k, return H(k||s).\n",
    "def get_password_hash(user_password, salt) -> str:\n",
    "    ..."
   ]
  },
  {
   "cell_type": "code",
   "execution_count": null,
   "id": "e0f3fdaf",
   "metadata": {
    "tags": []
   },
   "outputs": [],
   "source": [
    "get_password_hash(\"password\", \"e66cf0fec6\")"
   ]
  },
  {
   "cell_type": "code",
   "execution_count": null,
   "id": "00c924c1",
   "metadata": {
    "deletable": false,
    "editable": false
   },
   "outputs": [],
   "source": [
    "grader.check(\"q2_1\")"
   ]
  },
  {
   "cell_type": "markdown",
   "id": "9fcd3e72",
   "metadata": {},
   "source": [
    "In the case of Bob's original password of _\"123\"_, the password stored in the website database will be $H($123e66cf0fec6$)$, which is very different than the value of $H($123$)$. \n",
    "\n",
    "For the adversary deploying a rainbow table attack, they will not be able to return the original password for the $H($123e66cf0fec6$)$ hash even though their table attack easily compromised the _\"123\"_ hash."
   ]
  },
  {
   "cell_type": "markdown",
   "id": "bd1befab",
   "metadata": {
    "deletable": false,
    "editable": false
   },
   "source": [
    "## Submission\n",
    "\n",
    "Make sure you have run all cells in your notebook in order before running the cell below, so that all images/graphs appear in the output. The cell below will generate a zip file for you to submit. **Please save before exporting!**\n",
    "\n",
    "Once you have generated the zip file, go to the Gradescope page for this assignment to submit."
   ]
  },
  {
   "cell_type": "code",
   "execution_count": null,
   "id": "55c5472d",
   "metadata": {
    "deletable": false,
    "editable": false
   },
   "outputs": [],
   "source": [
    "# Save your notebook first, then run this cell to export your submission.\n",
    "grader.export(pdf=False, run_tests=True)"
   ]
  },
  {
   "cell_type": "markdown",
   "id": "753f2709",
   "metadata": {},
   "source": [
    " "
   ]
  }
 ],
 "metadata": {
  "kernelspec": {
   "display_name": "Python 3",
   "language": "python",
   "name": "python3"
  },
  "language_info": {
   "codemirror_mode": {
    "name": "ipython",
    "version": 3
   },
   "file_extension": ".py",
   "mimetype": "text/x-python",
   "name": "python",
   "nbconvert_exporter": "python",
   "pygments_lexer": "ipython3",
   "version": "3.10.6"
  },
  "otter": {
   "OK_FORMAT": true,
   "tests": {
    "q1_1": {
     "name": "q1_1",
     "points": 10,
     "suites": [
      {
       "cases": [
        {
         "code": ">>> assert (create_table_example())['96a3be3cf272e017046d1b2674a52bd3'] == '01'\n",
         "hidden": false,
         "locked": false
        }
       ],
       "scored": true,
       "setup": "",
       "teardown": "",
       "type": "doctest"
      }
     ]
    },
    "q1_2": {
     "name": "q1_2",
     "points": 10,
     "suites": [
      {
       "cases": [
        {
         "code": ">>> assert find_correct_password(eve_password_hashed, rainbow_table) == '519'\n",
         "hidden": false,
         "locked": false
        }
       ],
       "scored": true,
       "setup": "",
       "teardown": "",
       "type": "doctest"
      }
     ]
    },
    "q2_1": {
     "name": "q2_1",
     "points": 10,
     "suites": [
      {
       "cases": [
        {
         "code": ">>> assert get_password_hash(\"password\", \"e66cf0fec6\") == '9f7058f36f601185ab5f31caf34e0aea'\n",
         "hidden": false,
         "locked": false
        }
       ],
       "scored": true,
       "setup": "",
       "teardown": "",
       "type": "doctest"
      }
     ]
    }
   }
  },
  "vscode": {
   "interpreter": {
    "hash": "b0fa6594d8f4cbf19f97940f81e996739fb7646882a419484c72d19e05852a7e"
   }
  }
 },
 "nbformat": 4,
 "nbformat_minor": 5
}
