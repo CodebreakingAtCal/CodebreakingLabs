{
 "cells": [
  {
   "cell_type": "code",
   "execution_count": null,
   "id": "ca7f41b0",
   "metadata": {
    "deletable": false,
    "editable": false
   },
   "outputs": [],
   "source": [
    "# Initialize Otter\n",
    "import otter\n",
    "grader = otter.Notebook(\"project.ipynb\")"
   ]
  },
  {
   "cell_type": "markdown",
   "id": "6c3117a5",
   "metadata": {},
   "source": [
    "# Final Project: Part 1\n",
    "Contributions From: Ryan Cottone\n",
    "\n",
    "Welcome to the final project of the semester! In Part 1, we will use what we learned about cryptography to recreate the Transport Layer Security (TLS) protocol that is used to encrypt your connections to websites. We will also build a server authentication and file storage system.\n",
    "\n",
    "In Part 2, you will be presented with 8 different challenges of varying difficulty. Each challenge will involve finding and exploiting some flaw in the setup of the aforementioned system.\n",
    "\n",
    "Please see the spec [here](https://codebreakingatcal.org/docs/ProjectTest/Project%20Spec/Part%201/) for a guideline on completing this part."
   ]
  },
  {
   "cell_type": "markdown",
   "id": "5fd83cad",
   "metadata": {},
   "source": [
    "### Helpers"
   ]
  },
  {
   "cell_type": "code",
   "execution_count": null,
   "id": "9991fc69",
   "metadata": {},
   "outputs": [],
   "source": [
    "%%capture\n",
    "import sys\n",
    "!{sys.executable} -m pip install pycryptodome"
   ]
  },
  {
   "cell_type": "code",
   "execution_count": null,
   "id": "e5eeabb3",
   "metadata": {},
   "outputs": [],
   "source": [
    "import random\n",
    "import math\n",
    "import json\n",
    "import string\n",
    "import numpy as np\n",
    "from base64 import b64encode, b64decode\n",
    "from Crypto.Cipher import AES\n",
    "from Crypto.Hash import HMAC, SHA256\n",
    "from Crypto.Util.Padding import pad, unpad\n",
    "from Crypto.Random import get_random_bytes"
   ]
  },
  {
   "cell_type": "markdown",
   "id": "019435e0",
   "metadata": {},
   "source": [
    "### Utility Functions"
   ]
  },
  {
   "cell_type": "code",
   "execution_count": null,
   "id": "65041ade",
   "metadata": {},
   "outputs": [],
   "source": [
    "def egcd(a, b):\n",
    "    if a == 0:\n",
    "        return (b, 0, 1)\n",
    "    else:\n",
    "        g, y, x = egcd(b % a, a)\n",
    "        return (g, x - (b // a) * y, y)\n",
    "\n",
    "def modularInverse(a, m):\n",
    "    g, x, y = egcd(a, m)\n",
    "    if g != 1:\n",
    "        raise Exception('modular inverse does not exist')\n",
    "    else:\n",
    "        return x % m\n",
    "\n",
    "def findSquareRoot(N,p):\n",
    "    N = N % p\n",
    "    \n",
    "    if pow(N,(p-1)//2,p)==1:\n",
    "        if (p%4) == 3:\n",
    "            x1= pow(N,(p+1)//4, p)\n",
    "            y1= p - x1\n",
    "            return (x1,y1)\n",
    "        else:\n",
    "            for x in range(1,((p-1)//2)+1):\n",
    "                if N == pow(x, 2, p):\n",
    "                    return (x,p-x)\n",
    "    return []\n",
    "\n",
    "\n",
    "\n",
    "def extendedGCD(a,b):\n",
    "    s_n1 = 1 # s_i-1\n",
    "    s = 0 # s_i\n",
    "    \n",
    "    t_n1 = 0 #t_i-1\n",
    "    t = 1 #t_1\n",
    "    \n",
    "    \n",
    "    while b > 0:\n",
    "        q = a // b\n",
    "\n",
    "        s, s_n1 = s_n1 - q*s, s\n",
    "        t, t_n1 = t_n1 - q*t, t\n",
    "        \n",
    "        a,b = b, a % b\n",
    "    \n",
    "    return (a, s_n1, t_n1)\n",
    "\n",
    "egcd = extendedGCD\n",
    "\n",
    "def millerRabinWitnessQ(a,n):\n",
    "    q = n-1\n",
    "    k = 0\n",
    "    \n",
    "    while q % 2 == 0:\n",
    "        k+=1\n",
    "        q //= 2\n",
    "    \n",
    "    i = 0\n",
    "        \n",
    "    b_i = pow(a, q, n)\n",
    "    \n",
    "    if b_i == 1 or b_i == (n-1):\n",
    "        return False\n",
    "    \n",
    "    for i in range(k):\n",
    "        if b_i == 1:\n",
    "            return False\n",
    "        \n",
    "        b_i = pow(b_i, 2, n)\n",
    "\n",
    "    return True\n",
    "\n",
    "def probablyPrime(p):\n",
    "    if p < 3:\n",
    "        return True if (p == 1 or p == 2) else False\n",
    "    \n",
    "    for i in range(20):\n",
    "        a = random.randrange(2, p) # randrange() returns [2, p) = [2, p-1]\n",
    "        \n",
    "        if millerRabinWitnessQ(a, p):\n",
    "            return False\n",
    "    return True\n",
    "\n",
    "def findPrime(lBound, uBound): \n",
    "    p = random.randrange(lBound, uBound+1) \n",
    "    \n",
    "    while not probablyPrime(p):\n",
    "        p = random.randrange(lBound, uBound+1)\n",
    "    \n",
    "    return p\n",
    "\n",
    "def int_to_bytes(x: int) -> bytes:\n",
    "    return x.to_bytes((x.bit_length() + 7) // 8, 'big')\n",
    "\n",
    "def getExpansion(n,m):\n",
    "    arr = []\n",
    "    \n",
    "    while n > 0:\n",
    "        r = n % m\n",
    "        n //= m\n",
    "        \n",
    "        arr.append(r)\n",
    "    \n",
    "    return arr\n",
    "\n",
    "def textToInt(s):\n",
    "    total = 0\n",
    "    \n",
    "    for i in range(len(s)):\n",
    "        total += ord(s[i])*(256**i)\n",
    "    \n",
    "    return total\n",
    "\n",
    "def intToText(n):\n",
    "    expansion = getExpansion(n, 256)\n",
    "    \n",
    "    finalStr = \"\"\n",
    "    \n",
    "    for i in range(len(expansion)):\n",
    "        finalStr += chr(expansion[i])\n",
    "        \n",
    "    return finalStr\n",
    "\n",
    "\n",
    "def bxor(b1, b2): # use xor for bytes\n",
    "    result = bytearray()\n",
    "    for b1, b2 in zip(b1, b2):\n",
    "        result.append(b1 ^ b2)\n",
    "    return result\n",
    "\n",
    "def getRandomBytes(n):\n",
    "    return get_random_bytes(n)"
   ]
  },
  {
   "cell_type": "markdown",
   "id": "31e89c48",
   "metadata": {},
   "source": [
    "### Elliptic Curve Functions"
   ]
  },
  {
   "cell_type": "code",
   "execution_count": null,
   "id": "814ac48a",
   "metadata": {},
   "outputs": [],
   "source": [
    "def evaluateP(x, E, p):\n",
    "    evaled = ((pow(x, 3, p) + E[0]*x + E[1])%p)\n",
    "    \n",
    "    if evaled == 0:\n",
    "        return [0]\n",
    "    \n",
    "    return findSquareRoot(evaled, p)\n",
    "\n",
    "def pointOnCurve(P,E,p):\n",
    "    assert isElliptic(E, p), \"Invalid elliptic curve (has zero discriminant)\"\n",
    "    \n",
    "    if P[0] == 'O':\n",
    "        return True\n",
    "    \n",
    "    evaled = evaluateP(P[0], E, p)\n",
    "    \n",
    "    if len(evaled) == 0:\n",
    "        return False\n",
    "    \n",
    "    return (evaled[0]%p == P[1]) or (evaled[1]%p == P[1])\n",
    "\n",
    "def isElliptic(E, p):\n",
    "    \"\"\"\n",
    "    Takes in curve E as [A, B] and modulo p. \n",
    "    Returns whether the discriminant of E is nonzero.\n",
    "    \"\"\"\n",
    "    \n",
    "    # Make sure to do this modulo p.\n",
    "    discriminant = (4 * pow(E[0], 3, p) + 27 * pow(E[1], 2, p)) % p \n",
    "    \n",
    "    return discriminant != 0 \n",
    "\n",
    "def addPoints(P,Q,E,p):\n",
    "    \"\"\"\n",
    "    Given points P,Q of the form (x,y), curve E of the form [A,B], and prime p, find P + Q.\n",
    "    \"\"\"\n",
    "    \n",
    "    assert isElliptic(E, p), \"Invalid elliptic curve (has zero discriminant)\"\n",
    "    assert pointOnCurve(P, E, p), \"Point P is not on the elliptic curve\"\n",
    "    assert pointOnCurve(Q, E, p), \"Point Q is not on the elliptic curve\"\n",
    "\n",
    "    multi = 1 # Lambda\n",
    "\n",
    "    if P == 'O': # If P is the point at infinity\n",
    "        return Q \n",
    "    elif Q == 'O': # If Q is the point at infinity\n",
    "        return P \n",
    "    elif P[0] == Q[0] and P[1] == (-Q[1] % p): # If P and Q are on a vertical line (share the same x-coord)\n",
    "        return 'O' \n",
    "    elif P[0] == Q[0]: # If P = Q\n",
    "        multi = ((3*pow(P[0], 2, p) + E[0])*modularInverse(2*P[1], p)) % p # Set lambda\n",
    "    else: \n",
    "        multi = ((Q[1] - P[1])*modularInverse((Q[0] - P[0])%p, p))%p # Set lambda\n",
    "\n",
    "    x_3 = (pow(multi, 2, p) - P[0] - Q[0]) % p \n",
    "    y_3 = (multi*(P[0] - x_3) - P[1]) % p \n",
    "\n",
    "    return (x_3, y_3)\n",
    "\n",
    "def messageToPoint(m, E, p, K=100):\n",
    "    \"\"\"\n",
    "    Koblitz's algorithm for finding a point for a given number (plaintext, m). Uses tolerance K=100 by default.\n",
    "    \n",
    "    Returns a point if found, otherwise None.\n",
    "    \"\"\"\n",
    "    \n",
    "    for j in range(K):\n",
    "        square_roots = evaluateP(m*K + j, E, p)\n",
    "        \n",
    "        if square_roots == 0:\n",
    "            return (m*K + j, 0)\n",
    "        elif len(square_roots) == 2:\n",
    "            return (m*K + j, square_roots[0])\n",
    "        \n",
    "    return None # Failure case\n",
    "\n",
    "def pointToMessage(P, K=100):\n",
    "    \"\"\"\n",
    "    Returns the message corresponding to point P.\n",
    "    \"\"\"\n",
    "    \n",
    "    return P[0]//K\n",
    "\n",
    "def doubleAndAdd(P,n,E,p):\n",
    "    assert isElliptic(E, p), \"Invalid elliptic curve (has zero discriminant)\"\n",
    "    assert pointOnCurve(P, E, p), \"Point P is not on the elliptic curve\"\n",
    "    \n",
    "    point = P\n",
    "    finalPoint = 'O'\n",
    "        \n",
    "    # What this while loop does is iteratively find the binary representation\n",
    "    # starting from the least significant bit. It is faster than finding the representation first.\n",
    "    while n > 0:\n",
    "        r = n % 2\n",
    "        n //= 2\n",
    "        \n",
    "        if r == 1: # Checks if this binary bit is 1\n",
    "            # If the bit is one, add the current power of two point to the finalPoint\n",
    "            finalPoint = addPoints(finalPoint, point, E, p) \n",
    "        \n",
    "        # Double the current power of two point to the next power of two\n",
    "        point = addPoints(point, point, E, p) \n",
    "    \n",
    "    return finalPoint\n",
    "\n",
    "def generateEllipticKeypair(P, q, E, p):\n",
    "    assert pointOnCurve(P, E, p), \"Generator point P is not on the given curve\"\n",
    "    \n",
    "    secret = random.randrange(2,q)\n",
    "    \n",
    "    V = doubleAndAdd(P, secret, E, p)\n",
    "    \n",
    "    return secret, V\n",
    "\n",
    "def generateECDH(generatorPoint, E, p, N):\n",
    "    \"\"\"\n",
    "    Given a generator point P, curve E, prime p, and bound N, returns nP for some random integer n in [0, N-1].\n",
    "    Returns (nP, n)\n",
    "    \"\"\"\n",
    "    \n",
    "    n = random.randrange(2, N) # [2, N-1]\n",
    "    \n",
    "    nP = doubleAndAdd(generatorPoint, n, E, p)\n",
    "    \n",
    "    return nP, n\n",
    "\n",
    "def combineECDH(publicPoint, k, E, p):\n",
    "    \"\"\"\n",
    "    Takes in point publicPoint, secret k, the curve E, and prime p. \n",
    "    publicPoint can be either Bob's public or Alice's public key (aP, bP),\n",
    "    and k is the opposite person's private key (n).\n",
    "    Returns the shared secret (ab)P.\n",
    "    \"\"\"\n",
    "    \n",
    "    return doubleAndAdd(publicPoint, k, E, p)\n"
   ]
  },
  {
   "cell_type": "markdown",
   "id": "6df36859",
   "metadata": {},
   "source": [
    "### Hashing/MAC Functions"
   ]
  },
  {
   "cell_type": "code",
   "execution_count": null,
   "id": "62862f2e",
   "metadata": {},
   "outputs": [],
   "source": [
    "def hash_SHA256(M): # M is integer\n",
    "    h = SHA256.new()\n",
    "    h.update(bytes(int_to_bytes(M)))\n",
    "    return int(h.hexdigest(), 16)\n",
    "\n",
    "def generateHMAC(key, data):\n",
    "    if type(key) == int:\n",
    "        key = key.to_bytes(32, byteorder='big')\n",
    "\n",
    "    h = HMAC.new(key, digestmod=SHA256)\n",
    "\n",
    "    h.update(data)\n",
    "\n",
    "    return h.hexdigest()\n",
    "\n",
    "def verifyHMAC(key, data, hmac):\n",
    "    if type(key) == int:\n",
    "        key = key.to_bytes(32, byteorder='big')\n",
    "\n",
    "    h = HMAC.new(key, digestmod=SHA256)\n",
    "\n",
    "    h.update(data)\n",
    "\n",
    "    try:\n",
    "        h.hexverify(hmac)\n",
    "        return True\n",
    "    except:\n",
    "        return False"
   ]
  },
  {
   "cell_type": "markdown",
   "id": "79aa02f3",
   "metadata": {},
   "source": [
    "### Symmetric Encryption Functions"
   ]
  },
  {
   "cell_type": "code",
   "execution_count": null,
   "id": "8c1b6906",
   "metadata": {},
   "outputs": [],
   "source": [
    "def encryptAES(key, data):\n",
    "    if type(key) == int:\n",
    "        key = key.to_bytes(32, byteorder='big')\n",
    "    \n",
    "    assert len(key) == 16 or len(key) == 24 or len(key) == 32, \"Invalid keysize\"\n",
    "    \n",
    "    iv = get_random_bytes(16)\n",
    "    \n",
    "    paddedData = pad(data, AES.block_size)\n",
    "    \n",
    "    cipher = AES.new(key, AES.MODE_CBC, iv=iv)\n",
    "    \n",
    "    encrypted = cipher.encrypt(paddedData)\n",
    "\n",
    "    iv = b64encode(cipher.iv).decode('utf-8')\n",
    "\n",
    "    ct = b64encode(encrypted).decode('utf-8')\n",
    "\n",
    "    return json.dumps({'iv':iv, 'ciphertext':ct})\n",
    "\n",
    "def decryptAES(key, encrypted):\n",
    "    if type(key) == int:\n",
    "        key = key.to_bytes(32, byteorder='big')\n",
    "    \n",
    "    assert len(key) == 16 or len(key) == 24 or len(key) == 32, \"Invalid keysize\"\n",
    "    \n",
    "    try:\n",
    "        b64 = json.loads(encrypted)\n",
    "        iv = b64decode(b64['iv'])\n",
    "        ct = b64decode(b64['ciphertext'])\n",
    "        \n",
    "        cipher = AES.new(key, AES.MODE_CBC, iv)\n",
    "\n",
    "        return unpad(cipher.decrypt(ct), AES.block_size)\n",
    "        \n",
    "    except (ValueError, KeyError):\n",
    "        raise AssertionError(\"Invalid ciphertext\")"
   ]
  },
  {
   "cell_type": "markdown",
   "id": "8220fbae",
   "metadata": {},
   "source": [
    "### Asymmetric Encryption Functions"
   ]
  },
  {
   "cell_type": "code",
   "execution_count": null,
   "id": "4d6f08c6",
   "metadata": {},
   "outputs": [],
   "source": [
    "def generateRSAKeypair(b):\n",
    "    p = findPrime(2, 2**(b//2) -1)\n",
    "    q = findPrime(2, 2**(b//2) -1)\n",
    "    \n",
    "    while p == q:\n",
    "        q = findPrime(2, 2**(b//2) -1) # ensure P!=q\n",
    "    \n",
    "    N = p*q\n",
    "    \n",
    "    e = 65537\n",
    "    \n",
    "    while math.gcd(e, (p-1)*(q-1)) != 1:\n",
    "        e += 2 # Since e must be odd for gcd(e, p-1 * q-1) = 1, we start at 65537 and inc by 2 each time\n",
    "    d = modularInverse(e, (p-1)*(q-1))\n",
    "    \n",
    "    return (e, N, d)\n",
    "\n",
    "# Doesnt use padding\n",
    "def encryptRSA(message, e, N):\n",
    "    return pow(message, e, N)\n",
    "\n",
    "def decryptRSA(encrypted, d, N):\n",
    "    return pow(encrypted, d, N)\n",
    "\n",
    "# Finds H(M)^d mod N.\n",
    "def signRSA(d, M, N):\n",
    "    assert type(d) == int, \"Private key must be an integer\"\n",
    "    assert type(M) == int, \"Message must be an integer\"\n",
    "    assert type(N) == int, \"Modulus must be an integer\"\n",
    "    \n",
    "    return pow(hash_SHA256(M%N), d, N)\n",
    "\n",
    "# Finds S^e mod N and compares it to H(M).\n",
    "def verifyRSA(e, S, N, M):\n",
    "    assert type(e) == int, \"Public exponent must be an integer\"\n",
    "    assert type(S) == int, \"Signature must be an integer\"\n",
    "    assert type(M) == int, \"Message must be an integer\"\n",
    "    assert type(N) == int, \"Modulus must be an integer\"\n",
    "    \n",
    "    return pow(S, e, N) == hash_SHA256(M%N)\n",
    "    "
   ]
  },
  {
   "cell_type": "code",
   "execution_count": null,
   "id": "befb8f25",
   "metadata": {},
   "outputs": [],
   "source": [
    "CERT_AUTH = { 'e': 65537, 'N': 33790420484761320225234266446986435791020053290995177788399417698648848366075439013295931744537889745793682732187585867814285806211190774412138926826806937374931229955338241741978503726324443629746710612128866806815968501932728765477787763877641403710570749219182260822344263730489611164845428107854720086677, 'd': 13990616901200824332998639242549657982350872729162978917073076266121984534132734754806980909837734993242162151729712109543321259006983256231951260806039426156135728347335452488348561573956342300497866864117403272359970143321087093698235850894812096199039329431651823513521315154736696406982035194667449777653}"
   ]
  },
  {
   "cell_type": "markdown",
   "id": "569e9cd1",
   "metadata": {},
   "source": [
    "# Transport Layer Security\n",
    "\n",
    "First: what even is TLS? TLS is a protocol designed to securely encrypt communications between a client and a web server. It uses a combination of public-key encryption, symmetric encryption, digital signatures, and more!\n",
    "\n",
    "We will be using the **RSA-ECDH** version of TLS. In order to do this, the client and server accomplish the following steps:\n",
    "\n",
    "Before the connection begins, the server needs to configure certain constants and get a certificate signed by a certificate authority.\n",
    "1. The server generates an RSA keypair of the form ((e, N), d).\n",
    "2. The certificate authority issues a signature saying the server's RSA public key corresponds to that server.\n",
    "3. The server picks an elliptic curve (we will use the Sepc256k1 curve) and a generator point.\n",
    "\n",
    "After the server is setup, the client and server initiate a connection and trade RSA keys.\n",
    "1. The client asks the server for its RSA public key and certificate.\n",
    "2. The server provides this, and the client verifies the certificate is valid for that RSA key.\n",
    "3. The server then sends the elliptic curve parameters, signed by their RSA private key.\n",
    "4. The client verifies these parameters are correctly signed by the server's RSA public key.\n",
    "\n",
    "Now that the client and server have securely traded RSA keys, they are able to sign messages to ensure integrity and authenticity. We can begin the Elliptic-Curve Diffie Hellman Key Exchange (ECDH).\n",
    "1. The server generates a secret value a and public point aP using the aforementioned generator point, and sends AP to the client. They attach a signature of aP using their RSA private key.\n",
    "2. The client receives nP, and computes their secret b. They compute bP and send it to the server (alongside a signature on bP).\n",
    "3. The server computes a(bP) = (ab)P and the client computes b(aP) = (ab)P. They now convert this point to an integer and use it as a shared secret.\n",
    "\n",
    "Once we have securely established a shared secret, we can use symmetric encryption to send requests. \n",
    "1. The client create requests and sends it encrypted via AES using the shared secret derived from ECDH. The server can decrypt this, and encrypt its response using the same method."
   ]
  },
  {
   "cell_type": "code",
   "execution_count": null,
   "id": "b72ae887",
   "metadata": {},
   "outputs": [],
   "source": [
    "class Server:\n",
    "    RSA_PUBLIC_KEY = (\n",
    "        65537,\n",
    "        9038494040587010144527283006157928881319808198037800262507236135386268739708006022679916006469762927636026303078260115925689450875819797050237830498287577\n",
    "                     )\n",
    "    \n",
    "    RSA_PRIVATE_KEY = 2535417770757764232372393774283341693305817384267313426399332119458339022396333163725804069143378584578179197504985944189947045947523212247400435285708353\n",
    "    \n",
    "    SIGNED_SERVER_CERTIFICATE = 12700340844416036644598467941678481034795616611285372846483555754936821137468034013552250333992213649482476234812345812443409067513447778032927158222423442969388095714455462826384483204764801308373583214095146933570191105218603640338334545613351980554082339092228528550094782514990171966181657825617151691397\n",
    "    \n",
    "    ELLIPTIC_CURVE = [0,7]\n",
    "    \n",
    "    ELLIPTIC_CURVE_MODULUS = 0xfffffffffffffffffffffffffffffffffffffffffffffffffffffffefffffc2f\n",
    "    \n",
    "    GENERATOR_POINT = (0x79be667ef9dcbbac55a06295ce870b07029bfcdb2dce28d959f2815b16f81798,\n",
    "       0x483ada7726a3c4655da4fbfc0e1108a8fd17b448a68554199c47d08ffb10d4b8)\n",
    "    \n",
    "    GENERATOR_POINT_ORDER = 0xfffffffffffffffffffffffffffffffebaaedce6af48a03bbfd25e8cd0364141\n",
    "    \n",
    "    LOGINS = {}\n",
    "\n",
    "    def signMessage(self, message):\n",
    "        return signRSA(self.RSA_PRIVATE_KEY, message, self.RSA_PUBLIC_KEY[1])\n",
    "    \n",
    "    def publishRSAPublicKey(self):\n",
    "        \"\"\"\n",
    "        Returns ((e, N), signature) where e,N are the server's public key, and signature is the cert authorities' signature \n",
    "        on e||N.\n",
    "        \"\"\"\n",
    "        \n",
    "        return ((self.RSA_PUBLIC_KEY[0], self.RSA_PUBLIC_KEY[1]), self.SIGNED_SERVER_CERTIFICATE)\n",
    "    \n",
    "    # ------------\n",
    "    # QUESTION 1.2\n",
    "    # ------------\n",
    "    def generateECDHParameters(self):\n",
    "        \"\"\"\n",
    "        Returns a generator point P, curve E, and modulus N signed via the server's RSA keys.\n",
    "        \"\"\"\n",
    "        # DON'T FILL THIS IN\n",
    "        pass\n",
    "    \n",
    "    # ------------\n",
    "    # QUESTION 1.4\n",
    "    # ------------\n",
    "    def generateSignedECDHMessage(self):\n",
    "        # DON'T FILL THIS IN\n",
    "        pass\n",
    "    \n",
    "    def verifyECDHMessage(self, P, signature, publicKey):\n",
    "        \"\"\"\n",
    "        Verifies point P was signed by the given publicKey (e, N).\n",
    "        \"\"\"\n",
    "\n",
    "        expected = int(str(P[0]) + str(P[1]))\n",
    "\n",
    "        return verifyRSA(publicKey[0], signature, publicKey[1], expected)\n",
    "    \n",
    "    def acceptConnection(self, clientPublicKey):\n",
    "        self.CLIENT_PUBLIC_KEY = clientPublicKey\n",
    "    \n",
    "    # ------------\n",
    "    # QUESTION 1.5\n",
    "    # ------------\n",
    "    def acceptECDHMessage(self, P, signature):\n",
    "        \"\"\"\n",
    "        Given the sender's public point, verify its signature is as expected and then update internal state\n",
    "        \"\"\"\n",
    "        # DON'T FILL THIS IN \n",
    "        \n",
    "    \n",
    "    # ------------\n",
    "    # QUESTION 1.8\n",
    "    # ------------\n",
    "    def createLogin(self, username, password):\n",
    "        \"\"\"\n",
    "        Given a username and password, creates a login entry if one does not already exist.\n",
    "        \"\"\"\n",
    "        # DON'T FILL THIS IN\n",
    "        pass\n",
    "        \n",
    "    # ------------\n",
    "    # QUESTION 1.9\n",
    "    # ------------\n",
    "    def verifyLogin(self, username, password):\n",
    "        # DON'T FILL THIS IN\n",
    "        pass\n",
    "    \n",
    "    def encryptMessage(self, message):\n",
    "        \"\"\"\n",
    "        Given string message, encrypts with the current setup\n",
    "        \"\"\"\n",
    "        \n",
    "        return encryptAES(self.SHARED_SECRET_INT, bytes(message))\n",
    "    \n",
    "    def decryptMessage(self, encrypted):\n",
    "        \"\"\"\n",
    "        Given encrypted message, decrypts with the current setup\n",
    "        \"\"\"\n",
    "        \n",
    "        return decryptAES(self.SHARED_SECRET_INT, encrypted)\n",
    "    \n",
    "    # ------------\n",
    "    # QUESTION 1.7\n",
    "    # ------------\n",
    "    def verifyRequestIntegrity(self, requestedData):\n",
    "        \"\"\"\n",
    "        Takes in a request of the form { data: ..., hmac: ...} and returns True if the HMAC is valid.\n",
    "        \"\"\"\n",
    "        # DON'T FILL THIS IN \n",
    "        pass\n",
    "    \n",
    "    def handleRequest(self, requestData):\n",
    "        if 'data' not in requestData or 'hmac' not in requestData:\n",
    "            raise AssertionError(\"Invalid requested format\")\n",
    "            \n",
    "        assert self.verifyRequestIntegrity(requestData), \"Request MAC check failed\"\n",
    "        \n",
    "        # Request verified, time to decrypt\n",
    "        request = json.loads(self.decryptMessage(requestData['data']))\n",
    "        \n",
    "        if request['type'] == 'createLogin':\n",
    "            assert 'username' in request and 'password' in request, \"Bad request data\"\n",
    "            \n",
    "            return self.createLogin(request['username'], request['password'])\n",
    "        elif request['type'] == 'verifyLogin':\n",
    "            return self.verifyLogin(request['username'], request['password'])\n",
    "        else:\n",
    "            raise AssertionError(\"Invalid request type\")"
   ]
  },
  {
   "cell_type": "code",
   "execution_count": null,
   "id": "8cdf214d",
   "metadata": {},
   "outputs": [],
   "source": [
    "class Client:\n",
    "    def __init__(self, keybits=512):\n",
    "        rsa_keypair = generateRSAKeypair(keybits)\n",
    "        \n",
    "        self.RSA_PUBLIC_KEY = (rsa_keypair[0], rsa_keypair[1])\n",
    "        self.RSA_PRIVATE_KEY = (rsa_keypair[2])\n",
    "        \n",
    "    def signMessage(self, message):\n",
    "        return signRSA(self.RSA_PRIVATE_KEY, message, self.RSA_PUBLIC_KEY[1])\n",
    "        \n",
    "    # ------------\n",
    "    # QUESTION 1.1\n",
    "    # ------------\n",
    "    def verifyServerCertificate(self, serverPublicKey, signature):\n",
    "        \"\"\"\n",
    "        Asserts the server's certificate is correctly signed by the given certificate authority.\n",
    "\n",
    "        The certificate is on int(e||N).\n",
    "        \"\"\"\n",
    "        # DON'T FILL THIS IN\n",
    "        pass\n",
    "    # ------------\n",
    "    # QUESTION 1.3\n",
    "    # ------------\n",
    "    def verifyECDHParameters(self, ellipticCurve, ellipticCurveModulus, generatorPoint, generatorPointOrder, signature):\n",
    "        \"\"\"\n",
    "        Verifies that the given ECDH parameters have a valid signature, and updates the state if so.\n",
    "        \"\"\"\n",
    "        \n",
    "        # DON'T FILL THIS IN\n",
    "        pass\n",
    "    \n",
    "    # ------------\n",
    "    # QUESTION 1.4\n",
    "    # ------------\n",
    "    def generateSignedECDHMessage(self):\n",
    "        \"\"\"\n",
    "        Assumes we have already setup a valid connection.\n",
    "        \"\"\"\n",
    "        # DON'T FILL THIS IN \n",
    "        pass\n",
    "    \n",
    "    def verifyECDHMessage(self, P, signature, publicKey):\n",
    "        \"\"\"\n",
    "        Verifies point P was signed by the given publicKey (e, N).\n",
    "        \"\"\"\n",
    "\n",
    "        expected = int(str(P[0]) + str(P[1]))\n",
    "\n",
    "        return verifyRSA(publicKey[0], signature, publicKey[1], expected)\n",
    "    \n",
    "    # ------------\n",
    "    # QUESTION 1.5\n",
    "    # ------------\n",
    "    def acceptECDHMessage(self, P, signature):\n",
    "        \"\"\"\n",
    "        Given the sender's public point, verify its signature is as expected and then update internal state\n",
    "        \"\"\"\n",
    "        # DON'T FILL THIS IN \n",
    "        pass\n",
    "    \n",
    "    def encryptMessage(self, message):\n",
    "        \"\"\"\n",
    "        Given string message, encrypts with the current setup\n",
    "        \"\"\"\n",
    "        \n",
    "        return encryptAES(self.SHARED_SECRET_INT, bytes(message, 'utf-8'))\n",
    "    \n",
    "    def decryptMessage(self, encrypted):\n",
    "        \"\"\"\n",
    "        Given encrypted message, decrypts with the current setup\n",
    "        \"\"\"\n",
    "        \n",
    "        return decryptAES(self.SHARED_SECRET_INT, encrypted)\n",
    "    \n",
    "    # ------------\n",
    "    # QUESTION 1.6\n",
    "    # ------------\n",
    "    def generateRequest(self, obj):\n",
    "        \"\"\"\n",
    "        Given an object, encrypts and HMAC's the object in preparation for sending to the server.\n",
    "        \"\"\"\n",
    "        # DON'T FILL THIS IN\n",
    "        pass"
   ]
  },
  {
   "cell_type": "markdown",
   "id": "0dbdce86",
   "metadata": {},
   "source": [
    "**Question 1.1:** Implement Client.verifyServerCertificate."
   ]
  },
  {
   "cell_type": "code",
   "execution_count": null,
   "id": "5715dd34",
   "metadata": {
    "tags": []
   },
   "outputs": [],
   "source": [
    "def verifyServerCertificate(self, serverPublicKey, signature):\n",
    "    \"\"\"\n",
    "    Asserts the server's certificate is correctly signed by the given certificate authority.\n",
    "\n",
    "    The certificate is on int(e||N).\n",
    "    \"\"\"\n",
    "        \n",
    "    e, N = CERT_AUTH['e'], CERT_AUTH['N']\n",
    "        \n",
    "    expected = int(str(serverPublicKey[0]) + str(serverPublicKey[1]))\n",
    "        \n",
    "    verified = ...\n",
    "\n",
    "    if not verified:\n",
    "            return False\n",
    "        \n",
    "    self.SERVER_PUBLIC_KEY = serverPublicKey\n",
    "        \n",
    "    return True"
   ]
  },
  {
   "cell_type": "code",
   "execution_count": null,
   "id": "477d11d9",
   "metadata": {
    "tags": []
   },
   "outputs": [],
   "source": [
    "# DON'T CHANGE THIS\n",
    "Client.verifyServerCertificate = verifyServerCertificate"
   ]
  },
  {
   "cell_type": "code",
   "execution_count": null,
   "id": "b0b58740",
   "metadata": {
    "deletable": false,
    "editable": false
   },
   "outputs": [],
   "source": [
    "grader.check(\"q1_1\")"
   ]
  },
  {
   "cell_type": "markdown",
   "id": "48c35c58",
   "metadata": {},
   "source": [
    "**Question 1.2:** Implement Server.generateECDHParameters in the Server class above. Run the below test when you are finished."
   ]
  },
  {
   "cell_type": "code",
   "execution_count": null,
   "id": "98bc4dd9",
   "metadata": {
    "tags": []
   },
   "outputs": [],
   "source": [
    "def generateECDHParameters(self):\n",
    "        \"\"\"\n",
    "        Returns a generator point P, curve E, and modulus N signed via the server's RSA keys.\n",
    "        \"\"\"\n",
    "\n",
    "        intToSign = int(str(self.ELLIPTIC_CURVE[0]) + str(self.ELLIPTIC_CURVE[1]) \n",
    "                        + str(self.ELLIPTIC_CURVE_MODULUS) + str(self.GENERATOR_POINT[0]) + str(self.GENERATOR_POINT[1]))\n",
    "\n",
    "        signature = ...\n",
    "\n",
    "        return self.ELLIPTIC_CURVE, self.ELLIPTIC_CURVE_MODULUS, self.GENERATOR_POINT, self.GENERATOR_POINT_ORDER, signature"
   ]
  },
  {
   "cell_type": "code",
   "execution_count": null,
   "id": "fc76e7d8",
   "metadata": {
    "tags": []
   },
   "outputs": [],
   "source": [
    "# DON'T CHANGE THIS\n",
    "Server.generateECDHParameters = generateECDHParameters"
   ]
  },
  {
   "cell_type": "code",
   "execution_count": null,
   "id": "fb271933",
   "metadata": {
    "deletable": false,
    "editable": false
   },
   "outputs": [],
   "source": [
    "grader.check(\"q1_2\")"
   ]
  },
  {
   "cell_type": "markdown",
   "id": "6489ab9b",
   "metadata": {},
   "source": [
    "**Question 1.3:** Implement Client.verifyECDHParameters"
   ]
  },
  {
   "cell_type": "code",
   "execution_count": null,
   "id": "c62a6817",
   "metadata": {
    "tags": []
   },
   "outputs": [],
   "source": [
    "def verifyECDHParameters(self, ellipticCurve, ellipticCurveModulus, generatorPoint, generatorPointOrder, signature):\n",
    "        expected = int(str(ellipticCurve[0]) \n",
    "                        + str(ellipticCurve[1])\n",
    "                        + str(ellipticCurveModulus) \n",
    "                        + str(generatorPoint[0]) \n",
    "                        + str(generatorPoint[1]))\n",
    "        verified = ...\n",
    "        \n",
    "        if not verified:\n",
    "            return False\n",
    "        \n",
    "        self.ELLIPTIC_CURVE = ...\n",
    "        self.ELLIPTIC_CURVE_MODULUS = ...\n",
    "        self.GENERATOR_POINT = ...\n",
    "        self.GENERATOR_POINT_ORDER = ...\n",
    "        \n",
    "        return True"
   ]
  },
  {
   "cell_type": "code",
   "execution_count": null,
   "id": "59c16212",
   "metadata": {},
   "outputs": [],
   "source": [
    "# DON'T CHANGE THIS\n",
    "Client.verifyECDHParameters = verifyECDHParameters"
   ]
  },
  {
   "cell_type": "code",
   "execution_count": null,
   "id": "4076e60e",
   "metadata": {
    "deletable": false,
    "editable": false
   },
   "outputs": [],
   "source": [
    "grader.check(\"q1_3\")"
   ]
  },
  {
   "cell_type": "markdown",
   "id": "5f4d7b57",
   "metadata": {},
   "source": [
    "**Question 1.4:** Implement generateSignedECDHMessage in both Server and Client classes."
   ]
  },
  {
   "cell_type": "code",
   "execution_count": null,
   "id": "0333d341",
   "metadata": {
    "tags": []
   },
   "outputs": [],
   "source": [
    "def generateSignedECDHMessage(self):\n",
    "        \"\"\"\n",
    "        Assumes we have already setup a valid connection.\n",
    "        \"\"\"\n",
    "        ECDH = ...\n",
    "        \n",
    "        nP, n = ECDH[0], ECDH[1]\n",
    "        \n",
    "        intToSign = int(str(nP[0]) + str(nP[1]))\n",
    "        \n",
    "        self.ECDH_SECRET = ...\n",
    "        \n",
    "        return nP, self.signMessage(intToSign)"
   ]
  },
  {
   "cell_type": "code",
   "execution_count": null,
   "id": "bec16193",
   "metadata": {
    "tags": []
   },
   "outputs": [],
   "source": [
    "# DON'T CHANGE THIS\n",
    "Server.generateSignedECDHMessage = generateSignedECDHMessage\n",
    "Client.generateSignedECDHMessage = generateSignedECDHMessage"
   ]
  },
  {
   "cell_type": "code",
   "execution_count": null,
   "id": "be8a94a8",
   "metadata": {
    "deletable": false,
    "editable": false
   },
   "outputs": [],
   "source": [
    "grader.check(\"q1_4\")"
   ]
  },
  {
   "cell_type": "markdown",
   "id": "71022bce",
   "metadata": {},
   "source": [
    "**Question 1.5:** Implement acceptECDHMessage in both Server and Client.\n",
    "\n",
    "Consider using self.verifyECDHMessage.\n",
    "\n",
    "Note: The code you fill in should be the exact same for both functions."
   ]
  },
  {
   "cell_type": "code",
   "execution_count": null,
   "id": "f13256cd",
   "metadata": {
    "tags": []
   },
   "outputs": [],
   "source": [
    "def clientAcceptECDHMessage(self, P, signature):\n",
    "        \"\"\"\n",
    "        Given the sender's public point, verify its signature is as expected and then update internal state\n",
    "        \"\"\"\n",
    "        \n",
    "        ...\n",
    "        \n",
    "        # Signature verified\n",
    "        sharedSecretPoint = ...\n",
    "        \n",
    "        self.SHARED_SECRET_INT = pointToMessage(sharedSecretPoint)\n",
    "        \n",
    "        return True\n",
    "    \n",
    "def serverAcceptECDHMessage(self, P, signature):\n",
    "        \"\"\"\n",
    "        Given the sender's public point, verify its signature is as expected and then update internal state\n",
    "        \"\"\"\n",
    "        \n",
    "        ...\n",
    "        \n",
    "        # Signature verified\n",
    "        sharedSecretPoint = ...\n",
    "        \n",
    "        self.SHARED_SECRET_INT = pointToMessage(sharedSecretPoint)\n",
    "        \n",
    "        return True"
   ]
  },
  {
   "cell_type": "code",
   "execution_count": null,
   "id": "fa152a64",
   "metadata": {},
   "outputs": [],
   "source": [
    "# DON'T CHANGE THIS\n",
    "Server.acceptECDHMessage = serverAcceptECDHMessage\n",
    "Client.acceptECDHMessage = clientAcceptECDHMessage"
   ]
  },
  {
   "cell_type": "code",
   "execution_count": null,
   "id": "e6fdf82b",
   "metadata": {
    "deletable": false,
    "editable": false
   },
   "outputs": [],
   "source": [
    "grader.check(\"q1_5\")"
   ]
  },
  {
   "cell_type": "markdown",
   "id": "fbe9ed2a",
   "metadata": {},
   "source": [
    "**Question 1.6:** Implement Client.generateRequest"
   ]
  },
  {
   "cell_type": "code",
   "execution_count": null,
   "id": "a16773a9",
   "metadata": {
    "tags": []
   },
   "outputs": [],
   "source": [
    "def generateRequest(self, obj):\n",
    "        \"\"\"\n",
    "        Given an object, encrypts and HMAC's the object in preparation for sending to the server.\n",
    "        \"\"\"\n",
    "    \n",
    "        encStr = self.encryptMessage(json.dumps(obj))\n",
    "        \n",
    "        encStrBytes = bytes(encStr, 'utf-8')\n",
    "        \n",
    "        hmac = ...\n",
    "        \n",
    "        requestObj = {'data': encStr, 'hmac': hmac}\n",
    "        \n",
    "        return requestObj"
   ]
  },
  {
   "cell_type": "code",
   "execution_count": null,
   "id": "b161008f",
   "metadata": {
    "tags": []
   },
   "outputs": [],
   "source": [
    "# DON'T CHANGE THIS\n",
    "Client.generateRequest = generateRequest"
   ]
  },
  {
   "cell_type": "code",
   "execution_count": null,
   "id": "6bd24d37",
   "metadata": {
    "deletable": false,
    "editable": false
   },
   "outputs": [],
   "source": [
    "grader.check(\"q1_6\")"
   ]
  },
  {
   "cell_type": "markdown",
   "id": "3ede122e",
   "metadata": {},
   "source": [
    "**Question 1.7:** Implement Server.verifyRequestIntegrity"
   ]
  },
  {
   "cell_type": "code",
   "execution_count": null,
   "id": "76c7143d",
   "metadata": {
    "tags": []
   },
   "outputs": [],
   "source": [
    "def verifyRequestIntegrity(self, requestedData):\n",
    "        \"\"\"\n",
    "        Takes in a request of the form { data: ..., hmac: ...} and returns True if the HMAC is valid.\n",
    "        \"\"\"\n",
    "        \n",
    "        requestedDataBytes = bytes(requestedData['data'], 'utf-8')\n",
    "        existingHMAC = requestedData['hmac']\n",
    "        \n",
    "        verified = ...\n",
    "        \n",
    "        return verified"
   ]
  },
  {
   "cell_type": "code",
   "execution_count": null,
   "id": "025756c1",
   "metadata": {
    "tags": []
   },
   "outputs": [],
   "source": [
    "# DON'T CHANGE THIS\n",
    "Client.verifyRequestIntegrity = verifyRequestIntegrity\n",
    "Server.verifyRequestIntegrity = verifyRequestIntegrity"
   ]
  },
  {
   "cell_type": "code",
   "execution_count": null,
   "id": "c25e4f22",
   "metadata": {
    "deletable": false,
    "editable": false
   },
   "outputs": [],
   "source": [
    "grader.check(\"q1_7\")"
   ]
  },
  {
   "cell_type": "markdown",
   "id": "73e6eb54",
   "metadata": {},
   "source": [
    "**Question 1.8:** Implement Server.createLogin"
   ]
  },
  {
   "cell_type": "code",
   "execution_count": null,
   "id": "1a86dce3",
   "metadata": {
    "tags": []
   },
   "outputs": [],
   "source": [
    "def createLogin(self, username, password):\n",
    "    if username in self.LOGINS: \n",
    "        return False\n",
    "        \n",
    "    salt = ''.join(np.random.choice(list(string.ascii_lowercase), 5))\n",
    "        \n",
    "    intToHash = textToInt(password + salt)\n",
    "        \n",
    "    hashedPassword = ...\n",
    "        \n",
    "    self.LOGINS[username] = (hashedPassword, salt)\n",
    "        \n",
    "    return True"
   ]
  },
  {
   "cell_type": "code",
   "execution_count": null,
   "id": "429e17d9",
   "metadata": {
    "tags": []
   },
   "outputs": [],
   "source": [
    "# DON'T CHANGE THIS\n",
    "Server.createLogin = createLogin"
   ]
  },
  {
   "cell_type": "code",
   "execution_count": null,
   "id": "426aa431",
   "metadata": {
    "deletable": false,
    "editable": false
   },
   "outputs": [],
   "source": [
    "grader.check(\"q1_8\")"
   ]
  },
  {
   "cell_type": "markdown",
   "id": "64fdb203",
   "metadata": {},
   "source": [
    "**Question 1.9:** Implement Server.verifyLogin"
   ]
  },
  {
   "cell_type": "code",
   "execution_count": null,
   "id": "20fac227",
   "metadata": {
    "tags": []
   },
   "outputs": [],
   "source": [
    "def verifyLogin(self, username, password):\n",
    "    \"\"\"\n",
    "    Returns True if username,password is a valid entry. Otherwise False (errors if username does not exist).\n",
    "    \"\"\"\n",
    "        \n",
    "    assert username in self.LOGINS, \"Username does not exist\"\n",
    "        \n",
    "    hashedPassword = ...\n",
    "    salt = ...\n",
    "        \n",
    "    intToHash = textToInt(password + salt)\n",
    "        \n",
    "    isCorrect = ...\n",
    "                \n",
    "    return isCorrect"
   ]
  },
  {
   "cell_type": "code",
   "execution_count": null,
   "id": "27952fa0",
   "metadata": {
    "tags": []
   },
   "outputs": [],
   "source": [
    "# DON'T CHANGE THIS\n",
    "Server.verifyLogin = verifyLogin"
   ]
  },
  {
   "cell_type": "code",
   "execution_count": null,
   "id": "d8493d09",
   "metadata": {
    "deletable": false,
    "editable": false
   },
   "outputs": [],
   "source": [
    "grader.check(\"q1_9\")"
   ]
  },
  {
   "cell_type": "markdown",
   "id": "632c90e3",
   "metadata": {},
   "source": [
    "Congrats on finishing Part 1 of this project! Here is an example integration test:"
   ]
  },
  {
   "cell_type": "code",
   "execution_count": null,
   "id": "9e95d2f8",
   "metadata": {},
   "outputs": [],
   "source": [
    "# New client, server\n",
    "client = Client()\n",
    "server = Server()\n",
    "\n",
    "# Accept the connection from the client\n",
    "server.acceptConnection(client.RSA_PUBLIC_KEY)\n",
    "\n",
    "# Server publishes its public key\n",
    "server_PK, signature = server.publishRSAPublicKey()\n",
    "assert client.verifyServerCertificate(server_PK, signature)\n",
    "\n",
    "# Once verified, ask for ECDH parameters\n",
    "ellipticCurve, ellipticCurveModulus, generatorPoint, generatorPointOrder, signature = server.generateECDHParameters()\n",
    "assert client.verifyECDHParameters(ellipticCurve, ellipticCurveModulus, generatorPoint, generatorPointOrder, signature)\n",
    "\n",
    "# Once ECDH parameters are verified, generate our secret + public value\n",
    "client_ECDH = client.generateSignedECDHMessage()\n",
    "server_ECDH = server.generateSignedECDHMessage()\n",
    "\n",
    "# client gets server ecdh message\n",
    "client.acceptECDHMessage(server_ECDH[0], server_ECDH[1])\n",
    "\n",
    "# server gets client ecdh message\n",
    "server.acceptECDHMessage(client_ECDH[0], client_ECDH[1])\n",
    "assert client.SHARED_SECRET_INT == server.SHARED_SECRET_INT\n",
    "\n",
    "signupRequest = client.generateRequest({'type': 'createLogin', 'username': 'asciabsjf', 'password': 'aidojsd1r'})\n",
    "server.handleRequest(signupRequest)\n",
    "\n",
    "loginRequest = client.generateRequest({'type': 'verifyLogin', 'username': 'asciabsjf', 'password': 'aidojsd1r'})\n",
    "assert server.handleRequest(loginRequest)"
   ]
  },
  {
   "cell_type": "markdown",
   "id": "fdb6ce54",
   "metadata": {
    "deletable": false,
    "editable": false
   },
   "source": [
    "## Submission\n",
    "\n",
    "Make sure you have run all cells in your notebook in order before running the cell below, so that all images/graphs appear in the output. The cell below will generate a zip file for you to submit. **Please save before exporting!**\n",
    "\n",
    "Once you have generated the zip file, go to the Gradescope page for this assignment to submit."
   ]
  },
  {
   "cell_type": "code",
   "execution_count": null,
   "id": "8d5d8502",
   "metadata": {
    "deletable": false,
    "editable": false
   },
   "outputs": [],
   "source": [
    "# Save your notebook first, then run this cell to export your submission.\n",
    "grader.export(pdf=False, run_tests=True)"
   ]
  },
  {
   "cell_type": "markdown",
   "id": "0477b689",
   "metadata": {},
   "source": [
    " "
   ]
  }
 ],
 "metadata": {
  "interpreter": {
   "hash": "50292dbb1f747f7151d445135d392af3138fb3c65386d17d9510cb605222b10b"
  },
  "kernelspec": {
   "display_name": "Python 3 (ipykernel)",
   "language": "python",
   "name": "python3"
  },
  "language_info": {
   "codemirror_mode": {
    "name": "ipython",
    "version": 3
   },
   "file_extension": ".py",
   "mimetype": "text/x-python",
   "name": "python",
   "nbconvert_exporter": "python",
   "pygments_lexer": "ipython3",
   "version": "3.9.14"
  },
  "otter": {
   "OK_FORMAT": true,
   "tests": {
    "q1_1": {
     "name": "q1_1",
     "points": 10,
     "suites": [
      {
       "cases": [
        {
         "code": ">>> # New client\n>>> client = Client()\n>>> \n>>> # Client initiates server connection\n>>> server = Server()\n>>> \n>>> server.SHARED_SECRET_INT = None\n>>> server.ECDH_SECRET = None\n>>> server.CLIENT_PUBLIC_KEY = None\n>>> \n>>> client.SHARED_SECRET_INT = None\n>>> client.ECDH_SECRET = None\n>>> client.SERVER_PUBLIC_KEY = None\n>>> \n>>> server.acceptConnection(client.RSA_PUBLIC_KEY)\n>>> \n>>> server_PK, signature = server.publishRSAPublicKey()\n>>> \n>>> assert client.verifyServerCertificate(server_PK, signature), \"Failed to verify a valid signature\"\n>>> assert not client.verifyServerCertificate((server_PK[0] + 1, server_PK[1]), signature), \"Incorrectly verified an invalid signature\"\n>>> assert not client.verifyServerCertificate(server_PK, signature + 1), \"Incorrectly verified an invalid signature\"\n",
         "hidden": false,
         "locked": false
        }
       ],
       "scored": true,
       "setup": "",
       "teardown": "",
       "type": "doctest"
      }
     ]
    },
    "q1_2": {
     "name": "q1_2",
     "points": 10,
     "suites": [
      {
       "cases": [
        {
         "code": ">>> server = Server()\n>>> \n>>> testParameters = server.generateECDHParameters()\n>>> \n>>> m = int(str(server.ELLIPTIC_CURVE[0]) + str(server.ELLIPTIC_CURVE[1]) \n...                         + str(server.ELLIPTIC_CURVE_MODULUS) \n...                         + str(server.GENERATOR_POINT[0]) \n...                         + str(server.GENERATOR_POINT[1]))\n>>> \n>>> assert m == 71157920892373161954235709850086879078532699846656405640394575840079088346716635506626302227734366957871889516853432625060345377759417550018736038911672924032670510020758816978083085130507043184471273380659243275938904335757337482424, \"Invalid parameters\"\n>>> assert verifyRSA(server.RSA_PUBLIC_KEY[0], testParameters[4], server.RSA_PUBLIC_KEY[1], m), \"ECDH Parameter signature failed\"\n",
         "hidden": false,
         "locked": false
        }
       ],
       "scored": true,
       "setup": "",
       "teardown": "",
       "type": "doctest"
      }
     ]
    },
    "q1_3": {
     "name": "q1_3",
     "points": 10,
     "suites": [
      {
       "cases": [
        {
         "code": ">>> # New client\n>>> client = Client()\n>>> \n>>> # Client initiates server connection\n>>> server = Server()\n>>> \n>>> server.SHARED_SECRET_INT = None\n>>> server.ECDH_SECRET = None\n>>> server.CLIENT_PUBLIC_KEY = None\n>>> \n>>> client.SHARED_SECRET_INT = None\n>>> client.ECDH_SECRET = None\n>>> client.SERVER_PUBLIC_KEY = None\n>>> \n>>> server.acceptConnection(client.RSA_PUBLIC_KEY)\n>>> \n>>> server_PK, signature = server.publishRSAPublicKey()\n>>> \n>>> assert client.verifyServerCertificate(server_PK, signature)\n>>> \n>>> # Once verified, ask for ECDH parameters\n>>> ellipticCurve, ellipticCurveModulus, generatorPoint, generatorPointOrder, signature = server.generateECDHParameters()\n>>> \n>>> assert client.verifyECDHParameters(ellipticCurve, ellipticCurveModulus, generatorPoint, generatorPointOrder, signature), \"Failed to verify correct ECDH parameters\"\n>>> assert not client.verifyECDHParameters(ellipticCurve, ellipticCurveModulus + 1, generatorPoint, generatorPointOrder, signature), \"Incorrectly verified incorrect ECDH parameters\"\n>>> \n>>> assert server.ELLIPTIC_CURVE == ellipticCurve, \"Did not update server.ELLIPTIC_CURVE correctly\"\n>>> assert server.ELLIPTIC_CURVE_MODULUS == ellipticCurveModulus, \"Did not update server.ELLIPTIC_CURVE_MODULUS correctly\"\n>>> assert server.GENERATOR_POINT == generatorPoint, \"Did not update server.GENERATOR_POINT correctly\"\n>>> assert server.GENERATOR_POINT_ORDER == generatorPointOrder, \"Did not update server.GENERATOR_POINT_ORDER correctly\"\n",
         "hidden": false,
         "locked": false
        }
       ],
       "scored": true,
       "setup": "",
       "teardown": "",
       "type": "doctest"
      }
     ]
    },
    "q1_4": {
     "name": "q1_4",
     "points": 10,
     "suites": [
      {
       "cases": [
        {
         "code": ">>> # New client\n>>> client = Client()\n>>> \n>>> # Client initiates server connection\n>>> server = Server()\n>>> server.acceptConnection(client.RSA_PUBLIC_KEY)\n>>> \n>>> server_PK, signature = server.publishRSAPublicKey()\n>>> \n>>> assert client.verifyServerCertificate(server_PK, signature)\n>>> \n>>> # Once verified, ask for ECDH parameters\n>>> ellipticCurve, ellipticCurveModulus, generatorPoint, generatorPointOrder, signature = server.generateECDHParameters()\n>>> \n>>> assert client.verifyECDHParameters(ellipticCurve, ellipticCurveModulus, generatorPoint, generatorPointOrder, signature)\n>>> \n>>> # Once ECDH parameters are verified, generate our secret + public value\n>>> client_ECDH = client.generateSignedECDHMessage()\n>>> server_ECDH = server.generateSignedECDHMessage()\n>>> \n>>> \n>>> assert server.ECDH_SECRET, \"server.ECDH_SECRET is None\"\n>>> assert client.ECDH_SECRET, \"server.ECDH_SECRET is None\"\n>>> assert doubleAndAdd(generatorPoint, server.ECDH_SECRET, ellipticCurve, ellipticCurveModulus) == server_ECDH[0], \"Invalid server public key point\"\n>>> assert doubleAndAdd(generatorPoint, client.ECDH_SECRET, ellipticCurve, ellipticCurveModulus) == client_ECDH[0], \"Invalid client public key point\"\n>>> \n>>> server_expected = int(str(server_ECDH[0][0]) + str(server_ECDH[0][1]))\n>>> assert verifyRSA(server.RSA_PUBLIC_KEY[0], server_ECDH[1], server.RSA_PUBLIC_KEY[1], server_expected), \"Invalid server signature\"\n>>> \n>>> client_expected = int(str(client_ECDH[0][0]) + str(client_ECDH[0][1]))\n>>> assert verifyRSA(client.RSA_PUBLIC_KEY[0], client_ECDH[1], client.RSA_PUBLIC_KEY[1], client_expected), \"Invalid client signature\"\n",
         "hidden": false,
         "locked": false
        }
       ],
       "scored": true,
       "setup": "",
       "teardown": "",
       "type": "doctest"
      }
     ]
    },
    "q1_5": {
     "name": "q1_5",
     "points": 10,
     "suites": [
      {
       "cases": [
        {
         "code": ">>> # New client\n>>> client = Client()\n>>> \n>>> # Client initiates server connection\n>>> server = Server()\n>>> \n>>> server.SHARED_SECRET_INT = None\n>>> server.ECDH_SECRET = None\n>>> server.CLIENT_PUBLIC_KEY = None\n>>> \n>>> client.SHARED_SECRET_INT = None\n>>> client.ECDH_SECRET = None\n>>> client.SERVER_PUBLIC_KEY = None\n>>> \n>>> server.acceptConnection(client.RSA_PUBLIC_KEY)\n>>> \n>>> server_PK, signature = server.publishRSAPublicKey()\n>>> \n>>> assert client.verifyServerCertificate(server_PK, signature)\n>>> \n>>> # Once verified, ask for ECDH parameters\n>>> ellipticCurve, ellipticCurveModulus, generatorPoint, generatorPointOrder, signature = server.generateECDHParameters()\n>>> \n>>> assert client.verifyECDHParameters(ellipticCurve, ellipticCurveModulus, generatorPoint, generatorPointOrder, signature)\n>>> \n>>> # Once ECDH parameters are verified, generate our secret + public value\n>>> client_ECDH = client.generateSignedECDHMessage()\n>>> server_ECDH = server.generateSignedECDHMessage()\n>>> \n>>> \n>>> assert server.ECDH_SECRET, \"server.ECDH_SECRET is None\"\n>>> assert client.ECDH_SECRET, \"server.ECDH_SECRET is None\"\n>>> assert doubleAndAdd(generatorPoint, server.ECDH_SECRET, ellipticCurve, ellipticCurveModulus) == server_ECDH[0], \"Invalid server public key point\"\n>>> assert doubleAndAdd(generatorPoint, client.ECDH_SECRET, ellipticCurve, ellipticCurveModulus) == client_ECDH[0], \"Invalid client public key point\"\n>>> \n>>> \n>>> server_expected = int(str(server_ECDH[0][0]) + str(server_ECDH[0][1]))\n>>> assert verifyRSA(server.RSA_PUBLIC_KEY[0], server_ECDH[1], server.RSA_PUBLIC_KEY[1], server_expected), \"Invalid server signature\"\n>>> \n>>> \n>>> client_expected = int(str(client_ECDH[0][0]) + str(client_ECDH[0][1]))\n>>> assert verifyRSA(client.RSA_PUBLIC_KEY[0], client_ECDH[1], client.RSA_PUBLIC_KEY[1], client_expected), \"Invalid client signature\"\n>>> \n>>> # client gets server ecdh \n>>> assert client.acceptECDHMessage(server_ECDH[0], server_ECDH[1])\n>>> \n>>> try:\n...     if client.acceptECDHMessage(server_ECDH[0], server_ECDH[1] + 1):\n...         assert False\n... except AssertionError:\n...     assert True\n>>> \n>>> # server gets client ecdh\n>>> assert server.acceptECDHMessage(client_ECDH[0], client_ECDH[1])\n>>> \n>>> try:\n...     server.acceptECDHMessage(client_ECDH[0], client_ECDH[1] + 1)\n...     assert False\n... except AssertionError:\n...     assert True\n>>> \n>>> assert client.SHARED_SECRET_INT == server.SHARED_SECRET_INT\n",
         "hidden": false,
         "locked": false
        }
       ],
       "scored": true,
       "setup": "",
       "teardown": "",
       "type": "doctest"
      }
     ]
    },
    "q1_6": {
     "name": "q1_6",
     "points": 10,
     "suites": [
      {
       "cases": [
        {
         "code": ">>> # New client\n>>> client = Client()\n>>> \n>>> # Client initiates server connection\n>>> server = Server()\n>>> \n>>> server.SHARED_SECRET_INT = None\n>>> server.ECDH_SECRET = None\n>>> server.CLIENT_PUBLIC_KEY = None\n>>> \n>>> client.SHARED_SECRET_INT = None\n>>> client.ECDH_SECRET = None\n>>> client.SERVER_PUBLIC_KEY = None\n>>> \n>>> server.acceptConnection(client.RSA_PUBLIC_KEY)\n>>> \n>>> server_PK, signature = server.publishRSAPublicKey()\n>>> \n>>> assert client.verifyServerCertificate(server_PK, signature)\n>>> \n>>> # Once verified, ask for ECDH parameters\n>>> ellipticCurve, ellipticCurveModulus, generatorPoint, generatorPointOrder, signature = server.generateECDHParameters()\n>>> \n>>> assert client.verifyECDHParameters(ellipticCurve, ellipticCurveModulus, generatorPoint, generatorPointOrder, signature)\n>>> \n>>> # Once ECDH parameters are verified, generate our secret + public value\n>>> client_ECDH = client.generateSignedECDHMessage()\n>>> server_ECDH = server.generateSignedECDHMessage()\n>>> \n>>> \n>>> assert server.ECDH_SECRET, \"server.ECDH_SECRET is None\"\n>>> assert client.ECDH_SECRET, \"server.ECDH_SECRET is None\"\n>>> assert doubleAndAdd(generatorPoint, server.ECDH_SECRET, ellipticCurve, ellipticCurveModulus) == server_ECDH[0], \"Invalid server public key point\"\n>>> assert doubleAndAdd(generatorPoint, client.ECDH_SECRET, ellipticCurve, ellipticCurveModulus) == client_ECDH[0], \"Invalid client public key point\"\n>>> \n>>> \n>>> server_expected = int(str(server_ECDH[0][0]) + str(server_ECDH[0][1]))\n>>> assert verifyRSA(server.RSA_PUBLIC_KEY[0], server_ECDH[1], server.RSA_PUBLIC_KEY[1], server_expected), \"Invalid server signature\"\n>>> \n>>> \n>>> client_expected = int(str(client_ECDH[0][0]) + str(client_ECDH[0][1]))\n>>> assert verifyRSA(client.RSA_PUBLIC_KEY[0], client_ECDH[1], client.RSA_PUBLIC_KEY[1], client_expected), \"Invalid client signature\"\n>>> \n>>> # client gets server ecdh \n>>> assert client.acceptECDHMessage(server_ECDH[0], server_ECDH[1])\n>>> \n>>> try:\n...     client.acceptECDHMessage(server_ECDH[0], server_ECDH[1] + 1)\n...     assert False\n... except AssertionError:\n...     assert True\n>>> \n>>> # server gets client ecdh\n>>> assert server.acceptECDHMessage(client_ECDH[0], client_ECDH[1])\n>>> \n>>> try:\n...     if server.acceptECDHMessage(client_ECDH[0], client_ECDH[1] + 1):\n...         assert False\n... except AssertionError:\n...     assert True\n>>> \n>>> assert client.SHARED_SECRET_INT == server.SHARED_SECRET_INT\n>>> \n>>> testLoginRequest = client.generateRequest({'type': 'verifyLogin', 'username': 'abcd', 'password': 'cdfg'})\n>>> \n>>> assert client.decryptMessage(testLoginRequest['data']) == b'{\"type\": \"verifyLogin\", \"username\": \"abcd\", \"password\": \"cdfg\"}', \"Invalid encryption\"\n>>> \n>>> assert verifyHMAC(client.SHARED_SECRET_INT, bytes(testLoginRequest['data'], 'utf-8'), testLoginRequest['hmac']), \"Correct HMAC failed to verify\"\n>>> assert not verifyHMAC(client.SHARED_SECRET_INT + 1, bytes(testLoginRequest['data'], 'utf-8'), testLoginRequest['hmac']), \"Invalid HMAC was verified\"\n",
         "hidden": false,
         "locked": false
        }
       ],
       "scored": true,
       "setup": "",
       "teardown": "",
       "type": "doctest"
      }
     ]
    },
    "q1_7": {
     "name": "q1_7",
     "points": 10,
     "suites": [
      {
       "cases": [
        {
         "code": ">>> # New client\n>>> client = Client()\n>>> \n>>> # Client initiates server connection\n>>> server = Server()\n>>> \n>>> server.SHARED_SECRET_INT = None\n>>> server.ECDH_SECRET = None\n>>> server.CLIENT_PUBLIC_KEY = None\n>>> \n>>> client.SHARED_SECRET_INT = None\n>>> client.ECDH_SECRET = None\n>>> client.SERVER_PUBLIC_KEY = None\n>>> \n>>> \n>>> server.acceptConnection(client.RSA_PUBLIC_KEY)\n>>> \n>>> server_PK, signature = server.publishRSAPublicKey()\n>>> \n>>> assert client.verifyServerCertificate(server_PK, signature)\n>>> \n>>> # Once verified, ask for ECDH parameters\n>>> ellipticCurve, ellipticCurveModulus, generatorPoint, generatorPointOrder, signature = server.generateECDHParameters()\n>>> \n>>> assert client.verifyECDHParameters(ellipticCurve, ellipticCurveModulus, generatorPoint, generatorPointOrder, signature)\n>>> \n>>> # Once ECDH parameters are verified, generate our secret + public value\n>>> client_ECDH = client.generateSignedECDHMessage()\n>>> server_ECDH = server.generateSignedECDHMessage()\n>>> \n>>> \n>>> assert server.ECDH_SECRET, \"server.ECDH_SECRET is None\"\n>>> assert client.ECDH_SECRET, \"server.ECDH_SECRET is None\"\n>>> assert doubleAndAdd(generatorPoint, server.ECDH_SECRET, ellipticCurve, ellipticCurveModulus) == server_ECDH[0], \"Invalid server public key point\"\n>>> assert doubleAndAdd(generatorPoint, client.ECDH_SECRET, ellipticCurve, ellipticCurveModulus) == client_ECDH[0], \"Invalid client public key point\"\n>>> \n>>> \n>>> server_expected = int(str(server_ECDH[0][0]) + str(server_ECDH[0][1]))\n>>> assert verifyRSA(server.RSA_PUBLIC_KEY[0], server_ECDH[1], server.RSA_PUBLIC_KEY[1], server_expected), \"Invalid server signature\"\n>>> \n>>> \n>>> client_expected = int(str(client_ECDH[0][0]) + str(client_ECDH[0][1]))\n>>> assert verifyRSA(client.RSA_PUBLIC_KEY[0], client_ECDH[1], client.RSA_PUBLIC_KEY[1], client_expected), \"Invalid client signature\"\n>>> \n>>> # client gets server ecdh \n>>> assert client.acceptECDHMessage(server_ECDH[0], server_ECDH[1])\n>>> \n>>> try:\n...     client.acceptECDHMessage(server_ECDH[0], server_ECDH[1] + 1)\n...     assert False\n... except AssertionError:\n...     assert True\n>>> \n>>> # server gets client ecdh\n>>> assert server.acceptECDHMessage(client_ECDH[0], client_ECDH[1])\n>>> \n>>> try:\n...     if server.acceptECDHMessage(client_ECDH[0], client_ECDH[1] + 1):\n...         assert False\n... except AssertionError:\n...     assert True\n>>> \n>>> assert client.SHARED_SECRET_INT == server.SHARED_SECRET_INT\n>>> \n>>> testLoginRequest = client.generateRequest({'type': 'verifyLogin', 'username': 'abcd', 'password': 'cdfg'})\n>>> \n>>> assert client.decryptMessage(testLoginRequest['data']) == b'{\"type\": \"verifyLogin\", \"username\": \"abcd\", \"password\": \"cdfg\"}', \"Invalid encryption\"\n>>> \n>>> assert verifyHMAC(client.SHARED_SECRET_INT, bytes(testLoginRequest['data'], 'utf-8'), testLoginRequest['hmac']), \"Correct HMAC failed to verify\"\n>>> assert not verifyHMAC(client.SHARED_SECRET_INT + 1, bytes(testLoginRequest['data'], 'utf-8'), testLoginRequest['hmac']), \"Invalid HMAC was verified\"\n>>> \n>>> assert server.verifyRequestIntegrity(testLoginRequest)\n>>> \n>>> testLoginRequest['hmac'] = 'badhmac'\n>>> assert not server.verifyRequestIntegrity(testLoginRequest)\n>>> \n",
         "hidden": false,
         "locked": false
        }
       ],
       "scored": true,
       "setup": "",
       "teardown": "",
       "type": "doctest"
      }
     ]
    },
    "q1_8": {
     "name": "q1_8",
     "points": 10,
     "suites": [
      {
       "cases": [
        {
         "code": ">>> # New client\n>>> client = Client()\n>>> \n>>> # Client initiates server connection\n>>> server = Server()\n>>> \n>>> server.SHARED_SECRET_INT = None\n>>> server.ECDH_SECRET = None\n>>> server.CLIENT_PUBLIC_KEY = None\n>>> \n>>> client.SHARED_SECRET_INT = None\n>>> client.ECDH_SECRET = None\n>>> client.SERVER_PUBLIC_KEY = None\n>>> \n>>> server.acceptConnection(client.RSA_PUBLIC_KEY)\n>>> \n>>> server.LOGINS = {}\n>>> \n>>> server_PK, signature = server.publishRSAPublicKey()\n>>> \n>>> assert client.verifyServerCertificate(server_PK, signature)\n>>> \n>>> # Once verified, ask for ECDH parameters\n>>> ellipticCurve, ellipticCurveModulus, generatorPoint, generatorPointOrder, signature = server.generateECDHParameters()\n>>> \n>>> assert client.verifyECDHParameters(ellipticCurve, ellipticCurveModulus, generatorPoint, generatorPointOrder, signature)\n>>> \n>>> # Once ECDH parameters are verified, generate our secret + public value\n>>> client_ECDH = client.generateSignedECDHMessage()\n>>> server_ECDH = server.generateSignedECDHMessage()\n>>> \n>>> \n>>> assert server.ECDH_SECRET, \"server.ECDH_SECRET is None\"\n>>> assert client.ECDH_SECRET, \"server.ECDH_SECRET is None\"\n>>> assert doubleAndAdd(generatorPoint, server.ECDH_SECRET, ellipticCurve, ellipticCurveModulus) == server_ECDH[0], \"Invalid server public key point\"\n>>> assert doubleAndAdd(generatorPoint, client.ECDH_SECRET, ellipticCurve, ellipticCurveModulus) == client_ECDH[0], \"Invalid client public key point\"\n>>> \n>>> \n>>> server_expected = int(str(server_ECDH[0][0]) + str(server_ECDH[0][1]))\n>>> assert verifyRSA(server.RSA_PUBLIC_KEY[0], server_ECDH[1], server.RSA_PUBLIC_KEY[1], server_expected), \"Invalid server signature\"\n>>> \n>>> \n>>> client_expected = int(str(client_ECDH[0][0]) + str(client_ECDH[0][1]))\n>>> assert verifyRSA(client.RSA_PUBLIC_KEY[0], client_ECDH[1], client.RSA_PUBLIC_KEY[1], client_expected), \"Invalid client signature\"\n>>> \n>>> # client gets server ecdh \n>>> assert client.acceptECDHMessage(server_ECDH[0], server_ECDH[1])\n>>> \n>>> try:\n...     client.acceptECDHMessage(server_ECDH[0], server_ECDH[1] + 1)\n...     assert False\n... except AssertionError:\n...     assert True\n>>> \n>>> # server gets client ecdh\n>>> assert server.acceptECDHMessage(client_ECDH[0], client_ECDH[1])\n>>> \n>>> try:\n...     if server.acceptECDHMessage(client_ECDH[0], client_ECDH[1] + 1):\n...         assert False\n... except AssertionError:\n...     assert True\n>>> \n>>> assert client.SHARED_SECRET_INT == server.SHARED_SECRET_INT\n>>> \n>>> testLoginRequest = client.generateRequest({'type': 'verifyLogin', 'username': 'abcd', 'password': 'cdfg'})\n>>> \n>>> assert client.decryptMessage(testLoginRequest['data']) == b'{\"type\": \"verifyLogin\", \"username\": \"abcd\", \"password\": \"cdfg\"}', \"Invalid encryption\"\n>>> \n>>> assert verifyHMAC(client.SHARED_SECRET_INT, bytes(testLoginRequest['data'], 'utf-8'), testLoginRequest['hmac']), \"Correct HMAC failed to verify\"\n>>> assert not verifyHMAC(client.SHARED_SECRET_INT + 1, bytes(testLoginRequest['data'], 'utf-8'), testLoginRequest['hmac']), \"Invalid HMAC was verified\"\n>>> \n>>> assert server.createLogin('test', 'pwd'), 'Failed to create valid login'\n>>> assert 'test' in server.LOGINS, 'Login entry not created'\n>>> assert server.LOGINS['test'][0] != 'pwd', 'Password stored in plaintext'\n>>> assert len(server.LOGINS['test'][1]) == 5 , 'Salt incorrectly stored'\n>>> \n>>> try:\n...     if server.createLogin('test', 'pwd2'):\n...         assert False, \"Should not be able to create a second identical username entry\"\n... except AssertionError:\n...     assert True\n",
         "hidden": false,
         "locked": false
        }
       ],
       "scored": true,
       "setup": "",
       "teardown": "",
       "type": "doctest"
      }
     ]
    },
    "q1_9": {
     "name": "q1_9",
     "points": 10,
     "suites": [
      {
       "cases": [
        {
         "code": ">>> # New client\n>>> client = Client()\n>>> \n>>> # Client initiates server connection\n>>> server = Server()\n>>> server.acceptConnection(client.RSA_PUBLIC_KEY)\n>>> \n>>> server.LOGINS = {}\n>>> \n>>> server_PK, signature = server.publishRSAPublicKey()\n>>> \n>>> assert client.verifyServerCertificate(server_PK, signature)\n>>> \n>>> # Once verified, ask for ECDH parameters\n>>> ellipticCurve, ellipticCurveModulus, generatorPoint, generatorPointOrder, signature = server.generateECDHParameters()\n>>> \n>>> assert client.verifyECDHParameters(ellipticCurve, ellipticCurveModulus, generatorPoint, generatorPointOrder, signature)\n>>> \n>>> # Once ECDH parameters are verified, generate our secret + public value\n>>> client_ECDH = client.generateSignedECDHMessage()\n>>> server_ECDH = server.generateSignedECDHMessage()\n>>> \n>>> \n>>> assert server.ECDH_SECRET, \"server.ECDH_SECRET is None\"\n>>> assert client.ECDH_SECRET, \"server.ECDH_SECRET is None\"\n>>> assert doubleAndAdd(generatorPoint, server.ECDH_SECRET, ellipticCurve, ellipticCurveModulus) == server_ECDH[0], \"Invalid server public key point\"\n>>> assert doubleAndAdd(generatorPoint, client.ECDH_SECRET, ellipticCurve, ellipticCurveModulus) == client_ECDH[0], \"Invalid client public key point\"\n>>> \n>>> \n>>> server_expected = int(str(server_ECDH[0][0]) + str(server_ECDH[0][1]))\n>>> assert verifyRSA(server.RSA_PUBLIC_KEY[0], server_ECDH[1], server.RSA_PUBLIC_KEY[1], server_expected), \"Invalid server signature\"\n>>> \n>>> \n>>> client_expected = int(str(client_ECDH[0][0]) + str(client_ECDH[0][1]))\n>>> assert verifyRSA(client.RSA_PUBLIC_KEY[0], client_ECDH[1], client.RSA_PUBLIC_KEY[1], client_expected), \"Invalid client signature\"\n>>> \n>>> # client gets server ecdh \n>>> assert client.acceptECDHMessage(server_ECDH[0], server_ECDH[1])\n>>> \n>>> try:\n...     client.acceptECDHMessage(server_ECDH[0], server_ECDH[1] + 1)\n...     assert False\n... except AssertionError:\n...     assert True\n>>> \n>>> # server gets client ecdh\n>>> assert server.acceptECDHMessage(client_ECDH[0], client_ECDH[1])\n>>> \n>>> try:\n...     if server.acceptECDHMessage(client_ECDH[0], client_ECDH[1] + 1):\n...         assert False\n... except AssertionError:\n...     assert True\n>>> \n>>> assert client.SHARED_SECRET_INT == server.SHARED_SECRET_INT\n>>> \n>>> testLoginRequest = client.generateRequest({'type': 'verifyLogin', 'username': 'abcd', 'password': 'cdfg'})\n>>> \n>>> assert client.decryptMessage(testLoginRequest['data']) == b'{\"type\": \"verifyLogin\", \"username\": \"abcd\", \"password\": \"cdfg\"}', \"Invalid encryption\"\n>>> \n>>> assert verifyHMAC(client.SHARED_SECRET_INT, bytes(testLoginRequest['data'], 'utf-8'), testLoginRequest['hmac']), \"Correct HMAC failed to verify\"\n>>> assert not verifyHMAC(client.SHARED_SECRET_INT + 1, bytes(testLoginRequest['data'], 'utf-8'), testLoginRequest['hmac']), \"Invalid HMAC was verified\"\n>>> \n>>> try:\n...     if server.createLogin('test', 'pwd'):\n...         assert True\n...     else:\n...         assert True # In case it hasnt been already made in 1.7\n... except AssertionError:\n...     pass\n...     \n>>> assert server.verifyLogin('test', 'pwd')\n>>> assert not server.verifyLogin('test', 'incorrect')\n",
         "hidden": false,
         "locked": false
        }
       ],
       "scored": true,
       "setup": "",
       "teardown": "",
       "type": "doctest"
      }
     ]
    }
   }
  },
  "vscode": {
   "interpreter": {
    "hash": "86b6775e93d8e7b2e5f79e45a0bdd3fb78f60d14c90e6111b0fee66688ef28fc"
   }
  }
 },
 "nbformat": 4,
 "nbformat_minor": 5
}
