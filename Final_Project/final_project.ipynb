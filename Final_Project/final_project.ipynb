{
 "cells": [
  {
   "cell_type": "code",
   "execution_count": null,
   "id": "e90c847a",
   "metadata": {
    "deletable": false,
    "editable": false
   },
   "outputs": [],
   "source": [
    "# Initialize Otter\n",
    "import otter\n",
    "grader = otter.Notebook(\"final_project.ipynb\")"
   ]
  },
  {
   "cell_type": "code",
   "execution_count": null,
   "id": "5b733003",
   "metadata": {},
   "outputs": [],
   "source": [
    "%%capture\n",
    "import sys\n",
    "!{sys.executable} -m pip install pycryptodome"
   ]
  },
  {
   "cell_type": "code",
   "execution_count": null,
   "id": "c44782cf",
   "metadata": {},
   "outputs": [],
   "source": [
    "import hashlib\n",
    "import numpy as np\n",
    "import math\n",
    "from utils import *\n",
    "from operator import mul"
   ]
  },
  {
   "cell_type": "markdown",
   "id": "6c121d75",
   "metadata": {},
   "source": [
    "# Final Project: Challenges\n",
    "\n",
    "Welcome to the challenge version of final project! **NOTE: You only need to complete either this challenge project OR the open-ended project found on the website.**\n",
    "\n",
    "There are **6** challenges of varying difficulty levels:\n",
    "\n",
    "Easy: <span style=\"color:green\">●</span>\n",
    "\n",
    "Medium: <span style=\"color:orange\">● ● </span> \n",
    "\n",
    "Hard: <span style=\"color:red\">● ● ● </span>\n",
    "\n",
    "\n",
    "Each is worth a corresponding amount of points (1 for Easy, 2 for Medium, 3 for Hard). To get credit for the project, you to get at least **7** points out of a possible **12**. This means you don't have to do all the challenges, just enough to get over the point minimum. For example, doing 2 Easy, 1 Medium, and 1 Hard Challenge is enough to pass."
   ]
  },
  {
   "cell_type": "markdown",
   "id": "ba079fc4",
   "metadata": {},
   "source": [
    "Each challenge will have its own local test(s). Passing the local tests means you will get credit for the challenge. **To submit, go to the Gradescope assignment titled 'Final Project', enter in the final answer, and a short explanation for how you solved the challenge.** \n",
    "\n",
    "Gradescope link: https://www.gradescope.com/courses/479588/assignments/2816480/\n",
    "\n",
    "It may be helpful to revisit / use functions from old labs for some of the challenges."
   ]
  },
  {
   "cell_type": "markdown",
   "id": "a28c3d48",
   "metadata": {},
   "source": [
    "# Easy Challenges\n",
    "\n",
    "Each challenge is worth 1 point."
   ]
  },
  {
   "cell_type": "markdown",
   "id": "f196086c",
   "metadata": {},
   "source": [
    "### Challenge 1: \"One-Time\" Pad\n",
    "\n",
    "Difficulty: Easy <span style=\"color:green\">● </span>\n",
    "\n",
    "Relevant topics: One-Time Pad\n",
    "\n",
    "Alice has made the poor decision to 'roll her own crypto' and comes up with the following scheme to encrypt multiple messages:\n",
    "\n",
    "$$Enc(k, m_i) = k \\oplus m_{i-1} \\oplus m$$\n",
    "\n",
    "She reasons that this is secure, since the \"key\" gets updated each message. If $i=0$ (i.e. the first message), we set $m_{i-1} = 0$.\n",
    "\n",
    "You have managed to intercept $Enc(k, m_0)$ and $Enc(k, m_1)$.\n",
    "\n",
    "**Find the value of $m_1$.**\n",
    "\n",
    "*HINT: You can XOR two int values in Python using ^: (a ^ b) = $a \\oplus b$*"
   ]
  },
  {
   "cell_type": "code",
   "execution_count": null,
   "id": "2193c278",
   "metadata": {},
   "outputs": [],
   "source": [
    "enc_m1 = 230546131670210616415540217481355295762716095558420049068789227666874881\n",
    "enc_m2 = 229654869193562975897942432218153746972027379121729058108981474607776588"
   ]
  },
  {
   "cell_type": "markdown",
   "id": "71fa195c",
   "metadata": {},
   "source": [
    "We can use the functions **textToInt** and **intToText** to convert between text and ints:"
   ]
  },
  {
   "cell_type": "code",
   "execution_count": null,
   "id": "e4ecc32a",
   "metadata": {},
   "outputs": [],
   "source": [
    "intToText(textToInt(\"I hope you liked Codebreaking!\"))"
   ]
  },
  {
   "cell_type": "markdown",
   "id": "a2aef4b3",
   "metadata": {},
   "source": [
    "Feel free to use the following cell, or create new cells to code in:"
   ]
  },
  {
   "cell_type": "code",
   "execution_count": null,
   "id": "4d0d4cd5",
   "metadata": {},
   "outputs": [],
   "source": []
  },
  {
   "cell_type": "markdown",
   "id": "ffe89162",
   "metadata": {},
   "source": [
    "Put your answer here when you've finished."
   ]
  },
  {
   "cell_type": "code",
   "execution_count": null,
   "id": "67471ab5",
   "metadata": {
    "tags": []
   },
   "outputs": [],
   "source": [
    "challenge_one_solution = ..."
   ]
  },
  {
   "cell_type": "markdown",
   "id": "9877836d",
   "metadata": {},
   "source": [
    "Let's see what $m_2$ decrypts to! Note that this expects `challenge_one_solution` to be in integer form.\n",
    "\n",
    "**Use this text output as your answer in the Gradescope submission.**"
   ]
  },
  {
   "cell_type": "code",
   "execution_count": null,
   "id": "84245610",
   "metadata": {},
   "outputs": [],
   "source": [
    "intToText(challenge_one_solution)"
   ]
  },
  {
   "cell_type": "code",
   "execution_count": null,
   "id": "846b300d",
   "metadata": {
    "deletable": false,
    "editable": false
   },
   "outputs": [],
   "source": [
    "grader.check(\"q1\")"
   ]
  },
  {
   "cell_type": "markdown",
   "id": "0a21033d",
   "metadata": {},
   "source": [
    "### Challenge 2: Encrypt-and-Sign\n",
    "\n",
    "Difficulty: Easy <span style=\"color:green\">● </span>\n",
    "\n",
    "Relevant topics: Digital Signatures\n",
    "\n",
    "Alice wishes to send a secret message to Bob. She also wants to ensure Bob can trust the message was from her. She decides to send \n",
    "\n",
    "$$C = RSAEncrypt(PK_{Bob}, M)$$\n",
    "\n",
    "and a signature on the ciphertext \n",
    "\n",
    "$$S = RSASign(SK_{Alice}, M)$$\n",
    "\n",
    "Note that their signature scheme does not use hashes, e.g. $$RSASign(d, m) = m^d \\mod N$$"
   ]
  },
  {
   "cell_type": "markdown",
   "id": "95155b4b",
   "metadata": {},
   "source": [
    "**Recover the original message, given the encrypted message and signature.**"
   ]
  },
  {
   "cell_type": "code",
   "execution_count": null,
   "id": "c9ada4fa",
   "metadata": {},
   "outputs": [],
   "source": [
    "Alice_PK = {\n",
    "    'e': 65537,\n",
    "    'N':  253178424041486225941355620869011259958799253442855343934388957566334587454598725796755179284686502997571220897195182327994815211718724458648084072969341\n",
    "}"
   ]
  },
  {
   "cell_type": "code",
   "execution_count": null,
   "id": "6e3c7699",
   "metadata": {},
   "outputs": [],
   "source": [
    "Bob_PK = {\n",
    "    'e': 65537,\n",
    "    'N': 10472999659637508893356384437659733790493176101355411988047099256729779819399531793310494966080656413269645993178088186690122973695672719434956613337820653\n",
    "}"
   ]
  },
  {
   "cell_type": "code",
   "execution_count": null,
   "id": "94495259",
   "metadata": {},
   "outputs": [],
   "source": [
    "C = 8548473624092306473411544941006167134884908489415480218197360098557644599185237838489748379166593812101304047635401022678483559718387508151081153432901606\n",
    "S = 250739514873490315182488322315337403273432833044991466435423038050117779984774221311497628032704404318987776038245167993904567204971119126897757177003035"
   ]
  },
  {
   "cell_type": "markdown",
   "id": "830b87f7",
   "metadata": {},
   "source": [
    "Feel free to use the following cell, or create new cells to code in:"
   ]
  },
  {
   "cell_type": "code",
   "execution_count": null,
   "id": "f041cf73",
   "metadata": {},
   "outputs": [],
   "source": []
  },
  {
   "cell_type": "code",
   "execution_count": null,
   "id": "414511bd",
   "metadata": {
    "tags": []
   },
   "outputs": [],
   "source": [
    "# Make sure to write it as an integer\n",
    "challenge_two_solution = ..."
   ]
  },
  {
   "cell_type": "markdown",
   "id": "1b5d6863",
   "metadata": {},
   "source": [
    "I wonder what the message was?\n",
    "\n",
    "**Use this text representation as your answer to the Gradescope submission.**"
   ]
  },
  {
   "cell_type": "code",
   "execution_count": null,
   "id": "86179804",
   "metadata": {},
   "outputs": [],
   "source": [
    "intToText(challenge_two_solution)"
   ]
  },
  {
   "cell_type": "code",
   "execution_count": null,
   "id": "0cddc94d",
   "metadata": {
    "deletable": false,
    "editable": false
   },
   "outputs": [],
   "source": [
    "grader.check(\"q2\")"
   ]
  },
  {
   "cell_type": "markdown",
   "id": "1b7bf4b0",
   "metadata": {},
   "source": [
    "# Medium Challenges\n",
    "\n",
    "Each challenge is worth 2 points."
   ]
  },
  {
   "cell_type": "markdown",
   "id": "8df678ea",
   "metadata": {},
   "source": [
    "### Challenge 3: 0xDEADBEEF\n",
    "\n",
    "Difficulty: Medium <span style=\"color:orange\">● ● </span>\n",
    "\n",
    "Evanbot has decides to send a message to Codabot with AES-CTR. Since both of their courses often use 0xDEADBEEF as a constant, they decide to use 0xDEADBEEF as the IV for all messages."
   ]
  },
  {
   "cell_type": "markdown",
   "id": "7662b756",
   "metadata": {},
   "source": [
    "**Recover the plaintext of the second message, given both encrypted messages and the plaintext of the first message.**\n",
    "\n",
    "\n",
    "*HINT: The bxor (byte XOR) function in utils.py may be helpful.*"
   ]
  },
  {
   "cell_type": "code",
   "execution_count": null,
   "id": "3162d982",
   "metadata": {},
   "outputs": [],
   "source": [
    "ciphertext_one = b'iB\\xdb\\xac\\x1c\\xec\\xceUE\\xfc\\xdc((A\\x14\\x13'\n",
    "ciphertext_two = b'uO\\xde\\xb3,\\xda\\xdbxI\\xfe\\xf1\"C!q\\x16'\n",
    "\n",
    "known_plaintext_one = b'hello_from_soda'"
   ]
  },
  {
   "cell_type": "markdown",
   "id": "5ca0a7d9",
   "metadata": {},
   "source": [
    "Feel free to use the following cell, or create new cells to code in:"
   ]
  },
  {
   "cell_type": "code",
   "execution_count": null,
   "id": "b1ffbd05",
   "metadata": {},
   "outputs": [],
   "source": []
  },
  {
   "cell_type": "markdown",
   "id": "976295d7",
   "metadata": {},
   "source": [
    "You should recover a bytestring with legible English text (and possibly some padding). **Use this bytestring as the answer for Gradescope (and the field below).**"
   ]
  },
  {
   "cell_type": "code",
   "execution_count": null,
   "id": "62422078",
   "metadata": {
    "tags": []
   },
   "outputs": [],
   "source": [
    "# The answer should be formatted as a bytestring, like b'hello_from_soda'\n",
    "challenge_three_solution = ..."
   ]
  },
  {
   "cell_type": "code",
   "execution_count": null,
   "id": "4f274b21",
   "metadata": {
    "deletable": false,
    "editable": false
   },
   "outputs": [],
   "source": [
    "grader.check(\"q3\")"
   ]
  },
  {
   "cell_type": "markdown",
   "id": "14bc8c00",
   "metadata": {},
   "source": [
    "### Challenge 4: Dual EC DRBG Again?\n",
    "\n",
    "Difficulty: Medium <span style=\"color:orange\">● ● </span>\n",
    "\n",
    "Relevant Topics: Elliptic Curve Cryptography, PRNGs\n",
    "\n",
    "You've been tasked to cryptanalyze the Dual EC DRBG pseudorandom number generator. The constants used in the RNG are found below, and the code used for the PRNG is also listed.\n",
    "\n",
    "As an aspiring cryptanalyst, you've also discovered that $P = 27Q$, where $P$ and $Q$ are the points used as constants.\n",
    "\n",
    "**Recover the internal state, given access to the first output.**"
   ]
  },
  {
   "cell_type": "markdown",
   "id": "7718b664",
   "metadata": {},
   "source": [
    "Here is the code used to generate the RNG outputs. **Note that no bits are truncated like in real Dual EC DRBG.**"
   ]
  },
  {
   "cell_type": "code",
   "execution_count": null,
   "id": "2c728a90",
   "metadata": {},
   "outputs": [],
   "source": [
    "def dual_EC_drbg(curve, modulus, P, Q, seed):\n",
    "    assert len(curve) == 2\n",
    "    assert isElliptic(curve, modulus)\n",
    "    assert pointOnCurve(P, curve, modulus)\n",
    "    assert pointOnCurve(Q, curve, modulus)\n",
    "    \n",
    "    state = seed\n",
    "        \n",
    "    def generateBits():\n",
    "        nonlocal state \n",
    "        nonlocal P\n",
    "        nonlocal Q\n",
    "                \n",
    "        newPoint = doubleAndAdd(P, seed, curve, modulus)\n",
    "                \n",
    "        r = newPoint[0]\n",
    "        \n",
    "        newQ = doubleAndAdd(Q, r, curve, modulus)\n",
    "                \n",
    "        output = newQ[0]\n",
    "                \n",
    "        state = doubleAndAdd(P, r, curve, modulus)[0]\n",
    "                \n",
    "        return output\n",
    "    return generateBits"
   ]
  },
  {
   "cell_type": "code",
   "execution_count": null,
   "id": "90c26cc7",
   "metadata": {},
   "outputs": [],
   "source": [
    "ellipticCurve = [0, 7]\n",
    "ellipticCurveModulus = 115792089237316195423570985008687907853269984665640564039457584007908834671663 \n",
    "generatorPoint = (55066263022277343669578718895168534326250603453777594175500187360389116729240,\n",
    " 32670510020758816978083085130507043184471273380659243275938904335757337482424)\n",
    "generatorPointOrder =115792089237316195423570985008687907852837564279074904382605163141518161494337\n",
    "\n",
    "Q = generatorPoint\n",
    "\n",
    "# P = 27Q\n",
    "P = (24049875635381557237058143631624836741422505207761609709712554171343558302165,\n",
    " 22669890352939653242079781319904043788036611953081321775127194249638113810828)"
   ]
  },
  {
   "cell_type": "markdown",
   "id": "5ea737a9",
   "metadata": {},
   "source": [
    "Alice has instantiated the PRNG with some secret seed. Here is the latest output of the PRNG:"
   ]
  },
  {
   "cell_type": "code",
   "execution_count": null,
   "id": "5ef196b6",
   "metadata": {},
   "outputs": [],
   "source": [
    "output = 16707928130850354535739926876056172194711802481891336024715258166049082954370"
   ]
  },
  {
   "cell_type": "markdown",
   "id": "94a37ac6",
   "metadata": {},
   "source": [
    "Reminder: your goal is to recover the *current state value* of the PRNG, not the original seed."
   ]
  },
  {
   "cell_type": "markdown",
   "id": "5534700b",
   "metadata": {},
   "source": [
    "Feel free to use the following cell, or create new cells to code in. You may want to revisit the elliptic curve lab and utils.py for helpful functions."
   ]
  },
  {
   "cell_type": "code",
   "execution_count": null,
   "id": "113efae0",
   "metadata": {},
   "outputs": [],
   "source": []
  },
  {
   "cell_type": "markdown",
   "id": "904f69db",
   "metadata": {},
   "source": [
    "**Your final answer should be an integer. Use this as the Gradescope submission, and for the field below.**"
   ]
  },
  {
   "cell_type": "code",
   "execution_count": null,
   "id": "5bbb08e1",
   "metadata": {
    "tags": []
   },
   "outputs": [],
   "source": [
    "# Make sure to write this as an integer (i.e. not as a function evaluation)\n",
    "challenge_four_solution = ..."
   ]
  },
  {
   "cell_type": "code",
   "execution_count": null,
   "id": "1e0d0d69",
   "metadata": {
    "deletable": false,
    "editable": false
   },
   "outputs": [],
   "source": [
    "grader.check(\"q4\")"
   ]
  },
  {
   "cell_type": "markdown",
   "id": "b1b7902e",
   "metadata": {},
   "source": [
    "# Hard Challenges\n",
    "Each challenge is worth 3 points."
   ]
  },
  {
   "cell_type": "markdown",
   "id": "b05b7ea7",
   "metadata": {},
   "source": [
    "### Challenge 5:  Broken Generators\n",
    "\n",
    "Difficulty: Hard <span style=\"color:red\">● ● ●</span>\n",
    "\n",
    "\n",
    "Diffie-Hellman provides authenticity, but not integrity. We are an attacker interested in learning the final result of a Diffie-Hellman key exchange. We cannot use any MITM attacks, but are allowed to **modify the generator used in the process**. Note that we cannot set the generator to 1 or $p-1$, as the parties will detect and reject this.\n",
    "\n",
    "**Set the generator some constant value, and write a function to recover the shared secret given the public values of the Diffie-Hellman exchange.**\n",
    "\n",
    "**You do NOT need to use any fancy discrete-logarithm algorithms. Your algorithm should not bruteforce more than 500 values.**\n",
    "\n",
    "*HINT: $\\phi(p) = 2 \\cdot 3 \\cdot 43 \\cdot 2013976508064188041825691454837161339$, where $\\phi$ represents Euler's totient function.*\n",
    "\n",
    "*HINT: $\\text{ord}(x^a) = \\frac{\\text{ord(x)}}{\\gcd(\\text{ord(x)}, a)}$*"
   ]
  },
  {
   "cell_type": "code",
   "execution_count": null,
   "id": "bc5f2bc2",
   "metadata": {},
   "outputs": [],
   "source": [
    "p = 519605939080560514791028395347987625463"
   ]
  },
  {
   "cell_type": "code",
   "execution_count": null,
   "id": "6ace610f",
   "metadata": {},
   "outputs": [],
   "source": [
    "phi_p = 2 * 3 * 43 * 2013976508064188041825691454837161339"
   ]
  },
  {
   "cell_type": "markdown",
   "id": "e9c2d73c",
   "metadata": {},
   "source": [
    "**You should copy-paste the values and functions you write below as the Gradescope submission, once you pass the local tests.**"
   ]
  },
  {
   "cell_type": "code",
   "execution_count": null,
   "id": "5f97f9b5",
   "metadata": {
    "tags": []
   },
   "outputs": [],
   "source": [
    "# Your solution should work with *any* generator, but p will be fixed\n",
    "def returnNewGenerator(g, p):\n",
    "    ...\n",
    "\n",
    "def recover_dh_secret(new_g, p, ga_mod_p, gb_mod_p):\n",
    "    ..."
   ]
  },
  {
   "cell_type": "markdown",
   "id": "7766743a",
   "metadata": {},
   "source": [
    "You can test your code below."
   ]
  },
  {
   "cell_type": "code",
   "execution_count": null,
   "id": "78aa5a51",
   "metadata": {},
   "outputs": [],
   "source": [
    "a = random.randint(2, p-1)\n",
    "b = random.randint(2, p-1)\n",
    "\n",
    "g = 2\n",
    "\n",
    "new_g = returnNewGenerator(2, p)\n",
    "\n",
    "ga_mod_p = pow(new_g, a, p)\n",
    "gb_mod_p = pow(new_g, b, p)\n",
    "\n",
    "assert pow(new_g, a*b, p) == recover_dh_secret(new_g, p, ga_mod_p, gb_mod_p)"
   ]
  },
  {
   "cell_type": "code",
   "execution_count": null,
   "id": "e06bbf5a",
   "metadata": {
    "deletable": false,
    "editable": false
   },
   "outputs": [],
   "source": [
    "grader.check(\"q5\")"
   ]
  },
  {
   "cell_type": "markdown",
   "id": "8bc883c5",
   "metadata": {},
   "source": [
    "### Challenge 6: In Defense of Limiters\n",
    "\n",
    "Difficulty: Hard <span style=\"color:red\">● ● ●</span>\n",
    "\n",
    "Relevant Topics: RSA, Digital Signatures\n",
    "\n",
    "Servers often use certificate authorities to issues certificates, ensuring a client can trust that their public key is actually associated with the given server. To this end, the certificate authority is implicitly trusted by the client, and has their public key hardcoded into all clients (i.e. cannot be tampered with).\n",
    "\n",
    "**Write a function to generate a malicious keypair that still passes certificate validation under the same certificate.**"
   ]
  },
  {
   "cell_type": "code",
   "execution_count": null,
   "id": "d3208e72",
   "metadata": {},
   "outputs": [],
   "source": [
    "CERT_AUTH_PUBLIC_KEY = { 'e': 65537,\n",
    "             'N': 33790420484761320225234266446986435791020053290995177788399417698648848366075439013295931744537889745793682732187585867814285806211190774412138926826806937374931229955338241741978503726324443629746710612128866806815968501932728765477787763877641403710570749219182260822344263730489611164845428107854720086677}"
   ]
  },
  {
   "cell_type": "code",
   "execution_count": null,
   "id": "8f69c049",
   "metadata": {},
   "outputs": [],
   "source": [
    "SERVER_PUBLIC_KEY = {\n",
    "        'e': 65537,\n",
    "        'N': 3002132409982411885213797848544015865850589177629726369826041571611243748750797310385521637461408395352464480231701204492274911135865370769445872391320297\n",
    "}"
   ]
  },
  {
   "cell_type": "code",
   "execution_count": null,
   "id": "a76170c9",
   "metadata": {},
   "outputs": [],
   "source": [
    "SERVER_CERTIFICATE = 29988389308377186804188678153533881382488143264455800104888748751643200264760653733663959655661660673590410341403741512638892536877052972486958518522731823742528059497839582218210357334986778758862385235675013294056340445805228901167929872913694030281755335353233819756297874410596314423870792706573097000563"
   ]
  },
  {
   "cell_type": "code",
   "execution_count": null,
   "id": "96e8f339",
   "metadata": {},
   "outputs": [],
   "source": [
    "def verifyServerCertificate(SERVER_PUBLIC_KEY, CERT_AUTH_PUBLIC_KEY, server_certificate):\n",
    "    return verifyRSA(CERT_AUTH_PUBLIC_KEY['e'], \n",
    "                     server_certificate,\n",
    "                     CERT_AUTH_PUBLIC_KEY['N'],\n",
    "                     int(str(SERVER_PUBLIC_KEY['e']) + str(SERVER_PUBLIC_KEY['N'])))"
   ]
  },
  {
   "cell_type": "markdown",
   "id": "db956095",
   "metadata": {},
   "source": [
    "Notice how the current values check out:"
   ]
  },
  {
   "cell_type": "code",
   "execution_count": null,
   "id": "4f3cf9de",
   "metadata": {},
   "outputs": [],
   "source": [
    "verifyServerCertificate(SERVER_PUBLIC_KEY, CERT_AUTH_PUBLIC_KEY, SERVER_CERTIFICATE)"
   ]
  },
  {
   "cell_type": "markdown",
   "id": "cc12748d",
   "metadata": {},
   "source": [
    "**Note that your solution need only work for the specific listed values of SERVER_PUBLIC_KEY and SERVER_CERTIFICATE.**"
   ]
  },
  {
   "cell_type": "markdown",
   "id": "a7d8b3b7",
   "metadata": {},
   "source": [
    "Recall that $N = pq$ for primes $p, q$. Recovering the private key can be done by finding $p, q$, so that is what we will focus on for this challenge.\n",
    "\n",
    "**Copy-paste the entire cell below (e = ..., p = ..., q = ...) as your answer for Gradescope.**"
   ]
  },
  {
   "cell_type": "code",
   "execution_count": null,
   "id": "291a6839",
   "metadata": {
    "tags": []
   },
   "outputs": [],
   "source": [
    "e_solution = ...\n",
    "p_solution = ...\n",
    "q_solution = ..."
   ]
  },
  {
   "cell_type": "code",
   "execution_count": null,
   "id": "a961bc95",
   "metadata": {
    "deletable": false,
    "editable": false
   },
   "outputs": [],
   "source": [
    "grader.check(\"q6\")"
   ]
  },
  {
   "cell_type": "markdown",
   "id": "7d028e9c",
   "metadata": {},
   "source": [
    "**Congrats on reaching the end! We hope you enjoyed the Codebreaking DeCal and this project!**\n",
    "\n",
    "\n",
    "***REMINDER: DO NOT SUBMIT THE ZIP LIKE A NORMAL LAB. Fill in the assignment for each challenge with the solution and a short explanation.***\n",
    "\n",
    "Gradescope link: https://www.gradescope.com/courses/479588/assignments/2816480/"
   ]
  },
  {
   "cell_type": "markdown",
   "id": "ddc7b938",
   "metadata": {
    "deletable": false,
    "editable": false
   },
   "source": [
    "## Submission\n",
    "\n",
    "Make sure you have run all cells in your notebook in order before running the cell below, so that all images/graphs appear in the output. The cell below will generate a zip file for you to submit. **Please save before exporting!**\n",
    "\n",
    "Once you have generated the zip file, go to the Gradescope page for this assignment to submit."
   ]
  },
  {
   "cell_type": "code",
   "execution_count": null,
   "id": "312a7ffb",
   "metadata": {
    "deletable": false,
    "editable": false
   },
   "outputs": [],
   "source": [
    "# Save your notebook first, then run this cell to export your submission.\n",
    "grader.export(pdf=False, run_tests=True)"
   ]
  },
  {
   "cell_type": "markdown",
   "id": "d14ec688",
   "metadata": {},
   "source": [
    " "
   ]
  }
 ],
 "metadata": {
  "kernelspec": {
   "display_name": "Python 3 (ipykernel)",
   "language": "python",
   "name": "python3"
  },
  "language_info": {
   "codemirror_mode": {
    "name": "ipython",
    "version": 3
   },
   "file_extension": ".py",
   "mimetype": "text/x-python",
   "name": "python",
   "nbconvert_exporter": "python",
   "pygments_lexer": "ipython3",
   "version": "3.9.14"
  },
  "otter": {
   "OK_FORMAT": true,
   "tests": {
    "q1": {
     "name": "q1",
     "points": 1,
     "suites": [
      {
       "cases": [
        {
         "code": ">>> h = hashlib.new(\"sha256\")\n>>> \n>>> if type(challenge_one_solution) == int:\n...     h.update(challenge_one_solution.to_bytes(32, 'big')) \n... else:\n...     h.update(textToInt(challenge_one_solution).to_bytes(32, 'big')) \n>>> \n>>> assert h.hexdigest() == 'b8b220c9fefce73b3fcd34033d62be17e05af5287df7ffba94f14c9db2d1cded'\n",
         "hidden": false,
         "locked": false
        }
       ],
       "scored": true,
       "setup": "",
       "teardown": "",
       "type": "doctest"
      }
     ]
    },
    "q2": {
     "name": "q2",
     "points": 1,
     "suites": [
      {
       "cases": [
        {
         "code": ">>> C = 2948398701229895762591377967808047994066158554471860557077074572541366591289097644585039184182151224423705982919546951255654414495689907217694596555758281\n>>> S = 59493279179973024497230196\n>>> \n>>> h = hashlib.new(\"sha256\")\n>>> h.update(challenge_two_solution.to_bytes(16, \"big\"))\n>>> assert h.hexdigest() == 'c3e2f06b07fa3d01ba83311cb2f7b284646ea0ec5acdc31b469dba41704c82b1'\n",
         "hidden": false,
         "locked": false
        }
       ],
       "scored": true,
       "setup": "",
       "teardown": "",
       "type": "doctest"
      }
     ]
    },
    "q3": {
     "name": "q3",
     "points": 2,
     "suites": [
      {
       "cases": [
        {
         "code": ">>> h = hashlib.new(\"sha256\")\n>>> h.update(challenge_three_solution)\n>>> assert h.hexdigest() == '09ddcbb5b9d45f515da959aaa4840467b389ccd1b53161aec6f94ecf49d53fa5'\n",
         "hidden": false,
         "locked": false
        }
       ],
       "scored": true,
       "setup": "",
       "teardown": "",
       "type": "doctest"
      }
     ]
    },
    "q4": {
     "name": "q4",
     "points": 2,
     "suites": [
      {
       "cases": [
        {
         "code": ">>> h = hashlib.new(\"sha256\")\n>>> h.update(challenge_four_solution.to_bytes(32, \"big\"))\n>>> assert h.hexdigest() == 'f31b864eca90fe838e924b7487c9bf95599b56f94584d11ed2bfc3a2fdf0b3da'\n",
         "hidden": false,
         "locked": false
        }
       ],
       "scored": true,
       "setup": "",
       "teardown": "",
       "type": "doctest"
      }
     ]
    },
    "q5": {
     "name": "q5",
     "points": 3,
     "suites": [
      {
       "cases": [
        {
         "code": ">>> a = 97877436848707991472521605917247523307\n>>> b = 426638199458805149342016957318802587327\n>>> \n>>> g = 2\n>>> \n>>> new_g = returnNewGenerator(2, p)\n>>> \n>>> ga_mod_p = pow(new_g, a, p)\n>>> gb_mod_p = pow(new_g, b, p)\n>>> \n>>> assert pow(new_g, a*b, p) == recover_dh_secret(new_g, p, ga_mod_p, gb_mod_p)\n",
         "hidden": false,
         "locked": false
        }
       ],
       "scored": true,
       "setup": "",
       "teardown": "",
       "type": "doctest"
      }
     ]
    },
    "q6": {
     "name": "q6",
     "points": 3,
     "suites": [
      {
       "cases": [
        {
         "code": ">>> def verifyRSA(e, S, N, M):\n...     assert type(e) == int, \"Public exponent must be an integer\"\n...     assert type(S) == int, \"Signature must be an integer\"\n...     assert type(M) == int, \"Message must be an integer\"\n...     assert type(N) == int, \"Modulus must be an integer\"\n...     \n...     # Hardcoded for this question\n...     return M == 655373002132409982411885213797848544015865850589177629726369826041571611243748750797310385521637461408395352464480231701204492274911135865370769445872391320297\n>>> \n>>> def verifyServerCertificate(SERVER_PUBLIC_KEY, CERT_AUTH_PUBLIC_KEY, server_certificate):\n...     return verifyRSA(CERT_AUTH_PUBLIC_KEY['e'], \n...                      server_certificate,\n...                      CERT_AUTH_PUBLIC_KEY['N'],\n...                      int(str(SERVER_PUBLIC_KEY['e']) + str(SERVER_PUBLIC_KEY['N'])))\n>>> \n>>> CERT_AUTH_PUBLIC_KEY = { 'e': 65537,\n...              'N': 33790420484761320225234266446986435791020053290995177788399417698648848366075439013295931744537889745793682732187585867814285806211190774412138926826806937374931229955338241741978503726324443629746710612128866806815968501932728765477787763877641403710570749219182260822344263730489611164845428107854720086677}\n>>> \n>>> SERVER_PUBLIC_KEY = {\n...         'e': 65537,\n...         'N': 3002132409982411885213797848544015865850589177629726369826041571611243748750797310385521637461408395352464480231701204492274911135865370769445872391320297}\n>>> \n>>> SERVER_CERTIFICATE = 29988389308377186804188678153533881382488143264455800104888748751643200264760653733663959655661660673590410341403741512638892536877052972486958518522731823742528059497839582218210357334986778758862385235675013294056340445805228901167929872913694030281755335353233819756297874410596314423870792706573097000563\n>>> \n>>> assert math.gcd(e_solution, (p_solution-1)*(q_solution-1)) == 1\n>>> \n>>> assert verifyServerCertificate({'e': e_solution, 'N':(p_solution*q_solution)}, CERT_AUTH_PUBLIC_KEY, SERVER_CERTIFICATE)\n",
         "hidden": false,
         "locked": false
        }
       ],
       "scored": true,
       "setup": "",
       "teardown": "",
       "type": "doctest"
      }
     ]
    }
   }
  }
 },
 "nbformat": 4,
 "nbformat_minor": 5
}
