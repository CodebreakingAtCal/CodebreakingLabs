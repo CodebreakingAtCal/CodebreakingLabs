{
 "cells": [
  {
   "cell_type": "markdown",
   "id": "29b37cb7",
   "metadata": {},
   "source": [
    "# Final Project: Challenge 6\n",
    "Contributions From: Ryan Cottone\n",
    "\n",
    "**Difficulty**: <span style=\"color:orange\">$\\bullet \\bullet$</span>\n",
    "\n",
    "Welcome to the 6th challenge! You will be building off the previous challenge yet again.\n",
    "\n",
    "The server has caught on to your antics and invalidated their previous signatures. They've decided to overhaul their RSA keypair generation to make an entirely new set of keys. \n",
    "\n",
    "The following functions have been changed:\n",
    "- **generateRSAKeypair**\n",
    "\n",
    "Recover the user's password."
   ]
  },
  {
   "cell_type": "markdown",
   "id": "3ac6281c",
   "metadata": {},
   "source": [
    "### Utility Functions"
   ]
  },
  {
   "cell_type": "code",
   "execution_count": 1,
   "id": "34d7a7b9",
   "metadata": {},
   "outputs": [],
   "source": [
    "%%capture\n",
    "import sys\n",
    "!{sys.executable} -m pip install pycryptodome"
   ]
  },
  {
   "cell_type": "code",
   "execution_count": 2,
   "id": "ab2b355c",
   "metadata": {},
   "outputs": [],
   "source": [
    "%run client.ipynb\n",
    "%run server.ipynb\n",
    "from utils import *"
   ]
  },
  {
   "cell_type": "code",
   "execution_count": 3,
   "id": "63d769c7",
   "metadata": {},
   "outputs": [],
   "source": [
    "ellipticCurve = [0, 7]\n",
    "ellipticCurveModulus = 115792089237316195423570985008687907853269984665640564039457584007908834671663 \n",
    "generatorPoint = (55066263022277343669578718895168534326250603453777594175500187360389116729240,\n",
    " 32670510020758816978083085130507043184471273380659243275938904335757337482424)\n",
    "generatorPointOrder =115792089237316195423570985008687907852837564279074904382605163141518161494337"
   ]
  },
  {
   "cell_type": "markdown",
   "id": "9d67c3a8",
   "metadata": {},
   "source": [
    "Here's a copy of the new `generateRSAKeypair`. The server's RSA keypair was generated with this function."
   ]
  },
  {
   "cell_type": "code",
   "execution_count": null,
   "id": "4786a1ae",
   "metadata": {},
   "outputs": [],
   "source": [
    "def generateRSAKeypair(b):\n",
    "    p = findPrime(2, 2**(12) -1) # 12 bit p\n",
    "    q = findPrime(2, 2**(b - 12) -1) # b - 12 bit q\n",
    "    \n",
    "    while p == q:\n",
    "        q = findPrime(2, 2**(b - 12) -1) # ensure P!=q\n",
    "    \n",
    "    N = p*q\n",
    "    \n",
    "    e = 65537\n",
    "    \n",
    "    while math.gcd(e, (p-1)*(q-1)) != 1:\n",
    "        e += 2 # Since e must be odd for gcd(e, p-1 * q-1) = 1, we start at 65537 and inc by 2 each time\n",
    "    d = modularInverse(e, (p-1)*(q-1))\n",
    "    \n",
    "    return (e, N, d)"
   ]
  },
  {
   "cell_type": "markdown",
   "id": "45dbadfb",
   "metadata": {},
   "source": [
    "### Fill this in:\n",
    "\n",
    "*HINT: You may need to use a function from an old lab that isn't included in utils.py. Can you think of an efficient algorithm we might need to explore the new RSA key generation process?*"
   ]
  },
  {
   "cell_type": "code",
   "execution_count": null,
   "id": "677b40fb",
   "metadata": {},
   "outputs": [],
   "source": [
    "class Interceptor:\n",
    "    def __init__(self):\n",
    "        self.clientPassword = None\n",
    "        self.hackedServer = HackedServer()\n",
    "        \n",
    "    def interceptMessage(self, message):\n",
    "        \"\"\"\n",
    "        The message will be of the form \n",
    "        { \n",
    "            sender: 'client/server',\n",
    "            receiver: 'client/server',\n",
    "            type: 'certificate/ECDH_Parameters/ECDH_Message/request',\n",
    "            data: ...\n",
    "        }\n",
    "        \"\"\"\n",
    "        messageType = message['type']\n",
    "        \n",
    "        if messageType == 'CLIENT_RSA':\n",
    "            return self.hackedServer.acceptConnection(message['data'])\n",
    "        elif messageType == 'certificate':\n",
    "            # Important part\n",
    "            \n",
    "            server_PK = message['data'][0]\n",
    "            signature = message['data'][1]\n",
    "            \n",
    "            ...\n",
    "            \n",
    "            return self.hackedServer.publishRSAPublicKey()\n",
    "        elif messageType == 'ECDH_Parameters':\n",
    "            ...\n",
    "        elif messageType == 'ECDH_Message':\n",
    "            if message['sender'] == 'client':\n",
    "                ...\n",
    "            else:\n",
    "                ...\n",
    "        elif messageType == 'request':\n",
    "            # decrypt\n",
    "            if message['sender'] != 'client':\n",
    "                pass\n",
    "            firstRequestData = message['data']['data'] # Request data\n",
    "            \n",
    "            decryptedObj = ...\n",
    "            \n",
    "            decrypted = json.loads(decryptedObj)\n",
    "    \n",
    "            self.CLIENT_PASSWORD = decrypted['password']\n",
    "        \n",
    "            return None\n",
    "        else:\n",
    "            print('err', message)\n",
    "            return ()\n",
    "        \n",
    "    def getPassword(self):\n",
    "        return self.CLIENT_PASSWORD"
   ]
  },
  {
   "cell_type": "markdown",
   "id": "7667a27f",
   "metadata": {},
   "source": [
    "Here's an example to test with:"
   ]
  },
  {
   "cell_type": "code",
   "execution_count": null,
   "id": "c26093fd",
   "metadata": {},
   "outputs": [],
   "source": [
    "random.seed(0) # DON'T CHANGE THIS\n",
    "\n",
    "# New client\n",
    "client = Client()\n",
    "\n",
    "# Client initiates server connection\n",
    "server = Server()\n",
    "\n",
    "# Initiate Interceptor\n",
    "intercept = Interceptor()\n",
    "\n",
    "message = intercept.interceptMessage({'sender': 'client', 'receiver': 'server',\n",
    "                                              'type': 'CLIENT_RSA', 'data': client.RSA_PUBLIC_KEY})\n",
    "if message:\n",
    "    server.acceptConnection(*message)\n",
    "\n",
    "\n",
    "server_PK, signature = server.publishRSAPublicKey()\n",
    "\n",
    "message = intercept.interceptMessage({'sender': 'server', 'receiver': 'client',\n",
    "                                              'type': 'certificate', 'data': (server_PK, signature)})\n",
    "assert client.verifyServerCertificate(*message)\n",
    "\n",
    "# Once verified, ask for ECDH parameters\n",
    "ellipticCurve, ellipticCurveModulus, generatorPoint, generatorPointOrder, signature = server.generateECDHParameters()\n",
    "\n",
    "message = intercept.interceptMessage({'sender': 'server', 'receiver': 'client',\n",
    "                                              'type': 'ECDH_Parameters', 'data': (ellipticCurve, ellipticCurveModulus,\n",
    "                                                                                generatorPoint, generatorPointOrder, signature)})\n",
    "\n",
    "assert client.verifyECDHParameters(*message)\n",
    "\n",
    "# Once ECDH parameters are verified, generate our secret + public value\n",
    "server_ECDH = server.generateSignedECDHMessage()\n",
    "\n",
    "messageOne = intercept.interceptMessage({'sender': 'server', 'receiver': 'client',\n",
    "                                              'type': 'ECDH_Message', 'data': server_ECDH})\n",
    "client_ECDH = client.generateSignedECDHMessage()\n",
    "\n",
    "messageTwo = intercept.interceptMessage({'sender': 'client', 'receiver': 'server',\n",
    "                                              'type': 'ECDH_Message', 'data': client_ECDH})\n",
    "if messageOne:\n",
    "    client.acceptECDHMessage(*messageOne)\n",
    "if messageTwo:\n",
    "    server.acceptECDHMessage(*messageTwo)\n",
    "\n",
    "\n",
    "signupRequest = {'data': '{\"iv\": \"6d3plfa0vzqB3JSKEYhc8g==\", \"ciphertext\": \"qQo3yErhVBao562ccaH8ETiNRET+xBSgf6qFJsLG/wu9RzVK83LGx8JVfUnG9G7KVRqE40gmW+6T9qFrlm04VHo/5V+1cNLeIzBRFdEhQMQ=\"}',\n",
    " 'hmac': 'ac54dc5d73cef6c6469dd9d456d6347bfe0c9d4cb3be4ce7300cd40109a2019b'}\n",
    "\n",
    "message = intercept.interceptMessage({'sender': 'client', 'receiver': 'server',\n",
    "                                              'type': 'request', 'data': signupRequest})\n",
    "\n",
    "# By now, we should have access to the client's password.\n",
    "print('Recovered the following password:', intercept.getPassword())"
   ]
  },
  {
   "cell_type": "markdown",
   "id": "0adbd116",
   "metadata": {},
   "source": [
    "### Submission\n",
    "\n",
    "Once you've recovered the password, enter it into the Gradescope page [here](https://www.gradescope.com/courses/406561/assignments/2458847) and copy-paste your **Interceptor** class in the same assignment. (Unfortunately our usual autograder does not play nice with this style of challenge)"
   ]
  }
 ],
 "metadata": {
  "interpreter": {
   "hash": "50292dbb1f747f7151d445135d392af3138fb3c65386d17d9510cb605222b10b"
  },
  "kernelspec": {
   "display_name": "Python 3 (ipykernel)",
   "language": "python",
   "name": "python3"
  },
  "language_info": {
   "codemirror_mode": {
    "name": "ipython",
    "version": 3
   },
   "file_extension": ".py",
   "mimetype": "text/x-python",
   "name": "python",
   "nbconvert_exporter": "python",
   "pygments_lexer": "ipython3",
   "version": "3.9.14"
  },
  "vscode": {
   "interpreter": {
    "hash": "86b6775e93d8e7b2e5f79e45a0bdd3fb78f60d14c90e6111b0fee66688ef28fc"
   }
  }
 },
 "nbformat": 4,
 "nbformat_minor": 5
}
