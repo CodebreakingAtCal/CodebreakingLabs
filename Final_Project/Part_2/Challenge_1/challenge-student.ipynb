{
 "cells": [
  {
   "cell_type": "markdown",
   "id": "29b37cb7",
   "metadata": {},
   "source": [
    "# Final Project: Challenge 1\n",
    "Contributions From: Ryan Cottone\n",
    "\n",
    "**Difficulty**: <span style=\"color:green\">$\\bullet$</span>\n",
    "\n",
    "Welcome to the first challenge! The Part 1 system has been copied below, with **one** modification.\n",
    "\n",
    "You've compromised the user's computer after they finished their session with the server. Unfortunately for you, they've erased their password, but you were able to find **their ECDH secret value**, as well as all communication between the client and server (mostly encrypted).\n",
    "\n",
    "Recover the user's password."
   ]
  },
  {
   "cell_type": "code",
   "execution_count": null,
   "id": "a18735ba",
   "metadata": {},
   "outputs": [],
   "source": [
    "%%capture\n",
    "import sys\n",
    "!{sys.executable} -m pip install pycryptodome"
   ]
  },
  {
   "cell_type": "code",
   "execution_count": null,
   "id": "982567e7",
   "metadata": {},
   "outputs": [],
   "source": [
    "%run client.ipynb\n",
    "%run server.ipynb\n",
    "from utils import *"
   ]
  },
  {
   "cell_type": "markdown",
   "id": "89b6ee81",
   "metadata": {},
   "source": [
    "### Elliptic Curve Parameters"
   ]
  },
  {
   "cell_type": "code",
   "execution_count": null,
   "id": "63d769c7",
   "metadata": {},
   "outputs": [],
   "source": [
    "ellipticCurve = [0, 7]\n",
    "ellipticCurveModulus = 115792089237316195423570985008687907853269984665640564039457584007908834671663 \n",
    "generatorPoint = (55066263022277343669578718895168534326250603453777594175500187360389116729240,\n",
    " 32670510020758816978083085130507043184471273380659243275938904335757337482424)\n",
    "generatorPointOrder =115792089237316195423570985008687907852837564279074904382605163141518161494337"
   ]
  },
  {
   "cell_type": "markdown",
   "id": "c6d85580",
   "metadata": {},
   "source": [
    "**Challenge Reminder:**\n",
    "\n",
    "You've compromised the user's computer after they finished their session with the server. Unfortunately for you, they've erased their password, but you were able to find **their ECDH secret value**, as well as all communication between the client and server (mostly encrypted).\n",
    "\n",
    "Implement **recoverPassword**, which takes in the clientECDHSecret, clientECDHPublicKey, serverPublicKey, and a list of encrypted requests.\n",
    "\n",
    "## DO NOT ACCESS PRIVATE VARIABLES OF Client or Server! This ruins the point, and will fail hidden tests.\n",
    "\n",
    "This would be using something like `server.RSA_PRIVATE_KEY`. Due to Python's lack of private class variables, this isn't technically hidden from you, but it ruins the point of the challenge."
   ]
  },
  {
   "cell_type": "markdown",
   "id": "e3df300a",
   "metadata": {},
   "source": [
    "Another useful function to consider using is `json.loads`. This takes in a string encoding a JSON object and coverts it into a Python object of the same form. Example:"
   ]
  },
  {
   "cell_type": "code",
   "execution_count": null,
   "id": "a4734c98",
   "metadata": {},
   "outputs": [],
   "source": [
    "strobj = '{\"type\": \"verifyLogin\", \"username\": \"admin\", \"password\": \"nottheactualchallengepassword\"}'\n",
    "\n",
    "print(json.loads(strobj))\n",
    "\n",
    "# it also works with bytestrings\n",
    "\n",
    "strobj = b'{\"type\": \"verifyLogin\", \"username\": \"admin\", \"password\": \"nottheactualchallengepassword\"}'\n",
    "\n",
    "print(json.loads(strobj))"
   ]
  },
  {
   "cell_type": "markdown",
   "id": "660ffd2f",
   "metadata": {},
   "source": [
    "This is useful when decrypting an encrypted object, since the decryption will spit out a JSON-encoded string:"
   ]
  },
  {
   "cell_type": "code",
   "execution_count": null,
   "id": "51d5a909",
   "metadata": {},
   "outputs": [],
   "source": [
    "enc = encryptAES(b'DEADBEEF'*2, bytes(json.dumps({ 'data': 'test' }), 'utf-8'))\n",
    "\n",
    "dec = decryptAES(b'DEADBEEF'*2, enc)\n",
    "print('Raw decryption:', dec)\n",
    "\n",
    "print('Parsed decryption:', json.loads(dec))"
   ]
  },
  {
   "cell_type": "markdown",
   "id": "78f965e6",
   "metadata": {},
   "source": [
    "## Fill this in:"
   ]
  },
  {
   "cell_type": "code",
   "execution_count": null,
   "id": "677b40fb",
   "metadata": {},
   "outputs": [],
   "source": [
    "def recoverPassword(clientECDHSecret, clientECDHPublicKey, serverECDHPublicKey, requests):\n",
    "    \"\"\"\n",
    "    Given the client's ECDH secret + their public ECDH message + the server's public ECDH message \n",
    "    + a log of encrypted requests, recover their password.\n",
    "    \"\"\"\n",
    "    \n",
    "    sharedPoint = ...\n",
    "    secretKeyInt = ...\n",
    "                \n",
    "    firstRequestData = requests[0]['data']\n",
    "        \n",
    "    decrypted = ...\n",
    "    \n",
    "    return decrypted['password']"
   ]
  },
  {
   "cell_type": "markdown",
   "id": "7667a27f",
   "metadata": {},
   "source": [
    "Here's an example to test with:"
   ]
  },
  {
   "cell_type": "code",
   "execution_count": null,
   "id": "c26093fd",
   "metadata": {},
   "outputs": [],
   "source": [
    "user_ECDH_secret = 90290845148020897023116745998014014953473264085970795748597286319299938764120\n",
    "\n",
    "clientECDHPublicKey = (11910238893294113284629791379694021346255410903529814287384409482867698099738, 57199013811813002590599907298490047695556953181653541094325384109487979054140)\n",
    "\n",
    "serverECDHPublicKey = (22440150051336888660028409629839187100442579387734406808126251444457505990235, 83896118842962139985960403226047666880509745814946262915519466494621686221715)\n",
    "\n",
    "requests = [{'data': '{\"iv\": \"sCTIv0NxOuwzqsmaCY5BKQ==\", \"ciphertext\": \"Z8HtMh0QL9KzkLTTTItpU3oGRx23ovzEH9g6quA8fI2U2sAWVpGLGt+EQ2zPYUqbuu2XgaQQ4EVA/3cOkqfhScgXilkPeLnTrXvIMoRAE8yFiSoaaS+9W5GBQbqHSTMj\"}', 'hmac': 'eb0fc4bbacfc2b1c985bda94660b5cc8fed82681814050ee136cdb275b69f16d'}]\n",
    "\n",
    "recoveredPwd = recoverPassword(user_ECDH_secret, clientECDHPublicKey, serverECDHPublicKey, requests)\n",
    "\n",
    "print('Recovered the following password:', recoveredPwd)"
   ]
  },
  {
   "cell_type": "markdown",
   "id": "0adbd116",
   "metadata": {},
   "source": [
    "### Submission\n",
    "\n",
    "Once you've recovered the password, enter it into the Gradescope page [here](https://www.gradescope.com/courses/406561/assignments/2458985) and copy-paste your **recoverPassword** function in the same assignment. (Unfortunately our usual autograder does not play nice with this style of challenge)"
   ]
  }
 ],
 "metadata": {
  "interpreter": {
   "hash": "50292dbb1f747f7151d445135d392af3138fb3c65386d17d9510cb605222b10b"
  },
  "kernelspec": {
   "display_name": "Python 3 (ipykernel)",
   "language": "python",
   "name": "python3"
  },
  "language_info": {
   "codemirror_mode": {
    "name": "ipython",
    "version": 3
   },
   "file_extension": ".py",
   "mimetype": "text/x-python",
   "name": "python",
   "nbconvert_exporter": "python",
   "pygments_lexer": "ipython3",
   "version": "3.9.14"
  },
  "vscode": {
   "interpreter": {
    "hash": "86b6775e93d8e7b2e5f79e45a0bdd3fb78f60d14c90e6111b0fee66688ef28fc"
   }
  }
 },
 "nbformat": 4,
 "nbformat_minor": 5
}
