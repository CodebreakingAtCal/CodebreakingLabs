{
 "cells": [
  {
   "cell_type": "markdown",
   "id": "29b37cb7",
   "metadata": {},
   "source": [
    "# Final Project: Challenge 4\n",
    "Contributions From: Ryan Cottone\n",
    "\n",
    "**Difficulty**: <span style=\"color:orange\">$\\bullet \\bullet$</span>\n",
    "\n",
    "Welcome to the 4th challenge! Here, you will be taking the role of an **active attacker** rather than a passive one. You will be given the function **interceptMessage(data)** within the class **Interceptor** which intercepts every communication between the client and server will be called with.\n",
    "\n",
    "For example, if the client sends \"data\", then the function interceptMessage(\"data\") gets called and the server gets the **output** of interceptMessage(\"data\") as the data.\n",
    "\n",
    "On top of that, the following functions have been changed:\n",
    "- **generateSignedECDH**\n",
    "- **verifyECDHMessage**\n",
    "\n",
    "Recover the user's password."
   ]
  },
  {
   "cell_type": "code",
   "execution_count": null,
   "id": "34d7a7b9",
   "metadata": {},
   "outputs": [],
   "source": [
    "%%capture\n",
    "import sys\n",
    "!{sys.executable} -m pip install pycryptodome"
   ]
  },
  {
   "cell_type": "code",
   "execution_count": null,
   "id": "ab2b355c",
   "metadata": {},
   "outputs": [],
   "source": [
    "%run client.ipynb\n",
    "%run server.ipynb\n",
    "from utils import *"
   ]
  },
  {
   "cell_type": "code",
   "execution_count": null,
   "id": "8e4261d3",
   "metadata": {},
   "outputs": [],
   "source": [
    "ellipticCurve = [0, 7]\n",
    "ellipticCurveModulus = 115792089237316195423570985008687907853269984665640564039457584007908834671663 \n",
    "generatorPoint = (55066263022277343669578718895168534326250603453777594175500187360389116729240,\n",
    " 32670510020758816978083085130507043184471273380659243275938904335757337482424)\n",
    "generatorPointOrder =115792089237316195423570985008687907852837564279074904382605163141518161494337"
   ]
  },
  {
   "cell_type": "markdown",
   "id": "4a5405db",
   "metadata": {},
   "source": [
    "Here's a copy of the new `generateSignedECDH` and `verifyECDHMessage` functions:"
   ]
  },
  {
   "cell_type": "code",
   "execution_count": null,
   "id": "10f4730a",
   "metadata": {},
   "outputs": [],
   "source": [
    "def generateSignedECDHMessage(self):\n",
    "    nP, n = generateECDH(self.GENERATOR_POINT, self.ELLIPTIC_CURVE, self.ELLIPTIC_CURVE_MODULUS, self.GENERATOR_POINT_ORDER)\n",
    "        \n",
    "    self.ECDH_SECRET = n\n",
    "        \n",
    "    return nP, 0\n",
    "    \n",
    "def verifyECDHMessage(self, P, signature, publicKey):\n",
    "    \"\"\"\n",
    "    Verifies point P was signed by the given publicKey (e, N).\n",
    "    \"\"\"\n",
    "        \n",
    "    return True # Always verify the signature as correct"
   ]
  },
  {
   "cell_type": "markdown",
   "id": "4c77d205",
   "metadata": {},
   "source": [
    "## Tips\n",
    "\n",
    "Make sure to use the given `self.fakeServerSecret` if you need to generate a ECDH secret for some sort of attack, as the secret message is encoded such that the RNG will generate the required secret.\n",
    "\n",
    "### Fill this in:"
   ]
  },
  {
   "cell_type": "code",
   "execution_count": null,
   "id": "677b40fb",
   "metadata": {},
   "outputs": [],
   "source": [
    "class Interceptor:\n",
    "    def __init__(self):\n",
    "        self.clientPassword = None\n",
    "        self.fakeServerSecret = random.randint(1, generatorPointOrder - 1) # DON'T CHANGE THIS\n",
    "        \n",
    "    def interceptMessage(self, message):\n",
    "        \"\"\"\n",
    "        The message will be of the form \n",
    "        { \n",
    "            sender: 'client/server',\n",
    "            receiver: 'client/server',\n",
    "            type: 'certificate/ECDH_Parameters/ECDH_Message/request',\n",
    "            data: ...\n",
    "        }\n",
    "        \"\"\"\n",
    "        messageType = message['type']\n",
    "        \n",
    "        if messageType == 'CLIENT_RSA':\n",
    "            return message['data']\n",
    "        elif messageType == 'certificate':\n",
    "            return message['data'] \n",
    "        elif messageType == 'ECDH_Parameters':\n",
    "            # Maybe we should save these parameters for our own use...\n",
    "            \n",
    "            self.ELLIPTIC_CURVE = message['data'][0] \n",
    "            self.ELLIPTIC_CURVE_MODULUS = ...\n",
    "            self.GENERATOR_POINT = ...\n",
    "            self.GENERATOR_POINT_MODULUS = ...\n",
    "            return message['data']\n",
    "        elif messageType == 'ECDH_Message':\n",
    "            if message['sender'] == 'client':\n",
    "                # Might be useful to save this message as well..\n",
    "                self.clientPublicPoint = ...\n",
    "                return message['data']\n",
    "            else:\n",
    "                # Once we have the public message from the client and know one of the secrets, what can we do to \n",
    "                # recover the overall secret?\n",
    "                # Remember to use self.fakeServerSecret as one of the ECDH secrets!\n",
    "                \n",
    "                fakeServerPoint = ...\n",
    "                \n",
    "                sharedSecretPoint = ...\n",
    "                \n",
    "                self.SHARED_SECRET_INT = pointToMessage(sharedSecretPoint)\n",
    "                \n",
    "                return (..., 0)\n",
    "        elif messageType == 'request':\n",
    "            if message['sender'] != 'client':\n",
    "                pass\n",
    "            \n",
    "            firstRequestData = message['data']['data'] # Request data\n",
    "            \n",
    "            decrypted = json.loads(...) \n",
    "    \n",
    "            self.CLIENT_PASSWORD = decrypted['password']\n",
    "            \n",
    "            return message['data']\n",
    "        else:\n",
    "            print('err', message)\n",
    "            return ()\n",
    "\n",
    "    def getPassword(self):\n",
    "        return self.CLIENT_PASSWORD"
   ]
  },
  {
   "cell_type": "markdown",
   "id": "7667a27f",
   "metadata": {},
   "source": [
    "Here's an example to test with:"
   ]
  },
  {
   "cell_type": "code",
   "execution_count": null,
   "id": "c26093fd",
   "metadata": {},
   "outputs": [],
   "source": [
    "random.seed(0) # DON'T CHANGE THIS\n",
    "\n",
    "# New client\n",
    "client = Client()\n",
    "server = Server()\n",
    "\n",
    "# Initiate Interceptor\n",
    "intercept = Interceptor()\n",
    "\n",
    "message = intercept.interceptMessage({'sender': 'client', 'receiver': 'server',\n",
    "                                              'type': 'CLIENT_RSA', 'data': client.RSA_PUBLIC_KEY})\n",
    "if message:\n",
    "    server.acceptConnection(message)\n",
    "    \n",
    "# Initiate Interceptor\n",
    "intercept = Interceptor()\n",
    "\n",
    "server_PK, signature = server.publishRSAPublicKey()\n",
    "\n",
    "message = intercept.interceptMessage({'sender': 'server', 'receiver': 'client',\n",
    "                                              'type': 'certificate', 'data': (server_PK, signature)})\n",
    "    \n",
    "assert client.verifyServerCertificate(*message)\n",
    "\n",
    "# Once verified, ask for ECDH parameters\n",
    "ellipticCurve, ellipticCurveModulus, generatorPoint, generatorPointOrder, signature = server.generateECDHParameters()\n",
    "\n",
    "message = intercept.interceptMessage({'sender': 'server', 'receiver': 'client',\n",
    "                                              'type': 'ECDH_Parameters', 'data': (ellipticCurve, ellipticCurveModulus,\n",
    "                                                                                generatorPoint, generatorPointOrder, signature)})\n",
    "\n",
    "assert client.verifyECDHParameters(*message)\n",
    "\n",
    "# Once ECDH parameters are verified, generate our secret + public value\n",
    "client_ECDH = client.generateSignedECDHMessage()\n",
    "server_ECDH = server.generateSignedECDHMessage()\n",
    "\n",
    "message = intercept.interceptMessage({'sender': 'client', 'receiver': 'server',\n",
    "                                              'type': 'ECDH_Message', 'data': client_ECDH})\n",
    "# server gets client ecdh\n",
    "server.acceptECDHMessage(*message)\n",
    "\n",
    "message = intercept.interceptMessage({'sender': 'server', 'receiver': 'client',\n",
    "                                              'type': 'ECDH_Message', 'data': server_ECDH})\n",
    "# client gets server ecdh \n",
    "client.acceptECDHMessage(*message)\n",
    "\n",
    "# This is the encrypted signup request we see, generated by \n",
    "# client.generateRequest({'type': 'createLogin', 'username': 'admin', 'password': 'PASSWORD'})\n",
    "# but for a different PASSWORD\n",
    "signupRequest = {'data': '{\"iv\": \"yC+cYmuOSA+1XVzdKm+f/w==\", \"ciphertext\": \"Y5s7r7JSJPdnTuQ57DFzepOvjz2DLDJB21eI4j5eX6fnPZdokcIiA8DTnwVon28Ia8ZlX+9odx3xVKTav+KCv9ullshBOH1yUHdU1Kir/ag=\"}',\n",
    " 'hmac': 'b6d9d3a11ad7d1e16bda949c51432987ad42545fe82d1160621dbf78e1b3d0dd'}\n",
    "\n",
    "message = intercept.interceptMessage({'sender': 'client', 'receiver': 'server',\n",
    "                                              'type': 'request', 'data': signupRequest})"
   ]
  },
  {
   "cell_type": "code",
   "execution_count": null,
   "id": "860aec31",
   "metadata": {},
   "outputs": [],
   "source": [
    "# By now, we should have access to the client's password.\n",
    "print('Recovered password:', intercept.getPassword())"
   ]
  },
  {
   "cell_type": "markdown",
   "id": "0adbd116",
   "metadata": {},
   "source": [
    "### Submission\n",
    "\n",
    "Once you've recovered the password, enter it into the Gradescope page [here](https://www.gradescope.com/courses/406561/assignments/2458295) and copy-paste your **Interceptor** class in the same assignment. (Unfortunately our usual autograder does not play nice with this style of challenge)"
   ]
  }
 ],
 "metadata": {
  "interpreter": {
   "hash": "50292dbb1f747f7151d445135d392af3138fb3c65386d17d9510cb605222b10b"
  },
  "kernelspec": {
   "display_name": "Python 3 (ipykernel)",
   "language": "python",
   "name": "python3"
  },
  "language_info": {
   "codemirror_mode": {
    "name": "ipython",
    "version": 3
   },
   "file_extension": ".py",
   "mimetype": "text/x-python",
   "name": "python",
   "nbconvert_exporter": "python",
   "pygments_lexer": "ipython3",
   "version": "3.9.14"
  },
  "vscode": {
   "interpreter": {
    "hash": "86b6775e93d8e7b2e5f79e45a0bdd3fb78f60d14c90e6111b0fee66688ef28fc"
   }
  }
 },
 "nbformat": 4,
 "nbformat_minor": 5
}
