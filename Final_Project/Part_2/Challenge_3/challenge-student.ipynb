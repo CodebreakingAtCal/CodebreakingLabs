{
 "cells": [
  {
   "cell_type": "markdown",
   "id": "29b37cb7",
   "metadata": {},
   "source": [
    "# Final Project: Challenge 3\n",
    "Contributions From: Ryan Cottone\n",
    "\n",
    "**Difficulty**: <span style=\"color:green\">$\\bullet$</span>\n",
    "\n",
    "Welcome to the third challenge! The following functions have been changed:\n",
    "\n",
    "- **generateECDH** (utils.py)\n",
    "\n",
    "Recover the user's password.\n",
    "\n",
    "Note: **decryptAES** with throw an error if the ciphertext decrypts incorrectly."
   ]
  },
  {
   "cell_type": "code",
   "execution_count": null,
   "id": "9f464b2e",
   "metadata": {},
   "outputs": [],
   "source": [
    "%%capture\n",
    "import sys\n",
    "!{sys.executable} -m pip install pycryptodome"
   ]
  },
  {
   "cell_type": "code",
   "execution_count": null,
   "id": "bf465a84",
   "metadata": {},
   "outputs": [],
   "source": [
    "%run client.ipynb\n",
    "%run server.ipynb\n",
    "from utils import *"
   ]
  },
  {
   "cell_type": "code",
   "execution_count": null,
   "id": "63d769c7",
   "metadata": {},
   "outputs": [],
   "source": [
    "ellipticCurve = [0, 7]\n",
    "ellipticCurveModulus = 115792089237316195423570985008687907853269984665640564039457584007908834671663 \n",
    "generatorPoint = (55066263022277343669578718895168534326250603453777594175500187360389116729240,\n",
    " 32670510020758816978083085130507043184471273380659243275938904335757337482424)\n",
    "generatorPointOrder =115792089237316195423570985008687907852837564279074904382605163141518161494337"
   ]
  },
  {
   "cell_type": "markdown",
   "id": "bb8b658c",
   "metadata": {},
   "source": [
    "Here's a copy of the new `generateECDH` from utils.py:"
   ]
  },
  {
   "cell_type": "code",
   "execution_count": null,
   "id": "97ef286e",
   "metadata": {},
   "outputs": [],
   "source": [
    "def generateECDH(generatorPoint, E, p, N):\n",
    "    \n",
    "    n = random.randrange(2, 50)\n",
    "\n",
    "    nP = doubleAndAdd(generatorPoint, n, E, p)\n",
    "    \n",
    "    return nP, n"
   ]
  },
  {
   "cell_type": "markdown",
   "id": "34829c41",
   "metadata": {},
   "source": [
    "## Fill this in:"
   ]
  },
  {
   "cell_type": "code",
   "execution_count": null,
   "id": "677b40fb",
   "metadata": {},
   "outputs": [],
   "source": [
    "def recoverPassword(clientECDHPublicKey, serverECDHPublicKey, requests):\n",
    "    \"\"\"\n",
    "    Given the client's public ECDH message,the server's public ECDH message, \n",
    "    and a log of encrypted requests, recover the client's password.\n",
    "    \"\"\"\n",
    "    \n",
    "    ..."
   ]
  },
  {
   "cell_type": "markdown",
   "id": "7667a27f",
   "metadata": {},
   "source": [
    "Here's an example to test with:"
   ]
  },
  {
   "cell_type": "code",
   "execution_count": null,
   "id": "c26093fd",
   "metadata": {},
   "outputs": [],
   "source": [
    "serverECDHPublicKey = (10219441022991940610048493520113102240595005085840974180672104038719657072293,\n",
    " 84023467742492607926612431243360899514584580916128500081114886405247779677078)\n",
    "\n",
    "clientECDHPublicKey = (58245954963044076335222193032419637688317373475605757277584156718458924469103,\n",
    "                       12764036181290433088658499435961200322530176588733628912045896254235383420282)\n",
    "requests = [{'data': '{\"iv\": \"8/SZNnZ91rV3bcjbaL3hRg==\", \"ciphertext\": \"h0/uuBwq3LLH/tzLNT/qKIr8XHl5jhHOk5dkgdvmSqB90wjJrMdwwYKqEr7vIuGra1Qkaatc4bhV0J3kbYMHmQ6Aicp6tOE3eiG7NaRDS0IYcWdO87mzjpO48RuI4wt7\"}', 'hmac': '3f999138e95326fca0c4f9df30e205bf298c958619458577c7197e96dcb5f804'}]\n",
    "\n",
    "recoveredPwd = recoverPassword(clientECDHPublicKey, serverECDHPublicKey, requests)\n",
    "\n",
    "print('Recovered password:', recoveredPwd)"
   ]
  },
  {
   "cell_type": "markdown",
   "id": "cf753b10",
   "metadata": {},
   "source": [
    "### Submission\n",
    "\n",
    "Once you've recovered the password, enter it into the Gradescope page [here](https://www.gradescope.com/courses/406561/assignments/2459050) and copy-paste your **recoverPassword** code in the same assignment. (Unfortunately our usual autograder does not play nice with this style of challenge)"
   ]
  },
  {
   "cell_type": "code",
   "execution_count": null,
   "id": "4feab636",
   "metadata": {},
   "outputs": [],
   "source": []
  }
 ],
 "metadata": {
  "interpreter": {
   "hash": "50292dbb1f747f7151d445135d392af3138fb3c65386d17d9510cb605222b10b"
  },
  "kernelspec": {
   "display_name": "Python 3 (ipykernel)",
   "language": "python",
   "name": "python3"
  },
  "language_info": {
   "codemirror_mode": {
    "name": "ipython",
    "version": 3
   },
   "file_extension": ".py",
   "mimetype": "text/x-python",
   "name": "python",
   "nbconvert_exporter": "python",
   "pygments_lexer": "ipython3",
   "version": "3.9.14"
  },
  "vscode": {
   "interpreter": {
    "hash": "86b6775e93d8e7b2e5f79e45a0bdd3fb78f60d14c90e6111b0fee66688ef28fc"
   }
  }
 },
 "nbformat": 4,
 "nbformat_minor": 5
}
