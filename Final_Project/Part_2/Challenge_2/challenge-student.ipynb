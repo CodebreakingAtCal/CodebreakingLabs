{
 "cells": [
  {
   "cell_type": "markdown",
   "id": "29b37cb7",
   "metadata": {},
   "source": [
    "# Final Project: Challenge 2\n",
    "Contributions From: Ryan Cottone\n",
    "\n",
    "**Difficulty**: <span style=\"color:green\">$\\bullet$</span>\n",
    "\n",
    "Welcome to the 2nd challenge! The following functions have been changed/added:\n",
    "\n",
    "- **createLogin**\n",
    "- **verifyLogin**\n",
    "- **strangeHashFunction**\n",
    "\n",
    "Your goal is to find *one* valid password for the given username."
   ]
  },
  {
   "cell_type": "markdown",
   "id": "3ac6281c",
   "metadata": {},
   "source": [
    "### Utility Functions"
   ]
  },
  {
   "cell_type": "code",
   "execution_count": null,
   "id": "34d7a7b9",
   "metadata": {},
   "outputs": [],
   "source": [
    "%%capture\n",
    "import sys\n",
    "!{sys.executable} -m pip install pycryptodome"
   ]
  },
  {
   "cell_type": "code",
   "execution_count": null,
   "id": "ab2b355c",
   "metadata": {},
   "outputs": [],
   "source": [
    "%run client.ipynb\n",
    "%run server.ipynb\n",
    "from utils import *"
   ]
  },
  {
   "cell_type": "markdown",
   "id": "d8322ef3",
   "metadata": {},
   "source": [
    "Here's a copy of `strangeHashFunction` from `utils.py`:"
   ]
  },
  {
   "cell_type": "code",
   "execution_count": null,
   "id": "7f9bb3ab",
   "metadata": {},
   "outputs": [],
   "source": [
    "# NEW \n",
    "def strangeHashFunction(s): # s is a string or int\n",
    "    if type(s) == int:\n",
    "        s = intToText(s)\n",
    "    \n",
    "    total = 0 \n",
    "    \n",
    "    for letter in s:\n",
    "        total += textToInt(s[0])\n",
    "    \n",
    "    return hex(hash_SHA256(total % 26))"
   ]
  },
  {
   "cell_type": "markdown",
   "id": "ce35d035",
   "metadata": {},
   "source": [
    "createLogin and verifyLogin are the same, except they use `strangeHashFunction` instead of `hash_SHA256`."
   ]
  },
  {
   "cell_type": "code",
   "execution_count": null,
   "id": "8e4261d3",
   "metadata": {},
   "outputs": [],
   "source": [
    "ellipticCurve = [0, 7]\n",
    "ellipticCurveModulus = 115792089237316195423570985008687907853269984665640564039457584007908834671663 \n",
    "generatorPoint = (55066263022277343669578718895168534326250603453777594175500187360389116729240,\n",
    " 32670510020758816978083085130507043184471273380659243275938904335757337482424)\n",
    "generatorPointOrder =115792089237316195423570985008687907852837564279074904382605163141518161494337"
   ]
  },
  {
   "cell_type": "markdown",
   "id": "8cb59dbc",
   "metadata": {},
   "source": [
    "### Challenge Reminder \n",
    "The following functions have been changed/added:\n",
    "\n",
    "- **createLogin**\n",
    "- **verifyLogin**\n",
    "- **strangeHashFunction**\n",
    "\n",
    "Your goal is to find *one* valid password for the given username (**not necessarily their *unique* password**).\n",
    "\n",
    "Can you think of why there might be more than one valid password?\n",
    "\n",
    "Fill out the function `findLogin` that takes in the username that we want to 'hack' and a function `login`. `login(username, password)` takes in a username and password and returns True if the combination is valid, False otherwise."
   ]
  },
  {
   "cell_type": "markdown",
   "id": "037ad16f",
   "metadata": {},
   "source": [
    "Potentially helpful list of lowercase letters..."
   ]
  },
  {
   "cell_type": "code",
   "execution_count": null,
   "id": "5cc82186",
   "metadata": {},
   "outputs": [],
   "source": [
    "string.ascii_lowercase"
   ]
  },
  {
   "cell_type": "markdown",
   "id": "11ecbd2c",
   "metadata": {},
   "source": [
    "## Fill this in:"
   ]
  },
  {
   "cell_type": "code",
   "execution_count": null,
   "id": "677b40fb",
   "metadata": {},
   "outputs": [],
   "source": [
    "def findLogin(username, login):\n",
    "    \"\"\"\n",
    "    Given a username and a function login(username, password) that returns True or False whether username, password is correct,\n",
    "    find a correct login for the username. E.g., a password that will successfully log them in.\n",
    "    \"\"\"\n",
    "    \n",
    "    ..."
   ]
  },
  {
   "cell_type": "markdown",
   "id": "7667a27f",
   "metadata": {},
   "source": [
    "Here's an example to test with:"
   ]
  },
  {
   "cell_type": "code",
   "execution_count": null,
   "id": "c26093fd",
   "metadata": {},
   "outputs": [],
   "source": [
    "random.seed(0) # DO NOT CHANGE THIS\n",
    "\n",
    "client = Client()\n",
    "server = Server()\n",
    "\n",
    "server.LOGINS = {}\n",
    "\n",
    "server.acceptConnection(client.RSA_PUBLIC_KEY)\n",
    "\n",
    "server_PK, signature = server.publishRSAPublicKey()\n",
    "assert client.verifyServerCertificate(server_PK, signature)\n",
    "\n",
    "# Once verified, ask for ECDH parameters\n",
    "ellipticCurve, ellipticCurveModulus, generatorPoint, generatorPointOrder, signature = server.generateECDHParameters()\n",
    "assert client.verifyECDHParameters(ellipticCurve, ellipticCurveModulus, generatorPoint, generatorPointOrder, signature)\n",
    "\n",
    "# Once ECDH parameters are verified, generate our secret + public value\n",
    "client_ECDH = client.generateSignedECDHMessage()\n",
    "server_ECDH = server.generateSignedECDHMessage()\n",
    "\n",
    "# client gets server ecdh \n",
    "client.acceptECDHMessage(server_ECDH[0], server_ECDH[1])\n",
    "# server gets client ecdh\n",
    "server.acceptECDHMessage(client_ECDH[0], client_ECDH[1])\n",
    "assert client.SHARED_SECRET_INT == server.SHARED_SECRET_INT\n",
    "\n",
    "signupRequest = {'data': '{\"iv\": \"K+e4u0ZEsVQmln3IuzCo9g==\", \"ciphertext\": \"Fzz05RGWg03MNviiTS3ibpq0EoiJ+j1xfp7/bAgymylzb+7Rng6lPdpJ8NaLdMLcfR/4hiVDPzRzzFKjB6fbxBCIFIWN8rjysiZWk97EIDs=\"}',\n",
    " 'hmac': '7f104635b7e3bb01f22fb699f5e3f82e4551722926c8239e5acb86b19a3964bf'}\n",
    "server.handleRequest(signupRequest)"
   ]
  },
  {
   "cell_type": "code",
   "execution_count": null,
   "id": "5b8ea238",
   "metadata": {},
   "outputs": [],
   "source": [
    "def login(username, password):\n",
    "    loginRequest = client.generateRequest({'type': 'verifyLogin', 'username': username, 'password': password})\n",
    "    \n",
    "    try:\n",
    "        return server.handleRequest(loginRequest)\n",
    "    except Exception:\n",
    "        return False"
   ]
  },
  {
   "cell_type": "code",
   "execution_count": null,
   "id": "92446c51",
   "metadata": {},
   "outputs": [],
   "source": [
    "onePassword = findLogin('admin', login)\n",
    "\n",
    "print('Valid password found:', onePassword)\n",
    "assert login('admin', onePassword)"
   ]
  },
  {
   "cell_type": "markdown",
   "id": "0adbd116",
   "metadata": {},
   "source": [
    "### Submission\n",
    "\n",
    "Once you've recovered the password, enter it into the Gradescope page [here](https://www.gradescope.com/courses/406561/assignments/2459002) and copy-paste your **findLogin** code in the same assignment. (Unfortunately our usual autograder does not play nice with this style of challenge)"
   ]
  },
  {
   "cell_type": "code",
   "execution_count": null,
   "id": "48699702",
   "metadata": {},
   "outputs": [],
   "source": []
  }
 ],
 "metadata": {
  "interpreter": {
   "hash": "50292dbb1f747f7151d445135d392af3138fb3c65386d17d9510cb605222b10b"
  },
  "kernelspec": {
   "display_name": "Python 3 (ipykernel)",
   "language": "python",
   "name": "python3"
  },
  "language_info": {
   "codemirror_mode": {
    "name": "ipython",
    "version": 3
   },
   "file_extension": ".py",
   "mimetype": "text/x-python",
   "name": "python",
   "nbconvert_exporter": "python",
   "pygments_lexer": "ipython3",
   "version": "3.9.14"
  },
  "vscode": {
   "interpreter": {
    "hash": "86b6775e93d8e7b2e5f79e45a0bdd3fb78f60d14c90e6111b0fee66688ef28fc"
   }
  }
 },
 "nbformat": 4,
 "nbformat_minor": 5
}
