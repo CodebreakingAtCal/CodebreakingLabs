{
 "cells": [
  {
   "cell_type": "markdown",
   "id": "29b37cb7",
   "metadata": {},
   "source": [
    "# Final Project: Challenge 7\n",
    "Contributions From: Ryan Cottone\n",
    "\n",
    "**Difficulty**: <span style=\"color:red\">$\\bullet \\bullet \\bullet$</span>\n",
    "\n",
    "Welcome to the 7th challenge! This challenge may be considerably harder than the previous ones, though not necessarily longer.\n",
    "\n",
    "You managed to leak the user's password, but they changed it to something new shortly after.\n",
    "\n",
    "On top of that, the server has decided to upgrade to AES-CTR mode instead of AES-CBC, having heard good things about its security.\n",
    "\n",
    "The following functions have been changed:\n",
    "\n",
    "- **encryptMessage**\n",
    "- **decryptMessage**\n",
    "\n",
    "Note: The rest of the utility functions are in utils.py, but none have been changed except for the above two. You are provided with a copy of the updated code below.\n",
    "\n",
    "Recover the user's new password."
   ]
  },
  {
   "cell_type": "code",
   "execution_count": null,
   "id": "17e7e022",
   "metadata": {},
   "outputs": [],
   "source": [
    "%%capture\n",
    "import sys\n",
    "!{sys.executable} -m pip install pycryptodome"
   ]
  },
  {
   "cell_type": "code",
   "execution_count": null,
   "id": "12f7381b",
   "metadata": {},
   "outputs": [],
   "source": [
    "from utils import *"
   ]
  },
  {
   "cell_type": "markdown",
   "id": "951be6af",
   "metadata": {},
   "source": [
    "Here's a copy of the updated encryptMessage and decryptMessage:"
   ]
  },
  {
   "cell_type": "code",
   "execution_count": null,
   "id": "023b1d89",
   "metadata": {},
   "outputs": [],
   "source": [
    "def encryptAES(key, data):\n",
    "    if type(key) == int:\n",
    "        key = key.to_bytes(32, byteorder='big')\n",
    "    \n",
    "    assert len(key) == 16 or len(key) == 24 or len(key) == 32, \"Invalid keysize\"\n",
    "    \n",
    "    nonce = b'DEADBEEF'\n",
    "    \n",
    "    paddedData = pad(data, AES.block_size)\n",
    "    \n",
    "    cipher = AES.new(key, AES.MODE_CTR, nonce=nonce)\n",
    "    \n",
    "    ct_bytes = cipher.encrypt(paddedData)\n",
    "\n",
    "    nonce = b64encode(cipher.nonce).decode('utf-8')\n",
    "\n",
    "    ct = b64encode(ct_bytes).decode('utf-8')\n",
    "\n",
    "    result = json.dumps({'nonce':nonce, 'ciphertext':ct})\n",
    "    \n",
    "    return result\n",
    "\n",
    "def decryptAES(key, encrypted):\n",
    "    if type(key) == int:\n",
    "        key = key.to_bytes(32, byteorder='big')\n",
    "    \n",
    "    assert len(key) == 16 or len(key) == 24 or len(key) == 32, \"Invalid keysize\"\n",
    "    \n",
    "    try:\n",
    "        b64 = json.loads(encrypted)\n",
    "        nonce = b64decode(b64['nonce'])\n",
    "        ct = b64decode(b64['ciphertext'])\n",
    "        \n",
    "        cipher = AES.new(key, AES.MODE_CTR, nonce=nonce)\n",
    "\n",
    "        return unpad(cipher.decrypt(ct), AES.block_size)\n",
    "        \n",
    "    except (ValueError, KeyError):\n",
    "        raise AssertionError(\"Invalid ciphertext\")\n",
    "        "
   ]
  },
  {
   "cell_type": "code",
   "execution_count": null,
   "id": "63d769c7",
   "metadata": {},
   "outputs": [],
   "source": [
    "ellipticCurve = [0, 7]\n",
    "ellipticCurveModulus = 115792089237316195423570985008687907853269984665640564039457584007908834671663 \n",
    "generatorPoint = (55066263022277343669578718895168534326250603453777594175500187360389116729240,\n",
    " 32670510020758816978083085130507043184471273380659243275938904335757337482424)\n",
    "generatorPointOrder =115792089237316195423570985008687907852837564279074904382605163141518161494337"
   ]
  },
  {
   "cell_type": "code",
   "execution_count": null,
   "id": "1b5ffd77",
   "metadata": {},
   "outputs": [],
   "source": [
    "import random\n",
    "import math\n",
    "import json\n",
    "from base64 import b64encode, b64decode\n",
    "from Crypto.Cipher import AES\n",
    "from Crypto.Hash import HMAC, SHA256\n",
    "from Crypto.Util.Padding import pad, unpad\n",
    "from Crypto.Random import get_random_bytes"
   ]
  },
  {
   "cell_type": "code",
   "execution_count": null,
   "id": "677b40fb",
   "metadata": {},
   "outputs": [],
   "source": [
    "def recoverPassword(username, oldPassword, requests):\n",
    "    \"\"\"\n",
    "    Given the client's old password\n",
    "    + a log of encrypted requests, recover their password.\n",
    "    \"\"\"\n",
    "    \n",
    "    ..."
   ]
  },
  {
   "cell_type": "markdown",
   "id": "7667a27f",
   "metadata": {},
   "source": [
    "Here's an example to test with (the user's old password was **oldpasswordwashere**:"
   ]
  },
  {
   "cell_type": "code",
   "execution_count": null,
   "id": "2b765ec8",
   "metadata": {},
   "outputs": [],
   "source": [
    "requests = [{'data': '{\"nonce\": \"REVBREJFRUY=\", \"ciphertext\": \"Q0jDVC4SvKmSbzkfe1DJFbMccfYY9ReEHbDbShTdSouUJm4XRmP9Gp32qrwqwxuaIBY9nuNEZ5L1eSeiDvcfXb3z//pGDXur/W/Nq6n8JaY=\"}',\n",
    " 'hmac': 'cad276d9a31baaa13c47f6c32b38845aa001ecfec2a6fea8628495077fcd0f58'},\n",
    "           {'data': '{\"nonce\": \"REVBREJFRUY=\", \"ciphertext\": \"Q0jDVC4SvKmSbzkfe1DJFbMccfYY9ReEHbDbShTdSouUJm4XRmP9Gp32qrwqwxuaIBY9nuNEZ5L1eSanCewJS6/y9fpOFWy95mjLran8JaY=\"}',\n",
    " 'hmac': '1b07f54b85936776cb1634cfa43561f0c310639ea2a7e45ef5f7475ca9c7ca41'}]\n",
    "\n",
    "recoveredPwd = recoverPassword('admin', 'oldpasswordwashere', requests)\n",
    "print('Recovered password:', recoveredPwd)"
   ]
  },
  {
   "cell_type": "markdown",
   "id": "ec7ad54b",
   "metadata": {},
   "source": [
    "### Submission\n",
    "\n",
    "Once you've recovered the password, enter it into the Gradescope page [here](https://www.gradescope.com/courses/406561/assignments/2459061) and copy-paste your **recoverPassword** code in the same assignment. (Unfortunately our usual autograder does not play nice with this style of challenge)"
   ]
  }
 ],
 "metadata": {
  "interpreter": {
   "hash": "50292dbb1f747f7151d445135d392af3138fb3c65386d17d9510cb605222b10b"
  },
  "kernelspec": {
   "display_name": "Python 3 (ipykernel)",
   "language": "python",
   "name": "python3"
  },
  "language_info": {
   "codemirror_mode": {
    "name": "ipython",
    "version": 3
   },
   "file_extension": ".py",
   "mimetype": "text/x-python",
   "name": "python",
   "nbconvert_exporter": "python",
   "pygments_lexer": "ipython3",
   "version": "3.9.14"
  },
  "vscode": {
   "interpreter": {
    "hash": "86b6775e93d8e7b2e5f79e45a0bdd3fb78f60d14c90e6111b0fee66688ef28fc"
   }
  }
 },
 "nbformat": 4,
 "nbformat_minor": 5
}
