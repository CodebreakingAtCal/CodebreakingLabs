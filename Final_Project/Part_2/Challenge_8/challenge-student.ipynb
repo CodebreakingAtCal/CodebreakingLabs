{
 "cells": [
  {
   "cell_type": "markdown",
   "id": "29b37cb7",
   "metadata": {},
   "source": [
    "# Final Project: Challenge 8\n",
    "Contributions From: Ryan Cottone\n",
    "\n",
    "**Difficulty**: <span style=\"color:red\">$\\bullet \\bullet \\bullet$</span>\n",
    "\n",
    "Welcome to the penultimate challenge!\n",
    "\n",
    "You only have access to the public API for the server (`login` function). You do not have access to the encrypted log of the `admin`'s session, nor the password database.\n",
    "\n",
    "The following functions has been changed:\n",
    "- **hash**\n",
    "- **compareHash**\n",
    "\n",
    "The server will use `compareHash` and `hash` to evaluate user passwords instead of hash_SHA256. The code for these is below.\n",
    "\n",
    "Recover the password for the user `admin`.\n",
    "\n"
   ]
  },
  {
   "cell_type": "code",
   "execution_count": null,
   "id": "8ac28ac9",
   "metadata": {},
   "outputs": [],
   "source": [
    "def hash(data):\n",
    "    if type(data) == int:\n",
    "        data = intToText(data)\n",
    "        \n",
    "    finalStr = \"\"\n",
    "    \n",
    "    for i in range(min(30, len(data))):\n",
    "        f = intToText(hash_SHA256(textToInt(data[i])))\n",
    "        finalStr += f[0]\n",
    "\n",
    "    \n",
    "    finalStr = finalStr.ljust(30, '0')\n",
    "    \n",
    "    return textToInt(finalStr)\n",
    "\n",
    "def compareHash(expectedHash, data):\n",
    "    if type(data) == int:\n",
    "        data = intToText(data)\n",
    "    \n",
    "    expectedStr = intToText(expectedHash)\n",
    "    \n",
    "    for i in range(len(data)):\n",
    "        f = intToText(hash_SHA256(textToInt(data[i])))[0]\n",
    "\n",
    "        if expectedStr[(i):((i+1))] != f:\n",
    "            return False\n",
    "        \n",
    "        time.sleep(0.01) # Hopefully this will help prevent brute-force attacks by introducing a hash delay\n",
    "    return True"
   ]
  },
  {
   "cell_type": "code",
   "execution_count": null,
   "id": "12f7381b",
   "metadata": {},
   "outputs": [],
   "source": [
    "%run client.ipynb\n",
    "%run server.ipynb\n",
    "from utils import *"
   ]
  },
  {
   "cell_type": "code",
   "execution_count": null,
   "id": "945febf4",
   "metadata": {},
   "outputs": [],
   "source": [
    "from base64 import b64encode, b64decode\n",
    "from Crypto.Cipher import AES\n",
    "from Crypto.Hash import HMAC, SHA256\n",
    "from Crypto.Util.Padding import pad, unpad\n",
    "from Crypto.Random import get_random_bytes\n",
    "import time"
   ]
  },
  {
   "cell_type": "code",
   "execution_count": null,
   "id": "63d769c7",
   "metadata": {},
   "outputs": [],
   "source": [
    "ellipticCurve = [0, 7]\n",
    "ellipticCurveModulus = 115792089237316195423570985008687907853269984665640564039457584007908834671663 \n",
    "generatorPoint = (55066263022277343669578718895168534326250603453777594175500187360389116729240,\n",
    " 32670510020758816978083085130507043184471273380659243275938904335757337482424)\n",
    "generatorPointOrder =115792089237316195423570985008687907852837564279074904382605163141518161494337"
   ]
  },
  {
   "cell_type": "markdown",
   "id": "87aaf083",
   "metadata": {},
   "source": [
    "**As in previous challenges, you are given a function `login(username, password)` that makes the login request for you, and returns True if the login succeeds. You must only use this function to interact with the server.**"
   ]
  },
  {
   "cell_type": "code",
   "execution_count": null,
   "id": "677b40fb",
   "metadata": {},
   "outputs": [],
   "source": [
    "def recoverPassword(username, login):\n",
    "    ..."
   ]
  },
  {
   "cell_type": "markdown",
   "id": "7667a27f",
   "metadata": {},
   "source": [
    "Here's an example to test with:"
   ]
  },
  {
   "cell_type": "code",
   "execution_count": null,
   "id": "c26093fd",
   "metadata": {},
   "outputs": [],
   "source": [
    "random.seed(0) # DON'T CHANGE THIS \n",
    "\n",
    "def setup():\n",
    "        # New client\n",
    "    client = Client()\n",
    "\n",
    "    # Client initiates server connection\n",
    "    server = Server()\n",
    "    server.acceptConnection(client.RSA_PUBLIC_KEY)\n",
    "\n",
    "    server_PK, signature = server.publishRSAPublicKey()\n",
    "\n",
    "    assert client.verifyServerCertificate(server_PK, signature)\n",
    "\n",
    "    # Once verified, ask for ECDH parameters\n",
    "    ellipticCurve, ellipticCurveModulus, generatorPoint, generatorPointOrder, signature = server.generateECDHParameters()\n",
    "\n",
    "    assert client.verifyECDHParameters(ellipticCurve, ellipticCurveModulus, generatorPoint, generatorPointOrder, signature)\n",
    "\n",
    "    # Once ECDH parameters are verified, generate our secret + public value\n",
    "    client_ECDH = client.generateSignedECDHMessage()\n",
    "    server_ECDH = server.generateSignedECDHMessage()\n",
    "\n",
    "    # client gets server ecdh \n",
    "    client.acceptECDHMessage(server_ECDH[0], server_ECDH[1])\n",
    "\n",
    "    # server gets client ecdh\n",
    "    server.acceptECDHMessage(client_ECDH[0], client_ECDH[1])\n",
    "\n",
    "    assert client.SHARED_SECRET_INT == server.SHARED_SECRET_INT\n",
    "\n",
    "    return client, server\n",
    "\n",
    "client, server = setup()\n",
    "server.LOGINS = {}\n",
    "    \n",
    "signupRequest = {'data': '{\"iv\": \"KrY/UGPSVX0Xh49GoJKr5Q==\", \"ciphertext\": \"AzXOs9H2JPXEyIoDHrCe4gu6hoXelObn0ELokIIDUU5KFPfZN3XIqUvnNpwwc6SsF610f1KNR7NjJriiwo58o/C+9Qo65Eu6/nZIGrnrXtk=\"}',\n",
    " 'hmac': 'b8496bd449fe73c39a991f42b1a31be544c4ea9c0051802912d902eef10703d1'}\n",
    "    \n",
    "server.handleRequest(signupRequest)\n",
    "\n",
    "def login(username, password):\n",
    "    loginRequest = client.generateRequest({'type': 'verifyLogin', 'username': username, 'password': password})\n",
    "    \n",
    "    try:\n",
    "        res = server.handleRequest(loginRequest)\n",
    "        return res\n",
    "    except Exception as e:\n",
    "        return False\n",
    "    \n",
    "recoveredPwd = recoverPassword('admin', login)\n",
    "print('Recovered password:', recoveredPwd)"
   ]
  },
  {
   "cell_type": "markdown",
   "id": "ec7ad54b",
   "metadata": {},
   "source": [
    "### Submission\n",
    "\n",
    "Once you've recovered the password, enter it into the Gradescope page [here](https://www.gradescope.com/courses/406561/assignments/2461059) and copy-paste your **recoverPassword** code in the same assignment. (Unfortunately our usual autograder does not play nice with this style of challenge)"
   ]
  }
 ],
 "metadata": {
  "interpreter": {
   "hash": "50292dbb1f747f7151d445135d392af3138fb3c65386d17d9510cb605222b10b"
  },
  "kernelspec": {
   "display_name": "Python 3 (ipykernel)",
   "language": "python",
   "name": "python3"
  },
  "language_info": {
   "codemirror_mode": {
    "name": "ipython",
    "version": 3
   },
   "file_extension": ".py",
   "mimetype": "text/x-python",
   "name": "python",
   "nbconvert_exporter": "python",
   "pygments_lexer": "ipython3",
   "version": "3.9.14"
  },
  "vscode": {
   "interpreter": {
    "hash": "86b6775e93d8e7b2e5f79e45a0bdd3fb78f60d14c90e6111b0fee66688ef28fc"
   }
  }
 },
 "nbformat": 4,
 "nbformat_minor": 5
}
