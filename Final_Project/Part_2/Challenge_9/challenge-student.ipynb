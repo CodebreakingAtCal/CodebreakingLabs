{
 "cells": [
  {
   "cell_type": "markdown",
   "id": "29b37cb7",
   "metadata": {},
   "source": [
    "# Final Project: Challenge 9\n",
    "Contributions From: Ryan Cottone\n",
    "\n",
    "**Difficulty**: <span style=\"color:dark_red\">$\\bullet \\bullet \\bullet \\bullet \\bullet$</span>\n",
    "\n",
    "Welcome to the final challenge! This one is quite tricky to figure out, but does not require large amounts of computing power or brute force.\n",
    "\n",
    "**No modification has been made to the base code. Find the vulnerability that has been hidden the entire time.**"
   ]
  },
  {
   "cell_type": "code",
   "execution_count": null,
   "id": "12f7381b",
   "metadata": {},
   "outputs": [],
   "source": [
    "%run client.ipynb\n",
    "%run server.ipynb\n",
    "from utils import *"
   ]
  },
  {
   "cell_type": "code",
   "execution_count": null,
   "id": "945febf4",
   "metadata": {},
   "outputs": [],
   "source": [
    "from base64 import b64encode, b64decode\n",
    "from Crypto.Cipher import AES\n",
    "from Crypto.Hash import HMAC, SHA256\n",
    "from Crypto.Util.Padding import pad, unpad\n",
    "from Crypto.Random import get_random_bytes\n",
    "import time"
   ]
  },
  {
   "cell_type": "code",
   "execution_count": null,
   "id": "63d769c7",
   "metadata": {},
   "outputs": [],
   "source": [
    "ellipticCurve = [0, 7]\n",
    "ellipticCurveModulus = 115792089237316195423570985008687907853269984665640564039457584007908834671663 \n",
    "generatorPoint = (55066263022277343669578718895168534326250603453777594175500187360389116729240,\n",
    " 32670510020758816978083085130507043184471273380659243275938904335757337482424)\n",
    "generatorPointOrder =115792089237316195423570985008687907852837564279074904382605163141518161494337"
   ]
  },
  {
   "cell_type": "markdown",
   "id": "b4913196",
   "metadata": {},
   "source": [
    "You may or may not need the Interceptor class, but you can assume you have the ability to intercept/modify all communications from the client/server connection."
   ]
  },
  {
   "cell_type": "code",
   "execution_count": null,
   "id": "f2f002e2",
   "metadata": {},
   "outputs": [],
   "source": [
    "class Interceptor:\n",
    "    def __init__(self):\n",
    "        ...\n",
    "        \n",
    "    def interceptMessage(self, message):\n",
    "        \"\"\"\n",
    "        The message will be of the form \n",
    "        { \n",
    "            sender: 'client/server',\n",
    "            receiver: 'client/server',\n",
    "            type: 'certificate/ECDH_Parameters/ECDH_Message/request',\n",
    "            data: ...\n",
    "        }\n",
    "        \"\"\"\n",
    "        return message['data'] # Default behavior: just pass the message along\n",
    "        \n",
    "    def getPassword(self):\n",
    "        return None"
   ]
  },
  {
   "cell_type": "markdown",
   "id": "7667a27f",
   "metadata": {},
   "source": [
    "Here's an example to test with:"
   ]
  },
  {
   "cell_type": "code",
   "execution_count": null,
   "id": "c26093fd",
   "metadata": {},
   "outputs": [],
   "source": [
    "random.seed(0)\n",
    "\n",
    "# New client\n",
    "client = Client()\n",
    "\n",
    "# Client initiates server connection\n",
    "server = Server()\n",
    "\n",
    "server.LOGINS = {}\n",
    "\n",
    "# Initiate Interceptor\n",
    "intercept = Interceptor()\n",
    "\n",
    "message = intercept.interceptMessage({'sender': 'client', 'receiver': 'server',\n",
    "                                              'type': 'CLIENT_RSA', 'data': client.RSA_PUBLIC_KEY})\n",
    "if message:\n",
    "    server.acceptConnection(message)\n",
    "\n",
    "\n",
    "server_PK, signature = server.publishRSAPublicKey()\n",
    "\n",
    "message = intercept.interceptMessage({'sender': 'server', 'receiver': 'client',\n",
    "                                              'type': 'certificate', 'data': (server_PK, signature)})\n",
    "assert client.verifyServerCertificate(*message)\n",
    "\n",
    "# Once verified, ask for ECDH parameters\n",
    "ellipticCurve, ellipticCurveModulus, generatorPoint, generatorPointOrder, signature = server.generateECDHParameters()\n",
    "\n",
    "message = intercept.interceptMessage({'sender': 'server', 'receiver': 'client',\n",
    "                                              'type': 'ECDH_Parameters', 'data': (ellipticCurve, ellipticCurveModulus,\n",
    "                                                                                generatorPoint, generatorPointOrder, signature)})\n",
    "\n",
    "assert client.verifyECDHParameters(*message)\n",
    "\n",
    "# Once ECDH parameters are verified, generate our secret + public value\n",
    "server_ECDH = server.generateSignedECDHMessage()\n",
    "\n",
    "messageOne = intercept.interceptMessage({'sender': 'server', 'receiver': 'client',\n",
    "                                              'type': 'ECDH_Message', 'data': server_ECDH})\n",
    "client_ECDH = client.generateSignedECDHMessage()\n",
    "\n",
    "messageTwo = intercept.interceptMessage({'sender': 'client', 'receiver': 'server',\n",
    "                                              'type': 'ECDH_Message', 'data': client_ECDH})\n",
    "if messageOne:\n",
    "    client.acceptECDHMessage(*messageOne)\n",
    "if messageTwo:\n",
    "    server.acceptECDHMessage(*messageTwo)\n",
    "\n",
    "\n",
    "signupRequest = {'data': '{\"iv\": \"Kmy+SVbVlbVcPXYGW4koSA==\", \"ciphertext\": \"2ir3du/Q4RV9Iatux4U4UdyA/+LXs2xVLnZ2zBneyqPOfEID2QegaSLCd4hqJCAekeHwpzhLWitHL+lbf301smd7FfrXQlLbsJATDiSAvxQ=\"}',\n",
    " 'hmac': '1f41c33271f8418d9147e22bc16f5dfcb921b3f30d544de2d22cbb5d300638d8'}\n",
    "\n",
    "message = intercept.interceptMessage({'sender': 'client', 'receiver': 'server',\n",
    "                                              'type': 'request', 'data': signupRequest})"
   ]
  },
  {
   "cell_type": "code",
   "execution_count": null,
   "id": "95e092cb",
   "metadata": {},
   "outputs": [],
   "source": [
    "intercept.getPassword()"
   ]
  },
  {
   "cell_type": "markdown",
   "id": "ea76fc06",
   "metadata": {},
   "source": [
    "### Submission\n",
    "\n",
    "Once you've recovered the password, enter it into the Gradescope page [here](https://www.gradescope.com/courses/406561/assignments/2461065) and copy-paste **all** your code into the same assignment."
   ]
  },
  {
   "cell_type": "code",
   "execution_count": null,
   "id": "205d0caf",
   "metadata": {},
   "outputs": [],
   "source": []
  }
 ],
 "metadata": {
  "interpreter": {
   "hash": "50292dbb1f747f7151d445135d392af3138fb3c65386d17d9510cb605222b10b"
  },
  "kernelspec": {
   "display_name": "Python 3 (ipykernel)",
   "language": "python",
   "name": "python3"
  },
  "language_info": {
   "codemirror_mode": {
    "name": "ipython",
    "version": 3
   },
   "file_extension": ".py",
   "mimetype": "text/x-python",
   "name": "python",
   "nbconvert_exporter": "python",
   "pygments_lexer": "ipython3",
   "version": "3.9.14"
  },
  "vscode": {
   "interpreter": {
    "hash": "86b6775e93d8e7b2e5f79e45a0bdd3fb78f60d14c90e6111b0fee66688ef28fc"
   }
  }
 },
 "nbformat": 4,
 "nbformat_minor": 5
}
