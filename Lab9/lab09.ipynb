{
 "cells": [
  {
   "cell_type": "code",
   "execution_count": null,
   "id": "61cef7f7",
   "metadata": {
    "deletable": false,
    "editable": false
   },
   "outputs": [],
   "source": [
    "# Initialize Otter\n",
    "import otter\n",
    "grader = otter.Notebook(\"lab09.ipynb\")"
   ]
  },
  {
   "cell_type": "markdown",
   "id": "ddb9dd7b",
   "metadata": {},
   "source": [
    "# Lab 9: AES Modes of Operation\n",
    "Contributions From: Ryan Cottone\n",
    "\n",
    "Welcome to Lab 9! In this lab, we will be exploring the basics of block and stream ciphers, as well as different modes of operation for AES."
   ]
  },
  {
   "cell_type": "code",
   "execution_count": null,
   "id": "25720751",
   "metadata": {},
   "outputs": [],
   "source": [
    "import numpy as np"
   ]
  },
  {
   "cell_type": "code",
   "execution_count": null,
   "id": "9bbb05cc",
   "metadata": {},
   "outputs": [],
   "source": [
    "%%capture\n",
    "import sys\n",
    "!{sys.executable} -m pip install pycryptodome"
   ]
  },
  {
   "cell_type": "code",
   "execution_count": null,
   "id": "66af0b32",
   "metadata": {},
   "outputs": [],
   "source": [
    "from Crypto.Cipher import AES\n",
    "from Crypto.Hash import SHA256"
   ]
  },
  {
   "cell_type": "markdown",
   "id": "4c5b4a8e",
   "metadata": {},
   "source": [
    "# Block Ciphers\n",
    "\n",
    "Up to this point we have primarily been concerned with elementary ciphers or asymmetric encryption. Real-world symmetric encryption is most often accommplished by **block ciphers**, which operate on fixed-length blocks of data, much like our Merkle-Damgard hash functions did. We can model this as some function $f(k, d) = c$, taking in the key and some data $d$ to output some ciphertext $c$.\n",
    "\n",
    "### Advanced Encryption Standard\n",
    "\n",
    "The most popular symmetric cryptosystem in the world, AES (aka Rijndael), was first published in 1998. Since then, it has become the premier block cipher, used even by the NSA for top-secret data. To date, there are no real-world attacks against correctly-implemented AES.\n",
    "\n",
    "We will explore how to use AES in this lab!\n",
    "\n",
    "### Modes of Operation\n",
    "\n",
    "AES itself only specifies $f(k, d)$ for us, meaning we have to figure out how to encrypt the data blocks $P_1, P_2, \\ldots P_k$ into ciphertext. The different ways of doing this are called **modes of operation**.\n",
    "\n",
    "\n",
    "## AES-ECB (Electronic Code Book)\n",
    "\n",
    "The most straightforward way to encrypt using AES is to set $C_i = \\text{Enc(}k, P_i\\text{)} $, in effect each ciphertext block being the direct encryption of its corresponding plaintext. This can be visualized by the following (credit to the [CS 161 Textbook](https://textbook.cs161.org/crypto/symmetric.html)):"
   ]
  },
  {
   "cell_type": "markdown",
   "id": "210c9b40",
   "metadata": {},
   "source": [
    "![AES-ECB Encryption](https://textbook.cs161.org/assets/images/crypto/symmetric/ECB_encryption.png)\n",
    "![AES-ECB Decryption](https://textbook.cs161.org/assets/images/crypto/symmetric/ECB_decryption.png)"
   ]
  },
  {
   "cell_type": "markdown",
   "id": "89a12a09",
   "metadata": {},
   "source": [
    "**Question 1**: Implement the ECB mode of operation!"
   ]
  },
  {
   "cell_type": "code",
   "execution_count": null,
   "id": "67ffb2d0",
   "metadata": {},
   "outputs": [],
   "source": [
    "# This code is given to you\n",
    "\n",
    "def blockEncrypt(key, data): # Takes in 16-byte key and data and returns their encryption.\n",
    "    if len(key) != 16 or len(data) != 16:\n",
    "        raise AssertionError(\"Key and plaintext must be 16 bytes long\")\n",
    "    \n",
    "    cipher = AES.new(key, AES.MODE_ECB) # Ensure consistent behavior on one-block encryptions\n",
    "    \n",
    "    return cipher.encrypt(data)\n",
    "\n",
    "def blockDecrypt(key, data): # Takes in 16-byte key and data and returns their encryption.\n",
    "    if len(key) != 16 or len(data) != 16:\n",
    "        raise AssertionError(\"Key and plaintext must be 16 bytes long\")\n",
    "    \n",
    "    cipher = AES.new(key, AES.MODE_ECB) # Ensure consistent behavior on one-block encryptions\n",
    "    \n",
    "    return cipher.decrypt(data)"
   ]
  },
  {
   "cell_type": "code",
   "execution_count": null,
   "id": "835b9312",
   "metadata": {
    "tags": []
   },
   "outputs": [],
   "source": [
    "def AES_ECB_encrypt(key, dataBlocks): # Key is a 16 byte bytestring, dataBlocks is an array of 16 byte bytestrings.\n",
    "    if len(dataBlocks) == 0:\n",
    "        return []\n",
    "    if len(key) != 16:\n",
    "        raise AssertionError(\"Incorrect key length\")\n",
    "    \n",
    "    cipherBlocks = []\n",
    "    \n",
    "    for block in dataBlocks:\n",
    "        if len(block) != 16:\n",
    "            raise AssertionError(\"Incorrect block length\")\n",
    "        \n",
    "        # Remember you have blockEncrypt(key, dataBlock)!\n",
    "        ...\n",
    "    \n",
    "    return cipherBlocks\n",
    "\n",
    "def AES_ECB_decrypt(key, cipherBlocks): # Key is a 16 byte bytestring, dataBlocks is an array of 16 byte bytestrings.\n",
    "    if len(cipherBlocks) == 0:\n",
    "        return []\n",
    "    if len(key) != 16:\n",
    "        raise AssertionError(\"Incorrect key length\")\n",
    "    \n",
    "    dataBlocks = []\n",
    "    \n",
    "    for block in cipherBlocks:\n",
    "        if len(block) != 16:\n",
    "            raise AssertionError(\"Incorrect block length\")\n",
    "        \n",
    "        # Remember you have blockEncrypt(key, dataBlock)!\n",
    "        ...\n",
    "    \n",
    "    return dataBlocks"
   ]
  },
  {
   "cell_type": "code",
   "execution_count": null,
   "id": "22c50d5e",
   "metadata": {
    "deletable": false,
    "editable": false
   },
   "outputs": [],
   "source": [
    "grader.check(\"q1_1\")"
   ]
  },
  {
   "cell_type": "markdown",
   "id": "bddd407d",
   "metadata": {},
   "source": [
    "### AES-ECB Insecurity\n",
    "\n",
    "AES-ECB is actually terribly insecure, not because it leaks your plaintext, but rather because it leaks indirect information about it. Since we encrypt without a source of randomness, the encryption is wholly **deterministic**. Moreover, since we encrypt each block independently, it is possible to see which underlying plaintext blocks are the same (or different) when compared two ciphertexts. One must simply check if $C_i = C_i'$."
   ]
  },
  {
   "cell_type": "markdown",
   "id": "5f019916",
   "metadata": {},
   "source": [
    "**Question 1.2**: Implement a function that outputs the blocks of plaintext which are same for two separate AES-ECB ciphertexts."
   ]
  },
  {
   "cell_type": "code",
   "execution_count": null,
   "id": "1791b061",
   "metadata": {
    "tags": []
   },
   "outputs": [],
   "source": [
    "def detectIdenticalBlocks(c_one, c_two):\n",
    "    identical = []\n",
    "    \n",
    "    for i in range(min(len(c_one), len(c_two))):\n",
    "        ...\n",
    "            identical.append(i)\n",
    "    \n",
    "    return identical"
   ]
  },
  {
   "cell_type": "code",
   "execution_count": null,
   "id": "4db6dcc2",
   "metadata": {
    "deletable": false,
    "editable": false
   },
   "outputs": [],
   "source": [
    "grader.check(\"q1_2\")"
   ]
  },
  {
   "cell_type": "markdown",
   "id": "e2e3f0cc",
   "metadata": {},
   "source": [
    "## AES-CBC (Cipher Block Chaining)\n",
    "\n",
    "A much more secure (and widely used) mode of operation for AES is **AES-CBC**. This mode fixes the weaknesses of ECB by introduces a source of deterministic randomness at the start, and \"carrying forward\" that randomness throughout the cipher. Specifically, the encryption of block i is now $$C_i = \\text{Enc(}k, P_i \\oplus C_{i-1}\\text{)}$$ and decryption is correspondingly $$P_i = \\text{Dec(}k, C_i\\text{)} \\oplus C_{i-1}$$\n",
    "\n",
    "But what is $C_0$? $C_0$ is defined as the **initialization vector**, which is randomly generated for every new encryption. It is published alonside the ciphertext as the first block. (Exercise: what would happen if we used the same IV for two similar messages?)"
   ]
  },
  {
   "cell_type": "markdown",
   "id": "edd62b8c",
   "metadata": {},
   "source": [
    "A visual aid courtesy of CS 161:\n",
    "    \n",
    "![AES-CBC Encryption](https://textbook.cs161.org/assets/images/crypto/symmetric/CBC_encryption.png)\n",
    "![AES-CBC Decryption](https://textbook.cs161.org/assets/images/crypto/symmetric/CBC_decryption.png)"
   ]
  },
  {
   "cell_type": "markdown",
   "id": "f88f5a54",
   "metadata": {},
   "source": [
    "**Question 2.1**: Implement AES-CBC!"
   ]
  },
  {
   "cell_type": "code",
   "execution_count": null,
   "id": "cb9307c5",
   "metadata": {},
   "outputs": [],
   "source": [
    "def bxor(b1, b2): # use xor for bytes\n",
    "    result = bytearray()\n",
    "    for b1, b2 in zip(b1, b2):\n",
    "        result.append(b1 ^ b2)\n",
    "    return result"
   ]
  },
  {
   "cell_type": "code",
   "execution_count": null,
   "id": "c79abc4b",
   "metadata": {
    "tags": []
   },
   "outputs": [],
   "source": [
    "def AES_CBC_encrypt(key, IV, dataBlocks): # Key/IV are 16 byte bytestrings, dataBlocks is an array of 16 byte bytestrings.\n",
    "    if len(dataBlocks) == 0:\n",
    "        return []\n",
    "    if len(key) != 16:\n",
    "        raise AssertionError(\"Incorrect key length\")\n",
    "    \n",
    "    cipherBlocks = [IV]\n",
    "    \n",
    "    lastCipherBlock = IV\n",
    "    \n",
    "    for block in dataBlocks:\n",
    "        if len(block) != 16:\n",
    "            raise AssertionError(\"Incorrect block length\")\n",
    "        \n",
    "        # Remember you have bxor(b1, b2) and blockEncrypt(key, dataBlock)!\n",
    "        encInput = ...\n",
    "        ...\n",
    "        lastCipherBlock = cipherBlocks[-1]\n",
    "    \n",
    "    return cipherBlocks\n",
    "\n",
    "def AES_CBC_decrypt(key, cipherBlocks): # Key is a 16 byte bytestring, dataBlocks is an array of 16 byte bytestrings.\n",
    "    if len(cipherBlocks) == 0:\n",
    "        return []\n",
    "    if len(key) != 16:\n",
    "        raise AssertionError(\"Incorrect key length\")\n",
    "        \n",
    "    lastCipherBlock = cipherBlocks[0] # IV is the zero-th ciphertext block!\n",
    "    \n",
    "    dataBlocks = []\n",
    "    \n",
    "    for block in cipherBlocks[1:]:\n",
    "        if len(block) != 16:\n",
    "            raise AssertionError(\"Incorrect block length\")\n",
    "        \n",
    "        # Remember you have blockEncrypt(key, dataBlock)!\n",
    "        decrypted = ...\n",
    "        xored = ...\n",
    "        dataBlocks.append(xored)\n",
    "        lastCipherBlock = block\n",
    "    \n",
    "    return dataBlocks"
   ]
  },
  {
   "cell_type": "code",
   "execution_count": null,
   "id": "288e9938",
   "metadata": {
    "deletable": false,
    "editable": false
   },
   "outputs": [],
   "source": [
    "grader.check(\"q2_1\")"
   ]
  },
  {
   "cell_type": "markdown",
   "id": "43c28e6d",
   "metadata": {},
   "source": [
    "## Stream Ciphers\n",
    "\n",
    "Unlike block ciphers, stream ciphers operate on arbitrary-length bitstrings that aren't all known at once. A common example of this would be encrypted phone calls, since we have to encrypt them on the fly. This is possible, but messy, to do with block ciphers. Stream ciphers would ideally output some function $f(b)$ that takes in bits $b$ and outputs a ciphertext of the same length. First, we must initialize it with a key, however.\n",
    "\n",
    "While there are sophisticated stream ciphers outside of the scope of this class, we can use a simple example for education purposes. Remember the **one-time pad**? Where we XORed the plaintext bits with some key bits? That would be the perfect stream cipher, if not for the difficulty of producing so much key material. Instead, we can generate the key material on the fly using a CSPRNG!\n",
    "\n",
    "(Note: actual stream ciphers are much more complicated and have to deal with stuff like synchronization. Please do not attempt to build your own encryption systems for anything even remotely important!)\n",
    "\n",
    "In our example system, we find $f(b) = b \\oplus \\text{CSPRNG(b)}$, where CSPRNG is a seeded CSPRNG that takes in $b$ and returns $b$ pseudorandom bits. Note that decryption of a stream cipher output is just running the stream cipher again with a fresh CSPRNG!"
   ]
  },
  {
   "cell_type": "code",
   "execution_count": null,
   "id": "61ea22da",
   "metadata": {},
   "outputs": [],
   "source": [
    "# These functions are all given to you\n",
    "def H(x):\n",
    "    if type(x) != bytes:\n",
    "        if type(x) == str:\n",
    "            x = bytes(x, 'utf-8')\n",
    "        elif type(x) == int:\n",
    "            x = x.to_bytes(len(bin(x))-2, byteorder='big')\n",
    "    \n",
    "    h = SHA256.new()\n",
    "    h.update(x)\n",
    "    return h.digest().hex()\n",
    "\n",
    "def hashPRNG(seed):\n",
    "    state = seed\n",
    "    \n",
    "    def export(bits):\n",
    "        nonlocal state\n",
    "        assert bits <= 256, \"Can only output at most 256 bits\"\n",
    "        state = int(H(state),16)  \n",
    "        return state & ((1 << bits) - 1)\n",
    "    \n",
    "    return export\n",
    "\n",
    "def getExpansion(n,m):\n",
    "    arr = []\n",
    "    \n",
    "    while n > 0:\n",
    "        r = n % m\n",
    "        n //= m\n",
    "        \n",
    "        arr.append(r)\n",
    "    \n",
    "    return arr\n",
    "\n",
    "\n",
    "def textToInt(s):\n",
    "    total = 0\n",
    "    \n",
    "    for i in range(len(s)):\n",
    "        total += ord(s[i])*(256**i)\n",
    "    \n",
    "    return total\n",
    "\n",
    "def intToText(n):\n",
    "    expansion = getExpansion(n, 256)\n",
    "    \n",
    "    finalStr = \"\"\n",
    "    \n",
    "    for i in range(len(expansion)):\n",
    "        finalStr += chr(expansion[i])\n",
    "        \n",
    "    return finalStr"
   ]
  },
  {
   "cell_type": "markdown",
   "id": "efaca328",
   "metadata": {},
   "source": [
    "**Question 3.1**: Implement our example stream cipher!"
   ]
  },
  {
   "cell_type": "code",
   "execution_count": null,
   "id": "af236d49",
   "metadata": {
    "tags": []
   },
   "outputs": [],
   "source": [
    "def streamCipher(key): # Takes in bytestring key\n",
    "    csprng = hashPRNG(key)\n",
    "    \n",
    "    # csprng(b) outputs b psuedorandom bits\n",
    "    \n",
    "    def export(data):\n",
    "        # Takes in integer data to encrypt and returns the ciphertext\n",
    "        nonlocal csprng\n",
    "\n",
    "        keybits = csprng(len(bin(data)) - 2)\n",
    "        \n",
    "        ...\n",
    "\n",
    "    return export"
   ]
  },
  {
   "cell_type": "code",
   "execution_count": null,
   "id": "fea63929",
   "metadata": {
    "deletable": false,
    "editable": false
   },
   "outputs": [],
   "source": [
    "grader.check(\"q3_1\")"
   ]
  },
  {
   "cell_type": "markdown",
   "id": "a5f71666",
   "metadata": {},
   "source": [
    "Congrats on finishing Lab 9!"
   ]
  },
  {
   "cell_type": "markdown",
   "id": "ba7d3e11",
   "metadata": {
    "deletable": false,
    "editable": false
   },
   "source": [
    "## Submission\n",
    "\n",
    "Make sure you have run all cells in your notebook in order before running the cell below, so that all images/graphs appear in the output. The cell below will generate a zip file for you to submit. **Please save before exporting!**\n",
    "\n",
    "Once you have generated the zip file, go to the Gradescope page for this assignment to submit."
   ]
  },
  {
   "cell_type": "code",
   "execution_count": null,
   "id": "0d8e9f3e",
   "metadata": {
    "deletable": false,
    "editable": false
   },
   "outputs": [],
   "source": [
    "# Save your notebook first, then run this cell to export your submission.\n",
    "grader.export(pdf=False, run_tests=True)"
   ]
  },
  {
   "cell_type": "markdown",
   "id": "dbb72cb8",
   "metadata": {},
   "source": [
    " "
   ]
  }
 ],
 "metadata": {
  "interpreter": {
   "hash": "50292dbb1f747f7151d445135d392af3138fb3c65386d17d9510cb605222b10b"
  },
  "kernelspec": {
   "display_name": "Python 3 (ipykernel)",
   "language": "python",
   "name": "python3"
  },
  "language_info": {
   "codemirror_mode": {
    "name": "ipython",
    "version": 3
   },
   "file_extension": ".py",
   "mimetype": "text/x-python",
   "name": "python",
   "nbconvert_exporter": "python",
   "pygments_lexer": "ipython3",
   "version": "3.10.4"
  },
  "otter": {
   "OK_FORMAT": true,
   "tests": {
    "q1_1": {
     "name": "q1_1",
     "points": 10,
     "suites": [
      {
       "cases": [
        {
         "code": ">>> dataBlocksTest = [b'A'*16, b'B'*16]\n>>> keyTest = b'ABCD'*4\n>>> \n>>> encryptedTest = AES_ECB_encrypt(keyTest, dataBlocksTest)\n>>> \n>>> assert encryptedTest == [b'Y<\\x0f\\\\6\\xe9\\xea\\x1ee\\xf9\\xce\\x01\\x9a\\xae\\x02.',\n...  b'\\xc1\\xa1\\xf9\\xb0\\x95c\\xec<\\r5\\x88\\xce\\xa0\\n\\xa6\\xcd']\n>>> \n>>> decryptedTest = AES_ECB_decrypt(keyTest, encryptedTest)\n>>> assert decryptedTest == dataBlocksTest\n",
         "hidden": false,
         "locked": false
        }
       ],
       "scored": true,
       "setup": "",
       "teardown": "",
       "type": "doctest"
      }
     ]
    },
    "q1_2": {
     "name": "q1_2",
     "points": 10,
     "suites": [
      {
       "cases": [
        {
         "code": ">>> dataBlocksTestOne = [b'A'*16, b'B'*16, b'B'*16]\n>>> dataBlocksTestTwo = [b'A'*16, b'D'*16, b'B'*16]\n>>> \n>>> keyTest = b'ABCD'*4\n>>> \n>>> encryptedTestOne = AES_ECB_encrypt(keyTest, dataBlocksTestOne)\n>>> encryptedTestTwo = AES_ECB_encrypt(keyTest, dataBlocksTestTwo)\n>>> \n>>> \n>>> assert detectIdenticalBlocks(encryptedTestOne, encryptedTestTwo) == [0,2]\n",
         "hidden": false,
         "locked": false
        }
       ],
       "scored": true,
       "setup": "",
       "teardown": "",
       "type": "doctest"
      }
     ]
    },
    "q2_1": {
     "name": "q2_1",
     "points": 10,
     "suites": [
      {
       "cases": [
        {
         "code": ">>> dataBlocksTest = [b'A'*16, b'B'*16]\n>>> IV = b\"XCVB\"*4 # just for testing purposes\n>>> keyTest = b'ABCD'*4\n>>> \n>>> encryptedTest = AES_CBC_encrypt(keyTest, IV, dataBlocksTest)\n>>> assert encryptedTest == [b'XCVBXCVBXCVBXCVB', b'\"\\xbc\\xf8;\\xd4\\xd8ke\\x99~qpS\\x96\\x91\\x16', b'.8&\\x17>)\\xafN\\xef\\xf0\\xf6X\\x10\\xf1\\xc5\\xae']\n>>> \n>>> decryptedTest = AES_CBC_decrypt(keyTest, encryptedTest)\n>>> assert decryptedTest == dataBlocksTest\n",
         "hidden": false,
         "locked": false
        }
       ],
       "scored": true,
       "setup": "",
       "teardown": "",
       "type": "doctest"
      }
     ]
    },
    "q3_1": {
     "name": "q3_1",
     "points": 10,
     "suites": [
      {
       "cases": [
        {
         "code": ">>> testCipherEnc = streamCipher(b\"ABCD\"*56)\n>>> testCipherDec = streamCipher(b\"ABCD\"*56)\n>>> \n>>> encrypted = testCipherEnc(textToInt(\"data\"))\n>>> assert encrypted == 1756444394\n>>> \n>>> decrypted = intToText(testCipherDec(encrypted))\n>>> assert decrypted == 'data'\n",
         "hidden": false,
         "locked": false
        }
       ],
       "scored": true,
       "setup": "",
       "teardown": "",
       "type": "doctest"
      }
     ]
    }
   }
  },
  "vscode": {
   "interpreter": {
    "hash": "86b6775e93d8e7b2e5f79e45a0bdd3fb78f60d14c90e6111b0fee66688ef28fc"
   }
  }
 },
 "nbformat": 4,
 "nbformat_minor": 5
}
