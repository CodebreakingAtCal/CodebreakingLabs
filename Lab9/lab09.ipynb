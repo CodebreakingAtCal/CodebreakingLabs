{
 "cells": [
  {
   "cell_type": "code",
   "execution_count": null,
   "id": "14549cca",
   "metadata": {
    "deletable": false,
    "editable": false
   },
   "outputs": [],
   "source": [
    "# Initialize Otter\n",
    "import otter\n",
    "grader = otter.Notebook(\"lab09.ipynb\")"
   ]
  },
  {
   "cell_type": "code",
   "execution_count": null,
   "id": "714c83bc",
   "metadata": {},
   "outputs": [],
   "source": [
    "import numpy as np\n",
    "import matplotlib.pyplot as plt"
   ]
  },
  {
   "cell_type": "markdown",
   "id": "5a24e05c",
   "metadata": {},
   "source": [
    "# Lab 9: Lattice Cryptography\n",
    "\n",
    "Welcome to Lab 9! In this lab, we will explore properties of cryptographic lattices and construct the GGH cryptosystem."
   ]
  },
  {
   "cell_type": "markdown",
   "id": "1542ad30",
   "metadata": {},
   "source": [
    "Recall that a lattice is the set of all **integer** linear combinations of basis vectors: \n",
    "\n",
    "$$L = \\{a_0v_0 + a_{1}v_{1} + \\ldots + a_nv_0n     :      a \\in \\mathbb{Z}, b \\in \\mathbb{Z}^n\\}$$\n",
    "\n",
    "For example, the following \n",
    "\n",
    "<img src=\"./lattice1.png\" style=\"size:400px\">\n",
    "\n",
    "(Photo credit to Hoffstein et. al textbook). The F region is the **fundamental region**, or the (continuous) set\n",
    "\n",
    "$$F(B) = \\{t_1b_1 + t_2b_2 + \\ldots + t_nb_n : 0 \\leq t_i < 1 \\}$$\n",
    "\n",
    "The volume of $F(B)$ is equal to the determinant of L: $Vol(B) = \\det L$."
   ]
  },
  {
   "cell_type": "markdown",
   "id": "888bd7e0",
   "metadata": {},
   "source": [
    "Notably, there are infinitely many different basis that descrive the same lattice $L$. We can transform any basis $B$ into another basis $B'$ by matrix multiplying $B' = UB$. $U$ must be a unimodular matrix: a matrix with all integer entries and determinant $\\pm 1$. This is because all basis of a given lattice $L$ preserve the volume of the fundamental domain, so a non-unit determinant would scale the volume to be some other value.\n",
    "\n",
    "This leads us to the concept of *good basis* vs *bad basis*. A good basis is one that has highly orthogonal vectors: roughly, they are at 'right angles' to each other. Likewise, a bad basis has vectors that overlap significantly.\n",
    "\n",
    "<img src=\"goodbadbasis.png\">"
   ]
  },
  {
   "cell_type": "markdown",
   "id": "b75911f1",
   "metadata": {},
   "source": [
    "\n",
    "To quantify this, we define the $\\textbf{Hadamard ratio}$ as: $$H(B) = \\left(\\frac{\\det L}{\\prod_i^n \\Vert v_i \\Vert}\\right)^{\\frac{1}{n}}$$.\n",
    "\n",
    "Note that a larger Hadamard ratio means the basis is more orthogonal. Why does this matter? It turns out that solving certain problems on lattices is far easier when working in a good basis than a bad basis."
   ]
  },
  {
   "cell_type": "markdown",
   "id": "3327bbac",
   "metadata": {},
   "source": [
    "There are mathematical problems on lattices that are considered hard to solve in the worst case, even for quantum computers. They have a lot of applications to mathematical schemes, especially in cryptography.\n",
    "\n",
    "The $\\textbf{shortest vector problem}$, or SVP, asks for the vector in the lattice with the smallest $\\textbf{norm}$ (usually $\\ell_2$, aka Euclidean distance). The exact version of this problem is known to be $\\textbf{NP-Hard}$ (under randomized reductions). The approximation version, which asks for vector $v' \\in L$ such that $\\Vert v' \\Vert = \\gamma\\lambda(L)$ (where $\\lambda(L)$ is the real shortest vector in $L$). The approximation version, often denoted $\\text{SVP}_{\\gamma}$ or apprSVP, asks for a short vector with a norm at most some fixed constant multiple greater than the real one. Interesting enough, this problem is also considered NP-Hard for small $\\gamma$, but polynomially solvable for $\\gamma \\geq 2^N$.\n",
    "\n",
    "The $\\textbf{closest vector problem}$, or CVP, asks for a vector in the lattice with the smallest distance from another given vector. Formally, we want $v'$ such that $\\Vert v' - v \\Vert$ is minimized for the input $v$. The CVP is known to be NP-Hard unconditionally. The approximation version, often denoted $\\text{CVP}_{\\gamma}$ or apprCVP, asks for some vector $v'$ given $v$ such that $\\Vert v' - v \\Vert \\leq \\gamma(a - v)$, where $a$ is the optimal closest vector. $\\text{CVP}_{\\gamma}$ is generally hard for subexponential $\\gamma$. "
   ]
  },
  {
   "cell_type": "markdown",
   "id": "bae0be89",
   "metadata": {},
   "source": [
    "## Babai's Algorithm\n",
    "$\\textbf{Babai's algorithm}$ is a rather straightforward approximation algorithm for the CVP. Given the input vector $v = a_0b_0 + a_1b_1 + \\ldots + a_nb_n$, we round all the coefficients to the nearest integer and return $v' = \\lfloor a_0 \\rceil b_0 + \\lfloor a_1 \\rceil b_1 + \\ldots + \\lfloor a_n \\rceil b_n$. Evidently this algorithm is fast, but has really poor approximation results in higher dimensions and for less orthogonal basis vectors.\n"
   ]
  },
  {
   "cell_type": "markdown",
   "id": "8130eef7",
   "metadata": {},
   "source": [
    "Let's take a look at an example for Babai's Algorithm. We are given a basis $B$:\n",
    "\n",
    "$$v_1 = \\begin{bmatrix} 137 \\\\ 312 \\end{bmatrix}, v_2 = \\begin{bmatrix} 215 \\\\ -187 \\end{bmatrix}$$\n",
    "\n",
    "and wish to solve the CVP for $$t = \\begin{bmatrix} 53172 \\\\ 81743\\end{bmatrix}$$\n",
    "\n",
    "First, we need to express $t$ as a linear combination of $v_1$ and $v_2$. We can do this by remembering $Bx = t$ for the linear combination coefficients $x$. Therefore we just need to invert $B$ (we represent B as row vectors, so the order is reversed):"
   ]
  },
  {
   "cell_type": "code",
   "execution_count": null,
   "id": "6ab04ed1",
   "metadata": {},
   "outputs": [],
   "source": [
    "target = np.array([53172, 81743])\n",
    "basis = np.array([[137, 312], [215, -187]])\n",
    "\n",
    "linear_coeffs = np.dot(target, np.linalg.inv(basis))\n",
    "linear_coeffs"
   ]
  },
  {
   "cell_type": "markdown",
   "id": "6912f9a2",
   "metadata": {},
   "source": [
    "This confirms that $$\\begin{bmatrix} 53172 \\\\ 81743\\end{bmatrix} \\approx 294.85\\begin{bmatrix} 137 \\\\ 312 \\end{bmatrix} + 58.15\\begin{bmatrix} 215 \\\\ -187 \\end{bmatrix}$$"
   ]
  },
  {
   "cell_type": "markdown",
   "id": "ef34982d",
   "metadata": {},
   "source": [
    "Babai's algorithm says we need to round those coefficients to their closest integer, so our returned lattice vector is\n",
    "\n",
    "$$v = 295\\begin{bmatrix} 137 \\\\ 312 \\end{bmatrix} + 58\\begin{bmatrix} 215 \\\\ -187 \\end{bmatrix} = \\begin{bmatrix} 53159 \\\\ 81818 \\end{bmatrix}$$"
   ]
  },
  {
   "cell_type": "code",
   "execution_count": null,
   "id": "6a6c6798",
   "metadata": {},
   "outputs": [],
   "source": [
    "v = np.array([53159, 81818])\n",
    "np.linalg.norm(target - v, 2)"
   ]
  },
  {
   "cell_type": "markdown",
   "id": "98369281",
   "metadata": {},
   "source": [
    "We see our $\\ell_2$ norm for $\\Vert t - v \\Vert$ is $\\approx 76$. This is a really good solution for the approximate CVP."
   ]
  },
  {
   "cell_type": "markdown",
   "id": "4488519c",
   "metadata": {},
   "source": [
    "This was possible because our original basis was quite *good*: its Hadamard ratio is **0.977**!"
   ]
  },
  {
   "cell_type": "markdown",
   "id": "8b0c294e",
   "metadata": {},
   "source": [
    "Let's see what happens when we use a worse basis. Take our new basis $B'$:\n",
    "\n",
    "$$v_1 = \\begin{bmatrix} 1975 \\\\ 438 \\end{bmatrix}, v_2 = \\begin{bmatrix} 7548 \\\\ 1627 \\end{bmatrix}$$\n",
    "\n",
    "\n",
    "This was formed via the unimodular matrix $$U = \\begin{bmatrix} 5 & 6 \\\\ 19 & 23 \\end{bmatrix}$$\n",
    "\n",
    "You can verify for yourself that $U$ has determinant 1 and all-integer entries, and that $B' = UB$."
   ]
  },
  {
   "cell_type": "markdown",
   "id": "0b7f6e90",
   "metadata": {},
   "source": [
    "Notably, the Hadamard ratio of this new basis is quite a lot worse at **0.077**. \n",
    "\n",
    "First, we need to implement Babai's algorithm."
   ]
  },
  {
   "cell_type": "code",
   "execution_count": null,
   "id": "1b99dedb",
   "metadata": {
    "tags": []
   },
   "outputs": [],
   "source": [
    "def babai(basis, target):\n",
    "    # Recall that we can represent target as Bx = target.\n",
    "    \n",
    "    x = np.dot(target, np.linalg.inv(basis))\n",
    "    \n",
    "    # Now, round each component of x and add it to base\n",
    "    # Remember to multiply the rounded component by its corresponding basis vector!\n",
    "    base = np.array([0]*len(x))\n",
    "    \n",
    "    for i in range(len(x)):\n",
    "        base += round(x[i]) * basis[i] # BEGIN SOLUTION\n",
    "        \n",
    "    # Finally, return a recombined vector.\n",
    "    return base"
   ]
  },
  {
   "cell_type": "code",
   "execution_count": null,
   "id": "26a34894",
   "metadata": {
    "deletable": false,
    "editable": false
   },
   "outputs": [],
   "source": [
    "grader.check(\"q1\")"
   ]
  },
  {
   "cell_type": "code",
   "execution_count": null,
   "id": "1b4a5f2d",
   "metadata": {},
   "outputs": [],
   "source": [
    "target = np.array([53172, 81743])\n",
    "result = babai(np.array([[1975, 438], [7548, 1627]]), target)\n",
    "print('Found closest vector:', result)\n",
    "np.linalg.norm(target - result)"
   ]
  },
  {
   "cell_type": "markdown",
   "id": "f0140526",
   "metadata": {},
   "source": [
    "We see that the returned vector is *significantly* worse than the returned vector using the good basis. This problem compounds exponentially in the number of basis vectors -- most modern lattices use *hundreds* of basis vectors, so you can imagine how inaccurate the algorithm gets."
   ]
  },
  {
   "cell_type": "markdown",
   "id": "32c58564",
   "metadata": {},
   "source": [
    "## GGH Cryptosystem"
   ]
  },
  {
   "cell_type": "markdown",
   "id": "15095a2a",
   "metadata": {},
   "source": [
    "Now that we've seen how to create hard problems on lattices, let's implement a cryptosystem using them! The **GGH public-key cryptosystem** (partially authored by a Berkeley professor and Turing award winner, Shafi Goldwasser) uses the CVP and Babai's algorithm for encryption."
   ]
  },
  {
   "cell_type": "markdown",
   "id": "0fc4624c",
   "metadata": {},
   "source": [
    "We generate a $\\textbf{good basis}$ for a lattice $L$, denoted $B_{good}$. This will be our $\\textbf{private key}$. We then transform it using a integral matrix $M$ with determinant equal to 1 to get $B_{bad} = M(B_{good})$, our $\\textbf{public key}$. Both of these basis describe the same lattice.\n",
    "\n",
    "To send a message $m$, Bob first generates some short error vector $r$ (often using Gaussian noise). This is to hide the actual message $m$, which is a lattice vector. Bob sends $m + r$ to Alice.\n",
    "\n",
    "Remember that Bob only has access to the public (bad) basis, but Alice knows the good basis. Alice can then run Babai's algorithm on $m + r$ in the good basis to recover $m'$ (a representation of $m$ in the good basis), and then transform it back into the original form via $B_{good}^{-1}$."
   ]
  },
  {
   "cell_type": "code",
   "execution_count": null,
   "id": "0a9fbc84",
   "metadata": {},
   "outputs": [],
   "source": [
    "# These are the basis from earlier, but any pair of good/bad will work fine\n",
    "private_basis = np.array([[137, 312], [215, -187]])\n",
    "public_basis = np.array([[1975, 438], [7548, 1627]])"
   ]
  },
  {
   "cell_type": "markdown",
   "id": "a31031ae",
   "metadata": {},
   "source": [
    "Bob wants to send a message to Alice, and encodes it as a vector $\\begin{bmatrix} 2 & 4 \\end{bmatrix}$. To add some indistinguishability and non-linearity, he adds an error vector $r$."
   ]
  },
  {
   "cell_type": "code",
   "execution_count": null,
   "id": "e2c855dd",
   "metadata": {},
   "outputs": [],
   "source": [
    "message = np.array([2, 4])\n",
    "print('Original message:', message)\n",
    "\n",
    "r = np.array([np.random.normal(), np.random.normal()])\n",
    "\n",
    "print('Random vector:', r)\n",
    "\n",
    "enc = np.dot(message, public_basis) + r\n",
    "print('Final encrypted message:', enc)"
   ]
  },
  {
   "cell_type": "markdown",
   "id": "58b6fcde",
   "metadata": {},
   "source": [
    "To decrypt, Alice first runs her Babai algorithm on the *good basis*."
   ]
  },
  {
   "cell_type": "code",
   "execution_count": null,
   "id": "7e88be7a",
   "metadata": {},
   "outputs": [],
   "source": [
    "close_enc = babai(private_basis, enc)\n",
    "print('Lattice vector found:', close_enc)"
   ]
  },
  {
   "cell_type": "markdown",
   "id": "ba79cbf6",
   "metadata": {},
   "source": [
    "Finally, she needs to convert it back to Bob's original vector. Recall that Bob originally encoded it using the public basis, so we have to convert back to the public basis."
   ]
  },
  {
   "cell_type": "code",
   "execution_count": null,
   "id": "3409b87e",
   "metadata": {},
   "outputs": [],
   "source": [
    "dec = np.dot(close_enc, np.linalg.inv(public_basis))\n",
    "\n",
    "print(\"Message found:\", dec)"
   ]
  },
  {
   "cell_type": "markdown",
   "id": "08b0cdb1",
   "metadata": {},
   "source": [
    "And Alice has recovered the message!\n",
    "\n",
    "There are many more lattice-based cryptosystems than just GGH (in fact, GGH is now considered *insecure*), but we unfortunate don't have the space to cover them. If you are interested, I highly recommend looking up schemes like NTRU. Next week, we will cover an application of the Learning With Errors problem, which is based on lattices, to homomorphic encryption!\n",
    "\n",
    "Congrats on finishing Lab 9."
   ]
  },
  {
   "cell_type": "markdown",
   "id": "1a4482b3",
   "metadata": {
    "deletable": false,
    "editable": false
   },
   "source": [
    "## Submission\n",
    "\n",
    "Make sure you have run all cells in your notebook in order before running the cell below, so that all images/graphs appear in the output. The cell below will generate a zip file for you to submit. **Please save before exporting!**\n",
    "\n",
    "Once you have generated the zip file, go to the Gradescope page for this assignment to submit."
   ]
  },
  {
   "cell_type": "code",
   "execution_count": null,
   "id": "847bce75",
   "metadata": {
    "deletable": false,
    "editable": false
   },
   "outputs": [],
   "source": [
    "# Save your notebook first, then run this cell to export your submission.\n",
    "grader.export(pdf=False, run_tests=True)"
   ]
  },
  {
   "cell_type": "markdown",
   "id": "83721478",
   "metadata": {},
   "source": [
    " "
   ]
  }
 ],
 "metadata": {
  "kernelspec": {
   "display_name": "Python 3 (ipykernel)",
   "language": "python",
   "name": "python3"
  },
  "language_info": {
   "codemirror_mode": {
    "name": "ipython",
    "version": 3
   },
   "file_extension": ".py",
   "mimetype": "text/x-python",
   "name": "python",
   "nbconvert_exporter": "python",
   "pygments_lexer": "ipython3",
   "version": "3.9.14"
  },
  "otter": {
   "OK_FORMAT": true,
   "tests": {
    "q1": {
     "name": "q1",
     "points": 10,
     "suites": [
      {
       "cases": [
        {
         "code": ">>> target = np.array([53172, 81743])\n>>> result = babai(np.array([[1975, 438], [7548, 1627]]), target)\n>>> assert np.abs(np.linalg.norm(target - result) - 3308) < 0.5\n",
         "hidden": false,
         "locked": false
        }
       ],
       "scored": true,
       "setup": "",
       "teardown": "",
       "type": "doctest"
      }
     ]
    }
   }
  }
 },
 "nbformat": 4,
 "nbformat_minor": 5
}
