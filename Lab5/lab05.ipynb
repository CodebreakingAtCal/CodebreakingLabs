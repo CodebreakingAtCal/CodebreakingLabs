{
 "cells": [
  {
   "cell_type": "code",
   "execution_count": null,
   "id": "72b5a28b",
   "metadata": {
    "deletable": false,
    "editable": false
   },
   "outputs": [],
   "source": [
    "# Initialize Otter\n",
    "import otter\n",
    "grader = otter.Notebook(\"lab05.ipynb\")"
   ]
  },
  {
   "cell_type": "code",
   "execution_count": null,
   "id": "b3bec489",
   "metadata": {},
   "outputs": [],
   "source": [
    "import math\n",
    "import matplotlib.pyplot as plt\n",
    "import numpy as np\n",
    "import string\n",
    "import itertools\n",
    "import re\n",
    "from functools import reduce"
   ]
  },
  {
   "cell_type": "code",
   "execution_count": null,
   "id": "d8b1dcaa",
   "metadata": {},
   "outputs": [],
   "source": [
    "primes = [1]\n",
    "def gen_primes():\n",
    "    D = {}\n",
    "    q = 2\n",
    "    \n",
    "    while primes[-1] < 100000:\n",
    "        if q not in D:\n",
    "            primes.append(q)\n",
    "            D[q * q] = [q]\n",
    "        else:\n",
    "            for p in D[q]:\n",
    "                D.setdefault(p + q, []).append(p)\n",
    "            del D[q]\n",
    "        \n",
    "        q += 1\n",
    "gen_primes()\n",
    "primes = primes[100:]"
   ]
  },
  {
   "attachments": {},
   "cell_type": "markdown",
   "id": "d372183b",
   "metadata": {},
   "source": [
    "# Lab 3: RSA and Chosen-Ciphertext Attack\n",
    "Contributions From: Ryan Cottone\n",
    "\n",
    "Welcome to Lab 3! In this lab, we will build an RSA cryptosystem and demonstate how to break it via a low-exponent attack. We will also look at chosen-ciphertext attacks and the Diffie-Hellman cryptosystem."
   ]
  },
  {
   "cell_type": "markdown",
   "id": "1951a60b",
   "metadata": {},
   "source": [
    "## Helpers"
   ]
  },
  {
   "cell_type": "code",
   "execution_count": null,
   "id": "b0eb6990",
   "metadata": {},
   "outputs": [],
   "source": [
    "def getExpansion(n,m):\n",
    "    arr = []\n",
    "    \n",
    "    while n > 0:\n",
    "        r = n % m\n",
    "        n //= m\n",
    "        \n",
    "        arr.append(r)\n",
    "    \n",
    "    return arr"
   ]
  },
  {
   "cell_type": "code",
   "execution_count": null,
   "id": "ecde7630",
   "metadata": {},
   "outputs": [],
   "source": [
    "def textToInt(s):\n",
    "    total = 0\n",
    "    \n",
    "    for i in range(len(s)):\n",
    "        total += ord(s[i])*(256**i)\n",
    "    \n",
    "    return total"
   ]
  },
  {
   "cell_type": "code",
   "execution_count": null,
   "id": "d2f524d0",
   "metadata": {},
   "outputs": [],
   "source": [
    "def intToText(n):\n",
    "    expansion = getExpansion(n, 256)\n",
    "    \n",
    "    finalStr = \"\"\n",
    "    \n",
    "    for i in range(len(expansion)):\n",
    "        finalStr += chr(expansion[i])\n",
    "        \n",
    "    return finalStr"
   ]
  },
  {
   "cell_type": "code",
   "execution_count": null,
   "id": "7c0e02ee",
   "metadata": {},
   "outputs": [],
   "source": [
    "def egcd(a, b):\n",
    "    if a == 0:\n",
    "        return (b, 0, 1)\n",
    "    else:\n",
    "        g, y, x = egcd(b % a, a)\n",
    "        return (g, x - (b // a) * y, y)\n",
    "\n",
    "def modularInverse(a, m):\n",
    "    g, x, y = egcd(a, m)\n",
    "    if g != 1:\n",
    "        raise Exception('modular inverse does not exist')\n",
    "    else:\n",
    "        return x % m"
   ]
  },
  {
   "cell_type": "markdown",
   "id": "5a943920",
   "metadata": {},
   "source": [
    "## Basics of RSA\n",
    "\n",
    "As we covered before, RSA is based on the concept of *public-key cryptography*, in which Alice and Bob (two people who want to communicate secretly) publish their public keys, which either can then use to encrypt a secret message only readable by the owner of that public key. \n",
    "\n",
    "Formally, Alice finds some (large) prime $N = pq$ and exponent $e$, and publishes $(N, e)$ as her **public key**. \n",
    "\n",
    "She also defines her private key as $d = e^{-1} \\mod (p-1)(q-1)$.\n",
    "\n",
    "For the purposes of this lab, we will be using $N=55$ and $e=3$. Normal values are much larger, for reasons you will see shortly."
   ]
  },
  {
   "attachments": {},
   "cell_type": "markdown",
   "id": "4182119b",
   "metadata": {},
   "source": [
    "**Question 1**: Complete the following function to compute the private key from p and q alongside the exponent e.\n",
    "\n",
    "*HINT: Use our **modularInverse helper function**. The **autograder will fail** if you use $\\texttt{pow(a, -1, n)}$ computes $a^{-1} \\mod n$, unfortunately.*"
   ]
  },
  {
   "cell_type": "code",
   "execution_count": null,
   "id": "c0405dae",
   "metadata": {
    "tags": []
   },
   "outputs": [],
   "source": [
    "def computePrivateKey(p,q,e):\n",
    "    ..."
   ]
  },
  {
   "cell_type": "code",
   "execution_count": null,
   "id": "f3878674",
   "metadata": {
    "deletable": false,
    "editable": false
   },
   "outputs": [],
   "source": [
    "grader.check(\"q1_1\")"
   ]
  },
  {
   "cell_type": "markdown",
   "id": "bdea4bfb",
   "metadata": {},
   "source": [
    "**Question 1.2**: Implement textbook RSA encryption and decryption.\n",
    "\n",
    "You **must** use **pow(base, exponent, modulus)** to compute $$m^e \\mod N$$ as other methods are too slow."
   ]
  },
  {
   "cell_type": "code",
   "execution_count": null,
   "id": "8083509c",
   "metadata": {
    "tags": []
   },
   "outputs": [],
   "source": [
    "def encryptRSA(message, e, N):\n",
    "    ..."
   ]
  },
  {
   "cell_type": "code",
   "execution_count": null,
   "id": "e496eb2d",
   "metadata": {
    "tags": []
   },
   "outputs": [],
   "source": [
    "def decryptRSA(encrypted, d, N):\n",
    "    ..."
   ]
  },
  {
   "cell_type": "code",
   "execution_count": null,
   "id": "f097d4c3",
   "metadata": {
    "deletable": false,
    "editable": false
   },
   "outputs": [],
   "source": [
    "grader.check(\"q1_2\")"
   ]
  },
  {
   "cell_type": "markdown",
   "id": "b71e732e",
   "metadata": {},
   "source": [
    "# Chosen-Ciphertext Attacks\n",
    "\n",
    "Textbook RSA is particularly susceptible to a **chosen-ciphertext attack**, in which our attacker Eve can choose an arbitrary ciphertext and have it decrypted by Bob. For example, she can encrypt a message using his public key and have him tell her the result of decrypting it.\n",
    "\n",
    "Sounds strange, since then we could just ask them to decrypt the ciphertext we wish to break. In this sense a raw chosen-ciphertext attack is not feasible in practice. We will see how a variant of it can be used to gradually reveal the full message, however, relying on the non-padded nature of RSA. \n",
    "\n",
    "First, let's go over how a chosen-ciphertext attack works in the basic case.\n",
    "\n",
    "Say Alice encrypts her message as $m^e$ and sends it over to Bob. Eve intercepts this, and has an oracle that tells her the decryption of any arbitrary ciphertext via Bob's private key **except for $m^e$**. This way we can't just pass it immediately to the oracle. However, Eve can use some properties of modular arithmetic to her advantage.\n",
    "\n",
    "Define $C = m^e$ as our ciphertext.\n",
    "\n",
    "$$C^* = C \\cdot 2^e = (2m)^e$$\n",
    "\n",
    "We then send this $C^*$ to the oracle and receive $$(2m)^{ed} = 2m$$. From here we can simply divide by two to get our message.\n",
    "\n",
    "This only works because the RSA ciphertext is malleable, in that we can multiply/add/etc with predictable results to the underlying message."
   ]
  },
  {
   "attachments": {},
   "cell_type": "markdown",
   "id": "5a0ffc65",
   "metadata": {},
   "source": [
    "## A Practical Example: Tencent's QQ Browser\n",
    "Sounds interesting in theory, but what about reality? Unfortunately for internet users, this type of attack is far more common than one might expect. Tencent, a Chinese technology conglomerate, owns a popular web browser named QQ Browser. Said browser was torn apart by researchers in a [2018 paper](https://arxiv.org/pdf/1802.03367.pdf) which found a shocking amount of vulnerabilities. We will take a look at the CCA2 attack in this lab.\n",
    "\n",
    "First, let's set the stage for the attack. Whenever a user interacts with the browswer, it sends a variety of sensitive personal information to QQ Browser servers (why a browser needs its own servers is suspicious enough) using RSA encryption to exchange a 128 bit (for our example, 16 bit) AES key. You don't need to know anything about AES for now, just know that it is a very secure symmetric cipher. The device and server then use this key to send encrypted data. \n",
    "\n",
    "Our goal is to reveal a 16 bit key to decrypt all the message traffic. There are a few key observations about the server that make this feasible:\n",
    "\n",
    "1. When the server receives a session request, it attempts to decrypt it using the last 128 bits (in our example, 16 bits) of the RSA plaintext as an AES key. If the decryption results in a valid session packet, it responds with some sort of success message. Otherwise, it responds with failure (or not at all).\n",
    "2. The RSA encryption has no padding.\n",
    "3. We can make requests to the server on our own (without needing access to the client device). "
   ]
  },
  {
   "cell_type": "code",
   "execution_count": null,
   "id": "65edf37b",
   "metadata": {},
   "outputs": [],
   "source": [
    "# We don't actually need to use AES for this. Dummy cipher will do \n",
    "def dummyAES(msg, key):\n",
    "    return msg ^ key \n",
    "\n",
    "class QQServer:\n",
    "    def __init__(self, privkey, N):\n",
    "        self.privkey = privkey\n",
    "        self.N = N\n",
    "        \n",
    "    def recoverAESKey(self, rsaData):\n",
    "        mask = (1 << 16) - 1\n",
    "                \n",
    "        data = decryptRSA(rsaData, self.privkey, self.N)\n",
    "                        \n",
    "        data = data & mask\n",
    "                \n",
    "        return data\n",
    "    \n",
    "    def decryptSession(self, rsaData, sessionData):\n",
    "        key = self.recoverAESKey(rsaData)\n",
    "                \n",
    "        return intToText(dummyAES(sessionData, key))[:11] == \"sessiondata\"        \n",
    "        "
   ]
  },
  {
   "attachments": {},
   "cell_type": "markdown",
   "id": "740a0b97",
   "metadata": {},
   "source": [
    "Armed with this knowledge, let's take a look at what we can do on our end. Say we intercept the rsaData of some user we want to spy on.\n",
    "\n",
    "Shifting said rsaData over by 15, we can make it so the last bit of their AES key is now the first bit of the AES key, with the rest zeroes. This is possible because of unpadded RSA and because the server only looks at the last 16 bits.\n",
    "\n",
    "**Remember, \"shifting\" rsaData is not just bitshifting the raw ciphertext. You MUST use the chosen-ciphertext attack (also known as homomorphic encryption) to multiply by 2^k in order to shift by k bits.**\n",
    "\n",
    "**To do this, you need to multiply the ciphertext by \\texttt{rsaEncrypt(2\\*\\*k, e, N)}}** in order to have the plaintext multiplied by 2^k.\n",
    "\n",
    "For example,\n",
    "\n",
    "Original RSA data: 1111 0000 1111 0101\n",
    "\n",
    "Shifted RSA data: 0111 1000 0111 1010 **1000 0000 0000 0000**\n",
    "\n",
    "\n",
    "The server will only look at the last 16 bits, and therefore will try to decrypt with the key 1000 0000 0000 0000. We as an attacker know the last 15 bits, but don't actually know the first (most significant bit). So we might set it up as such:\n",
    "\n",
    "X000 0000 0000 0000\n",
    "\n",
    "And try to figure out whether that X is 1 or 0. We know the server will respond with True if the key is correct or False if not, and we can encrypt a session with whatever key we want. So we try encrypting a session with the following key: 1000 0000 0000 0000. If it works, we know X=1, otherwise, X=0. \n",
    "\n",
    "In our example, the key works, so we know that bit is 1. We store it in the most-significant bit position and move onto our new iteration. Each time, we shift over key by 1, so we now have\n",
    "\n",
    "X100 0000 0000 0000\n",
    "\n",
    "and encrypt with 1100 0000 0000 0000. This will again tell us if the X is 1 or 0. We then repeat for all 16 bits."
   ]
  },
  {
   "attachments": {},
   "cell_type": "markdown",
   "id": "502e4955",
   "metadata": {},
   "source": [
    "**Question 2**: Implement a function to recover the 16 bit AES key from an intercepted RSA-encrypted session."
   ]
  },
  {
   "cell_type": "code",
   "execution_count": null,
   "id": "4bf628bb",
   "metadata": {
    "tags": []
   },
   "outputs": [],
   "source": [
    "def recoverAESKey(interceptedRSA, server, e, N):\n",
    "    aesKey = 0\n",
    "\n",
    "    # Loop from a shift of 15 to a shift of 0\n",
    "    for i in range(15, -1, -1):\n",
    "\n",
    "        # Generate a session of our own\n",
    "        testsession = textToInt(\"sessiondata blah\")\n",
    "\n",
    "        # Shift over our key by one bit to the right\n",
    "        aesKey = aesKey >> 1\n",
    "\n",
    "        # Shift the interceptedRSA by i bits to the left to make room for our key.\n",
    "        # Remember, we have to transform our shift into an encrypted ciphertext first!\n",
    "        # Re-read the chosen ciphertext paragraph if you are unsure how to do this.\n",
    "        # HINT: Shifting by i bits is equivalent to multiplying by 2**i\n",
    "        encryptedShift = ...\n",
    "        \n",
    "        modifiedRSA = interceptedRSA * encryptedShift\n",
    "\n",
    "        # Encrypt our test session with our AES key + one bit in the MSB\n",
    "        encryptedTestSession = dummyAES(testsession, 1<<15 | aesKey)\n",
    "\n",
    "        # Test whether that index with a 1 works, if so, set that bit to 1 in the final key\n",
    "        if server.decryptSession(modifiedRSA, encryptedTestSession):\n",
    "            aesKey = ...\n",
    "    \n",
    "    return aesKey"
   ]
  },
  {
   "cell_type": "code",
   "execution_count": null,
   "id": "bafc0275",
   "metadata": {},
   "outputs": [],
   "source": [
    "p,q = 100043,100049\n",
    "prime = p*q\n",
    "\n",
    "e = 3\n",
    "\n",
    "d = modularInverse(e, (p-1)*(q-1))\n",
    "\n",
    "sampleAESkey = 0b1111000011110101\n",
    "\n",
    "server = QQServer(d, prime)\n",
    "\n",
    "recovered = recoverAESKey(encryptRSA(sampleAESkey, e, prime), server, e, prime)\n",
    "print('Our used AES key:', bin(sampleAESkey))\n",
    "print('Our recovered AES key:', bin(recovered))"
   ]
  },
  {
   "cell_type": "markdown",
   "id": "917d8f86",
   "metadata": {},
   "source": [
    "We've just broken the entire AES key with 16 requests!"
   ]
  },
  {
   "cell_type": "code",
   "execution_count": null,
   "id": "826d025c",
   "metadata": {
    "deletable": false,
    "editable": false
   },
   "outputs": [],
   "source": [
    "grader.check(\"q2\")"
   ]
  },
  {
   "cell_type": "markdown",
   "id": "8d024866",
   "metadata": {},
   "source": [
    "That concludes Lab 3, congratulations!"
   ]
  },
  {
   "cell_type": "markdown",
   "id": "c4b8ffd9",
   "metadata": {
    "deletable": false,
    "editable": false
   },
   "source": [
    "## Submission\n",
    "\n",
    "Make sure you have run all cells in your notebook in order before running the cell below, so that all images/graphs appear in the output. The cell below will generate a zip file for you to submit. **Please save before exporting!**\n",
    "\n",
    "Once you have generated the zip file, go to the Gradescope page for this assignment to submit."
   ]
  },
  {
   "cell_type": "code",
   "execution_count": null,
   "id": "ac136dad",
   "metadata": {
    "deletable": false,
    "editable": false
   },
   "outputs": [],
   "source": [
    "# Save your notebook first, then run this cell to export your submission.\n",
    "grader.export(pdf=False, run_tests=True)"
   ]
  },
  {
   "cell_type": "markdown",
   "id": "741090b6",
   "metadata": {},
   "source": [
    " "
   ]
  }
 ],
 "metadata": {
  "kernelspec": {
   "display_name": "Python 3",
   "language": "python",
   "name": "python3"
  },
  "language_info": {
   "name": "python",
   "version": "3.10.6"
  },
  "otter": {
   "OK_FORMAT": true,
   "tests": {
    "q1_1": {
     "name": "q1_1",
     "points": 10,
     "suites": [
      {
       "cases": [
        {
         "code": ">>> assert computePrivateKey(5,11,3) == 27\n",
         "hidden": false,
         "locked": false
        }
       ],
       "scored": true,
       "setup": "",
       "teardown": "",
       "type": "doctest"
      }
     ]
    },
    "q1_2": {
     "name": "q1_2",
     "points": 10,
     "suites": [
      {
       "cases": [
        {
         "code": ">>> assert encryptRSA(24, 3, 55) == 19\n>>> assert decryptRSA(19, 27, 55) == 24\n>>> assert decryptRSA(encryptRSA(19, 3, 55), 27, 55) == 19\n",
         "hidden": false,
         "locked": false
        }
       ],
       "scored": true,
       "setup": "",
       "teardown": "",
       "type": "doctest"
      }
     ]
    },
    "q2": {
     "name": "q2",
     "points": 10,
     "suites": [
      {
       "cases": [
        {
         "code": ">>> p,q = 100043,100049\n>>> prime = p*q\n>>> \n>>> e = 3\n>>> \n>>> d = modularInverse(e, (p-1)*(q-1))\n>>> \n>>> server = QQServer(d, prime)\n>>> assert recoverAESKey(encryptRSA(sampleAESkey, e, prime), server, e, prime) == 0b1111000011110101\n",
         "hidden": false,
         "locked": false
        }
       ],
       "scored": true,
       "setup": "",
       "teardown": "",
       "type": "doctest"
      }
     ]
    }
   }
  },
  "vscode": {
   "interpreter": {
    "hash": "b0fa6594d8f4cbf19f97940f81e996739fb7646882a419484c72d19e05852a7e"
   }
  }
 },
 "nbformat": 4,
 "nbformat_minor": 5
}
