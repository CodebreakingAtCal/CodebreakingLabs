{
 "cells": [
  {
   "cell_type": "code",
   "execution_count": null,
   "id": "a24492ef",
   "metadata": {
    "deletable": false,
    "editable": false
   },
   "outputs": [],
   "source": [
    "# Initialize Otter\n",
    "import otter\n",
    "grader = otter.Notebook(\"lab05.ipynb\")"
   ]
  },
  {
   "cell_type": "markdown",
   "id": "b5256c92",
   "metadata": {},
   "source": [
    "# Lab 5: Hashing and Length-Extension Attacks\n",
    "Contributions From: Ryan Cottone\n",
    "\n",
    "Welcome to Lab 5! In this lab, you will construct a basic Merkle-Damgard hash function and implement a length-extension attack."
   ]
  },
  {
   "cell_type": "code",
   "execution_count": null,
   "id": "b43bc55d",
   "metadata": {},
   "outputs": [],
   "source": [
    "%%capture\n",
    "import sys\n",
    "!{sys.executable} -m pip install pycrypto"
   ]
  },
  {
   "cell_type": "code",
   "execution_count": null,
   "id": "a23d3799",
   "metadata": {},
   "outputs": [],
   "source": [
    "from Crypto.Cipher import AES"
   ]
  },
  {
   "cell_type": "markdown",
   "id": "0b29c881",
   "metadata": {},
   "source": [
    "## Hash Functions\n",
    "\n",
    "A **hash function**, denoted $H(x)$, is a deterministic function taking in some arbitrary amount of data, and outputting a fixed amount of data that appears random. This is very useful as a \"tag\" of data, to condense a bunch of data down into a tag that (almost) uniquely identifies it.\n",
    "\n",
    "They are often used in passwords, in which websites store a hash of your password rather than the actual text. When a user tries to login, they compare $H($submitted_password$)$ to their database entry to see if they match up.\n",
    "\n",
    "\"Attacks\" on hash functions usually involve finding a *collision*, that is, two values $m_1$ and $m_2$ such that $m_1 \\neq m_2$ and $H(m_1) = H(m_2)$. Say an attacker had the hash of your password, $H(p)$, and was able to find some value $k$ such that $H(k) = H(p)$. They could submit your username and the password $k$ to the server, which would then be accepted as the correct password!\n",
    "\n",
    "We will see how often these collisions can occur later in the lab. For now, we will focus on building our very own hash function from scratch."
   ]
  },
  {
   "cell_type": "markdown",
   "id": "34a532b4",
   "metadata": {},
   "source": [
    "# Merkle-Damgard Construction\n",
    "\n",
    "The Merkle-Damgard Construction is a general class of hash functions that operation in a \"block\" mode. We first split our data into equal-size blocks of data (in our case, 256 bits), and then perform operations block-wise. \n",
    "\n",
    "For a Merkle-Damgard hash, we need a *compression function* $f(v, m)$ that takes in two equal-size inputs and produces an output of the same size (compressing 2 256 bit inputs into 1 256 bit output). At each step, we compress the last result with the newest block of data.\n",
    "\n",
    "Consider the internal state of the hash function as $h_i$. To derive $h_{i}$, we find $f(h_{i-1}, m_i)$, where $m_i$ is the $i$-th block of the input data. We then repeat this, continually compressing input data against the last result of our compression function. Once we run out of input data, we output of our final $h$."
   ]
  },
  {
   "cell_type": "markdown",
   "id": "0755ea49",
   "metadata": {},
   "source": [
    "![test](https://www.researchgate.net/publication/322094216/figure/fig3/AS:608783873105920@1522156794791/Merkle-Damgard-construction-A-compression-function-accepts-two-inputs-a-chaining.png)"
   ]
  },
  {
   "cell_type": "markdown",
   "id": "29397cf8",
   "metadata": {},
   "source": [
    "The initial $h_0$ is called the Initialization Vector (IV), and is some fixed, public value. "
   ]
  },
  {
   "cell_type": "markdown",
   "id": "f5f1cc95",
   "metadata": {},
   "source": [
    "**Question 1**: Implement a function to split the input data into blocks, padding with zeroes if needed."
   ]
  },
  {
   "cell_type": "code",
   "execution_count": null,
   "id": "e4383435",
   "metadata": {
    "tags": []
   },
   "outputs": [],
   "source": [
    "BLOCK_SIZE = 16\n",
    "\n",
    "def processInput(data):\n",
    "    # We want to turn data into some list of 128-bit blocks in binary string form\n",
    "    data = data.replace(\" \", \"\")\n",
    "    byteData = bytes(data, 'UTF-8')    \n",
    "    \n",
    "    if (len(byteData) % BLOCK_SIZE != 0):\n",
    "        byteData += (BLOCK_SIZE - (len(byteData) % BLOCK_SIZE)) * b'0'\n",
    "    \n",
    "    blocks = []\n",
    "    i = 0\n",
    "    \n",
    "    while i < len(byteData):\n",
    "        ...\n",
    "        ...\n",
    "    \n",
    "    return blocks"
   ]
  },
  {
   "cell_type": "code",
   "execution_count": null,
   "id": "a234ba69",
   "metadata": {
    "deletable": false,
    "editable": false
   },
   "outputs": [],
   "source": [
    "grader.check(\"q1_1\")"
   ]
  },
  {
   "cell_type": "markdown",
   "id": "c27775b7",
   "metadata": {},
   "source": [
    "Here is a dummy compression function we will use just for demonstration:"
   ]
  },
  {
   "cell_type": "code",
   "execution_count": null,
   "id": "dc8f24e2",
   "metadata": {},
   "outputs": [],
   "source": [
    "def bxor(b1, b2): # use xor for bytes\n",
    "    result = bytearray()\n",
    "    for b1, b2 in zip(b1, b2):\n",
    "        result.append(b1 ^ b2)\n",
    "    return result\n",
    "\n",
    "# Returns E(a,b) for bytestrings a,b\n",
    "def encrypt(key,plaintext):\n",
    "    if len(key) != 16 or len(plaintext) != 16:\n",
    "        raise AssertionError(\"Key and plaintext must be 16 bytes long\")\n",
    "    \n",
    "    cipher = AES.new(key, AES.MODE_ECB)\n",
    "    \n",
    "    return cipher.encrypt(plaintext)\n",
    "\n",
    "def compress(state,data):\n",
    "    return bytes(bxor(state, encrypt(data, state)))"
   ]
  },
  {
   "cell_type": "markdown",
   "id": "c52cf206",
   "metadata": {},
   "source": [
    "**Question 1.2**: Implement a Merkle-Damgard hash function!"
   ]
  },
  {
   "cell_type": "code",
   "execution_count": null,
   "id": "0cdd9594",
   "metadata": {
    "tags": []
   },
   "outputs": [],
   "source": [
    "def merkleDamgardHash(data):\n",
    "    \n",
    "    # Split data into blocks\n",
    "    dataBlocks = ...\n",
    "    \n",
    "    IV = b'DEADBEEF' * 2\n",
    "    \n",
    "    h = IV    \n",
    "    \n",
    "    for i in range(len(dataBlocks)):\n",
    "        h = ...\n",
    "        \n",
    "    return h.hex()"
   ]
  },
  {
   "cell_type": "code",
   "execution_count": null,
   "id": "17b4766b",
   "metadata": {
    "deletable": false,
    "editable": false
   },
   "outputs": [],
   "source": [
    "grader.check(\"q1_2\")"
   ]
  },
  {
   "cell_type": "markdown",
   "id": "895de243",
   "metadata": {},
   "source": [
    "## Length-Extension Attacks\n",
    "\n",
    "Merkle-Damgard based hash functions are often susceptible to *length-extension attacks*, in which an attacker can take an existing hash $H(x)$ and compute $H(x||n)$ for some arbitrary data $n$, without knowing $x$. This is because the output of our Merkle-Damgard hash is just the final internal state, not some output separable from the state. We can just pick up where we left off and treat $H(x)$ as $h_k$, and then proceed to compute the hash function like usual with new data blocks ($h_{k+1} = f(h_k, n_1)$, etc).\n",
    "\n",
    "A problem occurs with padding, however, if the original message was not some multiple of 128 bits. While there are ways to get around this, for now, we will use a 'convienent' original message thats 128 bits long."
   ]
  },
  {
   "cell_type": "code",
   "execution_count": null,
   "id": "a292a4dd",
   "metadata": {
    "tags": []
   },
   "outputs": [],
   "source": [
    "def lengthExtensionAttack(existingHash, extraData):\n",
    "    # Compute H(x || extraData) given H(x)\n",
    "    \n",
    "    dataBlocks = processInput(extraData) \n",
    "        \n",
    "    existingHash = bytes.fromhex(existingHash)\n",
    "\n",
    "    h = ...\n",
    "    \n",
    "    for i in range(len(dataBlocks)):\n",
    "        h = ...\n",
    "    \n",
    "    return h.hex()"
   ]
  },
  {
   "cell_type": "code",
   "execution_count": null,
   "id": "ffeac4bc",
   "metadata": {
    "deletable": false,
    "editable": false
   },
   "outputs": [],
   "source": [
    "grader.check(\"q2_1\")"
   ]
  },
  {
   "cell_type": "markdown",
   "id": "b62441c1",
   "metadata": {},
   "source": [
    "Now that we have a length extension attack setup, let's try and use it to forge a digital signature! While we will cover signature in more detail next week, let's assume for now that Alice has sent her bank a request like m = \"send twelve thousand dollars to alice\" alongside a **signature** $H(k||m)$. For the purposes of our example, $H(k||m)$ uses some secret $k$, so one must know $k$ to figure out $H(k||m)$. \n",
    "\n",
    "We as the attacker don't know $k$, but want to add the data \" and bob\" to the end of the signature so we can pass off our new malicious message as legitimate.\n",
    "\n",
    "Their old signature hash was **8b9eca2ac997048e6687f8d8887482e1**. Figure out a way to make a new valid signature on the message we want!"
   ]
  },
  {
   "cell_type": "markdown",
   "id": "095eddd4",
   "metadata": {},
   "source": [
    "**Question 2.2**: Figure out the signature for the message \"send twelve thousand dollars to alice and bob\""
   ]
  },
  {
   "cell_type": "code",
   "execution_count": null,
   "id": "65ce8d17",
   "metadata": {
    "tags": []
   },
   "outputs": [],
   "source": [
    "oldsignature = '8b9eca2ac997048e6687f8d8887482e1'\n",
    "\n",
    "newsignature = ...\n",
    "\n",
    "print('Our new signature is:', newsignature)"
   ]
  },
  {
   "cell_type": "code",
   "execution_count": null,
   "id": "5b205c58",
   "metadata": {
    "deletable": false,
    "editable": false
   },
   "outputs": [],
   "source": [
    "grader.check(\"q2_2\")"
   ]
  },
  {
   "cell_type": "markdown",
   "id": "768c3124",
   "metadata": {},
   "source": [
    "Congrats on finishing Lab 5!"
   ]
  },
  {
   "cell_type": "markdown",
   "id": "99690bbe",
   "metadata": {
    "deletable": false,
    "editable": false
   },
   "source": [
    "## Submission\n",
    "\n",
    "Make sure you have run all cells in your notebook in order before running the cell below, so that all images/graphs appear in the output. The cell below will generate a zip file for you to submit. **Please save before exporting!**\n",
    "\n",
    "Once you have generated the zip file, go to the Gradescope page for this assignment to submit."
   ]
  },
  {
   "cell_type": "code",
   "execution_count": null,
   "id": "8392ba35",
   "metadata": {
    "deletable": false,
    "editable": false
   },
   "outputs": [],
   "source": [
    "# Save your notebook first, then run this cell to export your submission.\n",
    "grader.export(pdf=False, run_tests=True)"
   ]
  },
  {
   "cell_type": "markdown",
   "id": "48953183",
   "metadata": {},
   "source": [
    " "
   ]
  }
 ],
 "metadata": {
  "interpreter": {
   "hash": "50292dbb1f747f7151d445135d392af3138fb3c65386d17d9510cb605222b10b"
  },
  "kernelspec": {
   "display_name": "Python 3 (ipykernel)",
   "language": "python",
   "name": "python3"
  },
  "language_info": {
   "codemirror_mode": {
    "name": "ipython",
    "version": 3
   },
   "file_extension": ".py",
   "mimetype": "text/x-python",
   "name": "python",
   "nbconvert_exporter": "python",
   "pygments_lexer": "ipython3",
   "version": "3.9.14"
  },
  "otter": {
   "OK_FORMAT": true,
   "tests": {
    "q1_1": {
     "name": "q1_1",
     "points": 10,
     "suites": [
      {
       "cases": [
        {
         "code": ">>> testInput = \"ABCD\"\n>>> assert processInput(testInput) == [bytes(\"ABCD000000000000\", 'UTF-8')]\n",
         "hidden": false,
         "locked": false
        }
       ],
       "scored": true,
       "setup": "",
       "teardown": "",
       "type": "doctest"
      }
     ]
    },
    "q1_2": {
     "name": "q1_2",
     "points": 10,
     "suites": [
      {
       "cases": [
        {
         "code": ">>> assert merkleDamgardHash('test message') == '7f37e4a8d91e427c6a7cb8c5d90905d8'\n",
         "hidden": false,
         "locked": false
        }
       ],
       "scored": true,
       "setup": "",
       "teardown": "",
       "type": "doctest"
      }
     ]
    },
    "q2_1": {
     "name": "q2_1",
     "points": 10,
     "suites": [
      {
       "cases": [
        {
         "code": ">>> assert lengthExtensionAttack('0be93b6da0df22d6470eb53c33caf4d7', \"DEADBEEF\"*2) == '9721cf02e1307d93d94f395645ddbe06'\n",
         "hidden": false,
         "locked": false
        }
       ],
       "scored": true,
       "setup": "",
       "teardown": "",
       "type": "doctest"
      }
     ]
    },
    "q2_2": {
     "name": "q2_2",
     "points": 10,
     "suites": [
      {
       "cases": [
        {
         "code": ">>> assert newsignature == merkleDamgardHash(\"privatekeysecret send twelve thousand dollars to alice and bob\")\n",
         "hidden": false,
         "locked": false
        }
       ],
       "scored": true,
       "setup": "",
       "teardown": "",
       "type": "doctest"
      }
     ]
    }
   }
  },
  "vscode": {
   "interpreter": {
    "hash": "86b6775e93d8e7b2e5f79e45a0bdd3fb78f60d14c90e6111b0fee66688ef28fc"
   }
  }
 },
 "nbformat": 4,
 "nbformat_minor": 5
}
