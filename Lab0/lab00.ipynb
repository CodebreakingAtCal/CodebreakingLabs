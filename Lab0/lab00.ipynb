{
 "cells": [
  {
   "cell_type": "code",
   "execution_count": null,
   "metadata": {
    "deletable": false,
    "editable": false
   },
   "outputs": [],
   "source": [
    "# Initialize Otter\n",
    "import otter\n",
    "grader = otter.Notebook(\"lab00.ipynb\")"
   ]
  },
  {
   "cell_type": "markdown",
   "metadata": {},
   "source": [
    "# Lab 0: Introduction"
   ]
  },
  {
   "cell_type": "markdown",
   "metadata": {},
   "source": [
    "Welcome to Codebreaking at Cal! We're excited to be teaching you all about codebreaking and cryptography this fall. This lab will serve as an example of what the weekly lab will be like, as well as a quick Python/numpy refresher. "
   ]
  },
  {
   "cell_type": "markdown",
   "metadata": {},
   "source": [
    "Since Codebreaking at Cal requires 61A-equivalent experience, we will not be covering programming basics. However, we recognize that some people may be out of practice or unfamiliar with Python. As such, this lab will include some basic Python syntax reminders."
   ]
  },
  {
   "cell_type": "markdown",
   "metadata": {},
   "source": [
    "**Question 1.1: Variables**\n",
    "\n",
    "Python does not require variables to be typed, so you can assign them as such: `variable = value`."
   ]
  },
  {
   "cell_type": "code",
   "execution_count": null,
   "metadata": {
    "tags": []
   },
   "outputs": [],
   "source": [
    "# Comments in Python are like this!\n",
    "# Set the below variable to True to pass the test.\n",
    "test = ..."
   ]
  },
  {
   "cell_type": "code",
   "execution_count": null,
   "metadata": {
    "deletable": false,
    "editable": false
   },
   "outputs": [],
   "source": [
    "grader.check(\"q1_1\")"
   ]
  },
  {
   "cell_type": "markdown",
   "metadata": {},
   "source": [
    "**Question 1.2: Functions, Modulo**\n",
    "\n",
    "Similarly, functions do not require a specified return value type or input typing. They are written like `def funcName(args):`.\n",
    "\n",
    "The **modulo** operator in Python is `%`. As a reminder, the modulo operator returns the value of a number mod `n` for `number % n`. For example, `7 % 5 = 2`. \n",
    "\n",
    "Hint: How might even and odd numbers vary under modulo 2?"
   ]
  },
  {
   "cell_type": "code",
   "execution_count": null,
   "metadata": {
    "tags": []
   },
   "outputs": [],
   "source": [
    "# Complete the function to return True if the given input is even!\n",
    "def isEven(x):\n",
    "    ...\n"
   ]
  },
  {
   "cell_type": "code",
   "execution_count": null,
   "metadata": {
    "deletable": false,
    "editable": false
   },
   "outputs": [],
   "source": [
    "grader.check(\"q1_2\")"
   ]
  },
  {
   "cell_type": "markdown",
   "metadata": {},
   "source": [
    "**Question 1.3: Loops**\n",
    "\n",
    "Loops in Python are slightly different than other languages in that they iterate through a list rather than over some loop variable. The function `range(start, end, step)` takes in a start and end index, and increments the value by `step` every iteration. It starts at `start` but does not include `end`."
   ]
  },
  {
   "cell_type": "code",
   "execution_count": null,
   "metadata": {
    "tags": []
   },
   "outputs": [],
   "source": [
    "# Complete the for loop to sum numbers from 0 to 10 (exclusive) stepping by 2 each time.\n",
    "sum = 0\n",
    "..."
   ]
  },
  {
   "cell_type": "code",
   "execution_count": null,
   "metadata": {
    "deletable": false,
    "editable": false
   },
   "outputs": [],
   "source": [
    "grader.check(\"q1_3\")"
   ]
  },
  {
   "cell_type": "markdown",
   "metadata": {},
   "source": [
    "# Question 2: NumPy\n",
    "\n",
    "NumPy is a very useful Python library that is often used in data-intensive work. We will sometimes use it for our labs as well -- so here's quick overview of the library and a very basic function of it. (We will re-introduce necessary functions as needed later).\n",
    "\n",
    "`np.arange(start, end, step)` functions the same as `range` except returning a numpy array.\n",
    "`np.sum(arr)` returns the sum of a numpy array or Python list.\n",
    "\n",
    "You can add/multiply/etc numpy arrays pairwise if they are of the same dimension!"
   ]
  },
  {
   "cell_type": "markdown",
   "metadata": {},
   "source": [
    "**Question 2.1: NumPy Initialization**"
   ]
  },
  {
   "cell_type": "code",
   "execution_count": null,
   "metadata": {},
   "outputs": [],
   "source": [
    "import numpy as np"
   ]
  },
  {
   "cell_type": "code",
   "execution_count": null,
   "metadata": {
    "tags": []
   },
   "outputs": [],
   "source": [
    "# Create a NumPy array that contains [0,10)\n",
    "arr = ...\n",
    "\n",
    "# Sum the array\n",
    "arr_sum = ..."
   ]
  },
  {
   "cell_type": "code",
   "execution_count": null,
   "metadata": {
    "deletable": false,
    "editable": false
   },
   "outputs": [],
   "source": [
    "grader.check(\"q2_1\")"
   ]
  },
  {
   "cell_type": "markdown",
   "metadata": {},
   "source": [
    "**Question 2.2: NumPy Arrays**"
   ]
  },
  {
   "cell_type": "code",
   "execution_count": null,
   "metadata": {
    "tags": []
   },
   "outputs": [],
   "source": [
    "# Add two arrays together \n",
    "arr1, arr2 = np.arange(0, 3), np.arange(10, 13)\n",
    "\n",
    "output = ..."
   ]
  },
  {
   "cell_type": "code",
   "execution_count": null,
   "metadata": {
    "deletable": false,
    "editable": false
   },
   "outputs": [],
   "source": [
    "grader.check(\"q2_2\")"
   ]
  },
  {
   "cell_type": "markdown",
   "metadata": {},
   "source": [
    "# Question 3: Syllabus Quiz\n",
    "\n",
    "There are just a few basic questions we want you to answer to confirm you're familiar with the course policies. You can revisit them over at https://codebreakingatcal.org/about."
   ]
  },
  {
   "cell_type": "markdown",
   "metadata": {},
   "source": [
    "**Question 3.1:** What is the lecture time for this course? Please put the number of your answer in the variable below.\n",
    "\n",
    "1: Monday 5PM - 7PM\n",
    "\n",
    "2: Tuesday 6:30PM - 8PM\n",
    "\n",
    "3: Tuesday 5PM - 7PM\n",
    "\n",
    "4: Friday 11AM - 12PM"
   ]
  },
  {
   "cell_type": "code",
   "execution_count": null,
   "metadata": {
    "tags": []
   },
   "outputs": [],
   "source": [
    "q31_answer = ..."
   ]
  },
  {
   "cell_type": "code",
   "execution_count": null,
   "metadata": {
    "deletable": false,
    "editable": false
   },
   "outputs": [],
   "source": [
    "grader.check(\"q3_1\")"
   ]
  },
  {
   "cell_type": "markdown",
   "metadata": {},
   "source": [
    "**Question 3.2**: How many lectures and labs do you need to attend for full credit in each category? Place a number into each variable below."
   ]
  },
  {
   "cell_type": "code",
   "execution_count": null,
   "metadata": {
    "tags": []
   },
   "outputs": [],
   "source": [
    "required_lectures = ...\n",
    "required_labs = ..."
   ]
  },
  {
   "cell_type": "code",
   "execution_count": null,
   "metadata": {
    "deletable": false,
    "editable": false
   },
   "outputs": [],
   "source": [
    "grader.check(\"q3_2\")"
   ]
  },
  {
   "cell_type": "markdown",
   "metadata": {},
   "source": [
    "**Question 3.3**: Which resources are available for students to access? Put all numbers that apply into a list.\n",
    "\n",
    "1. Lecture \n",
    "2. Office Hours \n",
    "3. Course Notes\n",
    "4. Class Discord"
   ]
  },
  {
   "cell_type": "code",
   "execution_count": null,
   "metadata": {
    "tags": []
   },
   "outputs": [],
   "source": [
    "# resources = [7, 8, 9] (like this)\n",
    "resources = ..."
   ]
  },
  {
   "cell_type": "code",
   "execution_count": null,
   "metadata": {
    "deletable": false,
    "editable": false
   },
   "outputs": [],
   "source": [
    "grader.check(\"q3_3\")"
   ]
  },
  {
   "cell_type": "markdown",
   "metadata": {},
   "source": [
    "# Optional: Examples!\n",
    "\n",
    "This part of the lab is optional, but serves as a quick glimpse into what you will be building next week! Play around with encryption and decryption using a basic polyalphabetic cipher!"
   ]
  },
  {
   "cell_type": "code",
   "execution_count": null,
   "metadata": {},
   "outputs": [],
   "source": [
    "%%capture\n",
    "# Install our custom library\n",
    "import sys\n",
    "!{sys.executable} -m pip install git+https://github.com/CodebreakingAtCal/codebreaking_at_cal.git\n",
    "\n",
    "import codebreaking_at_cal as cbc"
   ]
  },
  {
   "cell_type": "code",
   "execution_count": null,
   "metadata": {},
   "outputs": [],
   "source": [
    "# How to use the CBC library:\n",
    "# cbc.vignere_encrypt(plaintext, key) -> ciphertext\n",
    "# cbc.vignere_decrypt(ciphertext, key) -> plaintext\n",
    "\n",
    "message = \"YOUR MESSAGE HERE\"\n",
    "key = \"YOUR KEY HERE\"\n",
    "\n",
    "ciphertext = cbc.vignere_encrypt(message, key)\n",
    "ciphertext"
   ]
  },
  {
   "cell_type": "code",
   "execution_count": null,
   "metadata": {},
   "outputs": [],
   "source": [
    "cbc.vignere_decrypt(ciphertext, key)"
   ]
  },
  {
   "cell_type": "markdown",
   "metadata": {},
   "source": [
    "You're done with Lab 0! This was a short lab, and it's likely many of you felt it was a little underwhelming. Don't worry, the purpose of this lab is just to get used to Jupyter and Python a bit. Go ahead and run the following code to generate a ZIP file to submit to Gradescope."
   ]
  },
  {
   "cell_type": "markdown",
   "metadata": {
    "deletable": false,
    "editable": false
   },
   "source": [
    "## Submission\n",
    "\n",
    "Make sure you have run all cells in your notebook in order before running the cell below, so that all images/graphs appear in the output. The cell below will generate a zip file for you to submit. **Please save before exporting!**\n",
    "\n",
    "Once you have generated the zip file, go to the Gradescope page for this assignment to submit."
   ]
  },
  {
   "cell_type": "code",
   "execution_count": null,
   "metadata": {
    "deletable": false,
    "editable": false
   },
   "outputs": [],
   "source": [
    "# Save your notebook first, then run this cell to export your submission.\n",
    "grader.export(pdf=False, run_tests=True)"
   ]
  },
  {
   "cell_type": "markdown",
   "metadata": {},
   "source": [
    " "
   ]
  }
 ],
 "metadata": {
  "kernelspec": {
   "display_name": "Python 3.10.4 64-bit",
   "language": "python",
   "name": "python3"
  },
  "language_info": {
   "codemirror_mode": {
    "name": "ipython",
    "version": 3
   },
   "file_extension": ".py",
   "mimetype": "text/x-python",
   "name": "python",
   "nbconvert_exporter": "python",
   "pygments_lexer": "ipython3",
   "version": "3.10.4"
  },
  "otter": {
   "OK_FORMAT": true,
   "tests": {
    "q1_1": {
     "name": "q1_1",
     "points": 10,
     "suites": [
      {
       "cases": [
        {
         "code": ">>> assert test \n",
         "hidden": false,
         "locked": false
        }
       ],
       "scored": true,
       "setup": "",
       "teardown": "",
       "type": "doctest"
      }
     ]
    },
    "q1_2": {
     "name": "q1_2",
     "points": 10,
     "suites": [
      {
       "cases": [
        {
         "code": ">>> assert isEven(2)\n>>> assert not isEven(3)\n",
         "hidden": false,
         "locked": false
        }
       ],
       "scored": true,
       "setup": "",
       "teardown": "",
       "type": "doctest"
      }
     ]
    },
    "q1_3": {
     "name": "q1_3",
     "points": 10,
     "suites": [
      {
       "cases": [
        {
         "code": ">>> assert sum == (0 + 2 + 4 + 6 + 8)\n",
         "hidden": false,
         "locked": false
        }
       ],
       "scored": true,
       "setup": "",
       "teardown": "",
       "type": "doctest"
      }
     ]
    },
    "q2_1": {
     "name": "q2_1",
     "points": 10,
     "suites": [
      {
       "cases": [
        {
         "code": ">>> np.testing.assert_array_equal(arr, np.arange(0, 10))\n>>> assert arr_sum == np.sum(arr)\n",
         "hidden": false,
         "locked": false
        }
       ],
       "scored": true,
       "setup": "",
       "teardown": "",
       "type": "doctest"
      }
     ]
    },
    "q2_2": {
     "name": "q2_2",
     "points": 10,
     "suites": [
      {
       "cases": [
        {
         "code": ">>> np.testing.assert_array_equal(output, np.array([10, 12, 14]))\n",
         "hidden": false,
         "locked": false
        }
       ],
       "scored": true,
       "setup": "",
       "teardown": "",
       "type": "doctest"
      }
     ]
    },
    "q3_1": {
     "name": "q3_1",
     "points": 10,
     "suites": [
      {
       "cases": [
        {
         "code": ">>> assert q31_answer == 2\n",
         "hidden": false,
         "locked": false
        }
       ],
       "scored": true,
       "setup": "",
       "teardown": "",
       "type": "doctest"
      }
     ]
    },
    "q3_2": {
     "name": "q3_2",
     "points": 10,
     "suites": [
      {
       "cases": [
        {
         "code": ">>> assert required_lectures == required_labs == 10\n",
         "hidden": false,
         "locked": false
        }
       ],
       "scored": true,
       "setup": "",
       "teardown": "",
       "type": "doctest"
      }
     ]
    },
    "q3_3": {
     "name": "q3_3",
     "points": 10,
     "suites": [
      {
       "cases": [
        {
         "code": ">>> assert resources == [1,2,3,4]\n",
         "hidden": false,
         "locked": false
        }
       ],
       "scored": true,
       "setup": "",
       "teardown": "",
       "type": "doctest"
      }
     ]
    }
   }
  },
  "vscode": {
   "interpreter": {
    "hash": "86b6775e93d8e7b2e5f79e45a0bdd3fb78f60d14c90e6111b0fee66688ef28fc"
   }
  }
 },
 "nbformat": 4,
 "nbformat_minor": 2
}
