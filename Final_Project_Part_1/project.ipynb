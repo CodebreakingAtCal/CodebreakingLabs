{
 "cells": [
  {
   "cell_type": "code",
   "execution_count": null,
   "id": "c4233188",
   "metadata": {
    "deletable": false,
    "editable": false
   },
   "outputs": [],
   "source": [
    "# Initialize Otter\n",
    "import otter\n",
    "grader = otter.Notebook(\"project.ipynb\")"
   ]
  },
  {
   "cell_type": "markdown",
   "id": "dee043ca",
   "metadata": {},
   "source": [
    "# Final Project: Part 1\n",
    "Contributions From: Ryan Cottone\n",
    "\n",
    "Welcome to the final project of the semester! In Part 1, we will use what we learned about cryptography to recreate the Transport Layer Security (TLS) protocol that is used to encrypt your connections to websites. We will also build a server authentication and file storage system.\n",
    "\n",
    "In Part 2, you will be presented with ~8 different challenges of varying difficulty. Each challenge will involve finding and exploiting some flaw in the setup of the aforementioned system.\n",
    "\n",
    "Please see the spec (TODO: LINK HERE) for a guideline on completing this part."
   ]
  },
  {
   "cell_type": "markdown",
   "id": "f3ba71bb",
   "metadata": {},
   "source": [
    "### Helpers"
   ]
  },
  {
   "cell_type": "code",
   "execution_count": null,
   "id": "84f9717e",
   "metadata": {},
   "outputs": [],
   "source": [
    "%%capture\n",
    "import sys\n",
    "!{sys.executable} -m pip install pycryptodome"
   ]
  },
  {
   "cell_type": "code",
   "execution_count": null,
   "id": "11f873da",
   "metadata": {},
   "outputs": [],
   "source": [
    "%%capture\n",
    "import random\n",
    "import math\n",
    "import string\n",
    "import numpy as np\n",
    "from utils import *"
   ]
  },
  {
   "cell_type": "code",
   "execution_count": null,
   "id": "60cd0fe2",
   "metadata": {},
   "outputs": [],
   "source": [
    "CERT_AUTH = { 'e': 65537, 'N': 33790420484761320225234266446986435791020053290995177788399417698648848366075439013295931744537889745793682732187585867814285806211190774412138926826806937374931229955338241741978503726324443629746710612128866806815968501932728765477787763877641403710570749219182260822344263730489611164845428107854720086677, 'd': 13990616901200824332998639242549657982350872729162978917073076266121984534132734754806980909837734993242162151729712109543321259006983256231951260806039426156135728347335452488348561573956342300497866864117403272359970143321087093698235850894812096199039329431651823513521315154736696406982035194667449777653}"
   ]
  },
  {
   "cell_type": "markdown",
   "id": "4d897fba",
   "metadata": {},
   "source": [
    "# Transport Layer Security\n",
    "\n",
    "First: what even is TLS? TLS is a protocol designed to securely encrypt communications between a client and a web server. It uses a combination of public-key encryption, symmetric encryption, digital signatures, and more!\n",
    "\n",
    "We will be using the **RSA-ECDH** version of TLS. In order, the client and server accomplish the following steps:\n",
    "\n",
    "Before the connection begins, the server needs to configure certain constants and get a certificate signed by a certificate authority.\n",
    "1. The server generates an RSA keypair of the form ((e, N), d).\n",
    "2. The certificate authority issues a signature saying the server's RSA public key corresponds to that server.\n",
    "3. The server picks an elliptic curve (we will use the Sepc256k1 curve) and a generator point.\n",
    "\n",
    "After the server is setup, the client and server initiate a connection and trade RSA keys.\n",
    "1. The client asks the server for its RSA public key and certificate.\n",
    "2. The server provides this, and the client verifies the certificate is valid for that RSA key.\n",
    "3. The server then sends the elliptic curve parameters, signed by their RSA private key.\n",
    "4. The client verifies these parameters are correctly signed by the server's RSA public key.\n",
    "\n",
    "Now that the client and server have securely traded RSA keys, they are able to sign messages to ensure integrity and authenticity. We can begin the Elliptic-Curve Diffie Hellman Key Exchange (ECDH).\n",
    "1. The server generates a secret value a and public point aP using the aforementioned generator point, and sends AP to the client. They attach a signature of aP using their RSA private key.\n",
    "2. The client receives nP, and computes their secret b. They compute bP and send it to the server (alongside a signature on bP).\n",
    "3. The server computes a(bP) = (ab)P and the client computes b(aP) = (ab)P. They now convert this point to an integer and use it as a shared secret.\n",
    "\n",
    "Once we have securely established a shared secret, we can use symmetric encryption to send requests. \n",
    "1. The client create requests and sends it encrypted via AES using the shared secret derived from ECDH. The server can decrypt this, and encrypt its response using the same method."
   ]
  },
  {
   "cell_type": "code",
   "execution_count": null,
   "id": "45c753f9",
   "metadata": {
    "tags": []
   },
   "outputs": [],
   "source": [
    "class Server:\n",
    "    RSA_PUBLIC_KEY = (\n",
    "        65537,\n",
    "        9038494040587010144527283006157928881319808198037800262507236135386268739708006022679916006469762927636026303078260115925689450875819797050237830498287577\n",
    "                     )\n",
    "    \n",
    "    RSA_PRIVATE_KEY = 2535417770757764232372393774283341693305817384267313426399332119458339022396333163725804069143378584578179197504985944189947045947523212247400435285708353\n",
    "    \n",
    "    SIGNED_SERVER_CERTIFICATE = 12700340844416036644598467941678481034795616611285372846483555754936821137468034013552250333992213649482476234812345812443409067513447778032927158222423442969388095714455462826384483204764801308373583214095146933570191105218603640338334545613351980554082339092228528550094782514990171966181657825617151691397\n",
    "    \n",
    "    ELLIPTIC_CURVE = [0,7]\n",
    "    \n",
    "    ELLIPTIC_CURVE_MODULUS = 0xfffffffffffffffffffffffffffffffffffffffffffffffffffffffefffffc2f\n",
    "    \n",
    "    GENERATOR_POINT = (0x79be667ef9dcbbac55a06295ce870b07029bfcdb2dce28d959f2815b16f81798,\n",
    "       0x483ada7726a3c4655da4fbfc0e1108a8fd17b448a68554199c47d08ffb10d4b8)\n",
    "    \n",
    "    GENERATOR_POINT_ORDER = 0xfffffffffffffffffffffffffffffffebaaedce6af48a03bbfd25e8cd0364141\n",
    "    \n",
    "    LOGINS = {}\n",
    "\n",
    "    def signMessage(self, message):\n",
    "        \"\"\"\n",
    "        Helper function to sign a given (integer) message with this instance's private key.\n",
    "        \"\"\"\n",
    "        \n",
    "        return signRSA(self.RSA_PRIVATE_KEY, message, self.RSA_PUBLIC_KEY[1])\n",
    "    \n",
    "    def publishRSAPublicKey(self):\n",
    "        \"\"\"\n",
    "        Returns ((e, N), signature) where e,N are the server's public key, and signature is the cert authorities' signature \n",
    "        on e||N.\n",
    "        \"\"\"\n",
    "        \n",
    "        return ((self.RSA_PUBLIC_KEY[0], self.RSA_PUBLIC_KEY[1]), self.SIGNED_SERVER_CERTIFICATE)\n",
    "    \n",
    "    def generateECDHParameters(self):\n",
    "        \"\"\"\n",
    "        Returns a generator point P, curve E, and modulus N signed via the server's RSA keys.\n",
    "        \"\"\"\n",
    "\n",
    "        intToSign = int(str(self.ELLIPTIC_CURVE[0]) + str(self.ELLIPTIC_CURVE[1]) \n",
    "                        + str(self.ELLIPTIC_CURVE_MODULUS) + str(self.GENERATOR_POINT[0]) + str(self.GENERATOR_POINT[1]))\n",
    "\n",
    "        signature = ...\n",
    "\n",
    "        return self.ELLIPTIC_CURVE, self.ELLIPTIC_CURVE_MODULUS, self.GENERATOR_POINT, self.GENERATOR_POINT_ORDER, signature\n",
    "    \n",
    "    def generateSignedECDHMessage(self):\n",
    "        \"\"\"\n",
    "        Helper function that generates a random ECDH keypair (nP, n) and returns nP, signature where signature is the \n",
    "        RSA signature on nP.\n",
    "        \"\"\"\n",
    "        \n",
    "        ...\n",
    "        \n",
    "        intToSign = int(str(nP[0]) + str(nP[1]))\n",
    "        \n",
    "        self.ECDH_SECRET = ...\n",
    "        \n",
    "        return nP, self.signMessage(intToSign)\n",
    "    \n",
    "    def verifyECDHMessage(self, P, signature, publicKey):\n",
    "        \"\"\"\n",
    "        Verifies point P was signed by the given publicKey (e, N).\n",
    "        \"\"\"\n",
    "\n",
    "        expected = int(str(P[0]) + str(P[1]))\n",
    "\n",
    "        ...\n",
    "    \n",
    "    def acceptConnection(self, clientPublicKey):\n",
    "        self.CLIENT_PUBLIC_KEY = clientPublicKey\n",
    "    \n",
    "    def acceptECDHMessage(self, P, signature):\n",
    "        \"\"\"\n",
    "        Given the sender's public point, verify its signature is as expected and then update internal state\n",
    "        \"\"\"\n",
    "        \n",
    "        assert self.verifyECDHMessage(P, signature, self.CLIENT_PUBLIC_KEY), \"Invalid signature on received ECDH message.\"\n",
    "        \n",
    "        # Signature verified\n",
    "        sharedSecretPoint = ...\n",
    "        \n",
    "        self.SHARED_SECRET_INT = ...\n",
    "        \n",
    "        return True\n",
    "    \n",
    "    def createLogin(self, username, password):\n",
    "        \"\"\"\n",
    "        Given a username and password, update the internal LOGINS database to have an entry for username.\n",
    "        \"\"\"\n",
    "        \n",
    "        if username in self.LOGINS: \n",
    "            return False\n",
    "        \n",
    "        salt = ''.join(np.random.choice(list(string.ascii_lowercase), 5))\n",
    "        \n",
    "        intToHash = textToInt(password + salt)\n",
    "        \n",
    "        hashedPassword = ...\n",
    "        \n",
    "        \n",
    "        self.LOGINS[username] = (hashedPassword, salt)\n",
    "        \n",
    "        return True\n",
    "        \n",
    "    def verifyLogin(self, username, password):\n",
    "        \"\"\"\n",
    "        Given a username and password, check if the password corresponds to the given username.\n",
    "        \"\"\"\n",
    "        \n",
    "        assert username in self.LOGINS, \"Username does not exist\"\n",
    "        \n",
    "        hashedPassword = ...\n",
    "        salt = ...\n",
    "        \n",
    "        intToHash = textToInt(password + salt)\n",
    "                \n",
    "        return hashedPassword == hash_SHA256(intToHash)\n",
    "    \n",
    "    def encryptMessage(self, message):\n",
    "        \"\"\"\n",
    "        Given string message, encrypts with the current setup\n",
    "        \"\"\"\n",
    "        \n",
    "        return encryptAES(self.SHARED_SECRET_INT, bytes(message))\n",
    "    \n",
    "    def decryptMessage(self, encrypted):\n",
    "        \"\"\"\n",
    "        Given encrypted message, decrypts with the current setup\n",
    "        \"\"\"\n",
    "        \n",
    "        return decryptAES(self.SHARED_SECRET_INT, encrypted)\n",
    "    \n",
    "    def verifyRequestIntegrity(self, requestedData):\n",
    "        \"\"\"\n",
    "        Takes in a request of the form { data: ..., hmac: ...} and returns True if the HMAC is valid.\n",
    "        \"\"\"\n",
    "        \n",
    "        ...\n",
    "    \n",
    "    def handleRequest(self, requestData):\n",
    "        \"\"\"\n",
    "        Handles the raw request data and routes it to the correct function.\n",
    "        \"\"\"\n",
    "        \n",
    "        if 'data' not in requestData or 'hmac' not in requestData:\n",
    "            raise AssertionError(\"Invalid requested format\")\n",
    "            \n",
    "        assert self.verifyRequestIntegrity(requestData), \"Request MAC check failed\"\n",
    "        \n",
    "        # Request verified, time to decrypt\n",
    "        request = json.loads(self.decryptMessage(requestData['data']))\n",
    "        \n",
    "        if request['type'] == 'createLogin':\n",
    "            assert 'username' in request and 'password' in request, \"Bad request data\"\n",
    "            \n",
    "            return self.createLogin(request['username'], request['password'])\n",
    "        elif request['type'] == 'verifyLogin':\n",
    "            return self.verifyLogin(request['username'], request['password'])\n",
    "        else:\n",
    "            raise AssertionError(\"Invalid request type\")"
   ]
  },
  {
   "cell_type": "code",
   "execution_count": null,
   "id": "5ec16439",
   "metadata": {
    "tags": []
   },
   "outputs": [],
   "source": [
    "class Client:\n",
    "    def __init__(self, keybits=512):\n",
    "        rsa_keypair = generateRSAKeypair(keybits)\n",
    "        \n",
    "        self.RSA_PUBLIC_KEY = (rsa_keypair[0], rsa_keypair[1])\n",
    "        self.RSA_PRIVATE_KEY = (rsa_keypair[2])\n",
    "        \n",
    "    def signMessage(self, message):\n",
    "        \"\"\"\n",
    "        Helper function to sign a given (integer) message with this instance's private key.\n",
    "        \"\"\"\n",
    "        \n",
    "        return signRSA(self.RSA_PRIVATE_KEY, message, self.RSA_PUBLIC_KEY[1])\n",
    "        \n",
    "    def verifyServerCertificate(self, serverPublicKey, signature):\n",
    "        \"\"\"\n",
    "        Asserts the server's certificate is correctly signed by the given certificate authority.\n",
    "\n",
    "        The certificate is on int(e||N).\n",
    "        \"\"\"\n",
    "        \n",
    "        e, N = CERT_AUTH['e'], CERT_AUTH['N']\n",
    "\n",
    "        ...\n",
    "            return False\n",
    "        \n",
    "        self.SERVER_PUBLIC_KEY = serverPublicKey\n",
    "        \n",
    "        return True\n",
    "    \n",
    "    def verifyECDHParameters(self, ellipticCurve, ellipticCurveModulus, generatorPoint, generatorPointOrder, signature):\n",
    "        \"\"\"\n",
    "        Verifies the ECDH parameters sent by the server were correctly signed, and accepts them if so.\n",
    "        \"\"\"\n",
    "        \n",
    "        intToSign = int(str(ellipticCurve[0]) \n",
    "                        + str(ellipticCurve[1])\n",
    "                        + str(ellipticCurveModulus) \n",
    "                        + str(generatorPoint[0]) \n",
    "                        + str(generatorPoint[1]))\n",
    "\n",
    "        ...\n",
    "            return False\n",
    "        \n",
    "        self.ELLIPTIC_CURVE = ellipticCurve\n",
    "        self.ELLIPTIC_CURVE_MODULUS = ellipticCurveModulus\n",
    "        self.GENERATOR_POINT = generatorPoint\n",
    "        self.GENERATOR_POINT_ORDER = generatorPointOrder\n",
    "        \n",
    "        return True\n",
    "    \n",
    "    \n",
    "    def generateSignedECDHMessage(self):\n",
    "        \"\"\"\n",
    "        Helper function that generates a random ECDH keypair (nP, n) and returns nP, signature where signature is the \n",
    "        RSA signature on nP.\n",
    "        Assumes we have already setup a valid connection.\n",
    "        \"\"\"\n",
    "        \n",
    "        \n",
    "        ...\n",
    "        \n",
    "        intToSign = int(str(nP[0]) + str(nP[1]))\n",
    "        \n",
    "        self.ECDH_SECRET = ...\n",
    "        \n",
    "        return nP, self.signMessage(intToSign)\n",
    "    \n",
    "    def verifyECDHMessage(self, P, signature, publicKey):\n",
    "        \"\"\"\n",
    "        Verifies point P was signed by the given publicKey (e, N).\n",
    "        \"\"\"\n",
    "\n",
    "        expected = int(str(P[0]) + str(P[1]))\n",
    "\n",
    "        ...\n",
    "    \n",
    "    def acceptECDHMessage(self, P, signature):\n",
    "        \"\"\"\n",
    "        Given the sender's public point, verify its signature is as expected and then update internal state\n",
    "        \"\"\"\n",
    "        \n",
    "        ...\n",
    "        \n",
    "        # Signature verified\n",
    "        sharedSecretPoint = ...\n",
    "        \n",
    "        self.SHARED_SECRET_INT = pointToMessage(sharedSecretPoint)\n",
    "        \n",
    "        return True\n",
    "    \n",
    "    def encryptMessage(self, message):\n",
    "        \"\"\"\n",
    "        Given string message, encrypts with the current setup\n",
    "        \"\"\"\n",
    "        \n",
    "        return encryptAES(self.SHARED_SECRET_INT, bytes(message, 'utf-8'))\n",
    "    \n",
    "    def decryptMessage(self, encrypted):\n",
    "        \"\"\"\n",
    "        Given encrypted message, decrypts with the current setup\n",
    "        \"\"\"\n",
    "        \n",
    "        return decryptAES(self.SHARED_SECRET_INT, encrypted)\n",
    "    \n",
    "    def generateRequest(self, obj):\n",
    "        \"\"\"\n",
    "        Helper function to turn an object into a request wrapper.\n",
    "        \"\"\"\n",
    "        \n",
    "        encStr = self.encryptMessage(json.dumps(obj))\n",
    "        \n",
    "        hmac = generateHMAC(self.SHARED_SECRET_INT, bytes(encStr, 'utf-8'))\n",
    "        \n",
    "        requestObj = {'data': encStr, 'hmac': hmac}\n",
    "        \n",
    "        return requestObj"
   ]
  },
  {
   "cell_type": "markdown",
   "id": "3bc49413",
   "metadata": {},
   "source": [
    "**Question 1.1:** Implement Client.verifyServerCertificate."
   ]
  },
  {
   "cell_type": "code",
   "execution_count": null,
   "id": "d6f621cc",
   "metadata": {
    "deletable": false,
    "editable": false
   },
   "outputs": [],
   "source": [
    "grader.check(\"q1_1\")"
   ]
  },
  {
   "cell_type": "markdown",
   "id": "d93f2865",
   "metadata": {},
   "source": [
    "**Question 1.2:** Implement Server.generateECDHParameters in the Server class above. Run the below test when you are finished."
   ]
  },
  {
   "cell_type": "code",
   "execution_count": null,
   "id": "cb076810",
   "metadata": {
    "deletable": false,
    "editable": false
   },
   "outputs": [],
   "source": [
    "grader.check(\"q1_2\")"
   ]
  },
  {
   "cell_type": "markdown",
   "id": "eef83f87",
   "metadata": {},
   "source": [
    "**Question 1.3:** Implement Client.verifyECDHParameters"
   ]
  },
  {
   "cell_type": "code",
   "execution_count": null,
   "id": "f5dd320c",
   "metadata": {
    "deletable": false,
    "editable": false
   },
   "outputs": [],
   "source": [
    "grader.check(\"q1_3\")"
   ]
  },
  {
   "cell_type": "markdown",
   "id": "64ab47c3",
   "metadata": {},
   "source": [
    "**Question 1.4:** Implement generateSignedECDHMessage in both Server and Client classes."
   ]
  },
  {
   "cell_type": "code",
   "execution_count": null,
   "id": "d62fd2eb",
   "metadata": {
    "deletable": false,
    "editable": false
   },
   "outputs": [],
   "source": [
    "grader.check(\"q1_4\")"
   ]
  },
  {
   "cell_type": "markdown",
   "id": "57e1817f",
   "metadata": {},
   "source": [
    "**Question 1.5:** Implement acceptECDHMessage in both Server and Client."
   ]
  },
  {
   "cell_type": "code",
   "execution_count": null,
   "id": "23174d5f",
   "metadata": {
    "deletable": false,
    "editable": false
   },
   "outputs": [],
   "source": [
    "grader.check(\"q1_5\")"
   ]
  },
  {
   "cell_type": "markdown",
   "id": "3e18c2d1",
   "metadata": {},
   "source": [
    "**Question 1.6:** Implement Client.generateRequest"
   ]
  },
  {
   "cell_type": "code",
   "execution_count": null,
   "id": "52e84a99",
   "metadata": {
    "deletable": false,
    "editable": false
   },
   "outputs": [],
   "source": [
    "grader.check(\"q1_6\")"
   ]
  },
  {
   "cell_type": "markdown",
   "id": "d3e1a2f1",
   "metadata": {},
   "source": [
    "**Question 1.7:** Implement Server.verifyRequestIntegrity"
   ]
  },
  {
   "cell_type": "code",
   "execution_count": null,
   "id": "0e6d39b1",
   "metadata": {
    "deletable": false,
    "editable": false
   },
   "outputs": [],
   "source": [
    "grader.check(\"q1_7\")"
   ]
  },
  {
   "cell_type": "markdown",
   "id": "4d61f62c",
   "metadata": {},
   "source": [
    "**Question 1.8:** Implement Server.createLogin"
   ]
  },
  {
   "cell_type": "code",
   "execution_count": null,
   "id": "fffe1ac9",
   "metadata": {
    "deletable": false,
    "editable": false
   },
   "outputs": [],
   "source": [
    "grader.check(\"q1_8\")"
   ]
  },
  {
   "cell_type": "markdown",
   "id": "e77e28ce",
   "metadata": {},
   "source": [
    "**Question 1.9:** Implement Server.verifyLogin"
   ]
  },
  {
   "cell_type": "code",
   "execution_count": null,
   "id": "791da5c3",
   "metadata": {
    "deletable": false,
    "editable": false
   },
   "outputs": [],
   "source": [
    "grader.check(\"q1_9\")"
   ]
  },
  {
   "cell_type": "markdown",
   "id": "a45154dd",
   "metadata": {},
   "source": [
    "Congrats on finishing Part 1 of this project! Here is an example integration test:"
   ]
  },
  {
   "cell_type": "code",
   "execution_count": null,
   "id": "45ff2d0c",
   "metadata": {},
   "outputs": [],
   "source": [
    "# New client\n",
    "client = Client()\n",
    "server = Server()\n",
    "server.acceptConnection(client.RSA_PUBLIC_KEY)\n",
    "\n",
    "server_PK, signature = server.publishRSAPublicKey()\n",
    "assert client.verifyServerCertificate(server_PK, signature)\n",
    "\n",
    "# Once verified, ask for ECDH parameters\n",
    "ellipticCurve, ellipticCurveModulus, generatorPoint, generatorPointOrder, signature = server.generateECDHParameters()\n",
    "assert client.verifyECDHParameters(ellipticCurve, ellipticCurveModulus, generatorPoint, generatorPointOrder, signature)\n",
    "\n",
    "# Once ECDH parameters are verified, generate our secret + public value\n",
    "client_ECDH = client.generateSignedECDHMessage()\n",
    "server_ECDH = server.generateSignedECDHMessage()\n",
    "\n",
    "# client gets server ecdh \n",
    "client.acceptECDHMessage(server_ECDH[0], server_ECDH[1])\n",
    "\n",
    "# server gets client ecdh\n",
    "server.acceptECDHMessage(client_ECDH[0], client_ECDH[1])\n",
    "assert client.SHARED_SECRET_INT == server.SHARED_SECRET_INT\n",
    "\n",
    "signupRequest = client.generateRequest({'type': 'createLogin', 'username': 'asciabsjf', 'password': 'aidojsd1r'})\n",
    "server.handleRequest(signupRequest)\n",
    "\n",
    "loginRequest = client.generateRequest({'type': 'verifyLogin', 'username': 'asciabsjf', 'password': 'aidojsd1r'})\n",
    "assert server.handleRequest(loginRequest)"
   ]
  },
  {
   "cell_type": "code",
   "execution_count": null,
   "id": "5a78df4a",
   "metadata": {},
   "outputs": [],
   "source": []
  },
  {
   "cell_type": "markdown",
   "id": "69c62a0b",
   "metadata": {
    "deletable": false,
    "editable": false
   },
   "source": [
    "## Submission\n",
    "\n",
    "Make sure you have run all cells in your notebook in order before running the cell below, so that all images/graphs appear in the output. The cell below will generate a zip file for you to submit. **Please save before exporting!**\n",
    "\n",
    "Once you have generated the zip file, go to the Gradescope page for this assignment to submit."
   ]
  },
  {
   "cell_type": "code",
   "execution_count": null,
   "id": "14b09d6d",
   "metadata": {
    "deletable": false,
    "editable": false
   },
   "outputs": [],
   "source": [
    "# Save your notebook first, then run this cell to export your submission.\n",
    "grader.export(pdf=False, run_tests=True)"
   ]
  },
  {
   "cell_type": "markdown",
   "id": "941ebc78",
   "metadata": {},
   "source": [
    " "
   ]
  }
 ],
 "metadata": {
  "interpreter": {
   "hash": "50292dbb1f747f7151d445135d392af3138fb3c65386d17d9510cb605222b10b"
  },
  "kernelspec": {
   "display_name": "Python 3 (ipykernel)",
   "language": "python",
   "name": "python3"
  },
  "language_info": {
   "codemirror_mode": {
    "name": "ipython",
    "version": 3
   },
   "file_extension": ".py",
   "mimetype": "text/x-python",
   "name": "python",
   "nbconvert_exporter": "python",
   "pygments_lexer": "ipython3",
   "version": "3.10.4"
  },
  "otter": {
   "OK_FORMAT": true,
   "tests": {
    "q1_1": {
     "name": "q1_1",
     "points": 10,
     "suites": [
      {
       "cases": [
        {
         "code": ">>> # New client\n>>> client = Client()\n>>> \n>>> # Client initiates server connection\n>>> server = Server()\n>>> server.acceptConnection(client.RSA_PUBLIC_KEY)\n>>> \n>>> server_PK, signature = server.publishRSAPublicKey()\n>>> \n>>> assert client.verifyServerCertificate(server_PK, signature), \"Failed to verify a valid signature\"\n>>> assert not client.verifyServerCertificate((server_PK[0] + 1, server_PK[1]), signature), \"Incorrectly verified an invalid signature\"\n>>> assert not client.verifyServerCertificate(server_PK, signature + 1), \"Incorrectly verified an invalid signature\"\n",
         "hidden": false,
         "locked": false
        }
       ],
       "scored": true,
       "setup": "",
       "teardown": "",
       "type": "doctest"
      }
     ]
    },
    "q1_2": {
     "name": "q1_2",
     "points": 10,
     "suites": [
      {
       "cases": [
        {
         "code": ">>> server = Server()\n>>> \n>>> testParameters = server.generateECDHParameters()\n>>> \n>>> m = int(str(server.ELLIPTIC_CURVE[0]) + str(server.ELLIPTIC_CURVE[1]) \n...                         + str(server.ELLIPTIC_CURVE_MODULUS) \n...                         + str(server.GENERATOR_POINT[0]) \n...                         + str(server.GENERATOR_POINT[1]))\n>>> \n>>> assert m == 71157920892373161954235709850086879078532699846656405640394575840079088346716635506626302227734366957871889516853432625060345377759417550018736038911672924032670510020758816978083085130507043184471273380659243275938904335757337482424, \"Invalid parameters\"\n>>> assert verifyRSA(server.RSA_PUBLIC_KEY[0], testParameters[4], server.RSA_PUBLIC_KEY[1], m), \"ECDH Parameter signature failed\"\n",
         "hidden": false,
         "locked": false
        }
       ],
       "scored": true,
       "setup": "",
       "teardown": "",
       "type": "doctest"
      }
     ]
    },
    "q1_3": {
     "name": "q1_3",
     "points": 10,
     "suites": [
      {
       "cases": [
        {
         "code": ">>> # New client\n>>> client = Client()\n>>> \n>>> # Client initiates server connection\n>>> server = Server()\n>>> server.acceptConnection(client.RSA_PUBLIC_KEY)\n>>> \n>>> server_PK, signature = server.publishRSAPublicKey()\n>>> \n>>> assert client.verifyServerCertificate(server_PK, signature)\n>>> \n>>> # Once verified, ask for ECDH parameters\n>>> ellipticCurve, ellipticCurveModulus, generatorPoint, generatorPointOrder, signature = server.generateECDHParameters()\n>>> \n>>> assert client.verifyECDHParameters(ellipticCurve, ellipticCurveModulus, generatorPoint, generatorPointOrder, signature), \"Failed to verify correct ECDH parameters\"\n>>> assert not client.verifyECDHParameters(ellipticCurve, ellipticCurveModulus + 1, generatorPoint, generatorPointOrder, signature), \"Incorrectly verified incorrect ECDH parameters\"\n",
         "hidden": false,
         "locked": false
        }
       ],
       "scored": true,
       "setup": "",
       "teardown": "",
       "type": "doctest"
      }
     ]
    },
    "q1_4": {
     "name": "q1_4",
     "points": 10,
     "suites": [
      {
       "cases": [
        {
         "code": ">>> # New client\n>>> client = Client()\n>>> \n>>> # Client initiates server connection\n>>> server = Server()\n>>> server.acceptConnection(client.RSA_PUBLIC_KEY)\n>>> \n>>> server_PK, signature = server.publishRSAPublicKey()\n>>> \n>>> assert client.verifyServerCertificate(server_PK, signature)\n>>> \n>>> # Once verified, ask for ECDH parameters\n>>> ellipticCurve, ellipticCurveModulus, generatorPoint, generatorPointOrder, signature = server.generateECDHParameters()\n>>> \n>>> assert client.verifyECDHParameters(ellipticCurve, ellipticCurveModulus, generatorPoint, generatorPointOrder, signature)\n>>> \n>>> # Once ECDH parameters are verified, generate our secret + public value\n>>> client_ECDH = client.generateSignedECDHMessage()\n>>> server_ECDH = server.generateSignedECDHMessage()\n>>> \n>>> \n>>> assert server.ECDH_SECRET, \"server.ECDH_SECRET is None\"\n>>> assert client.ECDH_SECRET, \"server.ECDH_SECRET is None\"\n>>> assert doubleAndAdd(generatorPoint, server.ECDH_SECRET, ellipticCurve, ellipticCurveModulus) == server_ECDH[0], \"Invalid server public key point\"\n>>> assert doubleAndAdd(generatorPoint, client.ECDH_SECRET, ellipticCurve, ellipticCurveModulus) == client_ECDH[0], \"Invalid client public key point\"\n>>> \n>>> \n>>> server_expected = int(str(server_ECDH[0][0]) + str(server_ECDH[0][1]))\n>>> assert verifyRSA(server.RSA_PUBLIC_KEY[0], server_ECDH[1], server.RSA_PUBLIC_KEY[1], server_expected), \"Invalid server signature\"\n>>> \n>>> \n>>> client_expected = int(str(client_ECDH[0][0]) + str(client_ECDH[0][1]))\n>>> assert verifyRSA(client.RSA_PUBLIC_KEY[0], client_ECDH[1], client.RSA_PUBLIC_KEY[1], client_expected), \"Invalid client signature\"\n",
         "hidden": false,
         "locked": false
        }
       ],
       "scored": true,
       "setup": "",
       "teardown": "",
       "type": "doctest"
      }
     ]
    },
    "q1_5": {
     "name": "q1_5",
     "points": 10,
     "suites": [
      {
       "cases": [
        {
         "code": ">>> # New client\n>>> client = Client()\n>>> \n>>> # Client initiates server connection\n>>> server = Server()\n>>> server.acceptConnection(client.RSA_PUBLIC_KEY)\n>>> \n>>> server_PK, signature = server.publishRSAPublicKey()\n>>> \n>>> assert client.verifyServerCertificate(server_PK, signature)\n>>> \n>>> # Once verified, ask for ECDH parameters\n>>> ellipticCurve, ellipticCurveModulus, generatorPoint, generatorPointOrder, signature = server.generateECDHParameters()\n>>> \n>>> assert client.verifyECDHParameters(ellipticCurve, ellipticCurveModulus, generatorPoint, generatorPointOrder, signature)\n>>> \n>>> # Once ECDH parameters are verified, generate our secret + public value\n>>> client_ECDH = client.generateSignedECDHMessage()\n>>> server_ECDH = server.generateSignedECDHMessage()\n>>> \n>>> \n>>> assert server.ECDH_SECRET, \"server.ECDH_SECRET is None\"\n>>> assert client.ECDH_SECRET, \"server.ECDH_SECRET is None\"\n>>> assert doubleAndAdd(generatorPoint, server.ECDH_SECRET, ellipticCurve, ellipticCurveModulus) == server_ECDH[0], \"Invalid server public key point\"\n>>> assert doubleAndAdd(generatorPoint, client.ECDH_SECRET, ellipticCurve, ellipticCurveModulus) == client_ECDH[0], \"Invalid client public key point\"\n>>> \n>>> \n>>> server_expected = int(str(server_ECDH[0][0]) + str(server_ECDH[0][1]))\n>>> assert verifyRSA(server.RSA_PUBLIC_KEY[0], server_ECDH[1], server.RSA_PUBLIC_KEY[1], server_expected), \"Invalid server signature\"\n>>> \n>>> \n>>> client_expected = int(str(client_ECDH[0][0]) + str(client_ECDH[0][1]))\n>>> assert verifyRSA(client.RSA_PUBLIC_KEY[0], client_ECDH[1], client.RSA_PUBLIC_KEY[1], client_expected), \"Invalid client signature\"\n>>> \n>>> # client gets server ecdh \n>>> assert client.acceptECDHMessage(server_ECDH[0], server_ECDH[1])\n>>> \n>>> try:\n...     client.acceptECDHMessage(server_ECDH[0], server_ECDH[1] + 1)\n...     assert False\n... except AssertionError:\n...     assert True\n>>> \n>>> # server gets client ecdh\n>>> assert server.acceptECDHMessage(client_ECDH[0], client_ECDH[1])\n>>> \n>>> try:\n...     server.acceptECDHMessage(client_ECDH[0], client_ECDH[1] + 1)\n...     assert False\n... except AssertionError:\n...     assert True\n>>> \n>>> assert client.SHARED_SECRET_INT == server.SHARED_SECRET_INT\n",
         "hidden": false,
         "locked": false
        }
       ],
       "scored": true,
       "setup": "",
       "teardown": "",
       "type": "doctest"
      }
     ]
    },
    "q1_6": {
     "name": "q1_6",
     "points": 10,
     "suites": [
      {
       "cases": [
        {
         "code": ">>> # New client\n>>> client = Client()\n>>> \n>>> # Client initiates server connection\n>>> server = Server()\n>>> server.acceptConnection(client.RSA_PUBLIC_KEY)\n>>> \n>>> server_PK, signature = server.publishRSAPublicKey()\n>>> \n>>> assert client.verifyServerCertificate(server_PK, signature)\n>>> \n>>> # Once verified, ask for ECDH parameters\n>>> ellipticCurve, ellipticCurveModulus, generatorPoint, generatorPointOrder, signature = server.generateECDHParameters()\n>>> \n>>> assert client.verifyECDHParameters(ellipticCurve, ellipticCurveModulus, generatorPoint, generatorPointOrder, signature)\n>>> \n>>> # Once ECDH parameters are verified, generate our secret + public value\n>>> client_ECDH = client.generateSignedECDHMessage()\n>>> server_ECDH = server.generateSignedECDHMessage()\n>>> \n>>> \n>>> assert server.ECDH_SECRET, \"server.ECDH_SECRET is None\"\n>>> assert client.ECDH_SECRET, \"server.ECDH_SECRET is None\"\n>>> assert doubleAndAdd(generatorPoint, server.ECDH_SECRET, ellipticCurve, ellipticCurveModulus) == server_ECDH[0], \"Invalid server public key point\"\n>>> assert doubleAndAdd(generatorPoint, client.ECDH_SECRET, ellipticCurve, ellipticCurveModulus) == client_ECDH[0], \"Invalid client public key point\"\n>>> \n>>> \n>>> server_expected = int(str(server_ECDH[0][0]) + str(server_ECDH[0][1]))\n>>> assert verifyRSA(server.RSA_PUBLIC_KEY[0], server_ECDH[1], server.RSA_PUBLIC_KEY[1], server_expected), \"Invalid server signature\"\n>>> \n>>> \n>>> client_expected = int(str(client_ECDH[0][0]) + str(client_ECDH[0][1]))\n>>> assert verifyRSA(client.RSA_PUBLIC_KEY[0], client_ECDH[1], client.RSA_PUBLIC_KEY[1], client_expected), \"Invalid client signature\"\n>>> \n>>> # client gets server ecdh \n>>> assert client.acceptECDHMessage(server_ECDH[0], server_ECDH[1])\n>>> \n>>> try:\n...     client.acceptECDHMessage(server_ECDH[0], server_ECDH[1] + 1)\n...     assert False\n... except AssertionError:\n...     assert True\n>>> \n>>> # server gets client ecdh\n>>> assert server.acceptECDHMessage(client_ECDH[0], client_ECDH[1])\n>>> \n>>> try:\n...     server.acceptECDHMessage(client_ECDH[0], client_ECDH[1] + 1)\n...     assert False\n... except AssertionError:\n...     assert True\n>>> \n>>> assert client.SHARED_SECRET_INT == server.SHARED_SECRET_INT\n>>> \n>>> testLoginRequest = client.generateRequest({'type': 'verifyLogin', 'username': 'abcd', 'password': 'cdfg'})\n>>> \n>>> assert client.decryptMessage(testLoginRequest['data']) == b'{\"type\": \"verifyLogin\", \"username\": \"abcd\", \"password\": \"cdfg\"}', \"Invalid encryption\"\n...         \n>>> assert verifyHMAC(client.SHARED_SECRET_INT, bytes(testLoginRequest['data'], 'utf-8'), testLoginRequest['hmac']), \"Correct HMAC failed to verify\"\n>>> assert not verifyHMAC(client.SHARED_SECRET_INT + 1, bytes(testLoginRequest['data'], 'utf-8'), testLoginRequest['hmac']), \"Invalid HMAC was verified\"\n",
         "hidden": false,
         "locked": false
        }
       ],
       "scored": true,
       "setup": "",
       "teardown": "",
       "type": "doctest"
      }
     ]
    },
    "q1_7": {
     "name": "q1_7",
     "points": 10,
     "suites": [
      {
       "cases": [
        {
         "code": ">>> # New client\n>>> client = Client()\n>>> \n>>> # Client initiates server connection\n>>> server = Server()\n>>> server.acceptConnection(client.RSA_PUBLIC_KEY)\n>>> \n>>> server_PK, signature = server.publishRSAPublicKey()\n>>> \n>>> assert client.verifyServerCertificate(server_PK, signature)\n>>> \n>>> # Once verified, ask for ECDH parameters\n>>> ellipticCurve, ellipticCurveModulus, generatorPoint, generatorPointOrder, signature = server.generateECDHParameters()\n>>> \n>>> assert client.verifyECDHParameters(ellipticCurve, ellipticCurveModulus, generatorPoint, generatorPointOrder, signature)\n>>> \n>>> # Once ECDH parameters are verified, generate our secret + public value\n>>> client_ECDH = client.generateSignedECDHMessage()\n>>> server_ECDH = server.generateSignedECDHMessage()\n>>> \n>>> \n>>> assert server.ECDH_SECRET, \"server.ECDH_SECRET is None\"\n>>> assert client.ECDH_SECRET, \"server.ECDH_SECRET is None\"\n>>> assert doubleAndAdd(generatorPoint, server.ECDH_SECRET, ellipticCurve, ellipticCurveModulus) == server_ECDH[0], \"Invalid server public key point\"\n>>> assert doubleAndAdd(generatorPoint, client.ECDH_SECRET, ellipticCurve, ellipticCurveModulus) == client_ECDH[0], \"Invalid client public key point\"\n>>> \n>>> \n>>> server_expected = int(str(server_ECDH[0][0]) + str(server_ECDH[0][1]))\n>>> assert verifyRSA(server.RSA_PUBLIC_KEY[0], server_ECDH[1], server.RSA_PUBLIC_KEY[1], server_expected), \"Invalid server signature\"\n>>> \n>>> \n>>> client_expected = int(str(client_ECDH[0][0]) + str(client_ECDH[0][1]))\n>>> assert verifyRSA(client.RSA_PUBLIC_KEY[0], client_ECDH[1], client.RSA_PUBLIC_KEY[1], client_expected), \"Invalid client signature\"\n>>> \n>>> # client gets server ecdh \n>>> assert client.acceptECDHMessage(server_ECDH[0], server_ECDH[1])\n>>> \n>>> try:\n...     client.acceptECDHMessage(server_ECDH[0], server_ECDH[1] + 1)\n...     assert False\n... except AssertionError:\n...     assert True\n>>> \n>>> # server gets client ecdh\n>>> assert server.acceptECDHMessage(client_ECDH[0], client_ECDH[1])\n>>> \n>>> try:\n...     server.acceptECDHMessage(client_ECDH[0], client_ECDH[1] + 1)\n...     assert False\n... except AssertionError:\n...     assert True\n>>> \n>>> assert client.SHARED_SECRET_INT == server.SHARED_SECRET_INT\n>>> \n>>> testLoginRequest = client.generateRequest({'type': 'verifyLogin', 'username': 'abcd', 'password': 'cdfg'})\n>>> \n>>> assert client.decryptMessage(testLoginRequest['data']) == b'{\"type\": \"verifyLogin\", \"username\": \"abcd\", \"password\": \"cdfg\"}', \"Invalid encryption\"\n>>> \n>>> assert verifyHMAC(client.SHARED_SECRET_INT, bytes(testLoginRequest['data'], 'utf-8'), testLoginRequest['hmac']), \"Correct HMAC failed to verify\"\n>>> assert not verifyHMAC(client.SHARED_SECRET_INT + 1, bytes(testLoginRequest['data'], 'utf-8'), testLoginRequest['hmac']), \"Invalid HMAC was verified\"\n>>> \n>>> assert server.verifyRequestIntegrity(testLoginRequest)\n>>> \n>>> testLoginRequest['hmac'] = 'badhmac'\n>>> assert not server.verifyRequestIntegrity(testLoginRequest)\n",
         "hidden": false,
         "locked": false
        }
       ],
       "scored": true,
       "setup": "",
       "teardown": "",
       "type": "doctest"
      }
     ]
    },
    "q1_8": {
     "name": "q1_8",
     "points": 10,
     "suites": [
      {
       "cases": [
        {
         "code": ">>> # New client\n>>> client = Client()\n>>> \n>>> # Client initiates server connection\n>>> server = Server()\n>>> server.acceptConnection(client.RSA_PUBLIC_KEY)\n>>> \n>>> server_PK, signature = server.publishRSAPublicKey()\n>>> \n>>> assert client.verifyServerCertificate(server_PK, signature)\n>>> \n>>> # Once verified, ask for ECDH parameters\n>>> ellipticCurve, ellipticCurveModulus, generatorPoint, generatorPointOrder, signature = server.generateECDHParameters()\n>>> \n>>> assert client.verifyECDHParameters(ellipticCurve, ellipticCurveModulus, generatorPoint, generatorPointOrder, signature)\n>>> \n>>> # Once ECDH parameters are verified, generate our secret + public value\n>>> client_ECDH = client.generateSignedECDHMessage()\n>>> server_ECDH = server.generateSignedECDHMessage()\n>>> \n>>> \n>>> assert server.ECDH_SECRET, \"server.ECDH_SECRET is None\"\n>>> assert client.ECDH_SECRET, \"server.ECDH_SECRET is None\"\n>>> assert doubleAndAdd(generatorPoint, server.ECDH_SECRET, ellipticCurve, ellipticCurveModulus) == server_ECDH[0], \"Invalid server public key point\"\n>>> assert doubleAndAdd(generatorPoint, client.ECDH_SECRET, ellipticCurve, ellipticCurveModulus) == client_ECDH[0], \"Invalid client public key point\"\n>>> \n>>> \n>>> server_expected = int(str(server_ECDH[0][0]) + str(server_ECDH[0][1]))\n>>> assert verifyRSA(server.RSA_PUBLIC_KEY[0], server_ECDH[1], server.RSA_PUBLIC_KEY[1], server_expected), \"Invalid server signature\"\n>>> \n>>> \n>>> client_expected = int(str(client_ECDH[0][0]) + str(client_ECDH[0][1]))\n>>> assert verifyRSA(client.RSA_PUBLIC_KEY[0], client_ECDH[1], client.RSA_PUBLIC_KEY[1], client_expected), \"Invalid client signature\"\n>>> \n>>> # client gets server ecdh \n>>> assert client.acceptECDHMessage(server_ECDH[0], server_ECDH[1])\n>>> \n>>> try:\n...     client.acceptECDHMessage(server_ECDH[0], server_ECDH[1] + 1)\n...     assert False\n... except AssertionError:\n...     assert True\n>>> \n>>> # server gets client ecdh\n>>> assert server.acceptECDHMessage(client_ECDH[0], client_ECDH[1])\n>>> \n>>> try:\n...     server.acceptECDHMessage(client_ECDH[0], client_ECDH[1] + 1)\n...     assert False\n... except AssertionError:\n...     assert True\n>>> \n>>> assert client.SHARED_SECRET_INT == server.SHARED_SECRET_INT\n>>> \n>>> testLoginRequest = client.generateRequest({'type': 'verifyLogin', 'username': 'abcd', 'password': 'cdfg'})\n>>> \n>>> assert client.decryptMessage(testLoginRequest['data']) == b'{\"type\": \"verifyLogin\", \"username\": \"abcd\", \"password\": \"cdfg\"}', \"Invalid encryption\"\n>>> \n>>> assert verifyHMAC(client.SHARED_SECRET_INT, bytes(testLoginRequest['data'], 'utf-8'), testLoginRequest['hmac']), \"Correct HMAC failed to verify\"\n>>> assert not verifyHMAC(client.SHARED_SECRET_INT + 1, bytes(testLoginRequest['data'], 'utf-8'), testLoginRequest['hmac']), \"Invalid HMAC was verified\"\n>>> \n>>> assert server.createLogin('test', 'pwd'), 'Failed to create valid login'\n>>> assert 'test' in server.LOGINS, 'Login entry not created'\n>>> assert server.LOGINS['test'][0] != 'pwd', 'Password stored in plaintext'\n>>> assert len(server.LOGINS['test'][1]) == 5 , 'Salt incorrectly stored'\n>>> \n>>> try:\n...     if server.createLogin('test', 'pwd2'):  \n...         assert False, \"Should not be able to create a second identical username entry\"\n... except AssertionError:\n...     assert True\n",
         "hidden": false,
         "locked": false
        }
       ],
       "scored": true,
       "setup": "",
       "teardown": "",
       "type": "doctest"
      }
     ]
    },
    "q1_9": {
     "name": "q1_9",
     "points": 10,
     "suites": [
      {
       "cases": [
        {
         "code": ">>> # New client\n>>> client = Client()\n>>> \n>>> # Client initiates server connection\n>>> server = Server()\n>>> server.acceptConnection(client.RSA_PUBLIC_KEY)\n>>> \n>>> server_PK, signature = server.publishRSAPublicKey()\n>>> \n>>> assert client.verifyServerCertificate(server_PK, signature)\n>>> \n>>> # Once verified, ask for ECDH parameters\n>>> ellipticCurve, ellipticCurveModulus, generatorPoint, generatorPointOrder, signature = server.generateECDHParameters()\n>>> \n>>> assert client.verifyECDHParameters(ellipticCurve, ellipticCurveModulus, generatorPoint, generatorPointOrder, signature)\n>>> \n>>> # Once ECDH parameters are verified, generate our secret + public value\n>>> client_ECDH = client.generateSignedECDHMessage()\n>>> server_ECDH = server.generateSignedECDHMessage()\n>>> \n>>> \n>>> assert server.ECDH_SECRET, \"server.ECDH_SECRET is None\"\n>>> assert client.ECDH_SECRET, \"server.ECDH_SECRET is None\"\n>>> assert doubleAndAdd(generatorPoint, server.ECDH_SECRET, ellipticCurve, ellipticCurveModulus) == server_ECDH[0], \"Invalid server public key point\"\n>>> assert doubleAndAdd(generatorPoint, client.ECDH_SECRET, ellipticCurve, ellipticCurveModulus) == client_ECDH[0], \"Invalid client public key point\"\n>>> \n>>> \n>>> server_expected = int(str(server_ECDH[0][0]) + str(server_ECDH[0][1]))\n>>> assert verifyRSA(server.RSA_PUBLIC_KEY[0], server_ECDH[1], server.RSA_PUBLIC_KEY[1], server_expected), \"Invalid server signature\"\n>>> \n>>> \n>>> client_expected = int(str(client_ECDH[0][0]) + str(client_ECDH[0][1]))\n>>> assert verifyRSA(client.RSA_PUBLIC_KEY[0], client_ECDH[1], client.RSA_PUBLIC_KEY[1], client_expected), \"Invalid client signature\"\n>>> \n>>> # client gets server ecdh \n>>> assert client.acceptECDHMessage(server_ECDH[0], server_ECDH[1])\n>>> \n>>> try:\n...     client.acceptECDHMessage(server_ECDH[0], server_ECDH[1] + 1)\n...     assert False\n... except AssertionError:\n...     assert True\n>>> \n>>> # server gets client ecdh\n>>> assert server.acceptECDHMessage(client_ECDH[0], client_ECDH[1])\n>>> \n>>> try:\n...     server.acceptECDHMessage(client_ECDH[0], client_ECDH[1] + 1)\n...     assert False\n... except AssertionError:\n...     assert True\n>>> \n>>> assert client.SHARED_SECRET_INT == server.SHARED_SECRET_INT\n>>> \n>>> testLoginRequest = client.generateRequest({'type': 'verifyLogin', 'username': 'abcd', 'password': 'cdfg'})\n>>> \n>>> assert client.decryptMessage(testLoginRequest['data']) == b'{\"type\": \"verifyLogin\", \"username\": \"abcd\", \"password\": \"cdfg\"}', \"Invalid encryption\"\n...  \n>>> assert verifyHMAC(client.SHARED_SECRET_INT, bytes(testLoginRequest['data'], 'utf-8'), testLoginRequest['hmac']), \"Correct HMAC failed to verify\"\n>>> assert not verifyHMAC(client.SHARED_SECRET_INT + 1, bytes(testLoginRequest['data'], 'utf-8'), testLoginRequest['hmac']), \"Invalid HMAC was verified\"\n>>> \n>>> try:\n...     if not server.createLogin('test', 'pwd'): # In case it hasnt been already made in 1.7\n...         assert True\n...     else:\n...         assert True\n... except AssertionError:\n...     assert True\n>>> \n>>> assert server.verifyLogin('test', 'pwd')\n>>> assert not server.verifyLogin('test', 'incorrect')\n",
         "hidden": false,
         "locked": false
        }
       ],
       "scored": true,
       "setup": "",
       "teardown": "",
       "type": "doctest"
      }
     ]
    }
   }
  },
  "vscode": {
   "interpreter": {
    "hash": "86b6775e93d8e7b2e5f79e45a0bdd3fb78f60d14c90e6111b0fee66688ef28fc"
   }
  }
 },
 "nbformat": 4,
 "nbformat_minor": 5
}
