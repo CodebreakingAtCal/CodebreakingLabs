{
 "cells": [
  {
   "cell_type": "code",
   "execution_count": null,
   "id": "f05a5fa9",
   "metadata": {
    "deletable": false,
    "editable": false
   },
   "outputs": [],
   "source": [
    "# Initialize Otter\n",
    "import otter\n",
    "grader = otter.Notebook(\"lab03.ipynb\")"
   ]
  },
  {
   "cell_type": "code",
   "execution_count": null,
   "id": "e6fef257",
   "metadata": {},
   "outputs": [],
   "source": [
    "%%capture\n",
    "import random\n",
    "import os\n",
    "import sys\n",
    "import numpy as np\n",
    "!{sys.executable} -m pip install pycryptodome\n",
    "from Crypto.Cipher import AES\n",
    "from Crypto.Hash import SHA256"
   ]
  },
  {
   "cell_type": "markdown",
   "id": "31995d7c",
   "metadata": {},
   "source": [
    "# Lab 3: Block Ciphers and Differential Cryptanalysis"
   ]
  },
  {
   "cell_type": "markdown",
   "id": "fecd62f8",
   "metadata": {},
   "source": [
    "# Block Ciphers\n",
    "\n",
    "Up to this point we have primarily been concerned with elementary ciphers or asymmetric encryption. Real-world symmetric encryption is most often accommplished by **block ciphers**, which operate on fixed-length blocks of data, much like our Merkle-Damgard hash functions did. We can model this as some function $f(k, d) = c$, taking in the key and some data $d$ to output some ciphertext $c$.\n",
    "\n",
    "### Advanced Encryption Standard\n",
    "\n",
    "The most popular symmetric cryptosystem in the world, AES (aka Rijndael), was first published in 1998. Since then, it has become the premier block cipher, used even by the NSA for top-secret data. To date, there are no real-world attacks against correctly-implemented AES.\n",
    "\n",
    "We will explore how to use AES in this lab!\n",
    "\n",
    "### Modes of Operation\n",
    "\n",
    "AES itself only specifies $f(k, d)$ for us, meaning we have to figure out how to encrypt the data blocks $P_1, P_2, \\ldots P_k$ into ciphertext. The different ways of doing this are called **modes of operation**.\n",
    "\n",
    "\n",
    "## AES-ECB (Electronic Code Book)\n",
    "\n",
    "The most straightforward way to encrypt using AES is to set $C_i = \\text{Enc(}k, P_i\\text{)} $, in effect each ciphertext block being the direct encryption of its corresponding plaintext. This can be visualized by the following (credit to the [CS 161 Textbook](https://textbook.cs161.org/crypto/symmetric.html)):"
   ]
  },
  {
   "cell_type": "markdown",
   "id": "fad44bd6",
   "metadata": {},
   "source": [
    "![AES-ECB Encryption](https://textbook.cs161.org/assets/images/crypto/symmetric/ECB_encryption.png)\n",
    "![AES-ECB Decryption](https://textbook.cs161.org/assets/images/crypto/symmetric/ECB_decryption.png)"
   ]
  },
  {
   "cell_type": "markdown",
   "id": "5d0d05e8",
   "metadata": {},
   "source": [
    "We've implemented a more friendly version of AES-ECB here to use later."
   ]
  },
  {
   "cell_type": "code",
   "execution_count": null,
   "id": "d6b40389",
   "metadata": {},
   "outputs": [],
   "source": [
    "def padBytestring(string, length):\n",
    "    bas = bytearray(string)\n",
    "    return bytes(bas + bytearray(b'A'*(length-len(bas))))"
   ]
  },
  {
   "cell_type": "code",
   "execution_count": null,
   "id": "a2f3df9f",
   "metadata": {},
   "outputs": [],
   "source": [
    "def blockEncrypt(key, data): # Takes in 16-byte key and data and returns their encryption.\n",
    "    cipher = AES.new(padBytestring(key, 16), AES.MODE_ECB) # Ensure consistent behavior on one-block encryptions\n",
    "    \n",
    "    return cipher.encrypt(padBytestring(data, 16))\n",
    "\n",
    "def blockDecrypt(key, data): # Takes in 16-byte key and data and returns their encryption.\n",
    "    cipher = AES.new(padBytestring(key, 16), AES.MODE_ECB) # Ensure consistent behavior on one-block encryptions\n",
    "    \n",
    "    return cipher.decrypt(padBytestring(data, 16))"
   ]
  },
  {
   "cell_type": "code",
   "execution_count": null,
   "id": "21e58d6d",
   "metadata": {},
   "outputs": [],
   "source": [
    "def AES_ECB_Encrypt(key, dataBlocks): # Key is a 16 byte bytestring, dataBlocks is an array of 16 byte bytestrings.\n",
    "    return [blockEncrypt(key, block) for block in dataBlocks]\n",
    "\n",
    "def AES_ECB_Decrypt(key, cipherBlocks): # Key is a 16 byte bytestring, dataBlocks is an array of 16 byte bytestrings.\n",
    "    return [blockDecrypt(key, block) for block in dataBlocks]"
   ]
  },
  {
   "cell_type": "markdown",
   "id": "342039d7",
   "metadata": {},
   "source": [
    "Let's look at an example of why AES-ECB **is bad and you should never use it**. Suppose we've intercepted the medical records of two patients:"
   ]
  },
  {
   "cell_type": "code",
   "execution_count": null,
   "id": "1cf3fbf3",
   "metadata": {},
   "outputs": [],
   "source": [
    "hospital_key = os.urandom(16)\n",
    "\n",
    "patientOneData = AES_ECB_Encrypt(hospital_key, [b'flu', b'pneumonia'])\n",
    "patientTwoData = AES_ECB_Encrypt(hospital_key, [b'pneumonia', b'arthritis'])\n",
    "\n",
    "print('Patient One Encrypted Data:','\\n', patientOneData[0], '\\n', patientOneData[1])\n",
    "print('--')\n",
    "print('Patient Two Encrypted Data:','\\n', patientTwoData[0], '\\n', patientTwoData[1])"
   ]
  },
  {
   "cell_type": "markdown",
   "id": "a940c423",
   "metadata": {},
   "source": [
    "We see that the 2nd block of patient one and 1st block of patient two are the same! This constitutes a severe breach of security, since if we knew the medical details of patient one, we would immediately know that patient two also has pneumonia."
   ]
  },
  {
   "cell_type": "markdown",
   "id": "0c4b1775",
   "metadata": {},
   "source": [
    "## Differential Cryptanalysis"
   ]
  },
  {
   "cell_type": "markdown",
   "id": "12922d4b",
   "metadata": {},
   "source": [
    "Another technique for block-cipher cryptanalysis is that of $\\textbf{differential cryptanalysis}$. Instead of linear equations, we focus on $\\textbf{differentials}$, which are specific XOR differences between an input and output of a substitution box:\n",
    "$$\\Delta_y = SBOX(X \\oplus \\Delta_x) \\oplus SBOX(X)$$\n",
    "\n",
    "For example, the pair (5, 7) means if two inputs differ by an XOR of 5, their outputs will differ by an XOR of 7. In a one-sbox cipher, we can narrow down the possibilities for the round keys by finding a $\\textbf{good pair}$, a pair of plaintext/ciphertext pairs that exhibits this desired differential. We then consult a lookup table of what inputs to the SBOX allow for such a differential, and conclude that the internal sbox input (post-round 1 XOR) must be one of these inputs. From there, we can brute force the possible inputs and derive the respective round keys using the plaintext/ciphertext pair. \n",
    "\n",
    "We will explore this property in the next section!"
   ]
  },
  {
   "cell_type": "code",
   "execution_count": null,
   "id": "6f6954b8",
   "metadata": {},
   "outputs": [],
   "source": [
    "sbox = [3, 14, 1, 10, 4, 9, 5, 6, 8, 11, 15, 2, 13, 12, 0, 7]"
   ]
  },
  {
   "cell_type": "markdown",
   "id": "3330d351",
   "metadata": {},
   "source": [
    "This is the representation of our SBOX as a one-to-one mapping of input [0,15] to output. For example:"
   ]
  },
  {
   "cell_type": "code",
   "execution_count": null,
   "id": "e3264467",
   "metadata": {},
   "outputs": [],
   "source": [
    "sbox[15]"
   ]
  },
  {
   "cell_type": "markdown",
   "id": "6bfb3713",
   "metadata": {},
   "source": [
    "Our first step is to analyze the differential characterists present in our substitution box. We check for every combination of input and differential, and tally the results:"
   ]
  },
  {
   "cell_type": "code",
   "execution_count": null,
   "id": "b44ed127",
   "metadata": {},
   "outputs": [],
   "source": [
    "differentials = [list() for _ in range(16)]\n",
    "inputs = [list() for _ in range(16)]\n",
    "\n",
    "for x in range(16):\n",
    "    for delta in range(16):\n",
    "        output_one = sbox[x ^ delta]\n",
    "        output_two = sbox[x]\n",
    "        \n",
    "        inputs[delta] += [x]\n",
    "        differentials[delta] += [output_one ^ output_two]"
   ]
  },
  {
   "cell_type": "code",
   "execution_count": null,
   "id": "4fa082f7",
   "metadata": {},
   "outputs": [],
   "source": [
    "differentials"
   ]
  },
  {
   "cell_type": "markdown",
   "id": "6148203e",
   "metadata": {},
   "source": [
    "We want to find a row that has a lot of repeat numbers, and index 4 is a good candidate with 6 pairs of input 4."
   ]
  },
  {
   "cell_type": "code",
   "execution_count": null,
   "id": "9f174a38",
   "metadata": {},
   "outputs": [],
   "source": [
    "differentials[4]"
   ]
  },
  {
   "cell_type": "code",
   "execution_count": null,
   "id": "49fc1409",
   "metadata": {},
   "outputs": [],
   "source": [
    "[(i, differentials[4][i]) for  i in range(16) if differentials[4][i] == 7]"
   ]
  },
  {
   "cell_type": "code",
   "execution_count": null,
   "id": "44e41136",
   "metadata": {},
   "outputs": [],
   "source": [
    "[(sbox[i] ^ sbox[i^4]) for i in range(16)]"
   ]
  },
  {
   "cell_type": "markdown",
   "id": "a4ca8990",
   "metadata": {},
   "source": [
    "Therefore, if we the observe the behavior of $SBOX(x) \\oplus SBOX(x \\oplus 4) = 7$, then $x \\in \\{0, 1, 4, 5, 9, 13\\}$."
   ]
  },
  {
   "cell_type": "code",
   "execution_count": null,
   "id": "1c856ff4",
   "metadata": {},
   "outputs": [],
   "source": [
    "possible_inputs = [0, 1, 4, 5, 9, 13]"
   ]
  },
  {
   "cell_type": "markdown",
   "id": "b1fdc1eb",
   "metadata": {},
   "source": [
    "Our cipher is the same from lecture: two round keys with an inner substitution box."
   ]
  },
  {
   "cell_type": "code",
   "execution_count": null,
   "id": "9f330e2c",
   "metadata": {},
   "outputs": [],
   "source": [
    "def encrypt(P, round_keys):\n",
    "    return sbox[P ^ round_keys[0]] ^ round_keys[1]"
   ]
  },
  {
   "cell_type": "markdown",
   "id": "fedc72e4",
   "metadata": {},
   "source": [
    "![Example Cipher](cipher.png)"
   ]
  },
  {
   "cell_type": "code",
   "execution_count": null,
   "id": "55928934",
   "metadata": {},
   "outputs": [],
   "source": [
    "# Convince yourself that this attack works for all possible keys!\n",
    "secret_keys = [np.random.randint(0, 15), np.random.randint(0, 15)]"
   ]
  },
  {
   "cell_type": "code",
   "execution_count": null,
   "id": "af3a7f7a",
   "metadata": {},
   "outputs": [],
   "source": [
    "i = 0\n",
    "good_pair = None\n",
    "\n",
    "while not good_pair:\n",
    "    p, c = i, encrypt(i, secret_keys)\n",
    "    p_x, c_x = i^4,  encrypt(i^4, secret_keys)\n",
    "    \n",
    "    if c^c_x == 7: \n",
    "        print('Found good pair:', (p, c))\n",
    "        good_pair = (p, c)\n",
    "        break\n",
    "        \n",
    "    i += 1"
   ]
  },
  {
   "cell_type": "markdown",
   "id": "5e22fd2c",
   "metadata": {},
   "source": [
    "**Question 1.1**: Write a function to derive the round keys given the plaintext P, midpoint value M, and ciphertext C.\n",
    "\n",
    "*HINT: The midpoint is the value being input to the substitution box. Write out the steps to derive this input.*\n",
    "\n",
    "*HINT: The output is derived as a function of the sbox output and round key 2.*"
   ]
  },
  {
   "cell_type": "code",
   "execution_count": null,
   "id": "32e5786e",
   "metadata": {
    "tags": []
   },
   "outputs": [],
   "source": [
    "def genRKFromM(P, M, C):\n",
    "    rk1 = ...\n",
    "    rk2 = ...\n",
    "    \n",
    "    return [rk1, rk2]"
   ]
  },
  {
   "cell_type": "code",
   "execution_count": null,
   "id": "464a21f8",
   "metadata": {
    "deletable": false,
    "editable": false
   },
   "outputs": [],
   "source": [
    "grader.check(\"q1_1\")"
   ]
  },
  {
   "cell_type": "markdown",
   "id": "0d763943",
   "metadata": {},
   "source": [
    "Next, we generate 10 known plaintext-ciphertexts pair for testing possible keys with."
   ]
  },
  {
   "cell_type": "code",
   "execution_count": null,
   "id": "4252490b",
   "metadata": {},
   "outputs": [],
   "source": [
    "example_kpc = [(i, encrypt(i, secret_keys)) for i in range(10)]"
   ]
  },
  {
   "cell_type": "markdown",
   "id": "bdeee99c",
   "metadata": {},
   "source": [
    "Finally, we tests all possible inputs to see which ones encrypt as expected."
   ]
  },
  {
   "cell_type": "code",
   "execution_count": null,
   "id": "130c98c3",
   "metadata": {},
   "outputs": [],
   "source": [
    "final_keys = None\n",
    "\n",
    "for possible in possible_inputs: # Test every possible input to the sbox\n",
    "    round_keys = genRKFromM(good_pair[0], possible, good_pair[1])\n",
    "    print('Testing possible midpoint', possible, 'with corresponding round keys', round_keys)\n",
    "    \n",
    "    correct = True\n",
    "    \n",
    "    for p, c in example_kpc: # verify keys successfully encrypt \n",
    "        if c != encrypt(p, round_keys):\n",
    "            correct = False\n",
    "            break\n",
    "        \n",
    "    if correct:\n",
    "        print('Found round keys!')\n",
    "        final_keys = round_keys\n",
    "        break"
   ]
  },
  {
   "cell_type": "code",
   "execution_count": null,
   "id": "5f0835b2",
   "metadata": {},
   "outputs": [],
   "source": [
    "assert final_keys == round_keys"
   ]
  },
  {
   "cell_type": "markdown",
   "id": "4d1942bd",
   "metadata": {},
   "source": [
    "We've just found our keys by only searching 6 possible keys instead of 16! This advantage becomes much larger with larger keysizes, of course, making this attack a potent weapon for cryptanalysis."
   ]
  },
  {
   "cell_type": "markdown",
   "id": "d40908e6",
   "metadata": {
    "deletable": false,
    "editable": false
   },
   "source": [
    "## Submission\n",
    "\n",
    "Make sure you have run all cells in your notebook in order before running the cell below, so that all images/graphs appear in the output. The cell below will generate a zip file for you to submit. **Please save before exporting!**\n",
    "\n",
    "Once you have generated the zip file, go to the Gradescope page for this assignment to submit."
   ]
  },
  {
   "cell_type": "code",
   "execution_count": null,
   "id": "2b123511",
   "metadata": {
    "deletable": false,
    "editable": false
   },
   "outputs": [],
   "source": [
    "# Save your notebook first, then run this cell to export your submission.\n",
    "grader.export(pdf=False, run_tests=True)"
   ]
  },
  {
   "cell_type": "markdown",
   "id": "797e5c57",
   "metadata": {},
   "source": [
    " "
   ]
  }
 ],
 "metadata": {
  "interpreter": {
   "hash": "50292dbb1f747f7151d445135d392af3138fb3c65386d17d9510cb605222b10b"
  },
  "kernelspec": {
   "display_name": "Python 3 (ipykernel)",
   "language": "python",
   "name": "python3"
  },
  "language_info": {
   "codemirror_mode": {
    "name": "ipython",
    "version": 3
   },
   "file_extension": ".py",
   "mimetype": "text/x-python",
   "name": "python",
   "nbconvert_exporter": "python",
   "pygments_lexer": "ipython3",
   "version": "3.9.14"
  },
  "otter": {
   "OK_FORMAT": true,
   "tests": {
    "q1_1": {
     "name": "q1_1",
     "points": 10,
     "suites": [
      {
       "cases": [
        {
         "code": ">>> assert genRKFromM(1, 2, 3) == [3, 2]\n>>> assert genRKFromM(0, 2, 3) == [2, 2]\n>>> assert genRKFromM(0, 0, 3) == [0, 0]\n",
         "hidden": false,
         "locked": false
        }
       ],
       "scored": true,
       "setup": "",
       "teardown": "",
       "type": "doctest"
      }
     ]
    }
   }
  },
  "vscode": {
   "interpreter": {
    "hash": "86b6775e93d8e7b2e5f79e45a0bdd3fb78f60d14c90e6111b0fee66688ef28fc"
   }
  }
 },
 "nbformat": 4,
 "nbformat_minor": 5
}
