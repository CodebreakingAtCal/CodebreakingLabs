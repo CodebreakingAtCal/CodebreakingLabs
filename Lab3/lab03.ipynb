{
 "cells": [
  {
   "cell_type": "code",
   "execution_count": null,
   "id": "2e53a6d2",
   "metadata": {
    "deletable": false,
    "editable": false
   },
   "outputs": [],
   "source": [
    "# Initialize Otter\n",
    "import otter\n",
    "grader = otter.Notebook(\"lab03.ipynb\")"
   ]
  },
  {
   "cell_type": "code",
   "execution_count": null,
   "id": "2ceb72ec",
   "metadata": {},
   "outputs": [],
   "source": [
    "import math\n",
    "import matplotlib.pyplot as plt\n",
    "import numpy as np\n",
    "import string\n",
    "import itertools\n",
    "import re\n",
    "from functools import reduce"
   ]
  },
  {
   "cell_type": "code",
   "execution_count": null,
   "id": "57008624",
   "metadata": {},
   "outputs": [],
   "source": [
    "primes = [1]\n",
    "def gen_primes():\n",
    "    D = {}\n",
    "    q = 2\n",
    "    \n",
    "    while primes[-1] < 100000:\n",
    "        if q not in D:\n",
    "            primes.append(q)\n",
    "            D[q * q] = [q]\n",
    "        else:\n",
    "            for p in D[q]:\n",
    "                D.setdefault(p + q, []).append(p)\n",
    "            del D[q]\n",
    "        \n",
    "        q += 1\n",
    "gen_primes()\n",
    "primes = primes[100:]"
   ]
  },
  {
   "cell_type": "markdown",
   "id": "af6d06f6",
   "metadata": {},
   "source": [
    "# Lab 3: RSA, Low-Exponent Attack, Diffie-Hellman\n",
    "Contributions From: Ryan Cottone\n",
    "\n",
    "Welcome to Lab 3! In this lab, we will build an RSA cryptosystem and demonstate how to break it via a low-exponent attack. We will also look at chosen-ciphertext attacks and the Diffie-Hellman cryptosystem."
   ]
  },
  {
   "cell_type": "markdown",
   "id": "58110204",
   "metadata": {},
   "source": [
    "## Helpers"
   ]
  },
  {
   "cell_type": "code",
   "execution_count": null,
   "id": "d39422d6",
   "metadata": {},
   "outputs": [],
   "source": [
    "def getExpansion(n,m):\n",
    "    arr = []\n",
    "    \n",
    "    while n > 0:\n",
    "        r = n % m\n",
    "        n //= m\n",
    "        \n",
    "        arr.append(r)\n",
    "    \n",
    "    return arr"
   ]
  },
  {
   "cell_type": "code",
   "execution_count": null,
   "id": "005ecb2d",
   "metadata": {},
   "outputs": [],
   "source": [
    "def textToInt(s):\n",
    "    total = 0\n",
    "    \n",
    "    for i in range(len(s)):\n",
    "        total += ord(s[i])*(256**i)\n",
    "    \n",
    "    return total"
   ]
  },
  {
   "cell_type": "code",
   "execution_count": null,
   "id": "76706947",
   "metadata": {},
   "outputs": [],
   "source": [
    "def intToText(n):\n",
    "    expansion = getExpansion(n, 256)\n",
    "    \n",
    "    finalStr = \"\"\n",
    "    \n",
    "    for i in range(len(expansion)):\n",
    "        finalStr += chr(expansion[i])\n",
    "        \n",
    "    return finalStr"
   ]
  },
  {
   "cell_type": "code",
   "execution_count": null,
   "id": "3d2a26ed",
   "metadata": {},
   "outputs": [],
   "source": [
    "def egcd(a, b):\n",
    "    if a == 0:\n",
    "        return (b, 0, 1)\n",
    "    else:\n",
    "        g, y, x = egcd(b % a, a)\n",
    "        return (g, x - (b // a) * y, y)\n",
    "\n",
    "def modularInverse(a, m):\n",
    "    g, x, y = egcd(a, m)\n",
    "    if g != 1:\n",
    "        raise Exception('modular inverse does not exist')\n",
    "    else:\n",
    "        return x % m"
   ]
  },
  {
   "cell_type": "markdown",
   "id": "2875dcd0",
   "metadata": {},
   "source": [
    "## Basics of RSA\n",
    "\n",
    "As we covered before, RSA is based on the concept of *public-key cryptography*, in which Alice and Bob (two people who want to communicate secretly) publish their public keys, which either can then use to encrypt a secret message only readable by the owner of that public key. \n",
    "\n",
    "Formally, Alice finds some (large) prime $N = pq$ and exponent $e$, and publishes $(N, e)$ as her **public key**. \n",
    "\n",
    "She also defines her private key as $d = e^{-1} \\mod (p-1)(q-1)$.\n",
    "\n",
    "For the purposes of this lab, we will be using $N=55$ and $e=3$. Normal values are much larger, for reasons you will see shortly."
   ]
  },
  {
   "cell_type": "markdown",
   "id": "f29fcc57",
   "metadata": {},
   "source": [
    "**Question 1**: Complete the following function to compute the private key from p and q alongside the exponent e.\n",
    "\n",
    "*HINT: Use our modularInverse helper function*"
   ]
  },
  {
   "cell_type": "code",
   "execution_count": null,
   "id": "f6997544",
   "metadata": {
    "tags": []
   },
   "outputs": [],
   "source": [
    "def computePrivateKey(p,q,e):\n",
    "    ..."
   ]
  },
  {
   "cell_type": "code",
   "execution_count": null,
   "id": "08326aea",
   "metadata": {
    "deletable": false,
    "editable": false
   },
   "outputs": [],
   "source": [
    "grader.check(\"q1_1\")"
   ]
  },
  {
   "cell_type": "markdown",
   "id": "a297c65d",
   "metadata": {},
   "source": [
    "**Question 1.2**: Implement textbook RSA encryption and decryption.\n",
    "\n",
    "You **must** use **pow(base, exponent, modulus)** to compute $$m^e \\mod N$$ as other methods are too slow."
   ]
  },
  {
   "cell_type": "code",
   "execution_count": null,
   "id": "cbef6a8e",
   "metadata": {
    "tags": []
   },
   "outputs": [],
   "source": [
    "def encryptRSA(message, e, N):\n",
    "    ..."
   ]
  },
  {
   "cell_type": "code",
   "execution_count": null,
   "id": "006abbe4",
   "metadata": {
    "tags": []
   },
   "outputs": [],
   "source": [
    "def decryptRSA(encrypted, d, N):\n",
    "    ..."
   ]
  },
  {
   "cell_type": "code",
   "execution_count": null,
   "id": "f0defb8a",
   "metadata": {
    "deletable": false,
    "editable": false
   },
   "outputs": [],
   "source": [
    "grader.check(\"q1_2\")"
   ]
  },
  {
   "cell_type": "markdown",
   "id": "1b723c7a",
   "metadata": {},
   "source": [
    "# The Chinese Remainder Theorem \n",
    "\n",
    "The Chinese Remainder Theorem (hereafter CRT) is a very powerful theorem that asserts there exists a unique solution for a system of modular equations (modulo the product of their respective modulus).\n",
    "\n",
    "For example, if we have\n",
    "\n",
    "$$x \\equiv 3 \\mod 5$$\n",
    "$$x \\equiv 4 \\mod 7$$\n",
    "\n",
    "we can find a unique solution mod 35, in this case:\n",
    "\n",
    "$$x \\equiv 18 \\mod 35$$"
   ]
  },
  {
   "cell_type": "code",
   "execution_count": null,
   "id": "083daf33",
   "metadata": {},
   "outputs": [],
   "source": [
    "def CRT(pairs):\n",
    "    total = 0\n",
    "    N = 1\n",
    "    \n",
    "    for pair in pairs:\n",
    "        N *= pair[1]\n",
    "    \n",
    "    for i in range(len(pairs)):\n",
    "        a_i = pairs[i][0]\n",
    "        b = pairs[i][1]\n",
    "        \n",
    "        \n",
    "        b_i = ((N/b)*modularInverse(N//b, b))\n",
    "        \n",
    "        total += a_i * b_i \n",
    "    \n",
    "    return math.floor(total % N)"
   ]
  },
  {
   "cell_type": "markdown",
   "id": "7f18ae2b",
   "metadata": {},
   "source": [
    "# The Low-Exponent Attack\n",
    "\n",
    "Using CRT, we can attack a faulty use of RSA!\n",
    "\n",
    "Let's see what happens when we broadcast one message to three different people, each with their own public keys:\n",
    "\n",
    "$$c_1 = m^e \\mod N_1$$\n",
    "$$c_2 = m^e \\mod N_2$$\n",
    "$$c_3 = m^e \\mod N_3$$\n",
    "\n",
    "Rearranging, we have a system of modular equations in which we can solve for $m^e$ mod $N_1 \\cdot N_2 \\cdot N_3$. The key comes in the fact that $e = 3$, and as such we have $m^3 \\mod N_1N_2N_3$. Critically, $m < N_1, N_2, N_3$, as $m$ is taken modulo these before encrypting. Therefore, $m^3 < N_1N_2N_3$, and we can just take the cube root without worrying about whether it looped around the modulus before (a much harder problem to solve)."
   ]
  },
  {
   "cell_type": "markdown",
   "id": "1639fae1",
   "metadata": {},
   "source": [
    "**Question 2.1**: Implement the low exponent attack!"
   ]
  },
  {
   "cell_type": "code",
   "execution_count": null,
   "id": "f16d6769",
   "metadata": {
    "tags": []
   },
   "outputs": [],
   "source": [
    "def lowExponentAttack(ciphertexts, moduli):\n",
    "    pairs = [(ciphertexts[i], moduli[i]) for i in range(len(ciphertexts))]\n",
    "    \n",
    "    CRT_solution = ...\n",
    "    \n",
    "    cuberoot = ...\n",
    "    \n",
    "    return round(cuberoot) "
   ]
  },
  {
   "cell_type": "code",
   "execution_count": null,
   "id": "21dd1352",
   "metadata": {
    "deletable": false,
    "editable": false
   },
   "outputs": [],
   "source": [
    "grader.check(\"q2_1\")"
   ]
  },
  {
   "cell_type": "markdown",
   "id": "523cf2e0",
   "metadata": {},
   "source": [
    "# Chosen-Ciphertext Attacks\n",
    "\n",
    "Textbook RSA is particularly susceptible to a **chosen-ciphertext attack**, in which our attacker Eve can choose an arbitrary ciphertext and have it decrypted by Bob. For example, she can encrypt a message using his public key and have him tell her the result of decrypting it.\n",
    "\n",
    "Sounds strange, since then we could just ask them to decrypt the ciphertext we wish to break. In this sense a raw chosen-ciphertext attack is not feasible in practice. We will see how a variant of it can be used to gradually reveal the full message, however, relying on the non-padded nature of RSA. \n",
    "\n",
    "First, let's go over how a chosen-ciphertext attack works in the basic case.\n",
    "\n",
    "Say Alice encrypts her message as $m^e$ and sends it over to Bob. Eve intercepts this, and has an oracle that tells her the decryption of any arbitrary ciphertext via Bob's private key **except for $m^e$**. This way we can't just pass it immediately to the oracle. However, Eve can use some properties of modular arithmetic to her advantage.\n",
    "\n",
    "Define $C = m^e$ as our ciphertext.\n",
    "\n",
    "$$C^* = C \\cdot 2^e = (2m)^e$$\n",
    "\n",
    "We then send this $C^*$ to the oracle and receive $$(2m)^{ed} = 2m$$. From here we can simply divide by two to get our message.\n",
    "\n",
    "This only works because the RSA ciphertext is malleable, in that we can multiply/add/etc with predictable results to the underlying message."
   ]
  },
  {
   "cell_type": "markdown",
   "id": "6e88f399",
   "metadata": {},
   "source": [
    "## A Practical Example: Tencent's QQ Browser\n",
    "Sounds interesting in theory, but what about reality? Unfortunately for internet users, this type of attack is far more common than one might expect. Tencent, a Chinese technology conglomerate, owns a popular web browser named QQ Browser. Said browser was torn apart by researchers in a [2018 paper](https://arxiv.org/pdf/1802.03367.pdf) which found a shocking amount of vulnerabilities. We will take a look at the CCA2 attack in this lab.\n",
    "\n",
    "First, let's set the stage for the attack. Whenever a user interacts with the browswer, it sends a variety of sensitive personal information to QQ Browser servers (why a browser needs its own servers is suspicious enough) using RSA encryption to exchange a 128 bit (for our example, 16 bit) AES key. You don't need to know anything about AES for now, just know that it is a very secure symmetric cipher. The device and server then use this key to send encrypted data. \n",
    "\n",
    "Our goal is to reveal a 16 bit key to decrypt all the message traffic. There are a few key observations about the server that make this feasible:\n",
    "\n",
    "1. When the server receives a session request, it attempts to decrypt it using the last 128 bits of the RSA plaintext as an AES key. If the decryption results in a valid session packet, it responds with some sort of success message. Otherwise, it responds with failure (or not at all).\n",
    "2. The RSA encryption has no padding.\n",
    "3. We can make requests to the server on our own (without needing access to the client device). "
   ]
  },
  {
   "cell_type": "code",
   "execution_count": null,
   "id": "e244035c",
   "metadata": {},
   "outputs": [],
   "source": [
    "# We don't actually need to use AES for this. Dummy cipher will do \n",
    "def dummyAES(msg, key):\n",
    "    return msg ^ key \n",
    "\n",
    "class QQServer:\n",
    "    def __init__(self, privkey, N):\n",
    "        self.privkey = privkey\n",
    "        self.N = N\n",
    "        \n",
    "    def recoverAESKey(self, rsaData):\n",
    "        mask = (1 << 16) - 1\n",
    "                \n",
    "        data = decryptRSA(rsaData, self.privkey, self.N)\n",
    "                        \n",
    "        data = data & mask\n",
    "                \n",
    "        return data\n",
    "    \n",
    "    def decryptSession(self, rsaData, sessionData):\n",
    "        key = self.recoverAESKey(rsaData)\n",
    "                \n",
    "        return intToText(dummyAES(sessionData, key))[:11] == \"sessiondata\"        \n",
    "        "
   ]
  },
  {
   "cell_type": "markdown",
   "id": "53bd773f",
   "metadata": {},
   "source": [
    "Armed with this knowledge, let's take a look at what we can do on our end. Say we intercept the rsaData of some user we want to spy on.\n",
    "\n",
    "Shifting said rsaData over by 15, we can make it so the last bit of their AES key is now the first bit of the AES key, with the rest zeroes. This is possible because of unpadded RSA and because the server only looks at the last 16 bits.\n",
    "\n",
    "**Remember, \"shifting\" rsaData is not just bitshifting the raw ciphertext. You MUST use the chosen-ciphertext attack (also known as homomorphic encryption) to multiply by 2^k in order to shift by k bits.**\n",
    "\n",
    "**To do this, you need to multiply the ciphertext by rsaEncrypt(2\\*\\*k, e, N)** in order to have the plaintext multiplied by 2^k.\n",
    "\n",
    "For example,\n",
    "\n",
    "Original RSA data: 1111 0000 1111 0101\n",
    "\n",
    "Shifted RSA data: 0111 1000 0111 1010 **1000 0000 0000 0000**\n",
    "\n",
    "\n",
    "The server will only look at the last 16 bits, and therefore will try to decrypt with the key 1000 0000 0000 0000. We as an attacker know the last 15 bits, but don't actually know the first (most significant bit). So we might set it up as such:\n",
    "\n",
    "X000 0000 0000 0000\n",
    "\n",
    "And try to figure out whether that X is 1 or 0. We know the server will respond with True if the key is correct or False if not, and we can encrypt a session with whatever key we want. So we try encrypting a session with the following key: 1000 0000 0000 0000. If it works, we know X=1, otherwise, X=0. \n",
    "\n",
    "In our example, the key works, so we know that bit is 1. We store it in the most-significant bit position and move onto our new iteration. Each time, we shift over key by 1, so we now have\n",
    "\n",
    "X100 0000 0000 0000\n",
    "\n",
    "and encrypt with 1100 0000 0000 0000. This will again tell us if the X is 1 or 0. We then repeat for all 16 bits."
   ]
  },
  {
   "cell_type": "markdown",
   "id": "955fe7a0",
   "metadata": {},
   "source": [
    "**Question 3**: Implement a function to recover the 16 bit AES key from an intercepted RSA-encrypted session."
   ]
  },
  {
   "cell_type": "code",
   "execution_count": null,
   "id": "a18ba274",
   "metadata": {
    "tags": []
   },
   "outputs": [],
   "source": [
    "def recoverAESKey(interceptedRSA, server, e, N):\n",
    "    aesKey = 0\n",
    "\n",
    "    # Loop from a shift of 15 to a shift of 0\n",
    "    for i in range(15, -1, -1):\n",
    "\n",
    "        # Generate a session of our own\n",
    "        testsession = textToInt(\"sessiondata blah\")\n",
    "\n",
    "        # Shift over our key by one bit to the right\n",
    "        aesKey = aesKey >> 1\n",
    "\n",
    "        # Shift the interceptedRSA by i bits to the left to make room for our key.\n",
    "        # Remember, we have to transform our shift into an encrypted ciphertext first!\n",
    "        # Re-read the chosen ciphertext paragraph if you are unsure how to do this.\n",
    "        # HINT: Shifting by i bits is equivalent to multiplying by 2**i\n",
    "        encryptedShift = ...\n",
    "        \n",
    "        modifiedRSA = interceptedRSA * encryptedShift\n",
    "\n",
    "        # Encrypt our test session with our AES key + one bit in the MSB\n",
    "        encryptedTestSession = dummyAES(testsession, 1<<15 | aesKey)\n",
    "\n",
    "        # Test whether that index with a 1 works, if so, set that bit to 1 in the final key\n",
    "        if server.decryptSession(modifiedRSA, encryptedTestSession):\n",
    "            aesKey = ...\n",
    "    \n",
    "    return aesKey"
   ]
  },
  {
   "cell_type": "code",
   "execution_count": null,
   "id": "48ef5214",
   "metadata": {},
   "outputs": [],
   "source": [
    "p,q = 100043,100049\n",
    "prime = p*q\n",
    "\n",
    "e = 3\n",
    "\n",
    "d = modularInverse(e, (p-1)*(q-1))\n",
    "\n",
    "sampleAESkey = 0b1111000011110101\n",
    "\n",
    "server = QQServer(d, prime)\n",
    "\n",
    "recovered = recoverAESKey(encryptRSA(sampleAESkey, e, prime), server, e, prime)\n",
    "print('Our used AES key:', bin(sampleAESkey))\n",
    "print('Our recovered AES key:', bin(recovered))"
   ]
  },
  {
   "cell_type": "markdown",
   "id": "182e1029",
   "metadata": {},
   "source": [
    "We've just broken the entire AES key with 16 requests!"
   ]
  },
  {
   "cell_type": "code",
   "execution_count": null,
   "id": "169ef100",
   "metadata": {
    "deletable": false,
    "editable": false
   },
   "outputs": [],
   "source": [
    "grader.check(\"q3\")"
   ]
  },
  {
   "cell_type": "markdown",
   "id": "c16b162c",
   "metadata": {},
   "source": [
    "# Diffie-Hellman Key Exchange\n",
    "\n",
    "In the real world, RSA encryption is too slow for messages of any appreciable length. Therefore, we want use it to trade a symmetric cipher key (like the previous example). \n",
    "\n",
    "Instead of raw RSA, however, there is a more efficient solution in the form of Diffie-Hellman. It works as follows:\n",
    "\n",
    "Alice and Bob wish to communicate, and Eve can spy on all their communications. Alice and Bob agree on and publish a value $g$ and modulus $N$. (There are considerable restrictions on what these need to be, but for now, let's abstract that away).\n",
    "\n",
    "Alice chooses her private key $a$, and Bob chooses his key $b$. \n",
    "\n",
    "Alice then finds the value $g^a \\mod N$, and Bob finds $g^b \\mod N$. \n",
    "\n",
    "They send these values to each other over the insecure channel. Eve now has both $g^a$ and $g^b$.\n",
    "\n",
    "Once Alice receives $g^b$, she raises it to the $a$-th power, finding $(g^b)^a \\equiv g^{ab} \\mod N$. Bob does the same to also find $g^{ab} \\mod N$. This a number they can then use as their symmetric key.\n",
    "\n",
    "Eve, on the other hand, only has $g^a$ and $g^b$, and no easy way to find $g^{ab}$. At best, she can multiply them to find $g^{a+b}$, but that is worthless.\n",
    "\n",
    "This system relies on the fact that finding $a$ given $g^a \\mod N$ is hard. We will explore why this is the case next lab!"
   ]
  },
  {
   "cell_type": "markdown",
   "id": "5d066a28",
   "metadata": {},
   "source": [
    "**Question 4**: Implement the Diffie-Hellman Key Exchange."
   ]
  },
  {
   "cell_type": "code",
   "execution_count": null,
   "id": "78f93ad9",
   "metadata": {
    "tags": []
   },
   "outputs": [],
   "source": [
    "# Compute g^a mod N given g, a, N\n",
    "def computePublicMessage(generator, privatekey, N):\n",
    "    ...\n",
    "\n",
    "# Given g^x and y, find g^{xy}\n",
    "def computeFinalKey(received, exponent, N):\n",
    "    ..."
   ]
  },
  {
   "cell_type": "code",
   "execution_count": null,
   "id": "4d37df12",
   "metadata": {
    "deletable": false,
    "editable": false
   },
   "outputs": [],
   "source": [
    "grader.check(\"q4_1\")"
   ]
  },
  {
   "cell_type": "markdown",
   "id": "d31c5b67",
   "metadata": {},
   "source": [
    "**Question 4.2:** Walk through the steps of the Diffie-Hellman algorithm using your new functions."
   ]
  },
  {
   "cell_type": "code",
   "execution_count": null,
   "id": "e0c562f2",
   "metadata": {
    "tags": []
   },
   "outputs": [],
   "source": [
    "# Modulus (N) = p\n",
    "p = 2612691\n",
    "\n",
    "# Generator = g\n",
    "g = 2 \n",
    "\n",
    "# Alice's private key = a\n",
    "a = 2553\n",
    "\n",
    "# Bob's private key = b\n",
    "b = 26511\n",
    "\n",
    "# Find g^a mod N and g^b mod N\n",
    "alice_pub = ...\n",
    "bob_pub = ...\n",
    "\n",
    "\n",
    "# Given g^a mod N and g^b mod N (and a,b) find g^ab for both users\n",
    "alice_final = ...\n",
    "bob_final = ...\n",
    "\n",
    "print(\"Alice's final key:\", alice_final)\n",
    "print(\"Bob's final key:\", bob_final)"
   ]
  },
  {
   "cell_type": "code",
   "execution_count": null,
   "id": "1717e7d6",
   "metadata": {
    "deletable": false,
    "editable": false
   },
   "outputs": [],
   "source": [
    "grader.check(\"q4_2\")"
   ]
  },
  {
   "cell_type": "markdown",
   "id": "d66c1471",
   "metadata": {},
   "source": [
    "That concludes Lab 3, congratulations!"
   ]
  },
  {
   "cell_type": "markdown",
   "id": "adfc209b",
   "metadata": {
    "deletable": false,
    "editable": false
   },
   "source": [
    "## Submission\n",
    "\n",
    "Make sure you have run all cells in your notebook in order before running the cell below, so that all images/graphs appear in the output. The cell below will generate a zip file for you to submit. **Please save before exporting!**\n",
    "\n",
    "Once you have generated the zip file, go to the Gradescope page for this assignment to submit."
   ]
  },
  {
   "cell_type": "code",
   "execution_count": null,
   "id": "61af4506",
   "metadata": {
    "deletable": false,
    "editable": false
   },
   "outputs": [],
   "source": [
    "# Save your notebook first, then run this cell to export your submission.\n",
    "grader.export(pdf=False, run_tests=True)"
   ]
  },
  {
   "cell_type": "markdown",
   "id": "4792d382",
   "metadata": {},
   "source": [
    " "
   ]
  }
 ],
 "metadata": {
  "interpreter": {
   "hash": "50292dbb1f747f7151d445135d392af3138fb3c65386d17d9510cb605222b10b"
  },
  "kernelspec": {
   "display_name": "Python 3 (ipykernel)",
   "language": "python",
   "name": "python3"
  },
  "language_info": {
   "codemirror_mode": {
    "name": "ipython",
    "version": 3
   },
   "file_extension": ".py",
   "mimetype": "text/x-python",
   "name": "python",
   "nbconvert_exporter": "python",
   "pygments_lexer": "ipython3",
   "version": "3.9.14"
  },
  "otter": {
   "OK_FORMAT": true,
   "tests": {
    "q1_1": {
     "name": "q1_1",
     "points": 10,
     "suites": [
      {
       "cases": [
        {
         "code": ">>> assert computePrivateKey(5,11,3) == 27\n",
         "hidden": false,
         "locked": false
        }
       ],
       "scored": true,
       "setup": "",
       "teardown": "",
       "type": "doctest"
      }
     ]
    },
    "q1_2": {
     "name": "q1_2",
     "points": 10,
     "suites": [
      {
       "cases": [
        {
         "code": ">>> assert encryptRSA(24, 3, 55) == 19\n>>> assert decryptRSA(19, 27, 55) == 24\n>>> assert decryptRSA(encryptRSA(19, 3, 55), 27, 55) == 19\n",
         "hidden": false,
         "locked": false
        }
       ],
       "scored": true,
       "setup": "",
       "teardown": "",
       "type": "doctest"
      }
     ]
    },
    "q2_1": {
     "name": "q2_1",
     "points": 10,
     "suites": [
      {
       "cases": [
        {
         "code": ">>> assert lowExponentAttack([encryptRSA(17, 3, 55), encryptRSA(17, 3, 51), encryptRSA(17, 3, 47)], [55, 51, 47]) == 17\n",
         "hidden": false,
         "locked": false
        }
       ],
       "scored": true,
       "setup": "",
       "teardown": "",
       "type": "doctest"
      }
     ]
    },
    "q3": {
     "name": "q3",
     "points": 10,
     "suites": [
      {
       "cases": [
        {
         "code": ">>> p,q = 100043,100049\n>>> prime = p*q\n>>> \n>>> e = 3\n>>> \n>>> d = modularInverse(e, (p-1)*(q-1))\n>>> \n>>> server = QQServer(d, prime)\n>>> assert recoverAESKey(encryptRSA(sampleAESkey, e, prime), server, e, prime) == 0b1111000011110101\n",
         "hidden": false,
         "locked": false
        }
       ],
       "scored": true,
       "setup": "",
       "teardown": "",
       "type": "doctest"
      }
     ]
    },
    "q4_1": {
     "name": "q4_1",
     "points": 10,
     "suites": [
      {
       "cases": [
        {
         "code": ">>> # N = p\n>>> p = 2612691\n>>> \n>>> # Generator = g\n>>> g = 2 \n>>> \n>>> # Alice's private key = a\n>>> a = 2553\n>>> \n>>> # Bob's private key = b\n>>> b = 26511\n>>> \n>>> alice_pub = computePublicMessage(g, a, p)\n>>> bob_pub = computePublicMessage(g, b, p)\n>>> \n>>> alice_final = computeFinalKey(bob_pub, a, p)\n>>> bob_final = computeFinalKey(alice_pub, b, p)\n>>> \n>>> assert alice_final == bob_final == 1805120\n",
         "hidden": false,
         "locked": false
        }
       ],
       "scored": true,
       "setup": "",
       "teardown": "",
       "type": "doctest"
      }
     ]
    },
    "q4_2": {
     "name": "q4_2",
     "points": 10,
     "suites": [
      {
       "cases": [
        {
         "code": ">>> assert alice_final == bob_final == 1805120\n",
         "hidden": false,
         "locked": false
        }
       ],
       "scored": true,
       "setup": "",
       "teardown": "",
       "type": "doctest"
      }
     ]
    }
   }
  },
  "vscode": {
   "interpreter": {
    "hash": "86b6775e93d8e7b2e5f79e45a0bdd3fb78f60d14c90e6111b0fee66688ef28fc"
   }
  }
 },
 "nbformat": 4,
 "nbformat_minor": 5
}
