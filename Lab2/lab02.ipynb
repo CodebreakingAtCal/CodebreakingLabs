{
 "cells": [
  {
   "cell_type": "code",
   "execution_count": null,
   "id": "6d122058",
   "metadata": {
    "deletable": false,
    "editable": false
   },
   "outputs": [],
   "source": [
    "# Initialize Otter\n",
    "import otter\n",
    "grader = otter.Notebook(\"lab02.ipynb\")"
   ]
  },
  {
   "cell_type": "code",
   "execution_count": null,
   "id": "146689f0",
   "metadata": {},
   "outputs": [],
   "source": [
    "%%capture\n",
    "import sys\n",
    "!{sys.executable} -m pip install pycryptodome"
   ]
  },
  {
   "cell_type": "code",
   "execution_count": null,
   "id": "9c29bf9f",
   "metadata": {},
   "outputs": [],
   "source": [
    "import math\n",
    "import matplotlib.pyplot as plt\n",
    "import numpy as np\n",
    "import string\n",
    "import itertools\n",
    "import re\n",
    "from functools import reduce\n",
    "import hashlib\n",
    "from Crypto.Hash import SHA256"
   ]
  },
  {
   "cell_type": "code",
   "execution_count": null,
   "id": "af0e7a8f",
   "metadata": {},
   "outputs": [],
   "source": [
    "%%capture\n",
    "# Install our custom library\n",
    "import sys\n",
    "!{sys.executable} -m pip install git+https://github.com/CodebreakingAtCal/codebreaking_at_cal.git\n",
    "\n",
    "import codebreaking_at_cal"
   ]
  },
  {
   "cell_type": "markdown",
   "id": "3aacee28",
   "metadata": {},
   "source": [
    "# Lab 2: Information Theory\n",
    "Contributions From: Ryan Cottone, Imran Khaliq-Baporia\n",
    "\n",
    "Welcome to Lab 2! In this lab, we will demonstrate the basics of information theory, and some techniques used to break Enigma.\n",
    "\n",
    "As a quick review from lecture and Note 2, the *entropy* of a probability distribution is derived from the following formula:\n",
    "\n",
    "$$ H(x) = -\\sum_{i=0} x_i \\log_2(x_i) $$\n",
    "\n",
    "where $x_i$ represents the probability of event $i$ occuring. It is used to quantify how uncertain a random variable is."
   ]
  },
  {
   "cell_type": "markdown",
   "id": "1b6822df",
   "metadata": {},
   "source": [
    "**Question 1.1**: Implement calculateEntropy, which takes in a array of probabilities and returns its entropy.\n",
    "\n",
    "*HINT: math.log(x, base) returns $\\log_{base}(x)$*"
   ]
  },
  {
   "cell_type": "code",
   "execution_count": null,
   "id": "af456c9f",
   "metadata": {
    "tags": []
   },
   "outputs": [],
   "source": [
    "def calculateEntropy(probabilityDistribution):\n",
    "    total = 0\n",
    "        \n",
    "    for probability in probabilityDistribution:\n",
    "        if probability == 0:\n",
    "            continue\n",
    "        ...\n",
    "    \n",
    "    return -total\n",
    "    "
   ]
  },
  {
   "cell_type": "code",
   "execution_count": null,
   "id": "bb78d5bd",
   "metadata": {
    "deletable": false,
    "editable": false
   },
   "outputs": [],
   "source": [
    "grader.check(\"q1_1\")"
   ]
  },
  {
   "cell_type": "markdown",
   "id": "adaa665c",
   "metadata": {},
   "source": [
    "It is a lot easier to compute the entropy of a uniform distribution (an array of equal probabilities). We can reduce our equation to the following for a uniform distribution with $k$ entries and $x$ probability:\n",
    "\n",
    "$$H(X_{uniform}) = -k \\cdot x\\log_2(x)$$"
   ]
  },
  {
   "cell_type": "code",
   "execution_count": null,
   "id": "eacfe676",
   "metadata": {},
   "outputs": [],
   "source": [
    "def calculateUniformEntropy(probability, k):\n",
    "    return -k*probability*math.log(probability, 2)"
   ]
  },
  {
   "cell_type": "markdown",
   "id": "a7363c2f",
   "metadata": {},
   "source": [
    "Let's visualize what entropy actually looks like. Below is a graph with the x-axis representing the probability of tossing heads in an unfair coin. You'll notice that the entropy peaks at 0.5, or when the coin is fair. This is at the point where the outcome is most uncertain. Contrast this to when there's a 90% chance to hit heads -- we can be pretty certain about the outcome (lower entropy)."
   ]
  },
  {
   "cell_type": "code",
   "execution_count": null,
   "id": "a3592bd9",
   "metadata": {},
   "outputs": [],
   "source": [
    "plt.plot(np.arange(0.1,.9001,0.001), [calculateEntropy([x, 1-x]) for x in np.arange(0.1,.9001,0.001)])\n",
    "plt.show()"
   ]
  },
  {
   "cell_type": "markdown",
   "id": "45f68a9b",
   "metadata": {},
   "source": [
    "Specifically, we have one bit of entropy for a single fair coinflip. This corresponds to a sample space of size 2 with uniform probability. We can do no better but to guess the result each time.\n",
    "\n",
    "In the context of cryptographic keys, we'd need to guess approximately $2^k$ keys for a system with $k$ bits of entropy.\n",
    "\n",
    "Let's demonstrate the entropy of some ciphers we tried before:"
   ]
  },
  {
   "cell_type": "code",
   "execution_count": null,
   "id": "3130ceac",
   "metadata": {},
   "outputs": [],
   "source": [
    "sample_text = \"\"\n",
    "with open('sample.txt', 'r') as file:\n",
    "    sample_text = file.read().replace('\\n', '').replace(\" \", \"\")\n",
    "    \n",
    "sample_text = codebreaking_at_cal.clean_text(sample_text)\n",
    "sample_text = re.sub('[^a-z]*', '', sample_text.lower())"
   ]
  },
  {
   "cell_type": "code",
   "execution_count": null,
   "id": "e14e0330",
   "metadata": {},
   "outputs": [],
   "source": [
    "# Takes in two NumPy arrays and returns their TVD.\n",
    "def analyzeFrequency(text):\n",
    "    diff = abs(freq1 - freq2)\n",
    "    return sum(diff)/2"
   ]
  },
  {
   "cell_type": "code",
   "execution_count": null,
   "id": "c84b71ab",
   "metadata": {},
   "outputs": [],
   "source": [
    "# Takes in a Caesar ciphertext and returns the map of shift -> probability\n",
    "def shiftProbabilityCaesar(ciphertext):\n",
    "    ciphertext = re.sub('[^a-z]*', '', ciphertext.lower())\n",
    "    \n",
    "    arr = np.array([])\n",
    "        \n",
    "    for i in range(0,26):\n",
    "        arr = np.append(arr, 2**(1/codebreaking_at_cal.analyze_frequency(codebreaking_at_cal.caesar_decrypt(ciphertext, i))))\n",
    "    \n",
    "    arr = arr/sum(arr)\n",
    "    return arr"
   ]
  },
  {
   "cell_type": "code",
   "execution_count": null,
   "id": "220f109d",
   "metadata": {},
   "outputs": [],
   "source": [
    "caesarEntropy = calculateEntropy(shiftProbabilityCaesar(codebreaking_at_cal.caesar_encrypt(sample_text, 1)))\n",
    "\n",
    "k = 20\n",
    "baseEntropy = calculateUniformEntropy(1/(26**k), 26**k)\n",
    "\n",
    "print('A Caesar encrypted message of length', len(sample_text), \"has\", caesarEntropy, \"bits of entropy.\")\n",
    "print('A random message of length', k, \"has\", baseEntropy, \"bits of entropy.\")"
   ]
  },
  {
   "cell_type": "markdown",
   "id": "382ee3a0",
   "metadata": {},
   "source": [
    "Read through those functions and try to understand what they do. In the last cell, we calculated the entropy of a Caesar cipher on a very long text and the entropy of a completely random alphabetic string of length 20 (far, far less than the Caesar text).\n",
    "\n",
    "To put these numbers into perspective (note that e+28 = $\\cdot$ 10^28):"
   ]
  },
  {
   "cell_type": "code",
   "execution_count": null,
   "id": "99db8007",
   "metadata": {},
   "outputs": [],
   "source": [
    "print('There are ', 2**caesarEntropy, ' items in the \"sample space\" for a caesar encrypted message of length', len(sample_text))\n",
    "print('There are ', 2**baseEntropy, ' items in the \"sample space\" for a random message of length', k)"
   ]
  },
  {
   "cell_type": "markdown",
   "id": "ad149362",
   "metadata": {},
   "source": [
    "Take a look at the graph of the entropy of a Caesar cipher on a $k$ length text (represented by the x-axis):"
   ]
  },
  {
   "cell_type": "code",
   "execution_count": null,
   "id": "1c016f48",
   "metadata": {},
   "outputs": [],
   "source": [
    "plt.plot(np.arange(1, 175),\n",
    "         [calculateEntropy(shiftProbabilityCaesar(codebreaking_at_cal.caesar_encrypt(sample_text[:x], 9))) for x in np.arange(1,175\n",
    "                                                                                                     )])\n",
    "plt.show()"
   ]
  },
  {
   "cell_type": "markdown",
   "id": "2adc1a15",
   "metadata": {},
   "source": [
    "Note the entropy actually decreasing as the text size gets larger! Can you think of why this is the case?\n",
    "\n",
    "Now for the graph of a uniformly random string:"
   ]
  },
  {
   "cell_type": "code",
   "execution_count": null,
   "id": "63623d94",
   "metadata": {},
   "outputs": [],
   "source": [
    "y = 10\n",
    "plt.plot(range(1, y),\n",
    "         [calculateUniformEntropy(1/26,26**x) for x in range(1,y)])\n",
    "plt.xticks(range(1,y))\n",
    "plt.yscale('log', base=10)\n",
    "plt.show()"
   ]
  },
  {
   "cell_type": "markdown",
   "id": "7a7211d5",
   "metadata": {},
   "source": [
    "Note the exponentially increasing y-axis!\n",
    "\n",
    "We can see that vigenere is better but not by much."
   ]
  },
  {
   "cell_type": "code",
   "execution_count": null,
   "id": "0899f3bf",
   "metadata": {},
   "outputs": [],
   "source": [
    "def calculateVigenereEntropy(text, keylen):\n",
    "    texts = ['']*keylen\n",
    "    for i in range(len(text)):\n",
    "        texts[i%keylen] += text[i]\n",
    "    probabilities = [shiftProbabilityCaesar(x) for x in texts]\n",
    "        \n",
    "    return sum([calculateEntropy(x) for x in probabilities])\n",
    "\n",
    "key = \"ab\"    \n",
    "calculateVigenereEntropy(codebreaking_at_cal.vignere_encrypt(sample_text[:50], key), len(key))"
   ]
  },
  {
   "cell_type": "markdown",
   "id": "27ce8651",
   "metadata": {},
   "source": [
    "**Question 1.2**: Is the entropy of a keylength 1 vigenere cipher equal to a Caesar cipher? Enter True or False."
   ]
  },
  {
   "cell_type": "code",
   "execution_count": null,
   "id": "9b45fa51",
   "metadata": {
    "tags": []
   },
   "outputs": [],
   "source": [
    "concept_check = ..."
   ]
  },
  {
   "cell_type": "code",
   "execution_count": null,
   "id": "119af669",
   "metadata": {
    "deletable": false,
    "editable": false
   },
   "outputs": [],
   "source": [
    "grader.check(\"q1_2\")"
   ]
  },
  {
   "cell_type": "markdown",
   "id": "e72fb54f",
   "metadata": {},
   "source": [
    "The following function generates a random key for use in later functions."
   ]
  },
  {
   "cell_type": "code",
   "execution_count": null,
   "id": "cd7ab333",
   "metadata": {},
   "outputs": [],
   "source": [
    "def genRandomKey(length):\n",
    "    return ''.join(np.random.choice([x for x in string.ascii_lowercase], length))\n"
   ]
  },
  {
   "cell_type": "markdown",
   "id": "5dcaa6e2",
   "metadata": {},
   "source": [
    "What happens if we use a Vigenere cipher with a random key? Check out the graph of key length versus entropy below:\n",
    "\n",
    "*NOTE: The orange bar represents the entropy of a 102-long string*"
   ]
  },
  {
   "cell_type": "code",
   "execution_count": null,
   "id": "098a9f98",
   "metadata": {
    "scrolled": true
   },
   "outputs": [],
   "source": [
    "cap = 102\n",
    "plt.plot(range(1,cap,10),\n",
    "         [calculateVigenereEntropy(codebreaking_at_cal.vignere_encrypt(sample_text[:cap], genRandomKey(x)), x) for x in range(1,cap,10)])\n",
    "plt.plot(range(1, cap,10),\n",
    "         [calculateUniformEntropy(1/26**cap,26**cap) for x in range(1,cap,10)])\n",
    "plt.show()"
   ]
  },
  {
   "cell_type": "markdown",
   "id": "6925828d",
   "metadata": {},
   "source": [
    "Do you see why an increasingly long keylength corresponds to more entropy? What do you think happens as the keylength approaches the message size?"
   ]
  },
  {
   "cell_type": "markdown",
   "id": "16e5ebbb",
   "metadata": {},
   "source": [
    "# One-Time Pad\n",
    "\n",
    "Let's introduce a quite surprising idea -- there exists a cipher that is **provably unbreakable** and not any more complicated than the Vigenere cipher!\n",
    "\n",
    "We will define provably unbreaking, also known as perfectly secret, to be a ciphertext with entropy equal to a random bitstring of the same length. This means that the ciphertext yields no more information than a string of truly random ones and zeroes. You have zero recourse but to try and brute force every possibility (we will see that even this is useless).\n",
    "\n",
    "Enter the One-Time Pad. As it's name suggests, we can only use it a single time before it becomes insecure again. A one-time pad operates by pairing each letter/bit of the plaintext with a truly random key letter/bit and shifting/XOR-ing. Basically, if we used Vigenere cipher with a truly random key of the same length as the plaintext, we would have a perfectly secure cipher.\n",
    "\n",
    "You may be wondering why cryptography is even an active field if such a perfect cipher exists. Well, there are considerable drawbacks to such a cipher, namely the onerous requirement of a very large amount of perfectly random key material."
   ]
  },
  {
   "cell_type": "markdown",
   "id": "d1de90cb",
   "metadata": {},
   "source": [
    "**Question 2.1**: Which of the following message/key pairs are secure?\n",
    "\n",
    "1: abcd, efgh\n",
    "\n",
    "2: abcd, b\n",
    "\n",
    "3: abcd, longkey\n",
    "\n",
    "Answer in terms of a list, e.g. [1,2,3] means all three answers are correct."
   ]
  },
  {
   "cell_type": "code",
   "execution_count": null,
   "id": "8e6de1cf",
   "metadata": {
    "tags": []
   },
   "outputs": [],
   "source": [
    "correct = ..."
   ]
  },
  {
   "cell_type": "code",
   "execution_count": null,
   "id": "2ac4daf3",
   "metadata": {
    "deletable": false,
    "editable": false
   },
   "outputs": [],
   "source": [
    "grader.check(\"q2_1\")"
   ]
  },
  {
   "cell_type": "code",
   "execution_count": null,
   "id": "9044cd24",
   "metadata": {},
   "outputs": [],
   "source": [
    "def otp_encrypt(text, key):\n",
    "    if len(text) != len(key):\n",
    "        raise Exception()\n",
    "\n",
    "    return codebreaking_at_cal.vignere_encrypt(text, key)\n",
    "    "
   ]
  },
  {
   "cell_type": "code",
   "execution_count": null,
   "id": "4d1493f3",
   "metadata": {},
   "outputs": [],
   "source": [
    "def otp_decrypt(text, key):\n",
    "    if len(text) != len(key):\n",
    "        raise Exception()\n",
    "        \n",
    "    return codebreaking_at_cal.vignere_decrypt(text, key)\n",
    "    "
   ]
  },
  {
   "cell_type": "markdown",
   "id": "06a63953",
   "metadata": {},
   "source": [
    "Let's graph the entropy of sample_text encoded with a OTP. We know that each "
   ]
  },
  {
   "cell_type": "code",
   "execution_count": null,
   "id": "a95aa5c2",
   "metadata": {},
   "outputs": [],
   "source": [
    "def count_letters(text):\n",
    "    counts = {}\n",
    "    text = text.lower()\n",
    "    \n",
    "    for letter in string.ascii_lowercase:\n",
    "        counts[letter] = 0\n",
    "    \n",
    "    for letter in text:\n",
    "        if (letter in string.ascii_lowercase): \n",
    "            counts[letter] += 1\n",
    "    \n",
    "    return counts\n",
    "\n",
    "def calculate_proportions(text): # Coded for you\n",
    "    counts = count_letters(text).values()\n",
    "    nparr = np.fromiter(counts, dtype=float)\n",
    "    return nparr / sum(counts)\n",
    "\n",
    "plt.bar([string.ascii_lowercase[i] for i in range(26)], calculate_proportions(otp_encrypt(sample_text, genRandomKey(len(sample_text)))))\n",
    "plt.show()"
   ]
  },
  {
   "cell_type": "markdown",
   "id": "199ebaf1",
   "metadata": {},
   "source": [
    "Looks pretty uniform, right? Assuming a random shift at each step, we have 26 possibilities at each index. For a string of length $k$, that means $26^k$ possible keys. Moreover, we will see that the properties of a OTP make it impossible to decrypt at all, not just hard.\n",
    "\n",
    "The crux of have a separate shift for every letter is that you can decrypt it into **every possible string** by changing the key. With traditional ciphers like Vigenere or Caesar, there were a bounded number of different strings possible with a key of a certain length. This is because eventually the key repeats with the same plaintext, and you can't map these two occurences to different outcomes. With a OTP, that is very much possible.\n",
    "\n",
    "Take for example the ciphertext \"AUVDGP\". \n",
    "\n",
    "Say we found our possible key \"ABCDEF\": decrypt(\"AUVDGP\", \"ABCDEF\") == \"ATTACK\"\n",
    "\n",
    "Instead, say we found a possible key \"XQQZTM\": decrypt(\"AUVDGP\", \"XQQZTM\") == \"DEFEND\"\n",
    "\n",
    "Which is correct? There's no way to tell.\n",
    "\n",
    "Let's revisit why this is the case. The formula for encryption can be thought of the following, where adding is pairwise by letter:\n",
    "\n",
    "PLAINTEXT + KEY = CIPHERTEXT\n",
    "\n",
    "To find the key for any arbitrary plaintext from the ciphertext, simply solve the following:\n",
    "\n",
    "KEY = CIPHERTEXT - PLAINTEXT = vignere_decrypt(CIPHERTEXT, PLAINTEXT)"
   ]
  },
  {
   "cell_type": "markdown",
   "id": "4494ae81",
   "metadata": {},
   "source": [
    "## Random Number Generation\n",
    "\n",
    "It's time to apply what we've learned about information theory to the study of random number generation! As you might recall from lecture, a **PRNG** (pseudo-random number generator) is a computer program that *deterministically* outputs \"random looking\" numbers. A *cryptographically secure* PRNG fulfills the randomness requires of an PRNG as well as some security considerations (rollback resistance, resistant to internal state leak, etc)."
   ]
  },
  {
   "cell_type": "code",
   "execution_count": null,
   "id": "d05cf75c",
   "metadata": {},
   "outputs": [],
   "source": [
    "def H(x):\n",
    "    if type(x) != bytes:\n",
    "        if type(x) == str:\n",
    "            x = bytes(x, 'utf-8')\n",
    "        elif type(x) == int:\n",
    "            x = x.to_bytes(len(bin(x))-2, byteorder='big')\n",
    "    \n",
    "    h = SHA256.new()\n",
    "    h.update(x)\n",
    "    return h.digest().hex()"
   ]
  },
  {
   "cell_type": "code",
   "execution_count": null,
   "id": "569047b2",
   "metadata": {},
   "outputs": [],
   "source": [
    "def hashPRNG(seed):\n",
    "    state = seed\n",
    "                \n",
    "    def generate(bits):\n",
    "        nonlocal state\n",
    "        \n",
    "        state = int(H(state),16)  \n",
    "        return state & ((1 << bits) - 1)\n",
    "        \n",
    "    return generate"
   ]
  },
  {
   "cell_type": "markdown",
   "id": "1c29f481",
   "metadata": {},
   "source": [
    "Let's try to analyze and break a weakly-seeded PRNG. The above CSPRNG is (relatively) secure, so we'll focus on the initial seeding.\n",
    "\n",
    "Alice seeds the RNG by flipping a coin for each bit (H = 1, T = 0) for 32 bits. This would be decently secure if Mallory hadn't tampered with the coin beforehand, making it 99% chance for heads and 1% for tails!"
   ]
  },
  {
   "cell_type": "code",
   "execution_count": null,
   "id": "88fd6b8f",
   "metadata": {},
   "outputs": [],
   "source": [
    "calculateEntropy([0.99, 0.01])*32"
   ]
  },
  {
   "cell_type": "markdown",
   "id": "1ca65043",
   "metadata": {},
   "source": [
    "We see that the entropy of this seeding process is barely 2.5 bits, not the 32 bits Alice expects!"
   ]
  },
  {
   "cell_type": "code",
   "execution_count": null,
   "id": "949cca9a",
   "metadata": {},
   "outputs": [],
   "source": [
    "def weightedCoin():\n",
    "    if np.random.rand() > 0.99:\n",
    "        return 0\n",
    "    else: \n",
    "        return 1"
   ]
  },
  {
   "cell_type": "markdown",
   "id": "04d0753a",
   "metadata": {},
   "source": [
    "Since 1s are far more common than 0s, we expect our number to be much larger than smaller. So if we start from MAX_NUMBER and decremenet, we should hit our seed quickly! This is roughly analogous to guessing 1 for every bit, then guessing more 0s slowly, which is what we expect to be fastest.\n",
    "\n",
    "In order to test our guess, we compare an output of 100 bits from the PRNG to the output of 100 bits from a fresh PRNG seeded with our guess. If they equal, there is a very very high change the underlying seed is equal ($1 - 2^{-100}$ probability)."
   ]
  },
  {
   "cell_type": "code",
   "execution_count": null,
   "id": "8e3707ed",
   "metadata": {},
   "outputs": [],
   "source": [
    "seed = int(''.join([str(weightedCoin()) for _ in range(32)]), 2)\n",
    "gen = hashPRNG(seed)\n",
    "hundred_bit_output = gen(100)\n",
    "\n",
    "for i in range(2**32, -1, -1):\n",
    "    testPRNG = hashPRNG(i)\n",
    "    hundred_bits = testPRNG(100)\n",
    "    \n",
    "    if hundred_bit_output == hundred_bits:\n",
    "        print('Found at', i)\n",
    "        break"
   ]
  },
  {
   "cell_type": "markdown",
   "id": "75b709e0",
   "metadata": {},
   "source": [
    "Guessing 32 bits would take a considerable amount of time on a Jupyter notebook! You've (probably) just cracked the PRNG in a few seconds instead."
   ]
  },
  {
   "cell_type": "markdown",
   "id": "afbcad5b",
   "metadata": {
    "deletable": false,
    "editable": false
   },
   "source": [
    "## Submission\n",
    "\n",
    "Make sure you have run all cells in your notebook in order before running the cell below, so that all images/graphs appear in the output. The cell below will generate a zip file for you to submit. **Please save before exporting!**\n",
    "\n",
    "Once you have generated the zip file, go to the Gradescope page for this assignment to submit."
   ]
  },
  {
   "cell_type": "code",
   "execution_count": null,
   "id": "b7ade95f",
   "metadata": {
    "deletable": false,
    "editable": false
   },
   "outputs": [],
   "source": [
    "# Save your notebook first, then run this cell to export your submission.\n",
    "grader.export(pdf=False, run_tests=True)"
   ]
  },
  {
   "cell_type": "markdown",
   "id": "9adb8f81",
   "metadata": {},
   "source": [
    " "
   ]
  }
 ],
 "metadata": {
  "interpreter": {
   "hash": "50292dbb1f747f7151d445135d392af3138fb3c65386d17d9510cb605222b10b"
  },
  "kernelspec": {
   "display_name": "Python 3 (ipykernel)",
   "language": "python",
   "name": "python3"
  },
  "language_info": {
   "codemirror_mode": {
    "name": "ipython",
    "version": 3
   },
   "file_extension": ".py",
   "mimetype": "text/x-python",
   "name": "python",
   "nbconvert_exporter": "python",
   "pygments_lexer": "ipython3",
   "version": "3.9.14"
  },
  "otter": {
   "OK_FORMAT": true,
   "tests": {
    "q1_1": {
     "name": "q1_1",
     "points": 10,
     "suites": [
      {
       "cases": [
        {
         "code": ">>> assert calculateEntropy([0.5, 0.5]) == 1\n>>> assert calculateEntropy([1, 0]) == 0\n",
         "hidden": false,
         "locked": false
        }
       ],
       "scored": true,
       "setup": "",
       "teardown": "",
       "type": "doctest"
      }
     ]
    },
    "q1_2": {
     "name": "q1_2",
     "points": 10,
     "suites": [
      {
       "cases": [
        {
         "code": ">>> assert concept_check == True\n",
         "hidden": false,
         "locked": false
        }
       ],
       "scored": true,
       "setup": "",
       "teardown": "",
       "type": "doctest"
      }
     ]
    },
    "q2_1": {
     "name": "q2_1",
     "points": 10,
     "suites": [
      {
       "cases": [
        {
         "code": ">>> assert correct == [1, 3]\n",
         "hidden": false,
         "locked": false
        }
       ],
       "scored": true,
       "setup": "",
       "teardown": "",
       "type": "doctest"
      }
     ]
    }
   }
  },
  "vscode": {
   "interpreter": {
    "hash": "86b6775e93d8e7b2e5f79e45a0bdd3fb78f60d14c90e6111b0fee66688ef28fc"
   }
  }
 },
 "nbformat": 4,
 "nbformat_minor": 5
}
