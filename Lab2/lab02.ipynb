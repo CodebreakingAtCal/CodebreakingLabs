{
 "cells": [
  {
   "cell_type": "code",
   "execution_count": null,
   "id": "80422fe2",
   "metadata": {
    "deletable": false,
    "editable": false
   },
   "outputs": [],
   "source": [
    "# Initialize Otter\n",
    "import otter\n",
    "grader = otter.Notebook(\"lab02.ipynb\")"
   ]
  },
  {
   "cell_type": "code",
   "execution_count": null,
   "id": "8fdf02e5",
   "metadata": {},
   "outputs": [],
   "source": [
    "import math\n",
    "import matplotlib.pyplot as plt\n",
    "import numpy as np\n",
    "import string\n",
    "import itertools\n",
    "import re\n",
    "from functools import reduce\n",
    "import hashlib"
   ]
  },
  {
   "cell_type": "code",
   "execution_count": null,
   "id": "f43d9244",
   "metadata": {},
   "outputs": [],
   "source": [
    "%%capture\n",
    "# Install our custom library\n",
    "import sys\n",
    "!{sys.executable} -m pip install git+https://github.com/CodebreakingAtCal/codebreaking_at_cal.git\n",
    "\n",
    "import codebreaking_at_cal"
   ]
  },
  {
   "cell_type": "markdown",
   "id": "67f612aa",
   "metadata": {},
   "source": [
    "# Lab 2: Information Theory\n",
    "Contributions From: Ryan Cottone, Imran Khaliq-Baporia\n",
    "\n",
    "Welcome to Lab 2! In this lab, we will demonstrate the basics of information theory, and some techniques used to break Enigma.\n",
    "\n",
    "As a quick review from lecture and Note 2, the *entropy* of a probability distribution is derived from the following formula:\n",
    "\n",
    "$$ H(x) = -\\sum_{i=0} x_i \\log_2(x_i) $$\n",
    "\n",
    "where $x_i$ represents the probability of event $i$ occuring. It is used to quantify how uncertain a random variable is."
   ]
  },
  {
   "cell_type": "markdown",
   "id": "e145e7dd",
   "metadata": {},
   "source": [
    "**Question 1.1**: Implement calculateEntropy, which takes in a array of probabilities and returns its entropy.\n",
    "\n",
    "*HINT: math.log(x, base) returns $\\log_{base}(x)$*"
   ]
  },
  {
   "cell_type": "code",
   "execution_count": null,
   "id": "2b880910",
   "metadata": {
    "tags": []
   },
   "outputs": [],
   "source": [
    "def calculateEntropy(probabilityDistribution):\n",
    "    total = 0\n",
    "        \n",
    "    for probability in probabilityDistribution:\n",
    "        if probability == 0:\n",
    "            continue\n",
    "        ...\n",
    "    \n",
    "    return -total\n",
    "    "
   ]
  },
  {
   "cell_type": "code",
   "execution_count": null,
   "id": "ae7d34fb",
   "metadata": {
    "deletable": false,
    "editable": false
   },
   "outputs": [],
   "source": [
    "grader.check(\"q1_1\")"
   ]
  },
  {
   "cell_type": "markdown",
   "id": "aa804287",
   "metadata": {},
   "source": [
    "It is a lot easier to compute the entropy of a uniform distribution (an array of equal probabilities). We can reduce our equation to the following for a uniform distribution with $k$ entries and $x$ probability:\n",
    "\n",
    "$$H(X_{uniform}) = -k \\cdot x\\log_2(x)$$"
   ]
  },
  {
   "cell_type": "code",
   "execution_count": null,
   "id": "04d7e47f",
   "metadata": {
    "tags": []
   },
   "outputs": [],
   "source": [
    "def calculateUniformEntropy(probability, k):\n",
    "    ..."
   ]
  },
  {
   "cell_type": "code",
   "execution_count": null,
   "id": "50474dee",
   "metadata": {
    "deletable": false,
    "editable": false
   },
   "outputs": [],
   "source": [
    "grader.check(\"q1_2\")"
   ]
  },
  {
   "cell_type": "markdown",
   "id": "3cc14141",
   "metadata": {},
   "source": [
    "Let's visualize what entropy actually looks like. Below is a graph with the x-axis representing the probability of tossing heads in an unfair coin. You'll notice that the entropy peaks at 0.5, or when the coin is fair. This is at the point where the outcome is most uncertain. Contrast this to when there's a 90% chance to hit heads -- we can be pretty certain about the outcome (lower entropy)."
   ]
  },
  {
   "cell_type": "code",
   "execution_count": null,
   "id": "d78fe040",
   "metadata": {},
   "outputs": [],
   "source": [
    "plt.plot(np.arange(0.1,.9001,0.001), [calculateEntropy([x, 1-x]) for x in np.arange(0.1,.9001,0.001)])\n",
    "plt.show()"
   ]
  },
  {
   "cell_type": "markdown",
   "id": "db5718ba",
   "metadata": {},
   "source": [
    "Specifically, we have one bit of entropy for a single fair coinflip. This corresponds to a sample space of size 2 with uniform probability. We can do no better but to guess the result each time.\n",
    "\n",
    "In the context of cryptographic keys, we'd need to guess approximately $2^k$ keys for a system with $k$ bits of entropy.\n",
    "\n",
    "Let's demonstrate the entropy of some ciphers we tried before:"
   ]
  },
  {
   "cell_type": "code",
   "execution_count": null,
   "id": "fdbdaa73",
   "metadata": {},
   "outputs": [],
   "source": [
    "sample_text = \"\"\n",
    "with open('sample.txt', 'r') as file:\n",
    "    sample_text = file.read().replace('\\n', '').replace(\" \", \"\")\n",
    "    \n",
    "sample_text = codebreaking_at_cal.clean_text(sample_text)\n",
    "sample_text = re.sub('[^a-z]*', '', sample_text.lower())"
   ]
  },
  {
   "cell_type": "code",
   "execution_count": null,
   "id": "02de8aca",
   "metadata": {},
   "outputs": [],
   "source": [
    "# Takes in two NumPy arrays and returns their TVD.\n",
    "def analyzeFrequency(text):\n",
    "    diff = abs(freq1 - freq2)\n",
    "    return sum(diff)/2"
   ]
  },
  {
   "cell_type": "code",
   "execution_count": null,
   "id": "a2c8af44",
   "metadata": {},
   "outputs": [],
   "source": [
    "# Takes in a Caesar ciphertext and returns the map of shift -> probability\n",
    "def shiftProbabilityCaesar(ciphertext):\n",
    "    ciphertext = re.sub('[^a-z]*', '', ciphertext.lower())\n",
    "    \n",
    "    arr = np.array([])\n",
    "        \n",
    "    for i in range(0,26):\n",
    "        arr = np.append(arr, 2**(1/codebreaking_at_cal.analyze_frequency(codebreaking_at_cal.caesar_decrypt(ciphertext, i))))\n",
    "    \n",
    "    arr = arr/sum(arr)\n",
    "    return arr"
   ]
  },
  {
   "cell_type": "code",
   "execution_count": null,
   "id": "5ebe96e0",
   "metadata": {},
   "outputs": [],
   "source": [
    "caesarEntropy = calculateEntropy(shiftProbabilityCaesar(codebreaking_at_cal.caesar_encrypt(sample_text, 1)))\n",
    "\n",
    "k = 20\n",
    "baseEntropy = calculateUniformEntropy(1/(26**k), 26**k)\n",
    "\n",
    "print('A Caesar encrypted message of length', len(sample_text), \"has\", caesarEntropy, \"bits of entropy.\")\n",
    "print('A random message of length', k, \"has\", baseEntropy, \"bits of entropy.\")"
   ]
  },
  {
   "cell_type": "markdown",
   "id": "8424500b",
   "metadata": {},
   "source": [
    "Read through those functions and try to understand what they do. In the last cell, we calculated the entropy of a Caesar cipher on a very long text and the entropy of a completely random alphabetic string of length 20 (far, far less than the Caesar text).\n",
    "\n",
    "To put these numbers into perspective (note that e+28 = $\\cdot$ 10^28):"
   ]
  },
  {
   "cell_type": "code",
   "execution_count": null,
   "id": "15cef976",
   "metadata": {},
   "outputs": [],
   "source": [
    "print('There are ', 2**caesarEntropy, ' items in the \"sample space\" for a caesar encrypted message of length', len(sample_text))\n",
    "print('There are ', 2**baseEntropy, ' items in the \"sample space\" for a random message of length', k)"
   ]
  },
  {
   "cell_type": "markdown",
   "id": "79f8271b",
   "metadata": {},
   "source": [
    "Take a look at the graph of the entropy of a Caesar cipher on a $k$ length text (represented by the x-axis):"
   ]
  },
  {
   "cell_type": "code",
   "execution_count": null,
   "id": "489709b7",
   "metadata": {},
   "outputs": [],
   "source": [
    "plt.plot(np.arange(1, 175),\n",
    "         [calculateEntropy(shiftProbabilityCaesar(codebreaking_at_cal.caesar_encrypt(sample_text[:x], 9))) for x in np.arange(1,175\n",
    "                                                                                                     )])\n",
    "plt.show()"
   ]
  },
  {
   "cell_type": "markdown",
   "id": "520f5678",
   "metadata": {},
   "source": [
    "Note the entropy actually decreasing as the text size gets larger! Can you think of why this is the case?\n",
    "\n",
    "Now for the graph of a uniformly random string:"
   ]
  },
  {
   "cell_type": "code",
   "execution_count": null,
   "id": "3d930886",
   "metadata": {},
   "outputs": [],
   "source": [
    "y = 10\n",
    "plt.plot(range(1, y),\n",
    "         [calculateUniformEntropy(1/26,26**x) for x in range(1,y)])\n",
    "plt.xticks(range(1,y))\n",
    "plt.yscale('log', base=10)\n",
    "plt.show()"
   ]
  },
  {
   "cell_type": "markdown",
   "id": "e761a35e",
   "metadata": {},
   "source": [
    "Note the exponentially increasing y-axis!\n",
    "\n",
    "We can see that vigenere is better but not by much."
   ]
  },
  {
   "cell_type": "code",
   "execution_count": null,
   "id": "63e3b692",
   "metadata": {},
   "outputs": [],
   "source": [
    "def calculateVigenereEntropy(text, keylen):\n",
    "    texts = ['']*keylen\n",
    "    for i in range(len(text)):\n",
    "        texts[i%keylen] += text[i]\n",
    "    probabilities = [shiftProbabilityCaesar(x) for x in texts]\n",
    "        \n",
    "    return sum([calculateEntropy(x) for x in probabilities])\n",
    "\n",
    "key = \"ab\"    \n",
    "calculateVigenereEntropy(codebreaking_at_cal.vignere_encrypt(sample_text[:50], key), len(key))"
   ]
  },
  {
   "cell_type": "markdown",
   "id": "d2b6085a",
   "metadata": {},
   "source": [
    "**Question 1.3**: Is the entropy of a keylength 1 vigenere cipher equal to a Caesar cipher? Enter True or False."
   ]
  },
  {
   "cell_type": "code",
   "execution_count": null,
   "id": "671333c0",
   "metadata": {
    "tags": []
   },
   "outputs": [],
   "source": [
    "concept_check = ..."
   ]
  },
  {
   "cell_type": "code",
   "execution_count": null,
   "id": "e34853f5",
   "metadata": {
    "deletable": false,
    "editable": false
   },
   "outputs": [],
   "source": [
    "grader.check(\"q1_3\")"
   ]
  },
  {
   "cell_type": "markdown",
   "id": "7482fc8e",
   "metadata": {},
   "source": [
    "The following function generates a random key for use in later functions."
   ]
  },
  {
   "cell_type": "code",
   "execution_count": null,
   "id": "cea321b9",
   "metadata": {},
   "outputs": [],
   "source": [
    "def genRandomKey(length):\n",
    "    return ''.join(np.random.choice([x for x in string.ascii_lowercase], length))\n"
   ]
  },
  {
   "cell_type": "markdown",
   "id": "cd30e53e",
   "metadata": {},
   "source": [
    "What happens if we use a Vigenere cipher with a random key? Check out the graph of key length versus entropy below:\n",
    "\n",
    "*NOTE: The orange bar represents the entropy of a 102-long string*"
   ]
  },
  {
   "cell_type": "code",
   "execution_count": null,
   "id": "26bedd97",
   "metadata": {},
   "outputs": [],
   "source": [
    "cap = 102\n",
    "plt.plot(range(1,cap,10),\n",
    "         [calculateVigenereEntropy(codebreaking_at_cal.vignere_encrypt(sample_text[:cap], genRandomKey(x)), x) for x in range(1,cap,10)])\n",
    "plt.plot(range(1, cap,10),\n",
    "         [calculateUniformEntropy(1/26**cap,26**cap) for x in range(1,cap,10)])\n",
    "plt.show()"
   ]
  },
  {
   "cell_type": "markdown",
   "id": "24682a6a",
   "metadata": {},
   "source": [
    "Do you see why an increasingly long keylength corresponds to more entropy? What do you think happens as the keylength approaches the message size?"
   ]
  },
  {
   "cell_type": "markdown",
   "id": "b2c15fb8",
   "metadata": {},
   "source": [
    "# One-Time Pad\n",
    "\n",
    "Let's introduce a quite surprising idea -- there exists a cipher that is **provably unbreakable** and not any more complicated than the Vigenere cipher!\n",
    "\n",
    "We will define provably unbreaking, also known as perfectly secret, to be a ciphertext with entropy equal to a random bitstring of the same length. This means that the ciphertext yields no more information than a string of truly random ones and zeroes. You have zero recourse but to try and brute force every possibility (we will see that even this is useless).\n",
    "\n",
    "Enter the One-Time Pad. As it's name suggests, we can only use it a single time before it becomes insecure again. A one-time pad operates by pairing each letter/bit of the plaintext with a truly random key letter/bit and shifting/XOR-ing. Basically, if we used Vigenere cipher with a truly random key of the same length as the plaintext, we would have a perfectly secure cipher.\n",
    "\n",
    "You may be wondering why cryptography is even an active field if such a perfect cipher exists. Well, there are considerable drawbacks to such a cipher, namely the onerous requirement of a very large amount of perfectly random key material."
   ]
  },
  {
   "cell_type": "markdown",
   "id": "cce1b145",
   "metadata": {},
   "source": [
    "**Question 2.1**: Which of the following message/key pairs are secure?\n",
    "\n",
    "1: abcd, efgh\n",
    "\n",
    "2: abcd, b\n",
    "\n",
    "3: abcd, longkey"
   ]
  },
  {
   "cell_type": "code",
   "execution_count": null,
   "id": "20a08617",
   "metadata": {
    "tags": []
   },
   "outputs": [],
   "source": [
    "correct = ..."
   ]
  },
  {
   "cell_type": "code",
   "execution_count": null,
   "id": "266abd0e",
   "metadata": {
    "deletable": false,
    "editable": false
   },
   "outputs": [],
   "source": [
    "grader.check(\"q2_1\")"
   ]
  },
  {
   "cell_type": "code",
   "execution_count": null,
   "id": "967479a7",
   "metadata": {},
   "outputs": [],
   "source": [
    "def otp_encrypt(text, key):\n",
    "    if len(text) != len(key):\n",
    "        raise Exception()\n",
    "\n",
    "    return codebreaking_at_cal.vignere_encrypt(text, key)\n",
    "    "
   ]
  },
  {
   "cell_type": "code",
   "execution_count": null,
   "id": "a0212505",
   "metadata": {},
   "outputs": [],
   "source": [
    "def otp_decrypt(text, key):\n",
    "    if len(text) != len(key):\n",
    "        raise Exception()\n",
    "        \n",
    "    return codebreaking_at_cal.vignere_decrypt(text, key)\n",
    "    "
   ]
  },
  {
   "cell_type": "markdown",
   "id": "8a68fe77",
   "metadata": {},
   "source": [
    "Let's graph the entropy of sample_text encoded with a OTP. We know that each "
   ]
  },
  {
   "cell_type": "code",
   "execution_count": null,
   "id": "dd8bcc6e",
   "metadata": {},
   "outputs": [],
   "source": [
    "def count_letters(text):\n",
    "    counts = {}\n",
    "    text = text.lower()\n",
    "    \n",
    "    for letter in string.ascii_lowercase:\n",
    "        counts[letter] = 0\n",
    "    \n",
    "    for letter in text:\n",
    "        if (letter in string.ascii_lowercase): \n",
    "            counts[letter] += 1\n",
    "    \n",
    "    return counts\n",
    "\n",
    "def calculate_proportions(text): # Coded for you\n",
    "    counts = count_letters(text).values()\n",
    "    nparr = np.fromiter(counts, dtype=float)\n",
    "    return nparr / sum(counts)\n",
    "\n",
    "plt.bar([string.ascii_lowercase[i] for i in range(26)], calculate_proportions(otp_encrypt(sample_text, genRandomKey(len(sample_text)))))\n",
    "plt.show()"
   ]
  },
  {
   "cell_type": "markdown",
   "id": "2cac6b25",
   "metadata": {},
   "source": [
    "Looks pretty uniform, right? Assuming a random shift at each step, we have 26 possibilities at each index. For a string of length $k$, that means $26^k$ possible keys. Moreover, we will see that the properties of a OTP make it impossible to decrypt at all, not just hard.\n",
    "\n",
    "The crux of have a separate shift for every letter is that you can decrypt it into **every possible string** by changing the key. With traditional ciphers like Vigenere or Caesar, there were a bounded number of different strings possible with a key of a certain length. This is because eventually the key repeats with the same plaintext, and you can't map these two occurences to different outcomes. With a OTP, that is very much possible.\n",
    "\n",
    "Take for example the ciphertext \"AUVDGP\". \n",
    "\n",
    "Say we found our possible key \"ABCDEF\": decrypt(\"AUVDGP\", \"ABCDEF\") == \"ATTACK\"\n",
    "\n",
    "Instead, say we found a possible key \"XQQZTM\": decrypt(\"AUVDGP\", \"XQQZTM\") == \"DEFEND\"\n",
    "\n",
    "Which is correct? There's no way to tell.\n",
    "\n",
    "Let's revisit why this is the case. The formula for encryption can be thought of the following, where adding is pairwise by letter:\n",
    "\n",
    "PLAINTEXT + KEY = CIPHERTEXT\n",
    "\n",
    "To find the key for any arbitrary plaintext from the ciphertext, simply solve the following:\n",
    "\n",
    "KEY = CIPHERTEXT - PLAINTEXT = vignere_decrypt(CIPHERTEXT, PLAINTEXT)"
   ]
  },
  {
   "cell_type": "markdown",
   "id": "11042e17",
   "metadata": {},
   "source": [
    "# Enigma weaknesses\n",
    "\n",
    "Unfortunately, we do not have enough computing power nor time to build a full Enigma decryption machine. However, we can examine some fatal weaknesses of the system to get a better idea of what a full decryption machine would involve."
   ]
  },
  {
   "cell_type": "markdown",
   "id": "fd58f492",
   "metadata": {},
   "source": [
    "## Weakness 1: No self-encryption\n",
    "In an Enigma machine, a letter can never encrypt to itself. While seemingly benign, this has absolutely massive ramifications on the potential sample size. \n",
    "\n",
    "For example, ciphertext to decrypted ciphertext of \"ODSXO\" \"HELLO\" is **not a valid decryption**, despite its high English frequencies.\n",
    "\n",
    "How much does this help us? For a message of length $n$ , we are able to eliminate it if **any letter maps to itself**. As $n$ increases, the chances of this happening also skyrocket.\n",
    "\n",
    "$$P(repeat) = 1 - \\left(\\frac{25}{26}\\right)^n$$"
   ]
  },
  {
   "cell_type": "code",
   "execution_count": null,
   "id": "a5f35a3d",
   "metadata": {},
   "outputs": [],
   "source": [
    "plt.plot(range(1, 100), [(1 - (25/26)**x) for x in range(1,100)])\n",
    "plt.show()"
   ]
  },
  {
   "cell_type": "markdown",
   "id": "27d22294",
   "metadata": {},
   "source": [
    "This means at higher ranges, we can eliminate the vast, vast majority of possible messages.\n",
    "For example, at N=100, we can discard 98% of decryptions without further analysis if we know the plaintext!\n",
    "\n",
    "The goal in this case would be to find the key to decrypt future messages, not to decrypt the one we currently have."
   ]
  },
  {
   "cell_type": "markdown",
   "id": "593fc756",
   "metadata": {},
   "source": [
    "# Partial Known-Plaintext Attacks\n",
    "\n",
    "You may be wondering what the point of that is if we already know the decrypted message. It turns out that we often know *parts* of the message, sometimes even where those messages are. \n",
    "\n",
    "For example, take the follow weather report often sent daily by the German Army:\n",
    "\n",
    "\\-----\n",
    "\n",
    "WEATHER REPORT \n",
    "\n",
    "There are clear skies today.\n",
    "\n",
    "\\----\n",
    "\n",
    "If you know that the plaintext must start with 'WEATHER REPORT', you can immediately eliminate anything that doesn't decrypt to that.\n",
    "\n",
    "If you don't know where it is, but know it must be somewhere, you can try it at every index. (See why breaking the Enigma was a hard task in the 1940s?)"
   ]
  },
  {
   "cell_type": "code",
   "execution_count": null,
   "id": "234c243f",
   "metadata": {},
   "outputs": [],
   "source": [
    "from collections import Counter\n",
    "\n",
    "# Takes in a ciphertext and known crib, and returns all possible indices of the crib\n",
    "def verifyKPA(ciphertext, crib): # Crib was the term for a segment of known plaintext\n",
    "    possible = []\n",
    "    cribCounts = Counter(crib)\n",
    "\n",
    "    \n",
    "    for i in range(0, len(ciphertext)-len(crib)):\n",
    "        segment = ciphertext[i:i+len(crib)]\n",
    "        segmentCounts = Counter(segment)\n",
    "                \n",
    "        valid = True\n",
    "        \n",
    "        for key in segmentCounts:\n",
    "            if key in cribCounts:\n",
    "                valid = False\n",
    "                break\n",
    "        \n",
    "        if valid: \n",
    "            possible.append(i)\n",
    "            \n",
    "    \n",
    "    return possible\n",
    "\n",
    "verifyKPA(\"abaacaad\", 'bc')"
   ]
  },
  {
   "cell_type": "markdown",
   "id": "9f2c2e9f",
   "metadata": {},
   "source": [
    "At any given position, the chance for the next $k$ letters to be valid for the crib is $$1 - \\left(\\frac{25}{26}\\right)^k$$ If you had a long crib, you would be able to eliminate many potential places and only need to check in a few spots for decrypting. On the other hand, knowing there must be a \"c\" somewhere in the text does very little."
   ]
  },
  {
   "cell_type": "markdown",
   "id": "e28c4e7a",
   "metadata": {},
   "source": [
    "**Question 3.1**: Given the following Enigma ciphertext, what is the plaintext?\n",
    "\n",
    "HINT: What do we know about self-encryption?\n",
    "\n",
    "HINT: Remember the plaintext must be as long as the ciphertext.\n",
    "\n",
    "ehwbr ximqc moche cgksf ivyid xjnql qofhv myhjq opyoz nldnh cgbqb mzwht jtugy vmxkm hwdxz oncwt rjfim oiclj nqxpi tlsrr pdtif wtmpc zwlwy uzwjc rjsrl fkyqp yd"
   ]
  },
  {
   "cell_type": "code",
   "execution_count": null,
   "id": "29489e16",
   "metadata": {},
   "outputs": [],
   "source": [
    "text = \"ehwbrximqcmochecgksfivyidxjnqlqofhvmyhjqopyoznldnhcgbqbmzwhtjtugyvmxkmhwdxzoncwtrjfimoicljnqxpitlsrrpdtifwtmpczwlwyuzwjcrjsrlfkyqpyd\""
   ]
  },
  {
   "cell_type": "code",
   "execution_count": null,
   "id": "2b3e84c0",
   "metadata": {
    "scrolled": true
   },
   "outputs": [],
   "source": [
    "letterCount = count_letters(text)\n",
    "plt.bar(letterCount.keys(), letterCount.values())\n",
    "plt.show()"
   ]
  },
  {
   "cell_type": "code",
   "execution_count": null,
   "id": "09fd9c85",
   "metadata": {
    "tags": []
   },
   "outputs": [],
   "source": [
    "plaintext = ..."
   ]
  },
  {
   "cell_type": "code",
   "execution_count": null,
   "id": "26cedcbe",
   "metadata": {
    "deletable": false,
    "editable": false
   },
   "outputs": [],
   "source": [
    "grader.check(\"q3_1\")"
   ]
  },
  {
   "cell_type": "markdown",
   "id": "30b6c61a",
   "metadata": {},
   "source": [
    "That's all for Lab 2. I would have loved to include more on the Enigma, but it is quite heavily involved both computing wise and coding wise. If you are interested in learning more, I highly recommend reading over https://en.wikipedia.org/wiki/Cryptanalysis_of_the_Enigma !\n",
    "\n",
    "Based on previous lab results, we would like to collect feedback about the labs to see if they are too short/long/involved/etc. \n",
    "\n",
    "**Fill out the form and put the secret word below once you're done:** https://forms.gle/cFa5ihS8DH8d1XWT6\n"
   ]
  },
  {
   "cell_type": "code",
   "execution_count": null,
   "id": "be501c7a",
   "metadata": {
    "tags": []
   },
   "outputs": [],
   "source": [
    "secret_word = ..."
   ]
  },
  {
   "cell_type": "code",
   "execution_count": null,
   "id": "f08c5914",
   "metadata": {
    "deletable": false,
    "editable": false
   },
   "outputs": [],
   "source": [
    "grader.check(\"q4_1\")"
   ]
  },
  {
   "cell_type": "markdown",
   "id": "af3b7c72",
   "metadata": {
    "deletable": false,
    "editable": false
   },
   "source": [
    "## Submission\n",
    "\n",
    "Make sure you have run all cells in your notebook in order before running the cell below, so that all images/graphs appear in the output. The cell below will generate a zip file for you to submit. **Please save before exporting!**\n",
    "\n",
    "Once you have generated the zip file, go to the Gradescope page for this assignment to submit."
   ]
  },
  {
   "cell_type": "code",
   "execution_count": null,
   "id": "6ae3664b",
   "metadata": {
    "deletable": false,
    "editable": false
   },
   "outputs": [],
   "source": [
    "# Save your notebook first, then run this cell to export your submission.\n",
    "grader.export(pdf=False, run_tests=True)"
   ]
  },
  {
   "cell_type": "markdown",
   "id": "3893ef1c",
   "metadata": {},
   "source": [
    " "
   ]
  }
 ],
 "metadata": {
  "interpreter": {
   "hash": "50292dbb1f747f7151d445135d392af3138fb3c65386d17d9510cb605222b10b"
  },
  "kernelspec": {
   "display_name": "Python 3 (ipykernel)",
   "language": "python",
   "name": "python3"
  },
  "language_info": {
   "codemirror_mode": {
    "name": "ipython",
    "version": 3
   },
   "file_extension": ".py",
   "mimetype": "text/x-python",
   "name": "python",
   "nbconvert_exporter": "python",
   "pygments_lexer": "ipython3",
   "version": "3.10.4"
  },
  "otter": {
   "OK_FORMAT": true,
   "tests": {
    "q1_1": {
     "name": "q1_1",
     "points": 10,
     "suites": [
      {
       "cases": [
        {
         "code": ">>> assert calculateEntropy([0.5, 0.5]) == 1\n",
         "hidden": false,
         "locked": false
        }
       ],
       "scored": true,
       "setup": "",
       "teardown": "",
       "type": "doctest"
      }
     ]
    },
    "q1_2": {
     "name": "q1_2",
     "points": 10,
     "suites": [
      {
       "cases": [
        {
         "code": ">>> assert calculateUniformEntropy(0.5, 2) == 1\n",
         "hidden": false,
         "locked": false
        }
       ],
       "scored": true,
       "setup": "",
       "teardown": "",
       "type": "doctest"
      }
     ]
    },
    "q1_3": {
     "name": "q1_3",
     "points": 10,
     "suites": [
      {
       "cases": [
        {
         "code": ">>> assert concept_check == True\n",
         "hidden": false,
         "locked": false
        }
       ],
       "scored": true,
       "setup": "",
       "teardown": "",
       "type": "doctest"
      }
     ]
    },
    "q2_1": {
     "name": "q2_1",
     "points": 10,
     "suites": [
      {
       "cases": [
        {
         "code": ">>> assert correct == [1, 3]\n",
         "hidden": false,
         "locked": false
        }
       ],
       "scored": true,
       "setup": "",
       "teardown": "",
       "type": "doctest"
      }
     ]
    },
    "q3_1": {
     "name": "q3_1",
     "points": 10,
     "suites": [
      {
       "cases": [
        {
         "code": ">>> assert plaintext == \"A\"*len(text)\n",
         "hidden": false,
         "locked": false
        }
       ],
       "scored": true,
       "setup": "",
       "teardown": "",
       "type": "doctest"
      }
     ]
    },
    "q4_1": {
     "name": "q4_1",
     "points": 10,
     "suites": [
      {
       "cases": [
        {
         "code": ">>> assert hashlib.md5(secret_word.encode()).hexdigest() == '37a184204b9448f00fb83003d8a6cc69'\n",
         "hidden": false,
         "locked": false
        }
       ],
       "scored": true,
       "setup": "",
       "teardown": "",
       "type": "doctest"
      }
     ]
    }
   }
  },
  "vscode": {
   "interpreter": {
    "hash": "86b6775e93d8e7b2e5f79e45a0bdd3fb78f60d14c90e6111b0fee66688ef28fc"
   }
  }
 },
 "nbformat": 4,
 "nbformat_minor": 5
}
